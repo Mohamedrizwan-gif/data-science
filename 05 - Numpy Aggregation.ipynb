{
 "cells": [
  {
   "cell_type": "markdown",
   "id": "b31f6289",
   "metadata": {},
   "source": [
    "## Aggregation : Min, Max, and Everything In Between"
   ]
  },
  {
   "cell_type": "markdown",
   "id": "3c3eedbc",
   "metadata": {},
   "source": [
    "NumPy has fast built-in aggregation functions for working on arrays"
   ]
  },
  {
   "cell_type": "code",
   "execution_count": 1,
   "id": "917be8fa",
   "metadata": {},
   "outputs": [],
   "source": [
    "import numpy as np\n",
    "import time"
   ]
  },
  {
   "cell_type": "code",
   "execution_count": 2,
   "id": "43e7ba92",
   "metadata": {},
   "outputs": [],
   "source": [
    "X = np.random.random(50)"
   ]
  },
  {
   "cell_type": "markdown",
   "id": "f1e30351",
   "metadata": {},
   "source": [
    "We created an array of 50 random numbers and assigned it to X"
   ]
  },
  {
   "cell_type": "code",
   "execution_count": 3,
   "id": "7ccbb01d",
   "metadata": {},
   "outputs": [
    {
     "data": {
      "text/plain": [
       "array([0.2318768 , 0.55639863, 0.08200734, 0.52106375, 0.05667992,\n",
       "       0.6181102 , 0.13966068, 0.08732884, 0.94031551, 0.56283874,\n",
       "       0.94501717, 0.27177673, 0.10002637, 0.66219058, 0.36413351,\n",
       "       0.28058222, 0.00876628, 0.07205774, 0.71262298, 0.39993754,\n",
       "       0.24932139, 0.33843494, 0.32463512, 0.99016565, 0.49909309,\n",
       "       0.07440299, 0.2926735 , 0.9418724 , 0.90086911, 0.32687405,\n",
       "       0.00886337, 0.12227694, 0.69869523, 0.01329687, 0.7527004 ,\n",
       "       0.64548764, 0.76846059, 0.00877702, 0.5892738 , 0.92839519,\n",
       "       0.71720003, 0.17976517, 0.08641145, 0.02543167, 0.29310441,\n",
       "       0.34622856, 0.34406675, 0.2959254 , 0.02873214, 0.23110843])"
      ]
     },
     "execution_count": 3,
     "metadata": {},
     "output_type": "execute_result"
    }
   ],
   "source": [
    "X"
   ]
  },
  {
   "cell_type": "code",
   "execution_count": 4,
   "id": "b22d27f3",
   "metadata": {},
   "outputs": [
    {
     "data": {
      "text/plain": [
       "19.635934812663503"
      ]
     },
     "execution_count": 4,
     "metadata": {},
     "output_type": "execute_result"
    }
   ],
   "source": [
    "sum(X)"
   ]
  },
  {
   "cell_type": "markdown",
   "id": "8957863a",
   "metadata": {},
   "source": [
    "sum() is a function to sum the elements of data type. We can do it using np.sum and observe the result.What's the difference then?"
   ]
  },
  {
   "cell_type": "code",
   "execution_count": 5,
   "id": "b3503274",
   "metadata": {},
   "outputs": [
    {
     "data": {
      "text/plain": [
       "19.635934812663507"
      ]
     },
     "execution_count": 5,
     "metadata": {},
     "output_type": "execute_result"
    }
   ],
   "source": [
    "np.sum(X)"
   ]
  },
  {
   "cell_type": "markdown",
   "id": "88a24603",
   "metadata": {},
   "source": [
    "Let us create a big array of 1000000 elements"
   ]
  },
  {
   "cell_type": "code",
   "execution_count": 6,
   "id": "ea39e1e3",
   "metadata": {},
   "outputs": [],
   "source": [
    "X_ = np.random.rand(1000000)"
   ]
  },
  {
   "cell_type": "code",
   "execution_count": 7,
   "id": "d8e8918f",
   "metadata": {},
   "outputs": [
    {
     "name": "stdout",
     "output_type": "stream",
     "text": [
      "145 ms ± 42.5 ms per loop (mean ± std. dev. of 7 runs, 1 loop each)\n"
     ]
    }
   ],
   "source": [
    "%timeit sum(X_)"
   ]
  },
  {
   "cell_type": "code",
   "execution_count": 8,
   "id": "cffa66e4",
   "metadata": {},
   "outputs": [
    {
     "name": "stdout",
     "output_type": "stream",
     "text": [
      "1.78 ms ± 202 µs per loop (mean ± std. dev. of 7 runs, 1,000 loops each)\n"
     ]
    }
   ],
   "source": [
    "%timeit np.sum(X_)"
   ]
  },
  {
   "cell_type": "markdown",
   "id": "8f2c3e23",
   "metadata": {},
   "source": [
    "Note : The time taken for both the functions is quite significant."
   ]
  },
  {
   "cell_type": "markdown",
   "id": "ed40857d",
   "metadata": {},
   "source": [
    "### Minimum and Maximum"
   ]
  },
  {
   "cell_type": "code",
   "execution_count": 9,
   "id": "5b5df431",
   "metadata": {},
   "outputs": [
    {
     "name": "stdout",
     "output_type": "stream",
     "text": [
      "244 ms ± 6.73 ms per loop (mean ± std. dev. of 7 runs, 1 loop each)\n"
     ]
    }
   ],
   "source": [
    "%timeit min(X_),max(X_)"
   ]
  },
  {
   "cell_type": "code",
   "execution_count": 10,
   "id": "a9fb01a2",
   "metadata": {},
   "outputs": [
    {
     "name": "stdout",
     "output_type": "stream",
     "text": [
      "1.76 ms ± 29.4 µs per loop (mean ± std. dev. of 7 runs, 1,000 loops each)\n"
     ]
    }
   ],
   "source": [
    "%timeit np.min(X_),np.max(X_)"
   ]
  },
  {
   "cell_type": "code",
   "execution_count": 11,
   "id": "280f020a",
   "metadata": {},
   "outputs": [
    {
     "name": "stdout",
     "output_type": "stream",
     "text": [
      "1.78 ms ± 45.2 µs per loop (mean ± std. dev. of 7 runs, 1,000 loops each)\n"
     ]
    }
   ],
   "source": [
    "%timeit X_.min(),X_.max()"
   ]
  },
  {
   "cell_type": "markdown",
   "id": "ef59c690",
   "metadata": {},
   "source": [
    "Aggregation on 2-D array"
   ]
  },
  {
   "cell_type": "code",
   "execution_count": 12,
   "id": "8ea66673",
   "metadata": {},
   "outputs": [],
   "source": [
    "X = np.random.random((3,4))"
   ]
  },
  {
   "cell_type": "code",
   "execution_count": 13,
   "id": "53e79a9c",
   "metadata": {},
   "outputs": [
    {
     "data": {
      "text/plain": [
       "array([[0.15593778, 0.9492058 , 0.67903908, 0.92679235],\n",
       "       [0.98824145, 0.42017213, 0.57735681, 0.94720671],\n",
       "       [0.2882252 , 0.46934163, 0.65578383, 0.66517963]])"
      ]
     },
     "execution_count": 13,
     "metadata": {},
     "output_type": "execute_result"
    }
   ],
   "source": [
    "X"
   ]
  },
  {
   "cell_type": "code",
   "execution_count": 14,
   "id": "de2da6e7",
   "metadata": {},
   "outputs": [
    {
     "data": {
      "text/plain": [
       "7.722482405287125"
      ]
     },
     "execution_count": 14,
     "metadata": {},
     "output_type": "execute_result"
    }
   ],
   "source": [
    "X.sum()"
   ]
  },
  {
   "cell_type": "code",
   "execution_count": 15,
   "id": "94d1db03",
   "metadata": {},
   "outputs": [
    {
     "data": {
      "text/plain": [
       "array([1.43240444, 1.83871956, 1.91217972, 2.53917869])"
      ]
     },
     "execution_count": 15,
     "metadata": {},
     "output_type": "execute_result"
    }
   ],
   "source": [
    "X.sum(axis=0)"
   ]
  },
  {
   "cell_type": "code",
   "execution_count": 16,
   "id": "5314def1",
   "metadata": {},
   "outputs": [
    {
     "data": {
      "text/plain": [
       "array([0.15593778, 0.42017213, 0.57735681, 0.66517963])"
      ]
     },
     "execution_count": 16,
     "metadata": {},
     "output_type": "execute_result"
    }
   ],
   "source": [
    "X.min(axis=0)"
   ]
  },
  {
   "cell_type": "markdown",
   "id": "b069a282",
   "metadata": {},
   "source": [
    "Observe X.max, X.max(axis=1)"
   ]
  },
  {
   "cell_type": "code",
   "execution_count": 17,
   "id": "e965bc5a",
   "metadata": {},
   "outputs": [
    {
     "data": {
      "text/plain": [
       "array([0.9492058 , 0.98824145, 0.66517963])"
      ]
     },
     "execution_count": 17,
     "metadata": {},
     "output_type": "execute_result"
    }
   ],
   "source": [
    "X.max(axis=1)"
   ]
  },
  {
   "cell_type": "code",
   "execution_count": 18,
   "id": "3ab162d2",
   "metadata": {},
   "outputs": [
    {
     "data": {
      "text/plain": [
       "0.9882414541393936"
      ]
     },
     "execution_count": 18,
     "metadata": {},
     "output_type": "execute_result"
    }
   ],
   "source": [
    "X.max()"
   ]
  },
  {
   "cell_type": "code",
   "execution_count": 19,
   "id": "9a78786e",
   "metadata": {},
   "outputs": [
    {
     "data": {
      "text/plain": [
       "array([[8, 9],\n",
       "       [4, 9]])"
      ]
     },
     "execution_count": 19,
     "metadata": {},
     "output_type": "execute_result"
    }
   ],
   "source": [
    "X = np.random.randint( 10 ,size= (2,2))\n",
    "X"
   ]
  },
  {
   "cell_type": "code",
   "execution_count": 20,
   "id": "340f2198",
   "metadata": {},
   "outputs": [
    {
     "data": {
      "text/plain": [
       "7.5"
      ]
     },
     "execution_count": 20,
     "metadata": {},
     "output_type": "execute_result"
    }
   ],
   "source": [
    "np.mean(X)"
   ]
  },
  {
   "cell_type": "code",
   "execution_count": 21,
   "id": "0dbbafaa",
   "metadata": {},
   "outputs": [
    {
     "data": {
      "text/plain": [
       "2.0615528128088303"
      ]
     },
     "execution_count": 21,
     "metadata": {},
     "output_type": "execute_result"
    }
   ],
   "source": [
    "np.std(X)"
   ]
  },
  {
   "cell_type": "code",
   "execution_count": 22,
   "id": "10deb89a",
   "metadata": {},
   "outputs": [
    {
     "data": {
      "text/plain": [
       "4.25"
      ]
     },
     "execution_count": 22,
     "metadata": {},
     "output_type": "execute_result"
    }
   ],
   "source": [
    "np.var(X)"
   ]
  },
  {
   "cell_type": "code",
   "execution_count": 23,
   "id": "fcdf157f",
   "metadata": {},
   "outputs": [
    {
     "data": {
      "text/plain": [
       "2"
      ]
     },
     "execution_count": 23,
     "metadata": {},
     "output_type": "execute_result"
    }
   ],
   "source": [
    "np.argmin(X)"
   ]
  },
  {
   "cell_type": "code",
   "execution_count": 24,
   "id": "66cbe800",
   "metadata": {},
   "outputs": [
    {
     "data": {
      "text/plain": [
       "1"
      ]
     },
     "execution_count": 24,
     "metadata": {},
     "output_type": "execute_result"
    }
   ],
   "source": [
    "np.argmax(X)"
   ]
  },
  {
   "cell_type": "code",
   "execution_count": 25,
   "id": "2716ee9e",
   "metadata": {},
   "outputs": [
    {
     "data": {
      "text/plain": [
       "8.5"
      ]
     },
     "execution_count": 25,
     "metadata": {},
     "output_type": "execute_result"
    }
   ],
   "source": [
    "np.median(X)"
   ]
  }
 ],
 "metadata": {
  "kernelspec": {
   "display_name": "Python(base)",
   "language": "python",
   "name": "base"
  },
  "language_info": {
   "codemirror_mode": {
    "name": "ipython",
    "version": 3
   },
   "file_extension": ".py",
   "mimetype": "text/x-python",
   "name": "python",
   "nbconvert_exporter": "python",
   "pygments_lexer": "ipython3",
   "version": "3.9.12"
  }
 },
 "nbformat": 4,
 "nbformat_minor": 5
}
