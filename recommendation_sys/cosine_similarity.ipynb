{
 "cells": [
  {
   "cell_type": "code",
   "execution_count": 1,
   "id": "f3a3adb9",
   "metadata": {},
   "outputs": [],
   "source": [
    "import math"
   ]
  },
  {
   "cell_type": "code",
   "execution_count": 2,
   "id": "63241d39",
   "metadata": {},
   "outputs": [],
   "source": [
    "def square_rooted(x):\n",
    "    return round(math.sqrt(sum([a * a for a in x])), 3)\n",
    "\n",
    "def cosine_similarity(x, y):\n",
    "    numerator = sum(a * b for a, b in zip(x, y))\n",
    "    denominator = square_rooted(x) * square_rooted(y)\n",
    "    return round(numerator / float(denominator), 3)"
   ]
  },
  {
   "cell_type": "code",
   "execution_count": 3,
   "id": "be6a1881",
   "metadata": {},
   "outputs": [
    {
     "data": {
      "text/plain": [
       "0.972"
      ]
     },
     "execution_count": 3,
     "metadata": {},
     "output_type": "execute_result"
    }
   ],
   "source": [
    "cosine_similarity([3, 45, 7, 2], [2, 54, 13, 15])"
   ]
  }
 ],
 "metadata": {
  "kernelspec": {
   "display_name": "Python 3 (ipykernel)",
   "language": "python",
   "name": "python3"
  },
  "language_info": {
   "codemirror_mode": {
    "name": "ipython",
    "version": 3
   },
   "file_extension": ".py",
   "mimetype": "text/x-python",
   "name": "python",
   "nbconvert_exporter": "python",
   "pygments_lexer": "ipython3",
   "version": "3.10.8"
  }
 },
 "nbformat": 4,
 "nbformat_minor": 5
}
