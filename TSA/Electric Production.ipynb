{
 "cells": [
  {
   "cell_type": "code",
   "execution_count": 1,
   "id": "648da0fa",
   "metadata": {},
   "outputs": [],
   "source": [
    "import pandas as pd\n",
    "import matplotlib.pyplot as plt\n",
    "import numpy as np"
   ]
  },
  {
   "cell_type": "code",
   "execution_count": 2,
   "id": "4efebf36",
   "metadata": {},
   "outputs": [],
   "source": [
    "raw_data = pd.read_csv('../dataset/Electric_Production.csv')"
   ]
  },
  {
   "cell_type": "code",
   "execution_count": 3,
   "id": "e9ad6717",
   "metadata": {},
   "outputs": [
    {
     "data": {
      "text/html": [
       "<div>\n",
       "<style scoped>\n",
       "    .dataframe tbody tr th:only-of-type {\n",
       "        vertical-align: middle;\n",
       "    }\n",
       "\n",
       "    .dataframe tbody tr th {\n",
       "        vertical-align: top;\n",
       "    }\n",
       "\n",
       "    .dataframe thead th {\n",
       "        text-align: right;\n",
       "    }\n",
       "</style>\n",
       "<table border=\"1\" class=\"dataframe\">\n",
       "  <thead>\n",
       "    <tr style=\"text-align: right;\">\n",
       "      <th></th>\n",
       "      <th>DATE</th>\n",
       "      <th>IPG2211A2N</th>\n",
       "    </tr>\n",
       "  </thead>\n",
       "  <tbody>\n",
       "    <tr>\n",
       "      <th>0</th>\n",
       "      <td>1/1/1985</td>\n",
       "      <td>72.5052</td>\n",
       "    </tr>\n",
       "    <tr>\n",
       "      <th>1</th>\n",
       "      <td>2/1/1985</td>\n",
       "      <td>70.6720</td>\n",
       "    </tr>\n",
       "    <tr>\n",
       "      <th>2</th>\n",
       "      <td>3/1/1985</td>\n",
       "      <td>62.4502</td>\n",
       "    </tr>\n",
       "    <tr>\n",
       "      <th>3</th>\n",
       "      <td>4/1/1985</td>\n",
       "      <td>57.4714</td>\n",
       "    </tr>\n",
       "    <tr>\n",
       "      <th>4</th>\n",
       "      <td>5/1/1985</td>\n",
       "      <td>55.3151</td>\n",
       "    </tr>\n",
       "  </tbody>\n",
       "</table>\n",
       "</div>"
      ],
      "text/plain": [
       "       DATE  IPG2211A2N\n",
       "0  1/1/1985     72.5052\n",
       "1  2/1/1985     70.6720\n",
       "2  3/1/1985     62.4502\n",
       "3  4/1/1985     57.4714\n",
       "4  5/1/1985     55.3151"
      ]
     },
     "execution_count": 3,
     "metadata": {},
     "output_type": "execute_result"
    }
   ],
   "source": [
    "raw_data.head()"
   ]
  },
  {
   "cell_type": "code",
   "execution_count": 4,
   "id": "07bf7b87",
   "metadata": {},
   "outputs": [],
   "source": [
    "df = raw_data.copy()"
   ]
  },
  {
   "cell_type": "code",
   "execution_count": 5,
   "id": "358092cf",
   "metadata": {},
   "outputs": [
    {
     "data": {
      "text/plain": [
       "DATE           object\n",
       "IPG2211A2N    float64\n",
       "dtype: object"
      ]
     },
     "execution_count": 5,
     "metadata": {},
     "output_type": "execute_result"
    }
   ],
   "source": [
    "df.dtypes"
   ]
  },
  {
   "cell_type": "code",
   "execution_count": 6,
   "id": "20d3b71c",
   "metadata": {},
   "outputs": [
    {
     "data": {
      "text/plain": [
       "0      1\n",
       "1      2\n",
       "2      3\n",
       "3      4\n",
       "4      5\n",
       "5      6\n",
       "6      7\n",
       "7      8\n",
       "8      9\n",
       "9     10\n",
       "10    11\n",
       "11    12\n",
       "12     1\n",
       "Name: DATE, dtype: int64"
      ]
     },
     "execution_count": 6,
     "metadata": {},
     "output_type": "execute_result"
    }
   ],
   "source": [
    "pd.to_datetime(df['DATE']).dt.month.iloc[:13]"
   ]
  },
  {
   "cell_type": "code",
   "execution_count": 7,
   "id": "a86bb815",
   "metadata": {},
   "outputs": [],
   "source": [
    "df['DATE'] = pd.to_datetime(df['DATE'])"
   ]
  },
  {
   "cell_type": "code",
   "execution_count": 8,
   "id": "c966955d",
   "metadata": {},
   "outputs": [],
   "source": [
    "df.sort_values(by='DATE', inplace=True)"
   ]
  },
  {
   "cell_type": "code",
   "execution_count": 9,
   "id": "b6a85527",
   "metadata": {},
   "outputs": [
    {
     "data": {
      "text/plain": [
       "count                              397\n",
       "mean     2001-07-01 13:25:14.357682560\n",
       "min                1985-01-01 00:00:00\n",
       "25%                1993-04-01 00:00:00\n",
       "50%                2001-07-01 00:00:00\n",
       "75%                2009-10-01 00:00:00\n",
       "max                2018-01-01 00:00:00\n",
       "Name: DATE, dtype: object"
      ]
     },
     "execution_count": 9,
     "metadata": {},
     "output_type": "execute_result"
    }
   ],
   "source": [
    "df['DATE'].describe(datetime_is_numeric=True)"
   ]
  },
  {
   "cell_type": "code",
   "execution_count": 10,
   "id": "029cdcb6",
   "metadata": {},
   "outputs": [
    {
     "data": {
      "text/plain": [
       "DATE          0\n",
       "IPG2211A2N    0\n",
       "dtype: int64"
      ]
     },
     "execution_count": 10,
     "metadata": {},
     "output_type": "execute_result"
    }
   ],
   "source": [
    "df.isna().sum()"
   ]
  },
  {
   "cell_type": "code",
   "execution_count": 11,
   "id": "ae760415",
   "metadata": {},
   "outputs": [],
   "source": [
    "df.set_index('DATE', inplace=True)"
   ]
  },
  {
   "cell_type": "code",
   "execution_count": 12,
   "id": "947197b2",
   "metadata": {},
   "outputs": [],
   "source": [
    "df = df.rename(columns={'IPG2211A2N': 'WATT'})"
   ]
  },
  {
   "cell_type": "code",
   "execution_count": 13,
   "id": "59d4be44",
   "metadata": {},
   "outputs": [
    {
     "data": {
      "text/html": [
       "<div>\n",
       "<style scoped>\n",
       "    .dataframe tbody tr th:only-of-type {\n",
       "        vertical-align: middle;\n",
       "    }\n",
       "\n",
       "    .dataframe tbody tr th {\n",
       "        vertical-align: top;\n",
       "    }\n",
       "\n",
       "    .dataframe thead th {\n",
       "        text-align: right;\n",
       "    }\n",
       "</style>\n",
       "<table border=\"1\" class=\"dataframe\">\n",
       "  <thead>\n",
       "    <tr style=\"text-align: right;\">\n",
       "      <th></th>\n",
       "      <th>WATT</th>\n",
       "    </tr>\n",
       "    <tr>\n",
       "      <th>DATE</th>\n",
       "      <th></th>\n",
       "    </tr>\n",
       "  </thead>\n",
       "  <tbody>\n",
       "    <tr>\n",
       "      <th>1985-01-01</th>\n",
       "      <td>72.5052</td>\n",
       "    </tr>\n",
       "    <tr>\n",
       "      <th>1985-02-01</th>\n",
       "      <td>70.6720</td>\n",
       "    </tr>\n",
       "    <tr>\n",
       "      <th>1985-03-01</th>\n",
       "      <td>62.4502</td>\n",
       "    </tr>\n",
       "    <tr>\n",
       "      <th>1985-04-01</th>\n",
       "      <td>57.4714</td>\n",
       "    </tr>\n",
       "    <tr>\n",
       "      <th>1985-05-01</th>\n",
       "      <td>55.3151</td>\n",
       "    </tr>\n",
       "    <tr>\n",
       "      <th>1985-06-01</th>\n",
       "      <td>58.0904</td>\n",
       "    </tr>\n",
       "    <tr>\n",
       "      <th>1985-07-01</th>\n",
       "      <td>62.6202</td>\n",
       "    </tr>\n",
       "    <tr>\n",
       "      <th>1985-08-01</th>\n",
       "      <td>63.2485</td>\n",
       "    </tr>\n",
       "    <tr>\n",
       "      <th>1985-09-01</th>\n",
       "      <td>60.5846</td>\n",
       "    </tr>\n",
       "    <tr>\n",
       "      <th>1985-10-01</th>\n",
       "      <td>56.3154</td>\n",
       "    </tr>\n",
       "    <tr>\n",
       "      <th>1985-11-01</th>\n",
       "      <td>58.0005</td>\n",
       "    </tr>\n",
       "    <tr>\n",
       "      <th>1985-12-01</th>\n",
       "      <td>68.7145</td>\n",
       "    </tr>\n",
       "    <tr>\n",
       "      <th>1986-01-01</th>\n",
       "      <td>73.3057</td>\n",
       "    </tr>\n",
       "    <tr>\n",
       "      <th>1986-02-01</th>\n",
       "      <td>67.9869</td>\n",
       "    </tr>\n",
       "    <tr>\n",
       "      <th>1986-03-01</th>\n",
       "      <td>62.2221</td>\n",
       "    </tr>\n",
       "    <tr>\n",
       "      <th>1986-04-01</th>\n",
       "      <td>57.0329</td>\n",
       "    </tr>\n",
       "    <tr>\n",
       "      <th>1986-05-01</th>\n",
       "      <td>55.8137</td>\n",
       "    </tr>\n",
       "    <tr>\n",
       "      <th>1986-06-01</th>\n",
       "      <td>59.9005</td>\n",
       "    </tr>\n",
       "    <tr>\n",
       "      <th>1986-07-01</th>\n",
       "      <td>65.7655</td>\n",
       "    </tr>\n",
       "    <tr>\n",
       "      <th>1986-08-01</th>\n",
       "      <td>64.4816</td>\n",
       "    </tr>\n",
       "  </tbody>\n",
       "</table>\n",
       "</div>"
      ],
      "text/plain": [
       "               WATT\n",
       "DATE               \n",
       "1985-01-01  72.5052\n",
       "1985-02-01  70.6720\n",
       "1985-03-01  62.4502\n",
       "1985-04-01  57.4714\n",
       "1985-05-01  55.3151\n",
       "1985-06-01  58.0904\n",
       "1985-07-01  62.6202\n",
       "1985-08-01  63.2485\n",
       "1985-09-01  60.5846\n",
       "1985-10-01  56.3154\n",
       "1985-11-01  58.0005\n",
       "1985-12-01  68.7145\n",
       "1986-01-01  73.3057\n",
       "1986-02-01  67.9869\n",
       "1986-03-01  62.2221\n",
       "1986-04-01  57.0329\n",
       "1986-05-01  55.8137\n",
       "1986-06-01  59.9005\n",
       "1986-07-01  65.7655\n",
       "1986-08-01  64.4816"
      ]
     },
     "execution_count": 13,
     "metadata": {},
     "output_type": "execute_result"
    }
   ],
   "source": [
    "df.head(20)"
   ]
  },
  {
   "cell_type": "code",
   "execution_count": 14,
   "id": "8b7b267f",
   "metadata": {},
   "outputs": [
    {
     "data": {
      "image/png": "[encoded data removed]",
      "text/plain": [
       "<Figure size 432x288 with 1 Axes>"
      ]
     },
     "metadata": {
      "needs_background": "light"
     },
     "output_type": "display_data"
    }
   ],
   "source": [
    "df['WATT'].plot()\n",
    "plt.title('Electric Consume Rate')\n",
    "plt.show()"
   ]
  },
  {
   "cell_type": "code",
   "execution_count": 15,
   "id": "658db52e",
   "metadata": {},
   "outputs": [
    {
     "data": {
      "image/png": "[encoded data removed]",
      "text/plain": [
       "<Figure size 432x288 with 1 Axes>"
      ]
     },
     "metadata": {
      "needs_background": "light"
     },
     "output_type": "display_data"
    }
   ],
   "source": [
    "import scipy\n",
    "import pylab\n",
    "\n",
    "scipy.stats.probplot(df['WATT'], plot=pylab)\n",
    "pylab.show()"
   ]
  },
  {
   "cell_type": "code",
   "execution_count": 16,
   "id": "c1b60bb5",
   "metadata": {},
   "outputs": [
    {
     "data": {
      "text/plain": [
       "(397, 1)"
      ]
     },
     "execution_count": 16,
     "metadata": {},
     "output_type": "execute_result"
    }
   ],
   "source": [
    "df.shape"
   ]
  },
  {
   "cell_type": "code",
   "execution_count": 17,
   "id": "fafb6525",
   "metadata": {},
   "outputs": [],
   "source": [
    "size = int(len(df) * 0.8)\n",
    "\n",
    "df_train = df.iloc[:size]\n",
    "df_test = df.iloc[size:]"
   ]
  },
  {
   "cell_type": "code",
   "execution_count": 18,
   "id": "02cf3a72",
   "metadata": {},
   "outputs": [
    {
     "data": {
      "text/plain": [
       "(-1.7386950117875053,\n",
       " 0.41129393445577905,\n",
       " 15,\n",
       " 301,\n",
       " {'1%': -3.452263435801039,\n",
       "  '5%': -2.871190526189069,\n",
       "  '10%': -2.571911967527952},\n",
       " 1401.7831544268493)"
      ]
     },
     "execution_count": 18,
     "metadata": {},
     "output_type": "execute_result"
    }
   ],
   "source": [
    "from statsmodels.tsa.stattools import adfuller\n",
    "\n",
    "adfuller(df_train['WATT'])"
   ]
  },
  {
   "cell_type": "code",
   "execution_count": 19,
   "id": "0c3ab2d5",
   "metadata": {},
   "outputs": [
    {
     "data": {
      "image/png": "[encoded data removed]",
      "text/plain": [
       "<Figure size 432x288 with 1 Axes>"
      ]
     },
     "metadata": {
      "needs_background": "light"
     },
     "output_type": "display_data"
    }
   ],
   "source": [
    "from statsmodels.graphics.tsaplots import plot_acf, plot_pacf\n",
    "\n",
    "plot_acf(df_train['WATT'], lags=40, zero=False)\n",
    "plt.show()"
   ]
  },
  {
   "cell_type": "code",
   "execution_count": 20,
   "id": "ff4c953f",
   "metadata": {},
   "outputs": [
    {
     "data": {
      "image/png": "[encoded data removed]",
      "text/plain": [
       "<Figure size 432x288 with 1 Axes>"
      ]
     },
     "metadata": {
      "needs_background": "light"
     },
     "output_type": "display_data"
    }
   ],
   "source": [
    "plot_pacf(df_train['WATT'], lags=40, zero=False, method=('ols'))\n",
    "plt.show()"
   ]
  },
  {
   "cell_type": "code",
   "execution_count": 21,
   "id": "8da2b10f",
   "metadata": {},
   "outputs": [
    {
     "data": {
      "image/png": "[encoded data removed]",
      "text/plain": [
       "<Figure size 432x288 with 4 Axes>"
      ]
     },
     "metadata": {
      "needs_background": "light"
     },
     "output_type": "display_data"
    }
   ],
   "source": [
    "from statsmodels.tsa.seasonal import seasonal_decompose\n",
    "\n",
    "s_dec_additive = seasonal_decompose(df_train['WATT'], model='additive')\n",
    "s_dec_additive.plot()\n",
    "plt.show()"
   ]
  },
  {
   "cell_type": "code",
   "execution_count": 22,
   "id": "95b971ca",
   "metadata": {},
   "outputs": [
    {
     "data": {
      "image/png": "[encoded data removed]",
      "text/plain": [
       "<Figure size 432x288 with 4 Axes>"
      ]
     },
     "metadata": {
      "needs_background": "light"
     },
     "output_type": "display_data"
    }
   ],
   "source": [
    "s_dec_multiplicative = seasonal_decompose(df_train['WATT'], model='multiplicative')\n",
    "s_dec_multiplicative.plot()\n",
    "plt.show()"
   ]
  },
  {
   "cell_type": "code",
   "execution_count": 23,
   "id": "893a457e",
   "metadata": {},
   "outputs": [],
   "source": [
    "from statsmodels.tsa.arima.model import ARIMA"
   ]
  },
  {
   "cell_type": "code",
   "execution_count": 24,
   "id": "84d15002",
   "metadata": {},
   "outputs": [],
   "source": [
    "import warnings\n",
    "warnings.filterwarnings('ignore')"
   ]
  },
  {
   "cell_type": "code",
   "execution_count": 25,
   "id": "d9f3449e",
   "metadata": {},
   "outputs": [],
   "source": [
    "def LLR_test(mod_1, mod_2, DF=1):\n",
    "    L1 = mod_1.fit().llf\n",
    "    L2 = mod_2.fit().llf\n",
    "    LR = (2*(L2-L1))\n",
    "    p = scipy.stats.distributions.chi2.sf(LR, DF).round(3)\n",
    "    return p"
   ]
  },
  {
   "cell_type": "code",
   "execution_count": 26,
   "id": "ee37ca0e",
   "metadata": {},
   "outputs": [
    {
     "data": {
      "text/html": [
       "<table class=\"simpletable\">\n",
       "<caption>SARIMAX Results</caption>\n",
       "<tr>\n",
       "  <th>Dep. Variable:</th>         <td>WATT</td>       <th>  No. Observations:  </th>    <td>317</td>   \n",
       "</tr>\n",
       "<tr>\n",
       "  <th>Model:</th>            <td>ARIMA(1, 0, 0)</td>  <th>  Log Likelihood     </th> <td>-1067.948</td>\n",
       "</tr>\n",
       "<tr>\n",
       "  <th>Date:</th>            <td>Fri, 20 Jan 2023</td> <th>  AIC                </th> <td>2141.897</td> \n",
       "</tr>\n",
       "<tr>\n",
       "  <th>Time:</th>                <td>04:17:57</td>     <th>  BIC                </th> <td>2153.173</td> \n",
       "</tr>\n",
       "<tr>\n",
       "  <th>Sample:</th>             <td>01-01-1985</td>    <th>  HQIC               </th> <td>2146.401</td> \n",
       "</tr>\n",
       "<tr>\n",
       "  <th></th>                   <td>- 05-01-2011</td>   <th>                     </th>     <td> </td>    \n",
       "</tr>\n",
       "<tr>\n",
       "  <th>Covariance Type:</th>        <td>opg</td>       <th>                     </th>     <td> </td>    \n",
       "</tr>\n",
       "</table>\n",
       "<table class=\"simpletable\">\n",
       "<tr>\n",
       "     <td></td>       <th>coef</th>     <th>std err</th>      <th>z</th>      <th>P>|z|</th>  <th>[0.025</th>    <th>0.975]</th>  \n",
       "</tr>\n",
       "<tr>\n",
       "  <th>const</th>  <td>   85.1737</td> <td>    3.554</td> <td>   23.964</td> <td> 0.000</td> <td>   78.208</td> <td>   92.140</td>\n",
       "</tr>\n",
       "<tr>\n",
       "  <th>ar.L1</th>  <td>    0.8748</td> <td>    0.031</td> <td>   28.257</td> <td> 0.000</td> <td>    0.814</td> <td>    0.935</td>\n",
       "</tr>\n",
       "<tr>\n",
       "  <th>sigma2</th> <td>   49.1725</td> <td>    4.964</td> <td>    9.907</td> <td> 0.000</td> <td>   39.444</td> <td>   58.901</td>\n",
       "</tr>\n",
       "</table>\n",
       "<table class=\"simpletable\">\n",
       "<tr>\n",
       "  <th>Ljung-Box (L1) (Q):</th>     <td>52.53</td> <th>  Jarque-Bera (JB):  </th> <td>17.88</td>\n",
       "</tr>\n",
       "<tr>\n",
       "  <th>Prob(Q):</th>                <td>0.00</td>  <th>  Prob(JB):          </th> <td>0.00</td> \n",
       "</tr>\n",
       "<tr>\n",
       "  <th>Heteroskedasticity (H):</th> <td>2.46</td>  <th>  Skew:              </th> <td>0.53</td> \n",
       "</tr>\n",
       "<tr>\n",
       "  <th>Prob(H) (two-sided):</th>    <td>0.00</td>  <th>  Kurtosis:          </th> <td>2.52</td> \n",
       "</tr>\n",
       "</table><br/><br/>Warnings:<br/>[1] Covariance matrix calculated using the outer product of gradients (complex-step)."
      ],
      "text/plain": [
       "<class 'statsmodels.iolib.summary.Summary'>\n",
       "\"\"\"\n",
       "                               SARIMAX Results                                \n",
       "==============================================================================\n",
       "Dep. Variable:                   WATT   No. Observations:                  317\n",
       "Model:                 ARIMA(1, 0, 0)   Log Likelihood               -1067.948\n",
       "Date:                Fri, 20 Jan 2023   AIC                           2141.897\n",
       "Time:                        04:17:57   BIC                           2153.173\n",
       "Sample:                    01-01-1985   HQIC                          2146.401\n",
       "                         - 05-01-2011                                         \n",
       "Covariance Type:                  opg                                         \n",
       "==============================================================================\n",
       "                 coef    std err          z      P>|z|      [0.025      0.975]\n",
       "------------------------------------------------------------------------------\n",
       "const         85.1737      3.554     23.964      0.000      78.208      92.140\n",
       "ar.L1          0.8748      0.031     28.257      0.000       0.814       0.935\n",
       "sigma2        49.1725      4.964      9.907      0.000      39.444      58.901\n",
       "===================================================================================\n",
       "Ljung-Box (L1) (Q):                  52.53   Jarque-Bera (JB):                17.88\n",
       "Prob(Q):                              0.00   Prob(JB):                         0.00\n",
       "Heteroskedasticity (H):               2.46   Skew:                             0.53\n",
       "Prob(H) (two-sided):                  0.00   Kurtosis:                         2.52\n",
       "===================================================================================\n",
       "\n",
       "Warnings:\n",
       "[1] Covariance matrix calculated using the outer product of gradients (complex-step).\n",
       "\"\"\""
      ]
     },
     "execution_count": 26,
     "metadata": {},
     "output_type": "execute_result"
    }
   ],
   "source": [
    "ar_model_1 = ARIMA(df_train['WATT'], order=(1,0,0))\n",
    "res_model_1 = ar_model_1.fit()\n",
    "res_model_1.summary()"
   ]
  },
  {
   "cell_type": "code",
   "execution_count": 27,
   "id": "2a61066b",
   "metadata": {},
   "outputs": [
    {
     "data": {
      "text/html": [
       "<table class=\"simpletable\">\n",
       "<caption>SARIMAX Results</caption>\n",
       "<tr>\n",
       "  <th>Dep. Variable:</th>         <td>WATT</td>       <th>  No. Observations:  </th>    <td>317</td>   \n",
       "</tr>\n",
       "<tr>\n",
       "  <th>Model:</th>            <td>ARIMA(2, 0, 0)</td>  <th>  Log Likelihood     </th> <td>-1030.041</td>\n",
       "</tr>\n",
       "<tr>\n",
       "  <th>Date:</th>            <td>Fri, 20 Jan 2023</td> <th>  AIC                </th> <td>2068.081</td> \n",
       "</tr>\n",
       "<tr>\n",
       "  <th>Time:</th>                <td>04:17:57</td>     <th>  BIC                </th> <td>2083.117</td> \n",
       "</tr>\n",
       "<tr>\n",
       "  <th>Sample:</th>             <td>01-01-1985</td>    <th>  HQIC               </th> <td>2074.087</td> \n",
       "</tr>\n",
       "<tr>\n",
       "  <th></th>                   <td>- 05-01-2011</td>   <th>                     </th>     <td> </td>    \n",
       "</tr>\n",
       "<tr>\n",
       "  <th>Covariance Type:</th>        <td>opg</td>       <th>                     </th>     <td> </td>    \n",
       "</tr>\n",
       "</table>\n",
       "<table class=\"simpletable\">\n",
       "<tr>\n",
       "     <td></td>       <th>coef</th>     <th>std err</th>      <th>z</th>      <th>P>|z|</th>  <th>[0.025</th>    <th>0.975]</th>  \n",
       "</tr>\n",
       "<tr>\n",
       "  <th>const</th>  <td>   85.3455</td> <td>    2.119</td> <td>   40.267</td> <td> 0.000</td> <td>   81.191</td> <td>   89.500</td>\n",
       "</tr>\n",
       "<tr>\n",
       "  <th>ar.L1</th>  <td>    1.2787</td> <td>    0.062</td> <td>   20.754</td> <td> 0.000</td> <td>    1.158</td> <td>    1.399</td>\n",
       "</tr>\n",
       "<tr>\n",
       "  <th>ar.L2</th>  <td>   -0.4604</td> <td>    0.066</td> <td>   -6.996</td> <td> 0.000</td> <td>   -0.589</td> <td>   -0.331</td>\n",
       "</tr>\n",
       "<tr>\n",
       "  <th>sigma2</th> <td>   38.6555</td> <td>    3.166</td> <td>   12.210</td> <td> 0.000</td> <td>   32.450</td> <td>   44.861</td>\n",
       "</tr>\n",
       "</table>\n",
       "<table class=\"simpletable\">\n",
       "<tr>\n",
       "  <th>Ljung-Box (L1) (Q):</th>     <td>24.95</td> <th>  Jarque-Bera (JB):  </th> <td>10.76</td>\n",
       "</tr>\n",
       "<tr>\n",
       "  <th>Prob(Q):</th>                <td>0.00</td>  <th>  Prob(JB):          </th> <td>0.00</td> \n",
       "</tr>\n",
       "<tr>\n",
       "  <th>Heteroskedasticity (H):</th> <td>2.18</td>  <th>  Skew:              </th> <td>0.45</td> \n",
       "</tr>\n",
       "<tr>\n",
       "  <th>Prob(H) (two-sided):</th>    <td>0.00</td>  <th>  Kurtosis:          </th> <td>3.11</td> \n",
       "</tr>\n",
       "</table><br/><br/>Warnings:<br/>[1] Covariance matrix calculated using the outer product of gradients (complex-step)."
      ],
      "text/plain": [
       "<class 'statsmodels.iolib.summary.Summary'>\n",
       "\"\"\"\n",
       "                               SARIMAX Results                                \n",
       "==============================================================================\n",
       "Dep. Variable:                   WATT   No. Observations:                  317\n",
       "Model:                 ARIMA(2, 0, 0)   Log Likelihood               -1030.041\n",
       "Date:                Fri, 20 Jan 2023   AIC                           2068.081\n",
       "Time:                        04:17:57   BIC                           2083.117\n",
       "Sample:                    01-01-1985   HQIC                          2074.087\n",
       "                         - 05-01-2011                                         \n",
       "Covariance Type:                  opg                                         \n",
       "==============================================================================\n",
       "                 coef    std err          z      P>|z|      [0.025      0.975]\n",
       "------------------------------------------------------------------------------\n",
       "const         85.3455      2.119     40.267      0.000      81.191      89.500\n",
       "ar.L1          1.2787      0.062     20.754      0.000       1.158       1.399\n",
       "ar.L2         -0.4604      0.066     -6.996      0.000      -0.589      -0.331\n",
       "sigma2        38.6555      3.166     12.210      0.000      32.450      44.861\n",
       "===================================================================================\n",
       "Ljung-Box (L1) (Q):                  24.95   Jarque-Bera (JB):                10.76\n",
       "Prob(Q):                              0.00   Prob(JB):                         0.00\n",
       "Heteroskedasticity (H):               2.18   Skew:                             0.45\n",
       "Prob(H) (two-sided):                  0.00   Kurtosis:                         3.11\n",
       "===================================================================================\n",
       "\n",
       "Warnings:\n",
       "[1] Covariance matrix calculated using the outer product of gradients (complex-step).\n",
       "\"\"\""
      ]
     },
     "execution_count": 27,
     "metadata": {},
     "output_type": "execute_result"
    }
   ],
   "source": [
    "ar_model_2 = ARIMA(df_train['WATT'], order=(2,0,0))\n",
    "res_model_2 = ar_model_2.fit()\n",
    "res_model_2.summary()"
   ]
  },
  {
   "cell_type": "code",
   "execution_count": 28,
   "id": "9bc5595b",
   "metadata": {},
   "outputs": [
    {
     "data": {
      "text/html": [
       "<table class=\"simpletable\">\n",
       "<caption>SARIMAX Results</caption>\n",
       "<tr>\n",
       "  <th>Dep. Variable:</th>         <td>WATT</td>       <th>  No. Observations:  </th>    <td>317</td>  \n",
       "</tr>\n",
       "<tr>\n",
       "  <th>Model:</th>            <td>ARIMA(3, 0, 0)</td>  <th>  Log Likelihood     </th> <td>-957.954</td>\n",
       "</tr>\n",
       "<tr>\n",
       "  <th>Date:</th>            <td>Fri, 20 Jan 2023</td> <th>  AIC                </th> <td>1925.907</td>\n",
       "</tr>\n",
       "<tr>\n",
       "  <th>Time:</th>                <td>04:17:58</td>     <th>  BIC                </th> <td>1944.702</td>\n",
       "</tr>\n",
       "<tr>\n",
       "  <th>Sample:</th>             <td>01-01-1985</td>    <th>  HQIC               </th> <td>1933.415</td>\n",
       "</tr>\n",
       "<tr>\n",
       "  <th></th>                   <td>- 05-01-2011</td>   <th>                     </th>     <td> </td>   \n",
       "</tr>\n",
       "<tr>\n",
       "  <th>Covariance Type:</th>        <td>opg</td>       <th>                     </th>     <td> </td>   \n",
       "</tr>\n",
       "</table>\n",
       "<table class=\"simpletable\">\n",
       "<tr>\n",
       "     <td></td>       <th>coef</th>     <th>std err</th>      <th>z</th>      <th>P>|z|</th>  <th>[0.025</th>    <th>0.975]</th>  \n",
       "</tr>\n",
       "<tr>\n",
       "  <th>const</th>  <td>   85.0806</td> <td>    4.349</td> <td>   19.562</td> <td> 0.000</td> <td>   76.556</td> <td>   93.605</td>\n",
       "</tr>\n",
       "<tr>\n",
       "  <th>ar.L1</th>  <td>    1.5614</td> <td>    0.045</td> <td>   34.416</td> <td> 0.000</td> <td>    1.472</td> <td>    1.650</td>\n",
       "</tr>\n",
       "<tr>\n",
       "  <th>ar.L2</th>  <td>   -1.2389</td> <td>    0.063</td> <td>  -19.643</td> <td> 0.000</td> <td>   -1.363</td> <td>   -1.115</td>\n",
       "</tr>\n",
       "<tr>\n",
       "  <th>ar.L3</th>  <td>    0.6075</td> <td>    0.039</td> <td>   15.547</td> <td> 0.000</td> <td>    0.531</td> <td>    0.684</td>\n",
       "</tr>\n",
       "<tr>\n",
       "  <th>sigma2</th> <td>   24.4225</td> <td>    1.669</td> <td>   14.636</td> <td> 0.000</td> <td>   21.152</td> <td>   27.693</td>\n",
       "</tr>\n",
       "</table>\n",
       "<table class=\"simpletable\">\n",
       "<tr>\n",
       "  <th>Ljung-Box (L1) (Q):</th>     <td>34.64</td> <th>  Jarque-Bera (JB):  </th> <td>15.06</td>\n",
       "</tr>\n",
       "<tr>\n",
       "  <th>Prob(Q):</th>                <td>0.00</td>  <th>  Prob(JB):          </th> <td>0.00</td> \n",
       "</tr>\n",
       "<tr>\n",
       "  <th>Heteroskedasticity (H):</th> <td>2.71</td>  <th>  Skew:              </th> <td>-0.22</td>\n",
       "</tr>\n",
       "<tr>\n",
       "  <th>Prob(H) (two-sided):</th>    <td>0.00</td>  <th>  Kurtosis:          </th> <td>3.97</td> \n",
       "</tr>\n",
       "</table><br/><br/>Warnings:<br/>[1] Covariance matrix calculated using the outer product of gradients (complex-step)."
      ],
      "text/plain": [
       "<class 'statsmodels.iolib.summary.Summary'>\n",
       "\"\"\"\n",
       "                               SARIMAX Results                                \n",
       "==============================================================================\n",
       "Dep. Variable:                   WATT   No. Observations:                  317\n",
       "Model:                 ARIMA(3, 0, 0)   Log Likelihood                -957.954\n",
       "Date:                Fri, 20 Jan 2023   AIC                           1925.907\n",
       "Time:                        04:17:58   BIC                           1944.702\n",
       "Sample:                    01-01-1985   HQIC                          1933.415\n",
       "                         - 05-01-2011                                         \n",
       "Covariance Type:                  opg                                         \n",
       "==============================================================================\n",
       "                 coef    std err          z      P>|z|      [0.025      0.975]\n",
       "------------------------------------------------------------------------------\n",
       "const         85.0806      4.349     19.562      0.000      76.556      93.605\n",
       "ar.L1          1.5614      0.045     34.416      0.000       1.472       1.650\n",
       "ar.L2         -1.2389      0.063    -19.643      0.000      -1.363      -1.115\n",
       "ar.L3          0.6075      0.039     15.547      0.000       0.531       0.684\n",
       "sigma2        24.4225      1.669     14.636      0.000      21.152      27.693\n",
       "===================================================================================\n",
       "Ljung-Box (L1) (Q):                  34.64   Jarque-Bera (JB):                15.06\n",
       "Prob(Q):                              0.00   Prob(JB):                         0.00\n",
       "Heteroskedasticity (H):               2.71   Skew:                            -0.22\n",
       "Prob(H) (two-sided):                  0.00   Kurtosis:                         3.97\n",
       "===================================================================================\n",
       "\n",
       "Warnings:\n",
       "[1] Covariance matrix calculated using the outer product of gradients (complex-step).\n",
       "\"\"\""
      ]
     },
     "execution_count": 28,
     "metadata": {},
     "output_type": "execute_result"
    }
   ],
   "source": [
    "ar_model_3 = ARIMA(df_train['WATT'], order=(3,0,0))\n",
    "res_model_3 = ar_model_3.fit()\n",
    "res_model_3.summary()"
   ]
  },
  {
   "cell_type": "code",
   "execution_count": 29,
   "id": "1e3de72c",
   "metadata": {},
   "outputs": [
    {
     "data": {
      "text/html": [
       "<table class=\"simpletable\">\n",
       "<caption>SARIMAX Results</caption>\n",
       "<tr>\n",
       "  <th>Dep. Variable:</th>         <td>WATT</td>       <th>  No. Observations:  </th>    <td>317</td>  \n",
       "</tr>\n",
       "<tr>\n",
       "  <th>Model:</th>            <td>ARIMA(4, 0, 0)</td>  <th>  Log Likelihood     </th> <td>-901.361</td>\n",
       "</tr>\n",
       "<tr>\n",
       "  <th>Date:</th>            <td>Fri, 20 Jan 2023</td> <th>  AIC                </th> <td>1814.723</td>\n",
       "</tr>\n",
       "<tr>\n",
       "  <th>Time:</th>                <td>04:17:58</td>     <th>  BIC                </th> <td>1837.276</td>\n",
       "</tr>\n",
       "<tr>\n",
       "  <th>Sample:</th>             <td>01-01-1985</td>    <th>  HQIC               </th> <td>1823.732</td>\n",
       "</tr>\n",
       "<tr>\n",
       "  <th></th>                   <td>- 05-01-2011</td>   <th>                     </th>     <td> </td>   \n",
       "</tr>\n",
       "<tr>\n",
       "  <th>Covariance Type:</th>        <td>opg</td>       <th>                     </th>     <td> </td>   \n",
       "</tr>\n",
       "</table>\n",
       "<table class=\"simpletable\">\n",
       "<tr>\n",
       "     <td></td>       <th>coef</th>     <th>std err</th>      <th>z</th>      <th>P>|z|</th>  <th>[0.025</th>    <th>0.975]</th>  \n",
       "</tr>\n",
       "<tr>\n",
       "  <th>const</th>  <td>   84.4467</td> <td>    7.564</td> <td>   11.164</td> <td> 0.000</td> <td>   69.621</td> <td>   99.273</td>\n",
       "</tr>\n",
       "<tr>\n",
       "  <th>ar.L1</th>  <td>    1.2289</td> <td>    0.043</td> <td>   28.787</td> <td> 0.000</td> <td>    1.145</td> <td>    1.313</td>\n",
       "</tr>\n",
       "<tr>\n",
       "  <th>ar.L2</th>  <td>   -0.5592</td> <td>    0.071</td> <td>   -7.901</td> <td> 0.000</td> <td>   -0.698</td> <td>   -0.420</td>\n",
       "</tr>\n",
       "<tr>\n",
       "  <th>ar.L3</th>  <td>   -0.2488</td> <td>    0.069</td> <td>   -3.581</td> <td> 0.000</td> <td>   -0.385</td> <td>   -0.113</td>\n",
       "</tr>\n",
       "<tr>\n",
       "  <th>ar.L4</th>  <td>    0.5501</td> <td>    0.040</td> <td>   13.634</td> <td> 0.000</td> <td>    0.471</td> <td>    0.629</td>\n",
       "</tr>\n",
       "<tr>\n",
       "  <th>sigma2</th> <td>   17.0075</td> <td>    1.251</td> <td>   13.598</td> <td> 0.000</td> <td>   14.556</td> <td>   19.459</td>\n",
       "</tr>\n",
       "</table>\n",
       "<table class=\"simpletable\">\n",
       "<tr>\n",
       "  <th>Ljung-Box (L1) (Q):</th>     <td>17.84</td> <th>  Jarque-Bera (JB):  </th> <td>3.71</td>\n",
       "</tr>\n",
       "<tr>\n",
       "  <th>Prob(Q):</th>                <td>0.00</td>  <th>  Prob(JB):          </th> <td>0.16</td>\n",
       "</tr>\n",
       "<tr>\n",
       "  <th>Heteroskedasticity (H):</th> <td>2.45</td>  <th>  Skew:              </th> <td>0.02</td>\n",
       "</tr>\n",
       "<tr>\n",
       "  <th>Prob(H) (two-sided):</th>    <td>0.00</td>  <th>  Kurtosis:          </th> <td>3.53</td>\n",
       "</tr>\n",
       "</table><br/><br/>Warnings:<br/>[1] Covariance matrix calculated using the outer product of gradients (complex-step)."
      ],
      "text/plain": [
       "<class 'statsmodels.iolib.summary.Summary'>\n",
       "\"\"\"\n",
       "                               SARIMAX Results                                \n",
       "==============================================================================\n",
       "Dep. Variable:                   WATT   No. Observations:                  317\n",
       "Model:                 ARIMA(4, 0, 0)   Log Likelihood                -901.361\n",
       "Date:                Fri, 20 Jan 2023   AIC                           1814.723\n",
       "Time:                        04:17:58   BIC                           1837.276\n",
       "Sample:                    01-01-1985   HQIC                          1823.732\n",
       "                         - 05-01-2011                                         \n",
       "Covariance Type:                  opg                                         \n",
       "==============================================================================\n",
       "                 coef    std err          z      P>|z|      [0.025      0.975]\n",
       "------------------------------------------------------------------------------\n",
       "const         84.4467      7.564     11.164      0.000      69.621      99.273\n",
       "ar.L1          1.2289      0.043     28.787      0.000       1.145       1.313\n",
       "ar.L2         -0.5592      0.071     -7.901      0.000      -0.698      -0.420\n",
       "ar.L3         -0.2488      0.069     -3.581      0.000      -0.385      -0.113\n",
       "ar.L4          0.5501      0.040     13.634      0.000       0.471       0.629\n",
       "sigma2        17.0075      1.251     13.598      0.000      14.556      19.459\n",
       "===================================================================================\n",
       "Ljung-Box (L1) (Q):                  17.84   Jarque-Bera (JB):                 3.71\n",
       "Prob(Q):                              0.00   Prob(JB):                         0.16\n",
       "Heteroskedasticity (H):               2.45   Skew:                             0.02\n",
       "Prob(H) (two-sided):                  0.00   Kurtosis:                         3.53\n",
       "===================================================================================\n",
       "\n",
       "Warnings:\n",
       "[1] Covariance matrix calculated using the outer product of gradients (complex-step).\n",
       "\"\"\""
      ]
     },
     "execution_count": 29,
     "metadata": {},
     "output_type": "execute_result"
    }
   ],
   "source": [
    "ar_model_4 = ARIMA(df_train['WATT'], order=(4,0,0))\n",
    "res_model_4 = ar_model_4.fit()\n",
    "res_model_4.summary()"
   ]
  },
  {
   "cell_type": "code",
   "execution_count": 30,
   "id": "96840888",
   "metadata": {},
   "outputs": [
    {
     "data": {
      "text/html": [
       "<table class=\"simpletable\">\n",
       "<caption>SARIMAX Results</caption>\n",
       "<tr>\n",
       "  <th>Dep. Variable:</th>         <td>WATT</td>       <th>  No. Observations:  </th>    <td>317</td>  \n",
       "</tr>\n",
       "<tr>\n",
       "  <th>Model:</th>            <td>ARIMA(5, 0, 0)</td>  <th>  Log Likelihood     </th> <td>-867.502</td>\n",
       "</tr>\n",
       "<tr>\n",
       "  <th>Date:</th>            <td>Fri, 20 Jan 2023</td> <th>  AIC                </th> <td>1749.004</td>\n",
       "</tr>\n",
       "<tr>\n",
       "  <th>Time:</th>                <td>04:17:59</td>     <th>  BIC                </th> <td>1775.316</td>\n",
       "</tr>\n",
       "<tr>\n",
       "  <th>Sample:</th>             <td>01-01-1985</td>    <th>  HQIC               </th> <td>1759.515</td>\n",
       "</tr>\n",
       "<tr>\n",
       "  <th></th>                   <td>- 05-01-2011</td>   <th>                     </th>     <td> </td>   \n",
       "</tr>\n",
       "<tr>\n",
       "  <th>Covariance Type:</th>        <td>opg</td>       <th>                     </th>     <td> </td>   \n",
       "</tr>\n",
       "</table>\n",
       "<table class=\"simpletable\">\n",
       "<tr>\n",
       "     <td></td>       <th>coef</th>     <th>std err</th>      <th>z</th>      <th>P>|z|</th>  <th>[0.025</th>    <th>0.975]</th>  \n",
       "</tr>\n",
       "<tr>\n",
       "  <th>const</th>  <td>   85.3362</td> <td>   12.543</td> <td>    6.803</td> <td> 0.000</td> <td>   60.752</td> <td>  109.921</td>\n",
       "</tr>\n",
       "<tr>\n",
       "  <th>ar.L1</th>  <td>    0.9827</td> <td>    0.046</td> <td>   21.148</td> <td> 0.000</td> <td>    0.892</td> <td>    1.074</td>\n",
       "</tr>\n",
       "<tr>\n",
       "  <th>ar.L2</th>  <td>   -0.4491</td> <td>    0.071</td> <td>   -6.323</td> <td> 0.000</td> <td>   -0.588</td> <td>   -0.310</td>\n",
       "</tr>\n",
       "<tr>\n",
       "  <th>ar.L3</th>  <td>    0.0011</td> <td>    0.084</td> <td>    0.014</td> <td> 0.989</td> <td>   -0.163</td> <td>    0.165</td>\n",
       "</tr>\n",
       "<tr>\n",
       "  <th>ar.L4</th>  <td>    0.0048</td> <td>    0.078</td> <td>    0.062</td> <td> 0.951</td> <td>   -0.149</td> <td>    0.158</td>\n",
       "</tr>\n",
       "<tr>\n",
       "  <th>ar.L5</th>  <td>    0.4478</td> <td>    0.054</td> <td>    8.250</td> <td> 0.000</td> <td>    0.341</td> <td>    0.554</td>\n",
       "</tr>\n",
       "<tr>\n",
       "  <th>sigma2</th> <td>   13.6753</td> <td>    0.999</td> <td>   13.687</td> <td> 0.000</td> <td>   11.717</td> <td>   15.634</td>\n",
       "</tr>\n",
       "</table>\n",
       "<table class=\"simpletable\">\n",
       "<tr>\n",
       "  <th>Ljung-Box (L1) (Q):</th>     <td>0.19</td> <th>  Jarque-Bera (JB):  </th> <td>13.84</td>\n",
       "</tr>\n",
       "<tr>\n",
       "  <th>Prob(Q):</th>                <td>0.66</td> <th>  Prob(JB):          </th> <td>0.00</td> \n",
       "</tr>\n",
       "<tr>\n",
       "  <th>Heteroskedasticity (H):</th> <td>1.79</td> <th>  Skew:              </th> <td>0.38</td> \n",
       "</tr>\n",
       "<tr>\n",
       "  <th>Prob(H) (two-sided):</th>    <td>0.00</td> <th>  Kurtosis:          </th> <td>3.69</td> \n",
       "</tr>\n",
       "</table><br/><br/>Warnings:<br/>[1] Covariance matrix calculated using the outer product of gradients (complex-step)."
      ],
      "text/plain": [
       "<class 'statsmodels.iolib.summary.Summary'>\n",
       "\"\"\"\n",
       "                               SARIMAX Results                                \n",
       "==============================================================================\n",
       "Dep. Variable:                   WATT   No. Observations:                  317\n",
       "Model:                 ARIMA(5, 0, 0)   Log Likelihood                -867.502\n",
       "Date:                Fri, 20 Jan 2023   AIC                           1749.004\n",
       "Time:                        04:17:59   BIC                           1775.316\n",
       "Sample:                    01-01-1985   HQIC                          1759.515\n",
       "                         - 05-01-2011                                         \n",
       "Covariance Type:                  opg                                         \n",
       "==============================================================================\n",
       "                 coef    std err          z      P>|z|      [0.025      0.975]\n",
       "------------------------------------------------------------------------------\n",
       "const         85.3362     12.543      6.803      0.000      60.752     109.921\n",
       "ar.L1          0.9827      0.046     21.148      0.000       0.892       1.074\n",
       "ar.L2         -0.4491      0.071     -6.323      0.000      -0.588      -0.310\n",
       "ar.L3          0.0011      0.084      0.014      0.989      -0.163       0.165\n",
       "ar.L4          0.0048      0.078      0.062      0.951      -0.149       0.158\n",
       "ar.L5          0.4478      0.054      8.250      0.000       0.341       0.554\n",
       "sigma2        13.6753      0.999     13.687      0.000      11.717      15.634\n",
       "===================================================================================\n",
       "Ljung-Box (L1) (Q):                   0.19   Jarque-Bera (JB):                13.84\n",
       "Prob(Q):                              0.66   Prob(JB):                         0.00\n",
       "Heteroskedasticity (H):               1.79   Skew:                             0.38\n",
       "Prob(H) (two-sided):                  0.00   Kurtosis:                         3.69\n",
       "===================================================================================\n",
       "\n",
       "Warnings:\n",
       "[1] Covariance matrix calculated using the outer product of gradients (complex-step).\n",
       "\"\"\""
      ]
     },
     "execution_count": 30,
     "metadata": {},
     "output_type": "execute_result"
    }
   ],
   "source": [
    "ar_model_5 = ARIMA(df_train['WATT'], order=(5,0,0))\n",
    "res_model_5 = ar_model_5.fit()\n",
    "res_model_5.summary()"
   ]
  },
  {
   "cell_type": "code",
   "execution_count": 31,
   "id": "a0c7e806",
   "metadata": {},
   "outputs": [
    {
     "data": {
      "text/html": [
       "<table class=\"simpletable\">\n",
       "<caption>SARIMAX Results</caption>\n",
       "<tr>\n",
       "  <th>Dep. Variable:</th>         <td>WATT</td>       <th>  No. Observations:  </th>    <td>317</td>  \n",
       "</tr>\n",
       "<tr>\n",
       "  <th>Model:</th>            <td>ARIMA(6, 0, 0)</td>  <th>  Log Likelihood     </th> <td>-867.087</td>\n",
       "</tr>\n",
       "<tr>\n",
       "  <th>Date:</th>            <td>Fri, 20 Jan 2023</td> <th>  AIC                </th> <td>1750.173</td>\n",
       "</tr>\n",
       "<tr>\n",
       "  <th>Time:</th>                <td>04:18:00</td>     <th>  BIC                </th> <td>1780.244</td>\n",
       "</tr>\n",
       "<tr>\n",
       "  <th>Sample:</th>             <td>01-01-1985</td>    <th>  HQIC               </th> <td>1762.185</td>\n",
       "</tr>\n",
       "<tr>\n",
       "  <th></th>                   <td>- 05-01-2011</td>   <th>                     </th>     <td> </td>   \n",
       "</tr>\n",
       "<tr>\n",
       "  <th>Covariance Type:</th>        <td>opg</td>       <th>                     </th>     <td> </td>   \n",
       "</tr>\n",
       "</table>\n",
       "<table class=\"simpletable\">\n",
       "<tr>\n",
       "     <td></td>       <th>coef</th>     <th>std err</th>      <th>z</th>      <th>P>|z|</th>  <th>[0.025</th>    <th>0.975]</th>  \n",
       "</tr>\n",
       "<tr>\n",
       "  <th>const</th>  <td>   85.3349</td> <td>   13.628</td> <td>    6.262</td> <td> 0.000</td> <td>   58.624</td> <td>  112.045</td>\n",
       "</tr>\n",
       "<tr>\n",
       "  <th>ar.L1</th>  <td>    0.9594</td> <td>    0.055</td> <td>   17.527</td> <td> 0.000</td> <td>    0.852</td> <td>    1.067</td>\n",
       "</tr>\n",
       "<tr>\n",
       "  <th>ar.L2</th>  <td>   -0.4498</td> <td>    0.072</td> <td>   -6.231</td> <td> 0.000</td> <td>   -0.591</td> <td>   -0.308</td>\n",
       "</tr>\n",
       "<tr>\n",
       "  <th>ar.L3</th>  <td>    0.0017</td> <td>    0.085</td> <td>    0.020</td> <td> 0.984</td> <td>   -0.165</td> <td>    0.168</td>\n",
       "</tr>\n",
       "<tr>\n",
       "  <th>ar.L4</th>  <td>    0.0276</td> <td>    0.086</td> <td>    0.320</td> <td> 0.749</td> <td>   -0.141</td> <td>    0.196</td>\n",
       "</tr>\n",
       "<tr>\n",
       "  <th>ar.L5</th>  <td>    0.3973</td> <td>    0.088</td> <td>    4.535</td> <td> 0.000</td> <td>    0.226</td> <td>    0.569</td>\n",
       "</tr>\n",
       "<tr>\n",
       "  <th>ar.L6</th>  <td>    0.0524</td> <td>    0.071</td> <td>    0.734</td> <td> 0.463</td> <td>   -0.087</td> <td>    0.192</td>\n",
       "</tr>\n",
       "<tr>\n",
       "  <th>sigma2</th> <td>   13.6366</td> <td>    1.023</td> <td>   13.328</td> <td> 0.000</td> <td>   11.631</td> <td>   15.642</td>\n",
       "</tr>\n",
       "</table>\n",
       "<table class=\"simpletable\">\n",
       "<tr>\n",
       "  <th>Ljung-Box (L1) (Q):</th>     <td>0.00</td> <th>  Jarque-Bera (JB):  </th> <td>13.90</td>\n",
       "</tr>\n",
       "<tr>\n",
       "  <th>Prob(Q):</th>                <td>0.99</td> <th>  Prob(JB):          </th> <td>0.00</td> \n",
       "</tr>\n",
       "<tr>\n",
       "  <th>Heteroskedasticity (H):</th> <td>1.75</td> <th>  Skew:              </th> <td>0.40</td> \n",
       "</tr>\n",
       "<tr>\n",
       "  <th>Prob(H) (two-sided):</th>    <td>0.00</td> <th>  Kurtosis:          </th> <td>3.65</td> \n",
       "</tr>\n",
       "</table><br/><br/>Warnings:<br/>[1] Covariance matrix calculated using the outer product of gradients (complex-step)."
      ],
      "text/plain": [
       "<class 'statsmodels.iolib.summary.Summary'>\n",
       "\"\"\"\n",
       "                               SARIMAX Results                                \n",
       "==============================================================================\n",
       "Dep. Variable:                   WATT   No. Observations:                  317\n",
       "Model:                 ARIMA(6, 0, 0)   Log Likelihood                -867.087\n",
       "Date:                Fri, 20 Jan 2023   AIC                           1750.173\n",
       "Time:                        04:18:00   BIC                           1780.244\n",
       "Sample:                    01-01-1985   HQIC                          1762.185\n",
       "                         - 05-01-2011                                         \n",
       "Covariance Type:                  opg                                         \n",
       "==============================================================================\n",
       "                 coef    std err          z      P>|z|      [0.025      0.975]\n",
       "------------------------------------------------------------------------------\n",
       "const         85.3349     13.628      6.262      0.000      58.624     112.045\n",
       "ar.L1          0.9594      0.055     17.527      0.000       0.852       1.067\n",
       "ar.L2         -0.4498      0.072     -6.231      0.000      -0.591      -0.308\n",
       "ar.L3          0.0017      0.085      0.020      0.984      -0.165       0.168\n",
       "ar.L4          0.0276      0.086      0.320      0.749      -0.141       0.196\n",
       "ar.L5          0.3973      0.088      4.535      0.000       0.226       0.569\n",
       "ar.L6          0.0524      0.071      0.734      0.463      -0.087       0.192\n",
       "sigma2        13.6366      1.023     13.328      0.000      11.631      15.642\n",
       "===================================================================================\n",
       "Ljung-Box (L1) (Q):                   0.00   Jarque-Bera (JB):                13.90\n",
       "Prob(Q):                              0.99   Prob(JB):                         0.00\n",
       "Heteroskedasticity (H):               1.75   Skew:                             0.40\n",
       "Prob(H) (two-sided):                  0.00   Kurtosis:                         3.65\n",
       "===================================================================================\n",
       "\n",
       "Warnings:\n",
       "[1] Covariance matrix calculated using the outer product of gradients (complex-step).\n",
       "\"\"\""
      ]
     },
     "execution_count": 31,
     "metadata": {},
     "output_type": "execute_result"
    }
   ],
   "source": [
    "ar_model_6 = ARIMA(df_train['WATT'], order=(6,0,0))\n",
    "res_model_6 = ar_model_6.fit()\n",
    "res_model_6.summary()"
   ]
  },
  {
   "cell_type": "code",
   "execution_count": 32,
   "id": "24083e49",
   "metadata": {},
   "outputs": [
    {
     "data": {
      "text/html": [
       "<table class=\"simpletable\">\n",
       "<caption>SARIMAX Results</caption>\n",
       "<tr>\n",
       "  <th>Dep. Variable:</th>         <td>WATT</td>       <th>  No. Observations:  </th>    <td>317</td>  \n",
       "</tr>\n",
       "<tr>\n",
       "  <th>Model:</th>            <td>ARIMA(7, 0, 0)</td>  <th>  Log Likelihood     </th> <td>-866.385</td>\n",
       "</tr>\n",
       "<tr>\n",
       "  <th>Date:</th>            <td>Fri, 20 Jan 2023</td> <th>  AIC                </th> <td>1750.769</td>\n",
       "</tr>\n",
       "<tr>\n",
       "  <th>Time:</th>                <td>04:18:01</td>     <th>  BIC                </th> <td>1784.599</td>\n",
       "</tr>\n",
       "<tr>\n",
       "  <th>Sample:</th>             <td>01-01-1985</td>    <th>  HQIC               </th> <td>1764.283</td>\n",
       "</tr>\n",
       "<tr>\n",
       "  <th></th>                   <td>- 05-01-2011</td>   <th>                     </th>     <td> </td>   \n",
       "</tr>\n",
       "<tr>\n",
       "  <th>Covariance Type:</th>        <td>opg</td>       <th>                     </th>     <td> </td>   \n",
       "</tr>\n",
       "</table>\n",
       "<table class=\"simpletable\">\n",
       "<tr>\n",
       "     <td></td>       <th>coef</th>     <th>std err</th>      <th>z</th>      <th>P>|z|</th>  <th>[0.025</th>    <th>0.975]</th>  \n",
       "</tr>\n",
       "<tr>\n",
       "  <th>const</th>  <td>   85.3365</td> <td>   12.824</td> <td>    6.654</td> <td> 0.000</td> <td>   60.201</td> <td>  110.472</td>\n",
       "</tr>\n",
       "<tr>\n",
       "  <th>ar.L1</th>  <td>    0.9625</td> <td>    0.055</td> <td>   17.506</td> <td> 0.000</td> <td>    0.855</td> <td>    1.070</td>\n",
       "</tr>\n",
       "<tr>\n",
       "  <th>ar.L2</th>  <td>   -0.4230</td> <td>    0.075</td> <td>   -5.608</td> <td> 0.000</td> <td>   -0.571</td> <td>   -0.275</td>\n",
       "</tr>\n",
       "<tr>\n",
       "  <th>ar.L3</th>  <td>    0.0050</td> <td>    0.085</td> <td>    0.059</td> <td> 0.953</td> <td>   -0.162</td> <td>    0.172</td>\n",
       "</tr>\n",
       "<tr>\n",
       "  <th>ar.L4</th>  <td>    0.0258</td> <td>    0.086</td> <td>    0.300</td> <td> 0.764</td> <td>   -0.143</td> <td>    0.195</td>\n",
       "</tr>\n",
       "<tr>\n",
       "  <th>ar.L5</th>  <td>    0.3682</td> <td>    0.096</td> <td>    3.851</td> <td> 0.000</td> <td>    0.181</td> <td>    0.556</td>\n",
       "</tr>\n",
       "<tr>\n",
       "  <th>ar.L6</th>  <td>    0.1170</td> <td>    0.099</td> <td>    1.177</td> <td> 0.239</td> <td>   -0.078</td> <td>    0.312</td>\n",
       "</tr>\n",
       "<tr>\n",
       "  <th>ar.L7</th>  <td>   -0.0685</td> <td>    0.071</td> <td>   -0.968</td> <td> 0.333</td> <td>   -0.207</td> <td>    0.070</td>\n",
       "</tr>\n",
       "<tr>\n",
       "  <th>sigma2</th> <td>   13.5774</td> <td>    1.045</td> <td>   12.995</td> <td> 0.000</td> <td>   11.530</td> <td>   15.625</td>\n",
       "</tr>\n",
       "</table>\n",
       "<table class=\"simpletable\">\n",
       "<tr>\n",
       "  <th>Ljung-Box (L1) (Q):</th>     <td>0.04</td> <th>  Jarque-Bera (JB):  </th> <td>11.70</td>\n",
       "</tr>\n",
       "<tr>\n",
       "  <th>Prob(Q):</th>                <td>0.84</td> <th>  Prob(JB):          </th> <td>0.00</td> \n",
       "</tr>\n",
       "<tr>\n",
       "  <th>Heteroskedasticity (H):</th> <td>1.77</td> <th>  Skew:              </th> <td>0.36</td> \n",
       "</tr>\n",
       "<tr>\n",
       "  <th>Prob(H) (two-sided):</th>    <td>0.00</td> <th>  Kurtosis:          </th> <td>3.61</td> \n",
       "</tr>\n",
       "</table><br/><br/>Warnings:<br/>[1] Covariance matrix calculated using the outer product of gradients (complex-step)."
      ],
      "text/plain": [
       "<class 'statsmodels.iolib.summary.Summary'>\n",
       "\"\"\"\n",
       "                               SARIMAX Results                                \n",
       "==============================================================================\n",
       "Dep. Variable:                   WATT   No. Observations:                  317\n",
       "Model:                 ARIMA(7, 0, 0)   Log Likelihood                -866.385\n",
       "Date:                Fri, 20 Jan 2023   AIC                           1750.769\n",
       "Time:                        04:18:01   BIC                           1784.599\n",
       "Sample:                    01-01-1985   HQIC                          1764.283\n",
       "                         - 05-01-2011                                         \n",
       "Covariance Type:                  opg                                         \n",
       "==============================================================================\n",
       "                 coef    std err          z      P>|z|      [0.025      0.975]\n",
       "------------------------------------------------------------------------------\n",
       "const         85.3365     12.824      6.654      0.000      60.201     110.472\n",
       "ar.L1          0.9625      0.055     17.506      0.000       0.855       1.070\n",
       "ar.L2         -0.4230      0.075     -5.608      0.000      -0.571      -0.275\n",
       "ar.L3          0.0050      0.085      0.059      0.953      -0.162       0.172\n",
       "ar.L4          0.0258      0.086      0.300      0.764      -0.143       0.195\n",
       "ar.L5          0.3682      0.096      3.851      0.000       0.181       0.556\n",
       "ar.L6          0.1170      0.099      1.177      0.239      -0.078       0.312\n",
       "ar.L7         -0.0685      0.071     -0.968      0.333      -0.207       0.070\n",
       "sigma2        13.5774      1.045     12.995      0.000      11.530      15.625\n",
       "===================================================================================\n",
       "Ljung-Box (L1) (Q):                   0.04   Jarque-Bera (JB):                11.70\n",
       "Prob(Q):                              0.84   Prob(JB):                         0.00\n",
       "Heteroskedasticity (H):               1.77   Skew:                             0.36\n",
       "Prob(H) (two-sided):                  0.00   Kurtosis:                         3.61\n",
       "===================================================================================\n",
       "\n",
       "Warnings:\n",
       "[1] Covariance matrix calculated using the outer product of gradients (complex-step).\n",
       "\"\"\""
      ]
     },
     "execution_count": 32,
     "metadata": {},
     "output_type": "execute_result"
    }
   ],
   "source": [
    "ar_model_7 = ARIMA(df_train['WATT'], order=(7,0,0))\n",
    "res_model_7 = ar_model_7.fit()\n",
    "res_model_7.summary()"
   ]
  },
  {
   "cell_type": "code",
   "execution_count": 33,
   "id": "86e83859",
   "metadata": {},
   "outputs": [
    {
     "data": {
      "text/html": [
       "<table class=\"simpletable\">\n",
       "<caption>SARIMAX Results</caption>\n",
       "<tr>\n",
       "  <th>Dep. Variable:</th>         <td>WATT</td>       <th>  No. Observations:  </th>    <td>317</td>  \n",
       "</tr>\n",
       "<tr>\n",
       "  <th>Model:</th>            <td>ARIMA(8, 0, 0)</td>  <th>  Log Likelihood     </th> <td>-863.223</td>\n",
       "</tr>\n",
       "<tr>\n",
       "  <th>Date:</th>            <td>Fri, 20 Jan 2023</td> <th>  AIC                </th> <td>1746.447</td>\n",
       "</tr>\n",
       "<tr>\n",
       "  <th>Time:</th>                <td>04:18:02</td>     <th>  BIC                </th> <td>1784.036</td>\n",
       "</tr>\n",
       "<tr>\n",
       "  <th>Sample:</th>             <td>01-01-1985</td>    <th>  HQIC               </th> <td>1761.462</td>\n",
       "</tr>\n",
       "<tr>\n",
       "  <th></th>                   <td>- 05-01-2011</td>   <th>                     </th>     <td> </td>   \n",
       "</tr>\n",
       "<tr>\n",
       "  <th>Covariance Type:</th>        <td>opg</td>       <th>                     </th>     <td> </td>   \n",
       "</tr>\n",
       "</table>\n",
       "<table class=\"simpletable\">\n",
       "<tr>\n",
       "     <td></td>       <th>coef</th>     <th>std err</th>      <th>z</th>      <th>P>|z|</th>  <th>[0.025</th>    <th>0.975]</th>  \n",
       "</tr>\n",
       "<tr>\n",
       "  <th>const</th>  <td>   85.3390</td> <td>   11.046</td> <td>    7.726</td> <td> 0.000</td> <td>   63.690</td> <td>  106.988</td>\n",
       "</tr>\n",
       "<tr>\n",
       "  <th>ar.L1</th>  <td>    0.9540</td> <td>    0.054</td> <td>   17.730</td> <td> 0.000</td> <td>    0.849</td> <td>    1.059</td>\n",
       "</tr>\n",
       "<tr>\n",
       "  <th>ar.L2</th>  <td>   -0.4076</td> <td>    0.076</td> <td>   -5.366</td> <td> 0.000</td> <td>   -0.556</td> <td>   -0.259</td>\n",
       "</tr>\n",
       "<tr>\n",
       "  <th>ar.L3</th>  <td>    0.0565</td> <td>    0.087</td> <td>    0.650</td> <td> 0.516</td> <td>   -0.114</td> <td>    0.227</td>\n",
       "</tr>\n",
       "<tr>\n",
       "  <th>ar.L4</th>  <td>    0.0338</td> <td>    0.088</td> <td>    0.383</td> <td> 0.702</td> <td>   -0.139</td> <td>    0.207</td>\n",
       "</tr>\n",
       "<tr>\n",
       "  <th>ar.L5</th>  <td>    0.3642</td> <td>    0.094</td> <td>    3.864</td> <td> 0.000</td> <td>    0.179</td> <td>    0.549</td>\n",
       "</tr>\n",
       "<tr>\n",
       "  <th>ar.L6</th>  <td>    0.0582</td> <td>    0.103</td> <td>    0.564</td> <td> 0.572</td> <td>   -0.144</td> <td>    0.260</td>\n",
       "</tr>\n",
       "<tr>\n",
       "  <th>ar.L7</th>  <td>    0.0691</td> <td>    0.103</td> <td>    0.674</td> <td> 0.500</td> <td>   -0.132</td> <td>    0.270</td>\n",
       "</tr>\n",
       "<tr>\n",
       "  <th>ar.L8</th>  <td>   -0.1448</td> <td>    0.075</td> <td>   -1.926</td> <td> 0.054</td> <td>   -0.292</td> <td>    0.003</td>\n",
       "</tr>\n",
       "<tr>\n",
       "  <th>sigma2</th> <td>   13.3050</td> <td>    1.010</td> <td>   13.168</td> <td> 0.000</td> <td>   11.325</td> <td>   15.285</td>\n",
       "</tr>\n",
       "</table>\n",
       "<table class=\"simpletable\">\n",
       "<tr>\n",
       "  <th>Ljung-Box (L1) (Q):</th>     <td>0.30</td> <th>  Jarque-Bera (JB):  </th> <td>12.60</td>\n",
       "</tr>\n",
       "<tr>\n",
       "  <th>Prob(Q):</th>                <td>0.58</td> <th>  Prob(JB):          </th> <td>0.00</td> \n",
       "</tr>\n",
       "<tr>\n",
       "  <th>Heteroskedasticity (H):</th> <td>1.69</td> <th>  Skew:              </th> <td>0.32</td> \n",
       "</tr>\n",
       "<tr>\n",
       "  <th>Prob(H) (two-sided):</th>    <td>0.01</td> <th>  Kurtosis:          </th> <td>3.73</td> \n",
       "</tr>\n",
       "</table><br/><br/>Warnings:<br/>[1] Covariance matrix calculated using the outer product of gradients (complex-step)."
      ],
      "text/plain": [
       "<class 'statsmodels.iolib.summary.Summary'>\n",
       "\"\"\"\n",
       "                               SARIMAX Results                                \n",
       "==============================================================================\n",
       "Dep. Variable:                   WATT   No. Observations:                  317\n",
       "Model:                 ARIMA(8, 0, 0)   Log Likelihood                -863.223\n",
       "Date:                Fri, 20 Jan 2023   AIC                           1746.447\n",
       "Time:                        04:18:02   BIC                           1784.036\n",
       "Sample:                    01-01-1985   HQIC                          1761.462\n",
       "                         - 05-01-2011                                         \n",
       "Covariance Type:                  opg                                         \n",
       "==============================================================================\n",
       "                 coef    std err          z      P>|z|      [0.025      0.975]\n",
       "------------------------------------------------------------------------------\n",
       "const         85.3390     11.046      7.726      0.000      63.690     106.988\n",
       "ar.L1          0.9540      0.054     17.730      0.000       0.849       1.059\n",
       "ar.L2         -0.4076      0.076     -5.366      0.000      -0.556      -0.259\n",
       "ar.L3          0.0565      0.087      0.650      0.516      -0.114       0.227\n",
       "ar.L4          0.0338      0.088      0.383      0.702      -0.139       0.207\n",
       "ar.L5          0.3642      0.094      3.864      0.000       0.179       0.549\n",
       "ar.L6          0.0582      0.103      0.564      0.572      -0.144       0.260\n",
       "ar.L7          0.0691      0.103      0.674      0.500      -0.132       0.270\n",
       "ar.L8         -0.1448      0.075     -1.926      0.054      -0.292       0.003\n",
       "sigma2        13.3050      1.010     13.168      0.000      11.325      15.285\n",
       "===================================================================================\n",
       "Ljung-Box (L1) (Q):                   0.30   Jarque-Bera (JB):                12.60\n",
       "Prob(Q):                              0.58   Prob(JB):                         0.00\n",
       "Heteroskedasticity (H):               1.69   Skew:                             0.32\n",
       "Prob(H) (two-sided):                  0.01   Kurtosis:                         3.73\n",
       "===================================================================================\n",
       "\n",
       "Warnings:\n",
       "[1] Covariance matrix calculated using the outer product of gradients (complex-step).\n",
       "\"\"\""
      ]
     },
     "execution_count": 33,
     "metadata": {},
     "output_type": "execute_result"
    }
   ],
   "source": [
    "ar_model_8 = ARIMA(df_train['WATT'], order=(8,0,0))\n",
    "res_model_8 = ar_model_8.fit()\n",
    "res_model_8.summary()"
   ]
  },
  {
   "cell_type": "code",
   "execution_count": 34,
   "id": "fa0d2fe7",
   "metadata": {},
   "outputs": [
    {
     "data": {
      "text/html": [
       "<table class=\"simpletable\">\n",
       "<caption>SARIMAX Results</caption>\n",
       "<tr>\n",
       "  <th>Dep. Variable:</th>         <td>WATT</td>       <th>  No. Observations:  </th>    <td>317</td>  \n",
       "</tr>\n",
       "<tr>\n",
       "  <th>Model:</th>            <td>ARIMA(9, 0, 0)</td>  <th>  Log Likelihood     </th> <td>-854.986</td>\n",
       "</tr>\n",
       "<tr>\n",
       "  <th>Date:</th>            <td>Fri, 20 Jan 2023</td> <th>  AIC                </th> <td>1731.971</td>\n",
       "</tr>\n",
       "<tr>\n",
       "  <th>Time:</th>                <td>04:18:05</td>     <th>  BIC                </th> <td>1773.319</td>\n",
       "</tr>\n",
       "<tr>\n",
       "  <th>Sample:</th>             <td>01-01-1985</td>    <th>  HQIC               </th> <td>1748.488</td>\n",
       "</tr>\n",
       "<tr>\n",
       "  <th></th>                   <td>- 05-01-2011</td>   <th>                     </th>     <td> </td>   \n",
       "</tr>\n",
       "<tr>\n",
       "  <th>Covariance Type:</th>        <td>opg</td>       <th>                     </th>     <td> </td>   \n",
       "</tr>\n",
       "</table>\n",
       "<table class=\"simpletable\">\n",
       "<tr>\n",
       "     <td></td>       <th>coef</th>     <th>std err</th>      <th>z</th>      <th>P>|z|</th>  <th>[0.025</th>    <th>0.975]</th>  \n",
       "</tr>\n",
       "<tr>\n",
       "  <th>const</th>  <td>   85.3359</td> <td>   14.800</td> <td>    5.766</td> <td> 0.000</td> <td>   56.328</td> <td>  114.344</td>\n",
       "</tr>\n",
       "<tr>\n",
       "  <th>ar.L1</th>  <td>    0.9847</td> <td>    0.053</td> <td>   18.545</td> <td> 0.000</td> <td>    0.881</td> <td>    1.089</td>\n",
       "</tr>\n",
       "<tr>\n",
       "  <th>ar.L2</th>  <td>   -0.4244</td> <td>    0.076</td> <td>   -5.613</td> <td> 0.000</td> <td>   -0.573</td> <td>   -0.276</td>\n",
       "</tr>\n",
       "<tr>\n",
       "  <th>ar.L3</th>  <td>    0.0467</td> <td>    0.087</td> <td>    0.537</td> <td> 0.592</td> <td>   -0.124</td> <td>    0.217</td>\n",
       "</tr>\n",
       "<tr>\n",
       "  <th>ar.L4</th>  <td>   -0.0508</td> <td>    0.092</td> <td>   -0.554</td> <td> 0.580</td> <td>   -0.231</td> <td>    0.129</td>\n",
       "</tr>\n",
       "<tr>\n",
       "  <th>ar.L5</th>  <td>    0.3514</td> <td>    0.089</td> <td>    3.940</td> <td> 0.000</td> <td>    0.177</td> <td>    0.526</td>\n",
       "</tr>\n",
       "<tr>\n",
       "  <th>ar.L6</th>  <td>    0.0551</td> <td>    0.098</td> <td>    0.563</td> <td> 0.573</td> <td>   -0.137</td> <td>    0.247</td>\n",
       "</tr>\n",
       "<tr>\n",
       "  <th>ar.L7</th>  <td>    0.1574</td> <td>    0.103</td> <td>    1.523</td> <td> 0.128</td> <td>   -0.045</td> <td>    0.360</td>\n",
       "</tr>\n",
       "<tr>\n",
       "  <th>ar.L8</th>  <td>   -0.3621</td> <td>    0.097</td> <td>   -3.748</td> <td> 0.000</td> <td>   -0.551</td> <td>   -0.173</td>\n",
       "</tr>\n",
       "<tr>\n",
       "  <th>ar.L9</th>  <td>    0.2315</td> <td>    0.071</td> <td>    3.260</td> <td> 0.001</td> <td>    0.092</td> <td>    0.371</td>\n",
       "</tr>\n",
       "<tr>\n",
       "  <th>sigma2</th> <td>   12.6047</td> <td>    0.963</td> <td>   13.083</td> <td> 0.000</td> <td>   10.716</td> <td>   14.493</td>\n",
       "</tr>\n",
       "</table>\n",
       "<table class=\"simpletable\">\n",
       "<tr>\n",
       "  <th>Ljung-Box (L1) (Q):</th>     <td>1.98</td> <th>  Jarque-Bera (JB):  </th> <td>12.93</td>\n",
       "</tr>\n",
       "<tr>\n",
       "  <th>Prob(Q):</th>                <td>0.16</td> <th>  Prob(JB):          </th> <td>0.00</td> \n",
       "</tr>\n",
       "<tr>\n",
       "  <th>Heteroskedasticity (H):</th> <td>1.87</td> <th>  Skew:              </th> <td>0.34</td> \n",
       "</tr>\n",
       "<tr>\n",
       "  <th>Prob(H) (two-sided):</th>    <td>0.00</td> <th>  Kurtosis:          </th> <td>3.71</td> \n",
       "</tr>\n",
       "</table><br/><br/>Warnings:<br/>[1] Covariance matrix calculated using the outer product of gradients (complex-step)."
      ],
      "text/plain": [
       "<class 'statsmodels.iolib.summary.Summary'>\n",
       "\"\"\"\n",
       "                               SARIMAX Results                                \n",
       "==============================================================================\n",
       "Dep. Variable:                   WATT   No. Observations:                  317\n",
       "Model:                 ARIMA(9, 0, 0)   Log Likelihood                -854.986\n",
       "Date:                Fri, 20 Jan 2023   AIC                           1731.971\n",
       "Time:                        04:18:05   BIC                           1773.319\n",
       "Sample:                    01-01-1985   HQIC                          1748.488\n",
       "                         - 05-01-2011                                         \n",
       "Covariance Type:                  opg                                         \n",
       "==============================================================================\n",
       "                 coef    std err          z      P>|z|      [0.025      0.975]\n",
       "------------------------------------------------------------------------------\n",
       "const         85.3359     14.800      5.766      0.000      56.328     114.344\n",
       "ar.L1          0.9847      0.053     18.545      0.000       0.881       1.089\n",
       "ar.L2         -0.4244      0.076     -5.613      0.000      -0.573      -0.276\n",
       "ar.L3          0.0467      0.087      0.537      0.592      -0.124       0.217\n",
       "ar.L4         -0.0508      0.092     -0.554      0.580      -0.231       0.129\n",
       "ar.L5          0.3514      0.089      3.940      0.000       0.177       0.526\n",
       "ar.L6          0.0551      0.098      0.563      0.573      -0.137       0.247\n",
       "ar.L7          0.1574      0.103      1.523      0.128      -0.045       0.360\n",
       "ar.L8         -0.3621      0.097     -3.748      0.000      -0.551      -0.173\n",
       "ar.L9          0.2315      0.071      3.260      0.001       0.092       0.371\n",
       "sigma2        12.6047      0.963     13.083      0.000      10.716      14.493\n",
       "===================================================================================\n",
       "Ljung-Box (L1) (Q):                   1.98   Jarque-Bera (JB):                12.93\n",
       "Prob(Q):                              0.16   Prob(JB):                         0.00\n",
       "Heteroskedasticity (H):               1.87   Skew:                             0.34\n",
       "Prob(H) (two-sided):                  0.00   Kurtosis:                         3.71\n",
       "===================================================================================\n",
       "\n",
       "Warnings:\n",
       "[1] Covariance matrix calculated using the outer product of gradients (complex-step).\n",
       "\"\"\""
      ]
     },
     "execution_count": 34,
     "metadata": {},
     "output_type": "execute_result"
    }
   ],
   "source": [
    "ar_model_9 = ARIMA(df_train['WATT'], order=(9,0,0))\n",
    "res_model_9 = ar_model_9.fit()\n",
    "res_model_9.summary()"
   ]
  },
  {
   "cell_type": "code",
   "execution_count": 35,
   "id": "0e8eb0ba",
   "metadata": {},
   "outputs": [
    {
     "data": {
      "text/html": [
       "<table class=\"simpletable\">\n",
       "<caption>SARIMAX Results</caption>\n",
       "<tr>\n",
       "  <th>Dep. Variable:</th>         <td>WATT</td>       <th>  No. Observations:  </th>    <td>317</td>  \n",
       "</tr>\n",
       "<tr>\n",
       "  <th>Model:</th>            <td>ARIMA(10, 0, 0)</td> <th>  Log Likelihood     </th> <td>-836.384</td>\n",
       "</tr>\n",
       "<tr>\n",
       "  <th>Date:</th>            <td>Fri, 20 Jan 2023</td> <th>  AIC                </th> <td>1696.769</td>\n",
       "</tr>\n",
       "<tr>\n",
       "  <th>Time:</th>                <td>04:18:08</td>     <th>  BIC                </th> <td>1741.875</td>\n",
       "</tr>\n",
       "<tr>\n",
       "  <th>Sample:</th>             <td>01-01-1985</td>    <th>  HQIC               </th> <td>1714.787</td>\n",
       "</tr>\n",
       "<tr>\n",
       "  <th></th>                   <td>- 05-01-2011</td>   <th>                     </th>     <td> </td>   \n",
       "</tr>\n",
       "<tr>\n",
       "  <th>Covariance Type:</th>        <td>opg</td>       <th>                     </th>     <td> </td>   \n",
       "</tr>\n",
       "</table>\n",
       "<table class=\"simpletable\">\n",
       "<tr>\n",
       "     <td></td>       <th>coef</th>     <th>std err</th>      <th>z</th>      <th>P>|z|</th>  <th>[0.025</th>    <th>0.975]</th>  \n",
       "</tr>\n",
       "<tr>\n",
       "  <th>const</th>  <td>   85.3283</td> <td>   21.450</td> <td>    3.978</td> <td> 0.000</td> <td>   43.286</td> <td>  127.370</td>\n",
       "</tr>\n",
       "<tr>\n",
       "  <th>ar.L1</th>  <td>    0.9061</td> <td>    0.052</td> <td>   17.261</td> <td> 0.000</td> <td>    0.803</td> <td>    1.009</td>\n",
       "</tr>\n",
       "<tr>\n",
       "  <th>ar.L2</th>  <td>   -0.3045</td> <td>    0.078</td> <td>   -3.909</td> <td> 0.000</td> <td>   -0.457</td> <td>   -0.152</td>\n",
       "</tr>\n",
       "<tr>\n",
       "  <th>ar.L3</th>  <td>   -0.0092</td> <td>    0.083</td> <td>   -0.111</td> <td> 0.911</td> <td>   -0.171</td> <td>    0.153</td>\n",
       "</tr>\n",
       "<tr>\n",
       "  <th>ar.L4</th>  <td>   -0.0612</td> <td>    0.090</td> <td>   -0.684</td> <td> 0.494</td> <td>   -0.237</td> <td>    0.114</td>\n",
       "</tr>\n",
       "<tr>\n",
       "  <th>ar.L5</th>  <td>    0.2288</td> <td>    0.091</td> <td>    2.516</td> <td> 0.012</td> <td>    0.051</td> <td>    0.407</td>\n",
       "</tr>\n",
       "<tr>\n",
       "  <th>ar.L6</th>  <td>    0.0648</td> <td>    0.095</td> <td>    0.682</td> <td> 0.496</td> <td>   -0.122</td> <td>    0.251</td>\n",
       "</tr>\n",
       "<tr>\n",
       "  <th>ar.L7</th>  <td>    0.1564</td> <td>    0.102</td> <td>    1.539</td> <td> 0.124</td> <td>   -0.043</td> <td>    0.356</td>\n",
       "</tr>\n",
       "<tr>\n",
       "  <th>ar.L8</th>  <td>   -0.2262</td> <td>    0.101</td> <td>   -2.240</td> <td> 0.025</td> <td>   -0.424</td> <td>   -0.028</td>\n",
       "</tr>\n",
       "<tr>\n",
       "  <th>ar.L9</th>  <td>   -0.1011</td> <td>    0.095</td> <td>   -1.060</td> <td> 0.289</td> <td>   -0.288</td> <td>    0.086</td>\n",
       "</tr>\n",
       "<tr>\n",
       "  <th>ar.L10</th> <td>    0.3409</td> <td>    0.061</td> <td>    5.552</td> <td> 0.000</td> <td>    0.221</td> <td>    0.461</td>\n",
       "</tr>\n",
       "<tr>\n",
       "  <th>sigma2</th> <td>   11.1521</td> <td>    0.795</td> <td>   14.021</td> <td> 0.000</td> <td>    9.593</td> <td>   12.711</td>\n",
       "</tr>\n",
       "</table>\n",
       "<table class=\"simpletable\">\n",
       "<tr>\n",
       "  <th>Ljung-Box (L1) (Q):</th>     <td>9.13</td> <th>  Jarque-Bera (JB):  </th> <td>40.99</td>\n",
       "</tr>\n",
       "<tr>\n",
       "  <th>Prob(Q):</th>                <td>0.00</td> <th>  Prob(JB):          </th> <td>0.00</td> \n",
       "</tr>\n",
       "<tr>\n",
       "  <th>Heteroskedasticity (H):</th> <td>2.15</td> <th>  Skew:              </th> <td>0.47</td> \n",
       "</tr>\n",
       "<tr>\n",
       "  <th>Prob(H) (two-sided):</th>    <td>0.00</td> <th>  Kurtosis:          </th> <td>4.49</td> \n",
       "</tr>\n",
       "</table><br/><br/>Warnings:<br/>[1] Covariance matrix calculated using the outer product of gradients (complex-step)."
      ],
      "text/plain": [
       "<class 'statsmodels.iolib.summary.Summary'>\n",
       "\"\"\"\n",
       "                               SARIMAX Results                                \n",
       "==============================================================================\n",
       "Dep. Variable:                   WATT   No. Observations:                  317\n",
       "Model:                ARIMA(10, 0, 0)   Log Likelihood                -836.384\n",
       "Date:                Fri, 20 Jan 2023   AIC                           1696.769\n",
       "Time:                        04:18:08   BIC                           1741.875\n",
       "Sample:                    01-01-1985   HQIC                          1714.787\n",
       "                         - 05-01-2011                                         \n",
       "Covariance Type:                  opg                                         \n",
       "==============================================================================\n",
       "                 coef    std err          z      P>|z|      [0.025      0.975]\n",
       "------------------------------------------------------------------------------\n",
       "const         85.3283     21.450      3.978      0.000      43.286     127.370\n",
       "ar.L1          0.9061      0.052     17.261      0.000       0.803       1.009\n",
       "ar.L2         -0.3045      0.078     -3.909      0.000      -0.457      -0.152\n",
       "ar.L3         -0.0092      0.083     -0.111      0.911      -0.171       0.153\n",
       "ar.L4         -0.0612      0.090     -0.684      0.494      -0.237       0.114\n",
       "ar.L5          0.2288      0.091      2.516      0.012       0.051       0.407\n",
       "ar.L6          0.0648      0.095      0.682      0.496      -0.122       0.251\n",
       "ar.L7          0.1564      0.102      1.539      0.124      -0.043       0.356\n",
       "ar.L8         -0.2262      0.101     -2.240      0.025      -0.424      -0.028\n",
       "ar.L9         -0.1011      0.095     -1.060      0.289      -0.288       0.086\n",
       "ar.L10         0.3409      0.061      5.552      0.000       0.221       0.461\n",
       "sigma2        11.1521      0.795     14.021      0.000       9.593      12.711\n",
       "===================================================================================\n",
       "Ljung-Box (L1) (Q):                   9.13   Jarque-Bera (JB):                40.99\n",
       "Prob(Q):                              0.00   Prob(JB):                         0.00\n",
       "Heteroskedasticity (H):               2.15   Skew:                             0.47\n",
       "Prob(H) (two-sided):                  0.00   Kurtosis:                         4.49\n",
       "===================================================================================\n",
       "\n",
       "Warnings:\n",
       "[1] Covariance matrix calculated using the outer product of gradients (complex-step).\n",
       "\"\"\""
      ]
     },
     "execution_count": 35,
     "metadata": {},
     "output_type": "execute_result"
    }
   ],
   "source": [
    "ar_model_10 = ARIMA(df_train['WATT'], order=(10,0,0))\n",
    "res_model_10 = ar_model_10.fit()\n",
    "res_model_10.summary()"
   ]
  },
  {
   "cell_type": "code",
   "execution_count": 36,
   "id": "d43c8e59",
   "metadata": {},
   "outputs": [
    {
     "data": {
      "text/html": [
       "<table class=\"simpletable\">\n",
       "<caption>SARIMAX Results</caption>\n",
       "<tr>\n",
       "  <th>Dep. Variable:</th>         <td>WATT</td>       <th>  No. Observations:  </th>    <td>317</td>  \n",
       "</tr>\n",
       "<tr>\n",
       "  <th>Model:</th>            <td>ARIMA(10, 0, 0)</td> <th>  Log Likelihood     </th> <td>-836.384</td>\n",
       "</tr>\n",
       "<tr>\n",
       "  <th>Date:</th>            <td>Fri, 20 Jan 2023</td> <th>  AIC                </th> <td>1696.769</td>\n",
       "</tr>\n",
       "<tr>\n",
       "  <th>Time:</th>                <td>04:18:11</td>     <th>  BIC                </th> <td>1741.875</td>\n",
       "</tr>\n",
       "<tr>\n",
       "  <th>Sample:</th>             <td>01-01-1985</td>    <th>  HQIC               </th> <td>1714.787</td>\n",
       "</tr>\n",
       "<tr>\n",
       "  <th></th>                   <td>- 05-01-2011</td>   <th>                     </th>     <td> </td>   \n",
       "</tr>\n",
       "<tr>\n",
       "  <th>Covariance Type:</th>        <td>opg</td>       <th>                     </th>     <td> </td>   \n",
       "</tr>\n",
       "</table>\n",
       "<table class=\"simpletable\">\n",
       "<tr>\n",
       "     <td></td>       <th>coef</th>     <th>std err</th>      <th>z</th>      <th>P>|z|</th>  <th>[0.025</th>    <th>0.975]</th>  \n",
       "</tr>\n",
       "<tr>\n",
       "  <th>const</th>  <td>   85.3283</td> <td>   21.450</td> <td>    3.978</td> <td> 0.000</td> <td>   43.286</td> <td>  127.370</td>\n",
       "</tr>\n",
       "<tr>\n",
       "  <th>ar.L1</th>  <td>    0.9061</td> <td>    0.052</td> <td>   17.261</td> <td> 0.000</td> <td>    0.803</td> <td>    1.009</td>\n",
       "</tr>\n",
       "<tr>\n",
       "  <th>ar.L2</th>  <td>   -0.3045</td> <td>    0.078</td> <td>   -3.909</td> <td> 0.000</td> <td>   -0.457</td> <td>   -0.152</td>\n",
       "</tr>\n",
       "<tr>\n",
       "  <th>ar.L3</th>  <td>   -0.0092</td> <td>    0.083</td> <td>   -0.111</td> <td> 0.911</td> <td>   -0.171</td> <td>    0.153</td>\n",
       "</tr>\n",
       "<tr>\n",
       "  <th>ar.L4</th>  <td>   -0.0612</td> <td>    0.090</td> <td>   -0.684</td> <td> 0.494</td> <td>   -0.237</td> <td>    0.114</td>\n",
       "</tr>\n",
       "<tr>\n",
       "  <th>ar.L5</th>  <td>    0.2288</td> <td>    0.091</td> <td>    2.516</td> <td> 0.012</td> <td>    0.051</td> <td>    0.407</td>\n",
       "</tr>\n",
       "<tr>\n",
       "  <th>ar.L6</th>  <td>    0.0648</td> <td>    0.095</td> <td>    0.682</td> <td> 0.496</td> <td>   -0.122</td> <td>    0.251</td>\n",
       "</tr>\n",
       "<tr>\n",
       "  <th>ar.L7</th>  <td>    0.1564</td> <td>    0.102</td> <td>    1.539</td> <td> 0.124</td> <td>   -0.043</td> <td>    0.356</td>\n",
       "</tr>\n",
       "<tr>\n",
       "  <th>ar.L8</th>  <td>   -0.2262</td> <td>    0.101</td> <td>   -2.240</td> <td> 0.025</td> <td>   -0.424</td> <td>   -0.028</td>\n",
       "</tr>\n",
       "<tr>\n",
       "  <th>ar.L9</th>  <td>   -0.1011</td> <td>    0.095</td> <td>   -1.060</td> <td> 0.289</td> <td>   -0.288</td> <td>    0.086</td>\n",
       "</tr>\n",
       "<tr>\n",
       "  <th>ar.L10</th> <td>    0.3409</td> <td>    0.061</td> <td>    5.552</td> <td> 0.000</td> <td>    0.221</td> <td>    0.461</td>\n",
       "</tr>\n",
       "<tr>\n",
       "  <th>sigma2</th> <td>   11.1521</td> <td>    0.795</td> <td>   14.021</td> <td> 0.000</td> <td>    9.593</td> <td>   12.711</td>\n",
       "</tr>\n",
       "</table>\n",
       "<table class=\"simpletable\">\n",
       "<tr>\n",
       "  <th>Ljung-Box (L1) (Q):</th>     <td>9.13</td> <th>  Jarque-Bera (JB):  </th> <td>40.99</td>\n",
       "</tr>\n",
       "<tr>\n",
       "  <th>Prob(Q):</th>                <td>0.00</td> <th>  Prob(JB):          </th> <td>0.00</td> \n",
       "</tr>\n",
       "<tr>\n",
       "  <th>Heteroskedasticity (H):</th> <td>2.15</td> <th>  Skew:              </th> <td>0.47</td> \n",
       "</tr>\n",
       "<tr>\n",
       "  <th>Prob(H) (two-sided):</th>    <td>0.00</td> <th>  Kurtosis:          </th> <td>4.49</td> \n",
       "</tr>\n",
       "</table><br/><br/>Warnings:<br/>[1] Covariance matrix calculated using the outer product of gradients (complex-step)."
      ],
      "text/plain": [
       "<class 'statsmodels.iolib.summary.Summary'>\n",
       "\"\"\"\n",
       "                               SARIMAX Results                                \n",
       "==============================================================================\n",
       "Dep. Variable:                   WATT   No. Observations:                  317\n",
       "Model:                ARIMA(10, 0, 0)   Log Likelihood                -836.384\n",
       "Date:                Fri, 20 Jan 2023   AIC                           1696.769\n",
       "Time:                        04:18:11   BIC                           1741.875\n",
       "Sample:                    01-01-1985   HQIC                          1714.787\n",
       "                         - 05-01-2011                                         \n",
       "Covariance Type:                  opg                                         \n",
       "==============================================================================\n",
       "                 coef    std err          z      P>|z|      [0.025      0.975]\n",
       "------------------------------------------------------------------------------\n",
       "const         85.3283     21.450      3.978      0.000      43.286     127.370\n",
       "ar.L1          0.9061      0.052     17.261      0.000       0.803       1.009\n",
       "ar.L2         -0.3045      0.078     -3.909      0.000      -0.457      -0.152\n",
       "ar.L3         -0.0092      0.083     -0.111      0.911      -0.171       0.153\n",
       "ar.L4         -0.0612      0.090     -0.684      0.494      -0.237       0.114\n",
       "ar.L5          0.2288      0.091      2.516      0.012       0.051       0.407\n",
       "ar.L6          0.0648      0.095      0.682      0.496      -0.122       0.251\n",
       "ar.L7          0.1564      0.102      1.539      0.124      -0.043       0.356\n",
       "ar.L8         -0.2262      0.101     -2.240      0.025      -0.424      -0.028\n",
       "ar.L9         -0.1011      0.095     -1.060      0.289      -0.288       0.086\n",
       "ar.L10         0.3409      0.061      5.552      0.000       0.221       0.461\n",
       "sigma2        11.1521      0.795     14.021      0.000       9.593      12.711\n",
       "===================================================================================\n",
       "Ljung-Box (L1) (Q):                   9.13   Jarque-Bera (JB):                40.99\n",
       "Prob(Q):                              0.00   Prob(JB):                         0.00\n",
       "Heteroskedasticity (H):               2.15   Skew:                             0.47\n",
       "Prob(H) (two-sided):                  0.00   Kurtosis:                         4.49\n",
       "===================================================================================\n",
       "\n",
       "Warnings:\n",
       "[1] Covariance matrix calculated using the outer product of gradients (complex-step).\n",
       "\"\"\""
      ]
     },
     "execution_count": 36,
     "metadata": {},
     "output_type": "execute_result"
    }
   ],
   "source": [
    "ar_model_11 = ARIMA(df_train['WATT'], order=(11,0,0))\n",
    "res_model_11 = ar_model_10.fit()\n",
    "res_model_11.summary()"
   ]
  },
  {
   "cell_type": "code",
   "execution_count": 37,
   "id": "efb6a1b6",
   "metadata": {},
   "outputs": [
    {
     "data": {
      "text/html": [
       "<table class=\"simpletable\">\n",
       "<caption>SARIMAX Results</caption>\n",
       "<tr>\n",
       "  <th>Dep. Variable:</th>         <td>WATT</td>       <th>  No. Observations:  </th>    <td>317</td>  \n",
       "</tr>\n",
       "<tr>\n",
       "  <th>Model:</th>            <td>ARIMA(12, 0, 0)</td> <th>  Log Likelihood     </th> <td>-773.932</td>\n",
       "</tr>\n",
       "<tr>\n",
       "  <th>Date:</th>            <td>Fri, 20 Jan 2023</td> <th>  AIC                </th> <td>1575.864</td>\n",
       "</tr>\n",
       "<tr>\n",
       "  <th>Time:</th>                <td>04:18:15</td>     <th>  BIC                </th> <td>1628.488</td>\n",
       "</tr>\n",
       "<tr>\n",
       "  <th>Sample:</th>             <td>01-01-1985</td>    <th>  HQIC               </th> <td>1596.884</td>\n",
       "</tr>\n",
       "<tr>\n",
       "  <th></th>                   <td>- 05-01-2011</td>   <th>                     </th>     <td> </td>   \n",
       "</tr>\n",
       "<tr>\n",
       "  <th>Covariance Type:</th>        <td>opg</td>       <th>                     </th>     <td> </td>   \n",
       "</tr>\n",
       "</table>\n",
       "<table class=\"simpletable\">\n",
       "<tr>\n",
       "     <td></td>       <th>coef</th>     <th>std err</th>      <th>z</th>      <th>P>|z|</th>  <th>[0.025</th>    <th>0.975]</th>  \n",
       "</tr>\n",
       "<tr>\n",
       "  <th>const</th>  <td>   85.3381</td> <td>   26.618</td> <td>    3.206</td> <td> 0.001</td> <td>   33.168</td> <td>  137.508</td>\n",
       "</tr>\n",
       "<tr>\n",
       "  <th>ar.L1</th>  <td>    0.5699</td> <td>    0.048</td> <td>   11.798</td> <td> 0.000</td> <td>    0.475</td> <td>    0.665</td>\n",
       "</tr>\n",
       "<tr>\n",
       "  <th>ar.L2</th>  <td>   -0.2202</td> <td>    0.066</td> <td>   -3.331</td> <td> 0.001</td> <td>   -0.350</td> <td>   -0.091</td>\n",
       "</tr>\n",
       "<tr>\n",
       "  <th>ar.L3</th>  <td>    0.0738</td> <td>    0.074</td> <td>    0.998</td> <td> 0.318</td> <td>   -0.071</td> <td>    0.219</td>\n",
       "</tr>\n",
       "<tr>\n",
       "  <th>ar.L4</th>  <td>   -0.0533</td> <td>    0.072</td> <td>   -0.745</td> <td> 0.456</td> <td>   -0.193</td> <td>    0.087</td>\n",
       "</tr>\n",
       "<tr>\n",
       "  <th>ar.L5</th>  <td>    0.1391</td> <td>    0.064</td> <td>    2.175</td> <td> 0.030</td> <td>    0.014</td> <td>    0.264</td>\n",
       "</tr>\n",
       "<tr>\n",
       "  <th>ar.L6</th>  <td>   -0.0353</td> <td>    0.065</td> <td>   -0.545</td> <td> 0.586</td> <td>   -0.162</td> <td>    0.092</td>\n",
       "</tr>\n",
       "<tr>\n",
       "  <th>ar.L7</th>  <td>    0.1000</td> <td>    0.075</td> <td>    1.327</td> <td> 0.184</td> <td>   -0.048</td> <td>    0.248</td>\n",
       "</tr>\n",
       "<tr>\n",
       "  <th>ar.L8</th>  <td>   -0.1564</td> <td>    0.080</td> <td>   -1.943</td> <td> 0.052</td> <td>   -0.314</td> <td>    0.001</td>\n",
       "</tr>\n",
       "<tr>\n",
       "  <th>ar.L9</th>  <td>    0.0108</td> <td>    0.070</td> <td>    0.155</td> <td> 0.877</td> <td>   -0.126</td> <td>    0.148</td>\n",
       "</tr>\n",
       "<tr>\n",
       "  <th>ar.L10</th> <td>   -0.0122</td> <td>    0.059</td> <td>   -0.208</td> <td> 0.836</td> <td>   -0.127</td> <td>    0.103</td>\n",
       "</tr>\n",
       "<tr>\n",
       "  <th>ar.L11</th> <td>    0.2105</td> <td>    0.052</td> <td>    4.033</td> <td> 0.000</td> <td>    0.108</td> <td>    0.313</td>\n",
       "</tr>\n",
       "<tr>\n",
       "  <th>ar.L12</th> <td>    0.3716</td> <td>    0.054</td> <td>    6.859</td> <td> 0.000</td> <td>    0.265</td> <td>    0.478</td>\n",
       "</tr>\n",
       "<tr>\n",
       "  <th>sigma2</th> <td>    7.3840</td> <td>    0.544</td> <td>   13.569</td> <td> 0.000</td> <td>    6.317</td> <td>    8.450</td>\n",
       "</tr>\n",
       "</table>\n",
       "<table class=\"simpletable\">\n",
       "<tr>\n",
       "  <th>Ljung-Box (L1) (Q):</th>     <td>1.18</td> <th>  Jarque-Bera (JB):  </th> <td>7.08</td>\n",
       "</tr>\n",
       "<tr>\n",
       "  <th>Prob(Q):</th>                <td>0.28</td> <th>  Prob(JB):          </th> <td>0.03</td>\n",
       "</tr>\n",
       "<tr>\n",
       "  <th>Heteroskedasticity (H):</th> <td>1.96</td> <th>  Skew:              </th> <td>0.01</td>\n",
       "</tr>\n",
       "<tr>\n",
       "  <th>Prob(H) (two-sided):</th>    <td>0.00</td> <th>  Kurtosis:          </th> <td>3.73</td>\n",
       "</tr>\n",
       "</table><br/><br/>Warnings:<br/>[1] Covariance matrix calculated using the outer product of gradients (complex-step)."
      ],
      "text/plain": [
       "<class 'statsmodels.iolib.summary.Summary'>\n",
       "\"\"\"\n",
       "                               SARIMAX Results                                \n",
       "==============================================================================\n",
       "Dep. Variable:                   WATT   No. Observations:                  317\n",
       "Model:                ARIMA(12, 0, 0)   Log Likelihood                -773.932\n",
       "Date:                Fri, 20 Jan 2023   AIC                           1575.864\n",
       "Time:                        04:18:15   BIC                           1628.488\n",
       "Sample:                    01-01-1985   HQIC                          1596.884\n",
       "                         - 05-01-2011                                         \n",
       "Covariance Type:                  opg                                         \n",
       "==============================================================================\n",
       "                 coef    std err          z      P>|z|      [0.025      0.975]\n",
       "------------------------------------------------------------------------------\n",
       "const         85.3381     26.618      3.206      0.001      33.168     137.508\n",
       "ar.L1          0.5699      0.048     11.798      0.000       0.475       0.665\n",
       "ar.L2         -0.2202      0.066     -3.331      0.001      -0.350      -0.091\n",
       "ar.L3          0.0738      0.074      0.998      0.318      -0.071       0.219\n",
       "ar.L4         -0.0533      0.072     -0.745      0.456      -0.193       0.087\n",
       "ar.L5          0.1391      0.064      2.175      0.030       0.014       0.264\n",
       "ar.L6         -0.0353      0.065     -0.545      0.586      -0.162       0.092\n",
       "ar.L7          0.1000      0.075      1.327      0.184      -0.048       0.248\n",
       "ar.L8         -0.1564      0.080     -1.943      0.052      -0.314       0.001\n",
       "ar.L9          0.0108      0.070      0.155      0.877      -0.126       0.148\n",
       "ar.L10        -0.0122      0.059     -0.208      0.836      -0.127       0.103\n",
       "ar.L11         0.2105      0.052      4.033      0.000       0.108       0.313\n",
       "ar.L12         0.3716      0.054      6.859      0.000       0.265       0.478\n",
       "sigma2         7.3840      0.544     13.569      0.000       6.317       8.450\n",
       "===================================================================================\n",
       "Ljung-Box (L1) (Q):                   1.18   Jarque-Bera (JB):                 7.08\n",
       "Prob(Q):                              0.28   Prob(JB):                         0.03\n",
       "Heteroskedasticity (H):               1.96   Skew:                             0.01\n",
       "Prob(H) (two-sided):                  0.00   Kurtosis:                         3.73\n",
       "===================================================================================\n",
       "\n",
       "Warnings:\n",
       "[1] Covariance matrix calculated using the outer product of gradients (complex-step).\n",
       "\"\"\""
      ]
     },
     "execution_count": 37,
     "metadata": {},
     "output_type": "execute_result"
    }
   ],
   "source": [
    "ar_model_12 = ARIMA(df_train['WATT'], order=(12,0,0))\n",
    "res_model_12 = ar_model_12.fit()\n",
    "res_model_12.summary()"
   ]
  },
  {
   "cell_type": "code",
   "execution_count": 38,
   "id": "4bda55d9",
   "metadata": {},
   "outputs": [
    {
     "data": {
      "text/html": [
       "<table class=\"simpletable\">\n",
       "<caption>SARIMAX Results</caption>\n",
       "<tr>\n",
       "  <th>Dep. Variable:</th>         <td>WATT</td>       <th>  No. Observations:  </th>    <td>317</td>  \n",
       "</tr>\n",
       "<tr>\n",
       "  <th>Model:</th>            <td>ARIMA(13, 0, 0)</td> <th>  Log Likelihood     </th> <td>-745.684</td>\n",
       "</tr>\n",
       "<tr>\n",
       "  <th>Date:</th>            <td>Fri, 20 Jan 2023</td> <th>  AIC                </th> <td>1521.368</td>\n",
       "</tr>\n",
       "<tr>\n",
       "  <th>Time:</th>                <td>04:18:19</td>     <th>  BIC                </th> <td>1577.751</td>\n",
       "</tr>\n",
       "<tr>\n",
       "  <th>Sample:</th>             <td>01-01-1985</td>    <th>  HQIC               </th> <td>1543.890</td>\n",
       "</tr>\n",
       "<tr>\n",
       "  <th></th>                   <td>- 05-01-2011</td>   <th>                     </th>     <td> </td>   \n",
       "</tr>\n",
       "<tr>\n",
       "  <th>Covariance Type:</th>        <td>opg</td>       <th>                     </th>     <td> </td>   \n",
       "</tr>\n",
       "</table>\n",
       "<table class=\"simpletable\">\n",
       "<tr>\n",
       "     <td></td>       <th>coef</th>     <th>std err</th>      <th>z</th>      <th>P>|z|</th>  <th>[0.025</th>    <th>0.975]</th>  \n",
       "</tr>\n",
       "<tr>\n",
       "  <th>const</th>  <td>   85.3393</td> <td>   16.179</td> <td>    5.275</td> <td> 0.000</td> <td>   53.629</td> <td>  117.049</td>\n",
       "</tr>\n",
       "<tr>\n",
       "  <th>ar.L1</th>  <td>    0.7178</td> <td>    0.049</td> <td>   14.727</td> <td> 0.000</td> <td>    0.622</td> <td>    0.813</td>\n",
       "</tr>\n",
       "<tr>\n",
       "  <th>ar.L2</th>  <td>   -0.1310</td> <td>    0.061</td> <td>   -2.152</td> <td> 0.031</td> <td>   -0.250</td> <td>   -0.012</td>\n",
       "</tr>\n",
       "<tr>\n",
       "  <th>ar.L3</th>  <td>    0.0696</td> <td>    0.066</td> <td>    1.058</td> <td> 0.290</td> <td>   -0.059</td> <td>    0.199</td>\n",
       "</tr>\n",
       "<tr>\n",
       "  <th>ar.L4</th>  <td>   -0.0547</td> <td>    0.063</td> <td>   -0.865</td> <td> 0.387</td> <td>   -0.179</td> <td>    0.069</td>\n",
       "</tr>\n",
       "<tr>\n",
       "  <th>ar.L5</th>  <td>    0.0813</td> <td>    0.059</td> <td>    1.373</td> <td> 0.170</td> <td>   -0.035</td> <td>    0.197</td>\n",
       "</tr>\n",
       "<tr>\n",
       "  <th>ar.L6</th>  <td>    0.0097</td> <td>    0.060</td> <td>    0.161</td> <td> 0.872</td> <td>   -0.109</td> <td>    0.128</td>\n",
       "</tr>\n",
       "<tr>\n",
       "  <th>ar.L7</th>  <td>    0.0749</td> <td>    0.070</td> <td>    1.070</td> <td> 0.285</td> <td>   -0.062</td> <td>    0.212</td>\n",
       "</tr>\n",
       "<tr>\n",
       "  <th>ar.L8</th>  <td>   -0.0879</td> <td>    0.076</td> <td>   -1.159</td> <td> 0.247</td> <td>   -0.237</td> <td>    0.061</td>\n",
       "</tr>\n",
       "<tr>\n",
       "  <th>ar.L9</th>  <td>   -0.0123</td> <td>    0.066</td> <td>   -0.186</td> <td> 0.853</td> <td>   -0.142</td> <td>    0.117</td>\n",
       "</tr>\n",
       "<tr>\n",
       "  <th>ar.L10</th> <td>    0.0150</td> <td>    0.055</td> <td>    0.274</td> <td> 0.784</td> <td>   -0.093</td> <td>    0.123</td>\n",
       "</tr>\n",
       "<tr>\n",
       "  <th>ar.L11</th> <td>    0.1185</td> <td>    0.050</td> <td>    2.359</td> <td> 0.018</td> <td>    0.020</td> <td>    0.217</td>\n",
       "</tr>\n",
       "<tr>\n",
       "  <th>ar.L12</th> <td>    0.6104</td> <td>    0.054</td> <td>   11.392</td> <td> 0.000</td> <td>    0.505</td> <td>    0.715</td>\n",
       "</tr>\n",
       "<tr>\n",
       "  <th>ar.L13</th> <td>   -0.4151</td> <td>    0.049</td> <td>   -8.555</td> <td> 0.000</td> <td>   -0.510</td> <td>   -0.320</td>\n",
       "</tr>\n",
       "<tr>\n",
       "  <th>sigma2</th> <td>    6.2238</td> <td>    0.441</td> <td>   14.115</td> <td> 0.000</td> <td>    5.360</td> <td>    7.088</td>\n",
       "</tr>\n",
       "</table>\n",
       "<table class=\"simpletable\">\n",
       "<tr>\n",
       "  <th>Ljung-Box (L1) (Q):</th>     <td>1.39</td> <th>  Jarque-Bera (JB):  </th> <td>8.76</td>\n",
       "</tr>\n",
       "<tr>\n",
       "  <th>Prob(Q):</th>                <td>0.24</td> <th>  Prob(JB):          </th> <td>0.01</td>\n",
       "</tr>\n",
       "<tr>\n",
       "  <th>Heteroskedasticity (H):</th> <td>2.28</td> <th>  Skew:              </th> <td>0.12</td>\n",
       "</tr>\n",
       "<tr>\n",
       "  <th>Prob(H) (two-sided):</th>    <td>0.00</td> <th>  Kurtosis:          </th> <td>3.78</td>\n",
       "</tr>\n",
       "</table><br/><br/>Warnings:<br/>[1] Covariance matrix calculated using the outer product of gradients (complex-step)."
      ],
      "text/plain": [
       "<class 'statsmodels.iolib.summary.Summary'>\n",
       "\"\"\"\n",
       "                               SARIMAX Results                                \n",
       "==============================================================================\n",
       "Dep. Variable:                   WATT   No. Observations:                  317\n",
       "Model:                ARIMA(13, 0, 0)   Log Likelihood                -745.684\n",
       "Date:                Fri, 20 Jan 2023   AIC                           1521.368\n",
       "Time:                        04:18:19   BIC                           1577.751\n",
       "Sample:                    01-01-1985   HQIC                          1543.890\n",
       "                         - 05-01-2011                                         \n",
       "Covariance Type:                  opg                                         \n",
       "==============================================================================\n",
       "                 coef    std err          z      P>|z|      [0.025      0.975]\n",
       "------------------------------------------------------------------------------\n",
       "const         85.3393     16.179      5.275      0.000      53.629     117.049\n",
       "ar.L1          0.7178      0.049     14.727      0.000       0.622       0.813\n",
       "ar.L2         -0.1310      0.061     -2.152      0.031      -0.250      -0.012\n",
       "ar.L3          0.0696      0.066      1.058      0.290      -0.059       0.199\n",
       "ar.L4         -0.0547      0.063     -0.865      0.387      -0.179       0.069\n",
       "ar.L5          0.0813      0.059      1.373      0.170      -0.035       0.197\n",
       "ar.L6          0.0097      0.060      0.161      0.872      -0.109       0.128\n",
       "ar.L7          0.0749      0.070      1.070      0.285      -0.062       0.212\n",
       "ar.L8         -0.0879      0.076     -1.159      0.247      -0.237       0.061\n",
       "ar.L9         -0.0123      0.066     -0.186      0.853      -0.142       0.117\n",
       "ar.L10         0.0150      0.055      0.274      0.784      -0.093       0.123\n",
       "ar.L11         0.1185      0.050      2.359      0.018       0.020       0.217\n",
       "ar.L12         0.6104      0.054     11.392      0.000       0.505       0.715\n",
       "ar.L13        -0.4151      0.049     -8.555      0.000      -0.510      -0.320\n",
       "sigma2         6.2238      0.441     14.115      0.000       5.360       7.088\n",
       "===================================================================================\n",
       "Ljung-Box (L1) (Q):                   1.39   Jarque-Bera (JB):                 8.76\n",
       "Prob(Q):                              0.24   Prob(JB):                         0.01\n",
       "Heteroskedasticity (H):               2.28   Skew:                             0.12\n",
       "Prob(H) (two-sided):                  0.00   Kurtosis:                         3.78\n",
       "===================================================================================\n",
       "\n",
       "Warnings:\n",
       "[1] Covariance matrix calculated using the outer product of gradients (complex-step).\n",
       "\"\"\""
      ]
     },
     "execution_count": 38,
     "metadata": {},
     "output_type": "execute_result"
    }
   ],
   "source": [
    "ar_model_13 = ARIMA(df_train['WATT'], order=(13,0,0))\n",
    "res_model_13 = ar_model_13.fit()\n",
    "res_model_13.summary()"
   ]
  },
  {
   "cell_type": "code",
   "execution_count": 39,
   "id": "edd1cc5a",
   "metadata": {},
   "outputs": [
    {
     "data": {
      "text/html": [
       "<table class=\"simpletable\">\n",
       "<caption>SARIMAX Results</caption>\n",
       "<tr>\n",
       "  <th>Dep. Variable:</th>         <td>WATT</td>       <th>  No. Observations:  </th>    <td>317</td>  \n",
       "</tr>\n",
       "<tr>\n",
       "  <th>Model:</th>            <td>ARIMA(14, 0, 0)</td> <th>  Log Likelihood     </th> <td>-744.957</td>\n",
       "</tr>\n",
       "<tr>\n",
       "  <th>Date:</th>            <td>Fri, 20 Jan 2023</td> <th>  AIC                </th> <td>1521.915</td>\n",
       "</tr>\n",
       "<tr>\n",
       "  <th>Time:</th>                <td>04:18:24</td>     <th>  BIC                </th> <td>1582.057</td>\n",
       "</tr>\n",
       "<tr>\n",
       "  <th>Sample:</th>             <td>01-01-1985</td>    <th>  HQIC               </th> <td>1545.939</td>\n",
       "</tr>\n",
       "<tr>\n",
       "  <th></th>                   <td>- 05-01-2011</td>   <th>                     </th>     <td> </td>   \n",
       "</tr>\n",
       "<tr>\n",
       "  <th>Covariance Type:</th>        <td>opg</td>       <th>                     </th>     <td> </td>   \n",
       "</tr>\n",
       "</table>\n",
       "<table class=\"simpletable\">\n",
       "<tr>\n",
       "     <td></td>       <th>coef</th>     <th>std err</th>      <th>z</th>      <th>P>|z|</th>  <th>[0.025</th>    <th>0.975]</th>  \n",
       "</tr>\n",
       "<tr>\n",
       "  <th>const</th>  <td>   85.3409</td> <td>   13.086</td> <td>    6.522</td> <td> 0.000</td> <td>   59.694</td> <td>  110.988</td>\n",
       "</tr>\n",
       "<tr>\n",
       "  <th>ar.L1</th>  <td>    0.6821</td> <td>    0.051</td> <td>   13.453</td> <td> 0.000</td> <td>    0.583</td> <td>    0.781</td>\n",
       "</tr>\n",
       "<tr>\n",
       "  <th>ar.L2</th>  <td>   -0.0692</td> <td>    0.068</td> <td>   -1.019</td> <td> 0.308</td> <td>   -0.202</td> <td>    0.064</td>\n",
       "</tr>\n",
       "<tr>\n",
       "  <th>ar.L3</th>  <td>    0.0834</td> <td>    0.064</td> <td>    1.293</td> <td> 0.196</td> <td>   -0.043</td> <td>    0.210</td>\n",
       "</tr>\n",
       "<tr>\n",
       "  <th>ar.L4</th>  <td>   -0.0649</td> <td>    0.062</td> <td>   -1.055</td> <td> 0.292</td> <td>   -0.185</td> <td>    0.056</td>\n",
       "</tr>\n",
       "<tr>\n",
       "  <th>ar.L5</th>  <td>    0.0949</td> <td>    0.058</td> <td>    1.629</td> <td> 0.103</td> <td>   -0.019</td> <td>    0.209</td>\n",
       "</tr>\n",
       "<tr>\n",
       "  <th>ar.L6</th>  <td>   -0.0156</td> <td>    0.059</td> <td>   -0.263</td> <td> 0.792</td> <td>   -0.132</td> <td>    0.100</td>\n",
       "</tr>\n",
       "<tr>\n",
       "  <th>ar.L7</th>  <td>    0.0952</td> <td>    0.068</td> <td>    1.390</td> <td> 0.165</td> <td>   -0.039</td> <td>    0.229</td>\n",
       "</tr>\n",
       "<tr>\n",
       "  <th>ar.L8</th>  <td>   -0.0885</td> <td>    0.074</td> <td>   -1.198</td> <td> 0.231</td> <td>   -0.233</td> <td>    0.056</td>\n",
       "</tr>\n",
       "<tr>\n",
       "  <th>ar.L9</th>  <td>    0.0106</td> <td>    0.064</td> <td>    0.165</td> <td> 0.869</td> <td>   -0.115</td> <td>    0.136</td>\n",
       "</tr>\n",
       "<tr>\n",
       "  <th>ar.L10</th> <td>   -0.0013</td> <td>    0.054</td> <td>   -0.024</td> <td> 0.981</td> <td>   -0.108</td> <td>    0.105</td>\n",
       "</tr>\n",
       "<tr>\n",
       "  <th>ar.L11</th> <td>    0.1253</td> <td>    0.050</td> <td>    2.503</td> <td> 0.012</td> <td>    0.027</td> <td>    0.223</td>\n",
       "</tr>\n",
       "<tr>\n",
       "  <th>ar.L12</th> <td>    0.6106</td> <td>    0.053</td> <td>   11.478</td> <td> 0.000</td> <td>    0.506</td> <td>    0.715</td>\n",
       "</tr>\n",
       "<tr>\n",
       "  <th>ar.L13</th> <td>   -0.3663</td> <td>    0.057</td> <td>   -6.409</td> <td> 0.000</td> <td>   -0.478</td> <td>   -0.254</td>\n",
       "</tr>\n",
       "<tr>\n",
       "  <th>ar.L14</th> <td>   -0.1015</td> <td>    0.056</td> <td>   -1.808</td> <td> 0.071</td> <td>   -0.211</td> <td>    0.009</td>\n",
       "</tr>\n",
       "<tr>\n",
       "  <th>sigma2</th> <td>    6.0789</td> <td>    0.424</td> <td>   14.350</td> <td> 0.000</td> <td>    5.249</td> <td>    6.909</td>\n",
       "</tr>\n",
       "</table>\n",
       "<table class=\"simpletable\">\n",
       "<tr>\n",
       "  <th>Ljung-Box (L1) (Q):</th>     <td>0.42</td> <th>  Jarque-Bera (JB):  </th> <td>8.53</td>\n",
       "</tr>\n",
       "<tr>\n",
       "  <th>Prob(Q):</th>                <td>0.52</td> <th>  Prob(JB):          </th> <td>0.01</td>\n",
       "</tr>\n",
       "<tr>\n",
       "  <th>Heteroskedasticity (H):</th> <td>2.35</td> <th>  Skew:              </th> <td>0.16</td>\n",
       "</tr>\n",
       "<tr>\n",
       "  <th>Prob(H) (two-sided):</th>    <td>0.00</td> <th>  Kurtosis:          </th> <td>3.73</td>\n",
       "</tr>\n",
       "</table><br/><br/>Warnings:<br/>[1] Covariance matrix calculated using the outer product of gradients (complex-step)."
      ],
      "text/plain": [
       "<class 'statsmodels.iolib.summary.Summary'>\n",
       "\"\"\"\n",
       "                               SARIMAX Results                                \n",
       "==============================================================================\n",
       "Dep. Variable:                   WATT   No. Observations:                  317\n",
       "Model:                ARIMA(14, 0, 0)   Log Likelihood                -744.957\n",
       "Date:                Fri, 20 Jan 2023   AIC                           1521.915\n",
       "Time:                        04:18:24   BIC                           1582.057\n",
       "Sample:                    01-01-1985   HQIC                          1545.939\n",
       "                         - 05-01-2011                                         \n",
       "Covariance Type:                  opg                                         \n",
       "==============================================================================\n",
       "                 coef    std err          z      P>|z|      [0.025      0.975]\n",
       "------------------------------------------------------------------------------\n",
       "const         85.3409     13.086      6.522      0.000      59.694     110.988\n",
       "ar.L1          0.6821      0.051     13.453      0.000       0.583       0.781\n",
       "ar.L2         -0.0692      0.068     -1.019      0.308      -0.202       0.064\n",
       "ar.L3          0.0834      0.064      1.293      0.196      -0.043       0.210\n",
       "ar.L4         -0.0649      0.062     -1.055      0.292      -0.185       0.056\n",
       "ar.L5          0.0949      0.058      1.629      0.103      -0.019       0.209\n",
       "ar.L6         -0.0156      0.059     -0.263      0.792      -0.132       0.100\n",
       "ar.L7          0.0952      0.068      1.390      0.165      -0.039       0.229\n",
       "ar.L8         -0.0885      0.074     -1.198      0.231      -0.233       0.056\n",
       "ar.L9          0.0106      0.064      0.165      0.869      -0.115       0.136\n",
       "ar.L10        -0.0013      0.054     -0.024      0.981      -0.108       0.105\n",
       "ar.L11         0.1253      0.050      2.503      0.012       0.027       0.223\n",
       "ar.L12         0.6106      0.053     11.478      0.000       0.506       0.715\n",
       "ar.L13        -0.3663      0.057     -6.409      0.000      -0.478      -0.254\n",
       "ar.L14        -0.1015      0.056     -1.808      0.071      -0.211       0.009\n",
       "sigma2         6.0789      0.424     14.350      0.000       5.249       6.909\n",
       "===================================================================================\n",
       "Ljung-Box (L1) (Q):                   0.42   Jarque-Bera (JB):                 8.53\n",
       "Prob(Q):                              0.52   Prob(JB):                         0.01\n",
       "Heteroskedasticity (H):               2.35   Skew:                             0.16\n",
       "Prob(H) (two-sided):                  0.00   Kurtosis:                         3.73\n",
       "===================================================================================\n",
       "\n",
       "Warnings:\n",
       "[1] Covariance matrix calculated using the outer product of gradients (complex-step).\n",
       "\"\"\""
      ]
     },
     "execution_count": 39,
     "metadata": {},
     "output_type": "execute_result"
    }
   ],
   "source": [
    "ar_model_14 = ARIMA(df_train['WATT'], order=(14,0,0))\n",
    "res_model_14 = ar_model_14.fit()\n",
    "res_model_14.summary()"
   ]
  },
  {
   "cell_type": "code",
   "execution_count": 40,
   "id": "ce32449f",
   "metadata": {},
   "outputs": [
    {
     "data": {
      "text/plain": [
       "0.0"
      ]
     },
     "execution_count": 40,
     "metadata": {},
     "output_type": "execute_result"
    }
   ],
   "source": [
    "LLR_test(ar_model_3, ar_model_4)"
   ]
  },
  {
   "cell_type": "code",
   "execution_count": 41,
   "id": "a11dbcb0",
   "metadata": {},
   "outputs": [
    {
     "data": {
      "text/plain": [
       "0.0"
      ]
     },
     "execution_count": 41,
     "metadata": {},
     "output_type": "execute_result"
    }
   ],
   "source": [
    "LLR_test(ar_model_4, ar_model_5)"
   ]
  },
  {
   "cell_type": "code",
   "execution_count": 42,
   "id": "14c5fb27",
   "metadata": {},
   "outputs": [
    {
     "data": {
      "text/plain": [
       "0.362"
      ]
     },
     "execution_count": 42,
     "metadata": {},
     "output_type": "execute_result"
    }
   ],
   "source": [
    "LLR_test(ar_model_5, ar_model_6)"
   ]
  },
  {
   "cell_type": "code",
   "execution_count": 43,
   "id": "0f59f26d",
   "metadata": {},
   "outputs": [
    {
     "data": {
      "text/plain": [
       "0.236"
      ]
     },
     "execution_count": 43,
     "metadata": {},
     "output_type": "execute_result"
    }
   ],
   "source": [
    "LLR_test(ar_model_6, ar_model_7)"
   ]
  },
  {
   "cell_type": "code",
   "execution_count": 44,
   "id": "925a59d5",
   "metadata": {},
   "outputs": [
    {
     "data": {
      "text/plain": [
       "0.012"
      ]
     },
     "execution_count": 44,
     "metadata": {},
     "output_type": "execute_result"
    }
   ],
   "source": [
    "LLR_test(ar_model_7, ar_model_8)"
   ]
  },
  {
   "cell_type": "code",
   "execution_count": 45,
   "id": "f05104bc",
   "metadata": {},
   "outputs": [
    {
     "data": {
      "text/plain": [
       "0.0"
      ]
     },
     "execution_count": 45,
     "metadata": {},
     "output_type": "execute_result"
    }
   ],
   "source": [
    "LLR_test(ar_model_8, ar_model_9)"
   ]
  },
  {
   "cell_type": "code",
   "execution_count": 46,
   "id": "2759873f",
   "metadata": {},
   "outputs": [
    {
     "data": {
      "text/plain": [
       "0.0"
      ]
     },
     "execution_count": 46,
     "metadata": {},
     "output_type": "execute_result"
    }
   ],
   "source": [
    "LLR_test(ar_model_9, ar_model_10)"
   ]
  },
  {
   "cell_type": "code",
   "execution_count": 47,
   "id": "2469ee99",
   "metadata": {},
   "outputs": [
    {
     "data": {
      "text/plain": [
       "0.0"
      ]
     },
     "execution_count": 47,
     "metadata": {},
     "output_type": "execute_result"
    }
   ],
   "source": [
    "LLR_test(ar_model_10, ar_model_11)"
   ]
  },
  {
   "cell_type": "code",
   "execution_count": 48,
   "id": "124b592d",
   "metadata": {},
   "outputs": [
    {
     "data": {
      "text/plain": [
       "0.0"
      ]
     },
     "execution_count": 48,
     "metadata": {},
     "output_type": "execute_result"
    }
   ],
   "source": [
    "LLR_test(ar_model_11, ar_model_12)"
   ]
  },
  {
   "cell_type": "code",
   "execution_count": 49,
   "id": "91457ab0",
   "metadata": {},
   "outputs": [
    {
     "data": {
      "text/plain": [
       "0.0"
      ]
     },
     "execution_count": 49,
     "metadata": {},
     "output_type": "execute_result"
    }
   ],
   "source": [
    "LLR_test(ar_model_12, ar_model_13)"
   ]
  },
  {
   "cell_type": "code",
   "execution_count": 50,
   "id": "a6d8e2df",
   "metadata": {},
   "outputs": [
    {
     "data": {
      "text/plain": [
       "0.228"
      ]
     },
     "execution_count": 50,
     "metadata": {},
     "output_type": "execute_result"
    }
   ],
   "source": [
    "LLR_test(ar_model_13, ar_model_14)"
   ]
  },
  {
   "cell_type": "code",
   "execution_count": 51,
   "id": "a133f386",
   "metadata": {},
   "outputs": [
    {
     "data": {
      "text/plain": [
       "0.036"
      ]
     },
     "execution_count": 51,
     "metadata": {},
     "output_type": "execute_result"
    }
   ],
   "source": [
    "LLR_test(ar_model_5, ar_model_8, DF=3)"
   ]
  },
  {
   "cell_type": "code",
   "execution_count": 52,
   "id": "66084edb",
   "metadata": {},
   "outputs": [
    {
     "data": {
      "text/plain": [
       "0.0"
      ]
     },
     "execution_count": 52,
     "metadata": {},
     "output_type": "execute_result"
    }
   ],
   "source": [
    "LLR_test(ar_model_8, ar_model_13, DF=5)"
   ]
  },
  {
   "cell_type": "code",
   "execution_count": 53,
   "id": "5f1c2ab4",
   "metadata": {},
   "outputs": [
    {
     "name": "stdout",
     "output_type": "stream",
     "text": [
      "ARIMA(5,0,0) -867.5020278145232 1749.0040556290464\n",
      "ARIMA(5,0,0) -863.2233759573653 1746.4467519147306\n",
      "ARIMA(13,0,0) -745.6837764948953 1521.3675529897905\n"
     ]
    }
   ],
   "source": [
    "print('ARIMA(5,0,0)', res_model_5.llf, res_model_5.aic)\n",
    "print('ARIMA(5,0,0)', res_model_8.llf, res_model_8.aic)\n",
    "print('ARIMA(13,0,0)', res_model_13.llf, res_model_13.aic)"
   ]
  },
  {
   "cell_type": "code",
   "execution_count": 54,
   "id": "4ddf5d10",
   "metadata": {},
   "outputs": [],
   "source": [
    "df_train['Res_WATT'] = res_model_5.resid"
   ]
  },
  {
   "cell_type": "code",
   "execution_count": 55,
   "id": "0bb364a5",
   "metadata": {},
   "outputs": [
    {
     "data": {
      "text/plain": [
       "0.18183220899934147"
      ]
     },
     "execution_count": 55,
     "metadata": {},
     "output_type": "execute_result"
    }
   ],
   "source": [
    "df_train['Res_WATT'].mean()"
   ]
  },
  {
   "cell_type": "code",
   "execution_count": 56,
   "id": "86ec6f7c",
   "metadata": {},
   "outputs": [
    {
     "data": {
      "text/plain": [
       "14.414157519052791"
      ]
     },
     "execution_count": 56,
     "metadata": {},
     "output_type": "execute_result"
    }
   ],
   "source": [
    "df_train['Res_WATT'].var()"
   ]
  },
  {
   "cell_type": "code",
   "execution_count": 57,
   "id": "b20d9f4a",
   "metadata": {},
   "outputs": [
    {
     "data": {
      "image/png": "[encoded data removed]",
      "text/plain": [
       "<Figure size 432x288 with 1 Axes>"
      ]
     },
     "metadata": {
      "needs_background": "light"
     },
     "output_type": "display_data"
    }
   ],
   "source": [
    "df_train['Res_WATT'].plot()\n",
    "plt.show()"
   ]
  },
  {
   "cell_type": "code",
   "execution_count": 58,
   "id": "a5185505",
   "metadata": {},
   "outputs": [
    {
     "data": {
      "image/png": "[encoded data removed]",
      "text/plain": [
       "<Figure size 432x288 with 1 Axes>"
      ]
     },
     "metadata": {
      "needs_background": "light"
     },
     "output_type": "display_data"
    }
   ],
   "source": [
    "plot_acf(df_train['Res_WATT'], lags=40, zero=False)\n",
    "plt.show()"
   ]
  },
  {
   "cell_type": "code",
   "execution_count": 59,
   "id": "10d58e4c",
   "metadata": {},
   "outputs": [],
   "source": [
    "df_train['Res_WATT'] = res_model_8.resid"
   ]
  },
  {
   "cell_type": "code",
   "execution_count": 60,
   "id": "72ec206c",
   "metadata": {},
   "outputs": [
    {
     "data": {
      "text/plain": [
       "0.1336984216214386"
      ]
     },
     "execution_count": 60,
     "metadata": {},
     "output_type": "execute_result"
    }
   ],
   "source": [
    "df_train['Res_WATT'].mean()"
   ]
  },
  {
   "cell_type": "code",
   "execution_count": 61,
   "id": "a63a2214",
   "metadata": {},
   "outputs": [
    {
     "data": {
      "text/plain": [
       "14.07659217283475"
      ]
     },
     "execution_count": 61,
     "metadata": {},
     "output_type": "execute_result"
    }
   ],
   "source": [
    "df_train['Res_WATT'].var()"
   ]
  },
  {
   "cell_type": "code",
   "execution_count": 62,
   "id": "7ca7b50f",
   "metadata": {},
   "outputs": [
    {
     "data": {
      "image/png": "[encoded data removed]",
      "text/plain": [
       "<Figure size 432x288 with 1 Axes>"
      ]
     },
     "metadata": {
      "needs_background": "light"
     },
     "output_type": "display_data"
    }
   ],
   "source": [
    "df_train['Res_WATT'].plot()\n",
    "plt.show()"
   ]
  },
  {
   "cell_type": "code",
   "execution_count": 63,
   "id": "4791222f",
   "metadata": {},
   "outputs": [
    {
     "data": {
      "image/png": "[encoded data removed]",
      "text/plain": [
       "<Figure size 432x288 with 1 Axes>"
      ]
     },
     "metadata": {
      "needs_background": "light"
     },
     "output_type": "display_data"
    }
   ],
   "source": [
    "plot_acf(df_train['Res_WATT'], lags=40, zero=False)\n",
    "plt.show()"
   ]
  },
  {
   "cell_type": "code",
   "execution_count": 64,
   "id": "21a03200",
   "metadata": {},
   "outputs": [],
   "source": [
    "df_train['Res_WATT'] = res_model_13.resid"
   ]
  },
  {
   "cell_type": "code",
   "execution_count": 65,
   "id": "f6103a96",
   "metadata": {},
   "outputs": [
    {
     "data": {
      "text/plain": [
       "0.3847293209266994"
      ]
     },
     "execution_count": 65,
     "metadata": {},
     "output_type": "execute_result"
    }
   ],
   "source": [
    "df_train['Res_WATT'].mean()"
   ]
  },
  {
   "cell_type": "code",
   "execution_count": 66,
   "id": "e08c2265",
   "metadata": {},
   "outputs": [
    {
     "data": {
      "text/plain": [
       "6.970002623105895"
      ]
     },
     "execution_count": 66,
     "metadata": {},
     "output_type": "execute_result"
    }
   ],
   "source": [
    "df_train['Res_WATT'].var()"
   ]
  },
  {
   "cell_type": "code",
   "execution_count": 67,
   "id": "02be76e8",
   "metadata": {},
   "outputs": [
    {
     "data": {
      "image/png": "[encoded data removed]",
      "text/plain": [
       "<Figure size 432x288 with 1 Axes>"
      ]
     },
     "metadata": {
      "needs_background": "light"
     },
     "output_type": "display_data"
    }
   ],
   "source": [
    "df_train['Res_WATT'].plot()\n",
    "plt.show()"
   ]
  },
  {
   "cell_type": "code",
   "execution_count": 68,
   "id": "a8677455",
   "metadata": {},
   "outputs": [
    {
     "data": {
      "image/png": "[encoded data removed]",
      "text/plain": [
       "<Figure size 432x288 with 1 Axes>"
      ]
     },
     "metadata": {
      "needs_background": "light"
     },
     "output_type": "display_data"
    }
   ],
   "source": [
    "plot_acf(df_train['Res_WATT'], lags=40, zero=False)\n",
    "plt.show()"
   ]
  },
  {
   "cell_type": "code",
   "execution_count": 69,
   "id": "16dfa3c8",
   "metadata": {},
   "outputs": [],
   "source": [
    "df_train['Ret_WATT'] = df_train['WATT'].pct_change(1).mul(100)"
   ]
  },
  {
   "cell_type": "code",
   "execution_count": 70,
   "id": "4fcc2472",
   "metadata": {},
   "outputs": [
    {
     "data": {
      "text/plain": [
       "(-5.949740601572993,\n",
       " 2.1613774605766873e-07,\n",
       " 13,\n",
       " 302,\n",
       " {'1%': -3.4521902441030963,\n",
       "  '5%': -2.871158406898617,\n",
       "  '10%': -2.5718948388228586},\n",
       " 1461.7034782771798)"
      ]
     },
     "execution_count": 70,
     "metadata": {},
     "output_type": "execute_result"
    }
   ],
   "source": [
    "adfuller(df_train['Ret_WATT'].iloc[1:])"
   ]
  },
  {
   "cell_type": "code",
   "execution_count": 71,
   "id": "d0d90c0f",
   "metadata": {},
   "outputs": [
    {
     "data": {
      "image/png": "[encoded data removed]",
      "text/plain": [
       "<Figure size 1440x360 with 1 Axes>"
      ]
     },
     "metadata": {
      "needs_background": "light"
     },
     "output_type": "display_data"
    }
   ],
   "source": [
    "plt.figure(figsize=(20, 5))\n",
    "df_train['WATT'].plot(title='EB Consume')\n",
    "df_train['Ret_WATT'].iloc[1:].plot(title='Returns')\n",
    "plt.legend()\n",
    "plt.show()"
   ]
  },
  {
   "cell_type": "code",
   "execution_count": 72,
   "id": "f98fbd0d",
   "metadata": {},
   "outputs": [
    {
     "data": {
      "image/png": "[encoded data removed]",
      "text/plain": [
       "<Figure size 432x288 with 1 Axes>"
      ]
     },
     "metadata": {
      "needs_background": "light"
     },
     "output_type": "display_data"
    }
   ],
   "source": [
    "plot_acf(df_train['Ret_WATT'].iloc[1:], lags=40, zero=False)\n",
    "plt.show()"
   ]
  },
  {
   "cell_type": "code",
   "execution_count": 73,
   "id": "763f472d",
   "metadata": {},
   "outputs": [
    {
     "data": {
      "text/html": [
       "<table class=\"simpletable\">\n",
       "<caption>SARIMAX Results</caption>\n",
       "<tr>\n",
       "  <th>Dep. Variable:</th>       <td>Ret_WATT</td>     <th>  No. Observations:  </th>    <td>316</td>   \n",
       "</tr>\n",
       "<tr>\n",
       "  <th>Model:</th>            <td>ARIMA(1, 0, 0)</td>  <th>  Log Likelihood     </th> <td>-1092.490</td>\n",
       "</tr>\n",
       "<tr>\n",
       "  <th>Date:</th>            <td>Fri, 20 Jan 2023</td> <th>  AIC                </th> <td>2190.979</td> \n",
       "</tr>\n",
       "<tr>\n",
       "  <th>Time:</th>                <td>04:19:28</td>     <th>  BIC                </th> <td>2202.247</td> \n",
       "</tr>\n",
       "<tr>\n",
       "  <th>Sample:</th>             <td>02-01-1985</td>    <th>  HQIC               </th> <td>2195.481</td> \n",
       "</tr>\n",
       "<tr>\n",
       "  <th></th>                   <td>- 05-01-2011</td>   <th>                     </th>     <td> </td>    \n",
       "</tr>\n",
       "<tr>\n",
       "  <th>Covariance Type:</th>        <td>opg</td>       <th>                     </th>     <td> </td>    \n",
       "</tr>\n",
       "</table>\n",
       "<table class=\"simpletable\">\n",
       "<tr>\n",
       "     <td></td>       <th>coef</th>     <th>std err</th>      <th>z</th>      <th>P>|z|</th>  <th>[0.025</th>    <th>0.975]</th>  \n",
       "</tr>\n",
       "<tr>\n",
       "  <th>const</th>  <td>    0.4060</td> <td>    0.738</td> <td>    0.550</td> <td> 0.582</td> <td>   -1.041</td> <td>    1.853</td>\n",
       "</tr>\n",
       "<tr>\n",
       "  <th>ar.L1</th>  <td>    0.3818</td> <td>    0.071</td> <td>    5.377</td> <td> 0.000</td> <td>    0.243</td> <td>    0.521</td>\n",
       "</tr>\n",
       "<tr>\n",
       "  <th>sigma2</th> <td>   58.9140</td> <td>    5.653</td> <td>   10.421</td> <td> 0.000</td> <td>   47.834</td> <td>   69.994</td>\n",
       "</tr>\n",
       "</table>\n",
       "<table class=\"simpletable\">\n",
       "<tr>\n",
       "  <th>Ljung-Box (L1) (Q):</th>     <td>21.96</td> <th>  Jarque-Bera (JB):  </th> <td>7.77</td>\n",
       "</tr>\n",
       "<tr>\n",
       "  <th>Prob(Q):</th>                <td>0.00</td>  <th>  Prob(JB):          </th> <td>0.02</td>\n",
       "</tr>\n",
       "<tr>\n",
       "  <th>Heteroskedasticity (H):</th> <td>1.46</td>  <th>  Skew:              </th> <td>0.28</td>\n",
       "</tr>\n",
       "<tr>\n",
       "  <th>Prob(H) (two-sided):</th>    <td>0.05</td>  <th>  Kurtosis:          </th> <td>2.48</td>\n",
       "</tr>\n",
       "</table><br/><br/>Warnings:<br/>[1] Covariance matrix calculated using the outer product of gradients (complex-step)."
      ],
      "text/plain": [
       "<class 'statsmodels.iolib.summary.Summary'>\n",
       "\"\"\"\n",
       "                               SARIMAX Results                                \n",
       "==============================================================================\n",
       "Dep. Variable:               Ret_WATT   No. Observations:                  316\n",
       "Model:                 ARIMA(1, 0, 0)   Log Likelihood               -1092.490\n",
       "Date:                Fri, 20 Jan 2023   AIC                           2190.979\n",
       "Time:                        04:19:28   BIC                           2202.247\n",
       "Sample:                    02-01-1985   HQIC                          2195.481\n",
       "                         - 05-01-2011                                         \n",
       "Covariance Type:                  opg                                         \n",
       "==============================================================================\n",
       "                 coef    std err          z      P>|z|      [0.025      0.975]\n",
       "------------------------------------------------------------------------------\n",
       "const          0.4060      0.738      0.550      0.582      -1.041       1.853\n",
       "ar.L1          0.3818      0.071      5.377      0.000       0.243       0.521\n",
       "sigma2        58.9140      5.653     10.421      0.000      47.834      69.994\n",
       "===================================================================================\n",
       "Ljung-Box (L1) (Q):                  21.96   Jarque-Bera (JB):                 7.77\n",
       "Prob(Q):                              0.00   Prob(JB):                         0.02\n",
       "Heteroskedasticity (H):               1.46   Skew:                             0.28\n",
       "Prob(H) (two-sided):                  0.05   Kurtosis:                         2.48\n",
       "===================================================================================\n",
       "\n",
       "Warnings:\n",
       "[1] Covariance matrix calculated using the outer product of gradients (complex-step).\n",
       "\"\"\""
      ]
     },
     "execution_count": 73,
     "metadata": {},
     "output_type": "execute_result"
    }
   ],
   "source": [
    "model_ret_ar_1 = ARIMA(df_train['Ret_WATT'].iloc[1:], order=(1,0,0))\n",
    "res_ret_ar_1 = model_ret_ar_1.fit()\n",
    "res_ret_ar_1.summary()"
   ]
  },
  {
   "cell_type": "code",
   "execution_count": 74,
   "id": "7e186450",
   "metadata": {},
   "outputs": [
    {
     "data": {
      "text/html": [
       "<table class=\"simpletable\">\n",
       "<caption>SARIMAX Results</caption>\n",
       "<tr>\n",
       "  <th>Dep. Variable:</th>       <td>Ret_WATT</td>     <th>  No. Observations:  </th>    <td>317</td>  \n",
       "</tr>\n",
       "<tr>\n",
       "  <th>Model:</th>            <td>ARIMA(2, 0, 0)</td>  <th>  Log Likelihood     </th> <td>-991.597</td>\n",
       "</tr>\n",
       "<tr>\n",
       "  <th>Date:</th>            <td>Fri, 20 Jan 2023</td> <th>  AIC                </th> <td>1991.194</td>\n",
       "</tr>\n",
       "<tr>\n",
       "  <th>Time:</th>                <td>04:19:28</td>     <th>  BIC                </th> <td>2006.229</td>\n",
       "</tr>\n",
       "<tr>\n",
       "  <th>Sample:</th>             <td>01-01-1985</td>    <th>  HQIC               </th> <td>1997.200</td>\n",
       "</tr>\n",
       "<tr>\n",
       "  <th></th>                   <td>- 05-01-2011</td>   <th>                     </th>     <td> </td>   \n",
       "</tr>\n",
       "<tr>\n",
       "  <th>Covariance Type:</th>        <td>opg</td>       <th>                     </th>     <td> </td>   \n",
       "</tr>\n",
       "</table>\n",
       "<table class=\"simpletable\">\n",
       "<tr>\n",
       "     <td></td>       <th>coef</th>     <th>std err</th>      <th>z</th>      <th>P>|z|</th>  <th>[0.025</th>    <th>0.975]</th>  \n",
       "</tr>\n",
       "<tr>\n",
       "  <th>const</th>  <td>    0.4545</td> <td>    0.320</td> <td>    1.421</td> <td> 0.155</td> <td>   -0.172</td> <td>    1.081</td>\n",
       "</tr>\n",
       "<tr>\n",
       "  <th>ar.L1</th>  <td>    0.6453</td> <td>    0.041</td> <td>   15.633</td> <td> 0.000</td> <td>    0.564</td> <td>    0.726</td>\n",
       "</tr>\n",
       "<tr>\n",
       "  <th>ar.L2</th>  <td>   -0.6885</td> <td>    0.041</td> <td>  -16.731</td> <td> 0.000</td> <td>   -0.769</td> <td>   -0.608</td>\n",
       "</tr>\n",
       "<tr>\n",
       "  <th>sigma2</th> <td>   30.9899</td> <td>    2.143</td> <td>   14.460</td> <td> 0.000</td> <td>   26.789</td> <td>   35.190</td>\n",
       "</tr>\n",
       "</table>\n",
       "<table class=\"simpletable\">\n",
       "<tr>\n",
       "  <th>Ljung-Box (L1) (Q):</th>     <td>40.64</td> <th>  Jarque-Bera (JB):  </th> <td>20.75</td>\n",
       "</tr>\n",
       "<tr>\n",
       "  <th>Prob(Q):</th>                <td>0.00</td>  <th>  Prob(JB):          </th> <td>0.00</td> \n",
       "</tr>\n",
       "<tr>\n",
       "  <th>Heteroskedasticity (H):</th> <td>1.62</td>  <th>  Skew:              </th> <td>-0.41</td>\n",
       "</tr>\n",
       "<tr>\n",
       "  <th>Prob(H) (two-sided):</th>    <td>0.01</td>  <th>  Kurtosis:          </th> <td>3.96</td> \n",
       "</tr>\n",
       "</table><br/><br/>Warnings:<br/>[1] Covariance matrix calculated using the outer product of gradients (complex-step)."
      ],
      "text/plain": [
       "<class 'statsmodels.iolib.summary.Summary'>\n",
       "\"\"\"\n",
       "                               SARIMAX Results                                \n",
       "==============================================================================\n",
       "Dep. Variable:               Ret_WATT   No. Observations:                  317\n",
       "Model:                 ARIMA(2, 0, 0)   Log Likelihood                -991.597\n",
       "Date:                Fri, 20 Jan 2023   AIC                           1991.194\n",
       "Time:                        04:19:28   BIC                           2006.229\n",
       "Sample:                    01-01-1985   HQIC                          1997.200\n",
       "                         - 05-01-2011                                         \n",
       "Covariance Type:                  opg                                         \n",
       "==============================================================================\n",
       "                 coef    std err          z      P>|z|      [0.025      0.975]\n",
       "------------------------------------------------------------------------------\n",
       "const          0.4545      0.320      1.421      0.155      -0.172       1.081\n",
       "ar.L1          0.6453      0.041     15.633      0.000       0.564       0.726\n",
       "ar.L2         -0.6885      0.041    -16.731      0.000      -0.769      -0.608\n",
       "sigma2        30.9899      2.143     14.460      0.000      26.789      35.190\n",
       "===================================================================================\n",
       "Ljung-Box (L1) (Q):                  40.64   Jarque-Bera (JB):                20.75\n",
       "Prob(Q):                              0.00   Prob(JB):                         0.00\n",
       "Heteroskedasticity (H):               1.62   Skew:                            -0.41\n",
       "Prob(H) (two-sided):                  0.01   Kurtosis:                         3.96\n",
       "===================================================================================\n",
       "\n",
       "Warnings:\n",
       "[1] Covariance matrix calculated using the outer product of gradients (complex-step).\n",
       "\"\"\""
      ]
     },
     "execution_count": 74,
     "metadata": {},
     "output_type": "execute_result"
    }
   ],
   "source": [
    "model_ret_ar_2 = ARIMA(df_train['Ret_WATT'], order=(2,0,0))\n",
    "res_ret_ar_2 = model_ret_ar_2.fit()\n",
    "res_ret_ar_2.summary()"
   ]
  },
  {
   "cell_type": "code",
   "execution_count": 75,
   "id": "dc3ba32a",
   "metadata": {},
   "outputs": [
    {
     "data": {
      "text/html": [
       "<table class=\"simpletable\">\n",
       "<caption>SARIMAX Results</caption>\n",
       "<tr>\n",
       "  <th>Dep. Variable:</th>       <td>Ret_WATT</td>     <th>  No. Observations:  </th>    <td>317</td>  \n",
       "</tr>\n",
       "<tr>\n",
       "  <th>Model:</th>            <td>ARIMA(3, 0, 0)</td>  <th>  Log Likelihood     </th> <td>-941.381</td>\n",
       "</tr>\n",
       "<tr>\n",
       "  <th>Date:</th>            <td>Fri, 20 Jan 2023</td> <th>  AIC                </th> <td>1892.762</td>\n",
       "</tr>\n",
       "<tr>\n",
       "  <th>Time:</th>                <td>04:19:28</td>     <th>  BIC                </th> <td>1911.556</td>\n",
       "</tr>\n",
       "<tr>\n",
       "  <th>Sample:</th>             <td>01-01-1985</td>    <th>  HQIC               </th> <td>1900.269</td>\n",
       "</tr>\n",
       "<tr>\n",
       "  <th></th>                   <td>- 05-01-2011</td>   <th>                     </th>     <td> </td>   \n",
       "</tr>\n",
       "<tr>\n",
       "  <th>Covariance Type:</th>        <td>opg</td>       <th>                     </th>     <td> </td>   \n",
       "</tr>\n",
       "</table>\n",
       "<table class=\"simpletable\">\n",
       "<tr>\n",
       "     <td></td>       <th>coef</th>     <th>std err</th>      <th>z</th>      <th>P>|z|</th>  <th>[0.025</th>    <th>0.975]</th>  \n",
       "</tr>\n",
       "<tr>\n",
       "  <th>const</th>  <td>    0.4669</td> <td>    0.178</td> <td>    2.621</td> <td> 0.009</td> <td>    0.118</td> <td>    0.816</td>\n",
       "</tr>\n",
       "<tr>\n",
       "  <th>ar.L1</th>  <td>    0.2858</td> <td>    0.045</td> <td>    6.284</td> <td> 0.000</td> <td>    0.197</td> <td>    0.375</td>\n",
       "</tr>\n",
       "<tr>\n",
       "  <th>ar.L2</th>  <td>   -0.3525</td> <td>    0.045</td> <td>   -7.918</td> <td> 0.000</td> <td>   -0.440</td> <td>   -0.265</td>\n",
       "</tr>\n",
       "<tr>\n",
       "  <th>ar.L3</th>  <td>   -0.5225</td> <td>    0.043</td> <td>  -12.046</td> <td> 0.000</td> <td>   -0.608</td> <td>   -0.437</td>\n",
       "</tr>\n",
       "<tr>\n",
       "  <th>sigma2</th> <td>   22.4795</td> <td>    1.633</td> <td>   13.764</td> <td> 0.000</td> <td>   19.278</td> <td>   25.681</td>\n",
       "</tr>\n",
       "</table>\n",
       "<table class=\"simpletable\">\n",
       "<tr>\n",
       "  <th>Ljung-Box (L1) (Q):</th>     <td>17.33</td> <th>  Jarque-Bera (JB):  </th> <td>3.80</td>\n",
       "</tr>\n",
       "<tr>\n",
       "  <th>Prob(Q):</th>                <td>0.00</td>  <th>  Prob(JB):          </th> <td>0.15</td>\n",
       "</tr>\n",
       "<tr>\n",
       "  <th>Heteroskedasticity (H):</th> <td>1.37</td>  <th>  Skew:              </th> <td>0.02</td>\n",
       "</tr>\n",
       "<tr>\n",
       "  <th>Prob(H) (two-sided):</th>    <td>0.11</td>  <th>  Kurtosis:          </th> <td>3.53</td>\n",
       "</tr>\n",
       "</table><br/><br/>Warnings:<br/>[1] Covariance matrix calculated using the outer product of gradients (complex-step)."
      ],
      "text/plain": [
       "<class 'statsmodels.iolib.summary.Summary'>\n",
       "\"\"\"\n",
       "                               SARIMAX Results                                \n",
       "==============================================================================\n",
       "Dep. Variable:               Ret_WATT   No. Observations:                  317\n",
       "Model:                 ARIMA(3, 0, 0)   Log Likelihood                -941.381\n",
       "Date:                Fri, 20 Jan 2023   AIC                           1892.762\n",
       "Time:                        04:19:28   BIC                           1911.556\n",
       "Sample:                    01-01-1985   HQIC                          1900.269\n",
       "                         - 05-01-2011                                         \n",
       "Covariance Type:                  opg                                         \n",
       "==============================================================================\n",
       "                 coef    std err          z      P>|z|      [0.025      0.975]\n",
       "------------------------------------------------------------------------------\n",
       "const          0.4669      0.178      2.621      0.009       0.118       0.816\n",
       "ar.L1          0.2858      0.045      6.284      0.000       0.197       0.375\n",
       "ar.L2         -0.3525      0.045     -7.918      0.000      -0.440      -0.265\n",
       "ar.L3         -0.5225      0.043    -12.046      0.000      -0.608      -0.437\n",
       "sigma2        22.4795      1.633     13.764      0.000      19.278      25.681\n",
       "===================================================================================\n",
       "Ljung-Box (L1) (Q):                  17.33   Jarque-Bera (JB):                 3.80\n",
       "Prob(Q):                              0.00   Prob(JB):                         0.15\n",
       "Heteroskedasticity (H):               1.37   Skew:                             0.02\n",
       "Prob(H) (two-sided):                  0.11   Kurtosis:                         3.53\n",
       "===================================================================================\n",
       "\n",
       "Warnings:\n",
       "[1] Covariance matrix calculated using the outer product of gradients (complex-step).\n",
       "\"\"\""
      ]
     },
     "execution_count": 75,
     "metadata": {},
     "output_type": "execute_result"
    }
   ],
   "source": [
    "model_ret_ar_3 = ARIMA(df_train['Ret_WATT'], order=(3,0,0))\n",
    "res_ret_ar_3 = model_ret_ar_3.fit()\n",
    "res_ret_ar_3.summary()"
   ]
  },
  {
   "cell_type": "code",
   "execution_count": 76,
   "id": "a49311e3",
   "metadata": {},
   "outputs": [
    {
     "data": {
      "text/html": [
       "<table class=\"simpletable\">\n",
       "<caption>SARIMAX Results</caption>\n",
       "<tr>\n",
       "  <th>Dep. Variable:</th>       <td>Ret_WATT</td>     <th>  No. Observations:  </th>    <td>317</td>  \n",
       "</tr>\n",
       "<tr>\n",
       "  <th>Model:</th>            <td>ARIMA(4, 0, 0)</td>  <th>  Log Likelihood     </th> <td>-904.754</td>\n",
       "</tr>\n",
       "<tr>\n",
       "  <th>Date:</th>            <td>Fri, 20 Jan 2023</td> <th>  AIC                </th> <td>1821.509</td>\n",
       "</tr>\n",
       "<tr>\n",
       "  <th>Time:</th>                <td>04:19:29</td>     <th>  BIC                </th> <td>1844.062</td>\n",
       "</tr>\n",
       "<tr>\n",
       "  <th>Sample:</th>             <td>01-01-1985</td>    <th>  HQIC               </th> <td>1830.518</td>\n",
       "</tr>\n",
       "<tr>\n",
       "  <th></th>                   <td>- 05-01-2011</td>   <th>                     </th>     <td> </td>   \n",
       "</tr>\n",
       "<tr>\n",
       "  <th>Covariance Type:</th>        <td>opg</td>       <th>                     </th>     <td> </td>   \n",
       "</tr>\n",
       "</table>\n",
       "<table class=\"simpletable\">\n",
       "<tr>\n",
       "     <td></td>       <th>coef</th>     <th>std err</th>      <th>z</th>      <th>P>|z|</th>  <th>[0.025</th>    <th>0.975]</th>  \n",
       "</tr>\n",
       "<tr>\n",
       "  <th>const</th>  <td>    0.4828</td> <td>    0.112</td> <td>    4.301</td> <td> 0.000</td> <td>    0.263</td> <td>    0.703</td>\n",
       "</tr>\n",
       "<tr>\n",
       "  <th>ar.L1</th>  <td>    0.0438</td> <td>    0.047</td> <td>    0.936</td> <td> 0.349</td> <td>   -0.048</td> <td>    0.135</td>\n",
       "</tr>\n",
       "<tr>\n",
       "  <th>ar.L2</th>  <td>   -0.5174</td> <td>    0.054</td> <td>   -9.661</td> <td> 0.000</td> <td>   -0.622</td> <td>   -0.412</td>\n",
       "</tr>\n",
       "<tr>\n",
       "  <th>ar.L3</th>  <td>   -0.3942</td> <td>    0.048</td> <td>   -8.162</td> <td> 0.000</td> <td>   -0.489</td> <td>   -0.300</td>\n",
       "</tr>\n",
       "<tr>\n",
       "  <th>ar.L4</th>  <td>   -0.4612</td> <td>    0.057</td> <td>   -8.052</td> <td> 0.000</td> <td>   -0.573</td> <td>   -0.349</td>\n",
       "</tr>\n",
       "<tr>\n",
       "  <th>sigma2</th> <td>   17.7722</td> <td>    1.267</td> <td>   14.023</td> <td> 0.000</td> <td>   15.288</td> <td>   20.256</td>\n",
       "</tr>\n",
       "</table>\n",
       "<table class=\"simpletable\">\n",
       "<tr>\n",
       "  <th>Ljung-Box (L1) (Q):</th>     <td>0.06</td> <th>  Jarque-Bera (JB):  </th> <td>27.32</td>\n",
       "</tr>\n",
       "<tr>\n",
       "  <th>Prob(Q):</th>                <td>0.80</td> <th>  Prob(JB):          </th> <td>0.00</td> \n",
       "</tr>\n",
       "<tr>\n",
       "  <th>Heteroskedasticity (H):</th> <td>0.98</td> <th>  Skew:              </th> <td>0.54</td> \n",
       "</tr>\n",
       "<tr>\n",
       "  <th>Prob(H) (two-sided):</th>    <td>0.93</td> <th>  Kurtosis:          </th> <td>3.96</td> \n",
       "</tr>\n",
       "</table><br/><br/>Warnings:<br/>[1] Covariance matrix calculated using the outer product of gradients (complex-step)."
      ],
      "text/plain": [
       "<class 'statsmodels.iolib.summary.Summary'>\n",
       "\"\"\"\n",
       "                               SARIMAX Results                                \n",
       "==============================================================================\n",
       "Dep. Variable:               Ret_WATT   No. Observations:                  317\n",
       "Model:                 ARIMA(4, 0, 0)   Log Likelihood                -904.754\n",
       "Date:                Fri, 20 Jan 2023   AIC                           1821.509\n",
       "Time:                        04:19:29   BIC                           1844.062\n",
       "Sample:                    01-01-1985   HQIC                          1830.518\n",
       "                         - 05-01-2011                                         \n",
       "Covariance Type:                  opg                                         \n",
       "==============================================================================\n",
       "                 coef    std err          z      P>|z|      [0.025      0.975]\n",
       "------------------------------------------------------------------------------\n",
       "const          0.4828      0.112      4.301      0.000       0.263       0.703\n",
       "ar.L1          0.0438      0.047      0.936      0.349      -0.048       0.135\n",
       "ar.L2         -0.5174      0.054     -9.661      0.000      -0.622      -0.412\n",
       "ar.L3         -0.3942      0.048     -8.162      0.000      -0.489      -0.300\n",
       "ar.L4         -0.4612      0.057     -8.052      0.000      -0.573      -0.349\n",
       "sigma2        17.7722      1.267     14.023      0.000      15.288      20.256\n",
       "===================================================================================\n",
       "Ljung-Box (L1) (Q):                   0.06   Jarque-Bera (JB):                27.32\n",
       "Prob(Q):                              0.80   Prob(JB):                         0.00\n",
       "Heteroskedasticity (H):               0.98   Skew:                             0.54\n",
       "Prob(H) (two-sided):                  0.93   Kurtosis:                         3.96\n",
       "===================================================================================\n",
       "\n",
       "Warnings:\n",
       "[1] Covariance matrix calculated using the outer product of gradients (complex-step).\n",
       "\"\"\""
      ]
     },
     "execution_count": 76,
     "metadata": {},
     "output_type": "execute_result"
    }
   ],
   "source": [
    "model_ret_ar_4 = ARIMA(df_train['Ret_WATT'], order=(4,0,0))\n",
    "res_ret_model_4 = model_ret_ar_4.fit()\n",
    "res_ret_model_4.summary()"
   ]
  },
  {
   "cell_type": "code",
   "execution_count": 77,
   "id": "11b17760",
   "metadata": {},
   "outputs": [
    {
     "data": {
      "text/html": [
       "<table class=\"simpletable\">\n",
       "<caption>SARIMAX Results</caption>\n",
       "<tr>\n",
       "  <th>Dep. Variable:</th>       <td>Ret_WATT</td>     <th>  No. Observations:  </th>    <td>316</td>  \n",
       "</tr>\n",
       "<tr>\n",
       "  <th>Model:</th>            <td>ARIMA(5, 0, 0)</td>  <th>  Log Likelihood     </th> <td>-904.514</td>\n",
       "</tr>\n",
       "<tr>\n",
       "  <th>Date:</th>            <td>Fri, 20 Jan 2023</td> <th>  AIC                </th> <td>1823.028</td>\n",
       "</tr>\n",
       "<tr>\n",
       "  <th>Time:</th>                <td>04:19:29</td>     <th>  BIC                </th> <td>1849.318</td>\n",
       "</tr>\n",
       "<tr>\n",
       "  <th>Sample:</th>             <td>02-01-1985</td>    <th>  HQIC               </th> <td>1833.531</td>\n",
       "</tr>\n",
       "<tr>\n",
       "  <th></th>                   <td>- 05-01-2011</td>   <th>                     </th>     <td> </td>   \n",
       "</tr>\n",
       "<tr>\n",
       "  <th>Covariance Type:</th>        <td>opg</td>       <th>                     </th>     <td> </td>   \n",
       "</tr>\n",
       "</table>\n",
       "<table class=\"simpletable\">\n",
       "<tr>\n",
       "     <td></td>       <th>coef</th>     <th>std err</th>      <th>z</th>      <th>P>|z|</th>  <th>[0.025</th>    <th>0.975]</th>  \n",
       "</tr>\n",
       "<tr>\n",
       "  <th>const</th>  <td>    0.4841</td> <td>    0.111</td> <td>    4.359</td> <td> 0.000</td> <td>    0.266</td> <td>    0.702</td>\n",
       "</tr>\n",
       "<tr>\n",
       "  <th>ar.L1</th>  <td>    0.0255</td> <td>    0.055</td> <td>    0.465</td> <td> 0.642</td> <td>   -0.082</td> <td>    0.133</td>\n",
       "</tr>\n",
       "<tr>\n",
       "  <th>ar.L2</th>  <td>   -0.5334</td> <td>    0.062</td> <td>   -8.609</td> <td> 0.000</td> <td>   -0.655</td> <td>   -0.412</td>\n",
       "</tr>\n",
       "<tr>\n",
       "  <th>ar.L3</th>  <td>   -0.4147</td> <td>    0.062</td> <td>   -6.697</td> <td> 0.000</td> <td>   -0.536</td> <td>   -0.293</td>\n",
       "</tr>\n",
       "<tr>\n",
       "  <th>ar.L4</th>  <td>   -0.4601</td> <td>    0.057</td> <td>   -8.076</td> <td> 0.000</td> <td>   -0.572</td> <td>   -0.348</td>\n",
       "</tr>\n",
       "<tr>\n",
       "  <th>ar.L5</th>  <td>   -0.0397</td> <td>    0.070</td> <td>   -0.570</td> <td> 0.568</td> <td>   -0.176</td> <td>    0.097</td>\n",
       "</tr>\n",
       "<tr>\n",
       "  <th>sigma2</th> <td>   17.7462</td> <td>    1.297</td> <td>   13.686</td> <td> 0.000</td> <td>   15.205</td> <td>   20.288</td>\n",
       "</tr>\n",
       "</table>\n",
       "<table class=\"simpletable\">\n",
       "<tr>\n",
       "  <th>Ljung-Box (L1) (Q):</th>     <td>0.02</td> <th>  Jarque-Bera (JB):  </th> <td>28.01</td>\n",
       "</tr>\n",
       "<tr>\n",
       "  <th>Prob(Q):</th>                <td>0.88</td> <th>  Prob(JB):          </th> <td>0.00</td> \n",
       "</tr>\n",
       "<tr>\n",
       "  <th>Heteroskedasticity (H):</th> <td>0.97</td> <th>  Skew:              </th> <td>0.56</td> \n",
       "</tr>\n",
       "<tr>\n",
       "  <th>Prob(H) (two-sided):</th>    <td>0.86</td> <th>  Kurtosis:          </th> <td>3.94</td> \n",
       "</tr>\n",
       "</table><br/><br/>Warnings:<br/>[1] Covariance matrix calculated using the outer product of gradients (complex-step)."
      ],
      "text/plain": [
       "<class 'statsmodels.iolib.summary.Summary'>\n",
       "\"\"\"\n",
       "                               SARIMAX Results                                \n",
       "==============================================================================\n",
       "Dep. Variable:               Ret_WATT   No. Observations:                  316\n",
       "Model:                 ARIMA(5, 0, 0)   Log Likelihood                -904.514\n",
       "Date:                Fri, 20 Jan 2023   AIC                           1823.028\n",
       "Time:                        04:19:29   BIC                           1849.318\n",
       "Sample:                    02-01-1985   HQIC                          1833.531\n",
       "                         - 05-01-2011                                         \n",
       "Covariance Type:                  opg                                         \n",
       "==============================================================================\n",
       "                 coef    std err          z      P>|z|      [0.025      0.975]\n",
       "------------------------------------------------------------------------------\n",
       "const          0.4841      0.111      4.359      0.000       0.266       0.702\n",
       "ar.L1          0.0255      0.055      0.465      0.642      -0.082       0.133\n",
       "ar.L2         -0.5334      0.062     -8.609      0.000      -0.655      -0.412\n",
       "ar.L3         -0.4147      0.062     -6.697      0.000      -0.536      -0.293\n",
       "ar.L4         -0.4601      0.057     -8.076      0.000      -0.572      -0.348\n",
       "ar.L5         -0.0397      0.070     -0.570      0.568      -0.176       0.097\n",
       "sigma2        17.7462      1.297     13.686      0.000      15.205      20.288\n",
       "===================================================================================\n",
       "Ljung-Box (L1) (Q):                   0.02   Jarque-Bera (JB):                28.01\n",
       "Prob(Q):                              0.88   Prob(JB):                         0.00\n",
       "Heteroskedasticity (H):               0.97   Skew:                             0.56\n",
       "Prob(H) (two-sided):                  0.86   Kurtosis:                         3.94\n",
       "===================================================================================\n",
       "\n",
       "Warnings:\n",
       "[1] Covariance matrix calculated using the outer product of gradients (complex-step).\n",
       "\"\"\""
      ]
     },
     "execution_count": 77,
     "metadata": {},
     "output_type": "execute_result"
    }
   ],
   "source": [
    "model_ret_ar_5 = ARIMA(df_train['Ret_WATT'].iloc[1:], order=(5,0,0))\n",
    "res_ret_model_5 = model_ret_ar_5.fit()\n",
    "res_ret_model_5.summary()"
   ]
  },
  {
   "cell_type": "code",
   "execution_count": 78,
   "id": "8e87cabb",
   "metadata": {},
   "outputs": [
    {
     "data": {
      "text/html": [
       "<table class=\"simpletable\">\n",
       "<caption>SARIMAX Results</caption>\n",
       "<tr>\n",
       "  <th>Dep. Variable:</th>       <td>Ret_WATT</td>     <th>  No. Observations:  </th>    <td>316</td>  \n",
       "</tr>\n",
       "<tr>\n",
       "  <th>Model:</th>            <td>ARIMA(6, 0, 0)</td>  <th>  Log Likelihood     </th> <td>-902.359</td>\n",
       "</tr>\n",
       "<tr>\n",
       "  <th>Date:</th>            <td>Fri, 20 Jan 2023</td> <th>  AIC                </th> <td>1820.718</td>\n",
       "</tr>\n",
       "<tr>\n",
       "  <th>Time:</th>                <td>04:19:31</td>     <th>  BIC                </th> <td>1850.764</td>\n",
       "</tr>\n",
       "<tr>\n",
       "  <th>Sample:</th>             <td>02-01-1985</td>    <th>  HQIC               </th> <td>1832.721</td>\n",
       "</tr>\n",
       "<tr>\n",
       "  <th></th>                   <td>- 05-01-2011</td>   <th>                     </th>     <td> </td>   \n",
       "</tr>\n",
       "<tr>\n",
       "  <th>Covariance Type:</th>        <td>opg</td>       <th>                     </th>     <td> </td>   \n",
       "</tr>\n",
       "</table>\n",
       "<table class=\"simpletable\">\n",
       "<tr>\n",
       "     <td></td>       <th>coef</th>     <th>std err</th>      <th>z</th>      <th>P>|z|</th>  <th>[0.025</th>    <th>0.975]</th>  \n",
       "</tr>\n",
       "<tr>\n",
       "  <th>const</th>  <td>    0.4809</td> <td>    0.128</td> <td>    3.766</td> <td> 0.000</td> <td>    0.231</td> <td>    0.731</td>\n",
       "</tr>\n",
       "<tr>\n",
       "  <th>ar.L1</th>  <td>    0.0297</td> <td>    0.055</td> <td>    0.539</td> <td> 0.590</td> <td>   -0.078</td> <td>    0.138</td>\n",
       "</tr>\n",
       "<tr>\n",
       "  <th>ar.L2</th>  <td>   -0.4795</td> <td>    0.069</td> <td>   -6.931</td> <td> 0.000</td> <td>   -0.615</td> <td>   -0.344</td>\n",
       "</tr>\n",
       "<tr>\n",
       "  <th>ar.L3</th>  <td>   -0.3639</td> <td>    0.075</td> <td>   -4.871</td> <td> 0.000</td> <td>   -0.510</td> <td>   -0.217</td>\n",
       "</tr>\n",
       "<tr>\n",
       "  <th>ar.L4</th>  <td>   -0.3978</td> <td>    0.072</td> <td>   -5.518</td> <td> 0.000</td> <td>   -0.539</td> <td>   -0.257</td>\n",
       "</tr>\n",
       "<tr>\n",
       "  <th>ar.L5</th>  <td>   -0.0411</td> <td>    0.070</td> <td>   -0.583</td> <td> 0.560</td> <td>   -0.179</td> <td>    0.097</td>\n",
       "</tr>\n",
       "<tr>\n",
       "  <th>ar.L6</th>  <td>    0.1193</td> <td>    0.078</td> <td>    1.531</td> <td> 0.126</td> <td>   -0.033</td> <td>    0.272</td>\n",
       "</tr>\n",
       "<tr>\n",
       "  <th>sigma2</th> <td>   17.4997</td> <td>    1.286</td> <td>   13.603</td> <td> 0.000</td> <td>   14.978</td> <td>   20.021</td>\n",
       "</tr>\n",
       "</table>\n",
       "<table class=\"simpletable\">\n",
       "<tr>\n",
       "  <th>Ljung-Box (L1) (Q):</th>     <td>0.00</td> <th>  Jarque-Bera (JB):  </th> <td>22.91</td>\n",
       "</tr>\n",
       "<tr>\n",
       "  <th>Prob(Q):</th>                <td>0.94</td> <th>  Prob(JB):          </th> <td>0.00</td> \n",
       "</tr>\n",
       "<tr>\n",
       "  <th>Heteroskedasticity (H):</th> <td>0.97</td> <th>  Skew:              </th> <td>0.50</td> \n",
       "</tr>\n",
       "<tr>\n",
       "  <th>Prob(H) (two-sided):</th>    <td>0.86</td> <th>  Kurtosis:          </th> <td>3.86</td> \n",
       "</tr>\n",
       "</table><br/><br/>Warnings:<br/>[1] Covariance matrix calculated using the outer product of gradients (complex-step)."
      ],
      "text/plain": [
       "<class 'statsmodels.iolib.summary.Summary'>\n",
       "\"\"\"\n",
       "                               SARIMAX Results                                \n",
       "==============================================================================\n",
       "Dep. Variable:               Ret_WATT   No. Observations:                  316\n",
       "Model:                 ARIMA(6, 0, 0)   Log Likelihood                -902.359\n",
       "Date:                Fri, 20 Jan 2023   AIC                           1820.718\n",
       "Time:                        04:19:31   BIC                           1850.764\n",
       "Sample:                    02-01-1985   HQIC                          1832.721\n",
       "                         - 05-01-2011                                         \n",
       "Covariance Type:                  opg                                         \n",
       "==============================================================================\n",
       "                 coef    std err          z      P>|z|      [0.025      0.975]\n",
       "------------------------------------------------------------------------------\n",
       "const          0.4809      0.128      3.766      0.000       0.231       0.731\n",
       "ar.L1          0.0297      0.055      0.539      0.590      -0.078       0.138\n",
       "ar.L2         -0.4795      0.069     -6.931      0.000      -0.615      -0.344\n",
       "ar.L3         -0.3639      0.075     -4.871      0.000      -0.510      -0.217\n",
       "ar.L4         -0.3978      0.072     -5.518      0.000      -0.539      -0.257\n",
       "ar.L5         -0.0411      0.070     -0.583      0.560      -0.179       0.097\n",
       "ar.L6          0.1193      0.078      1.531      0.126      -0.033       0.272\n",
       "sigma2        17.4997      1.286     13.603      0.000      14.978      20.021\n",
       "===================================================================================\n",
       "Ljung-Box (L1) (Q):                   0.00   Jarque-Bera (JB):                22.91\n",
       "Prob(Q):                              0.94   Prob(JB):                         0.00\n",
       "Heteroskedasticity (H):               0.97   Skew:                             0.50\n",
       "Prob(H) (two-sided):                  0.86   Kurtosis:                         3.86\n",
       "===================================================================================\n",
       "\n",
       "Warnings:\n",
       "[1] Covariance matrix calculated using the outer product of gradients (complex-step).\n",
       "\"\"\""
      ]
     },
     "execution_count": 78,
     "metadata": {},
     "output_type": "execute_result"
    }
   ],
   "source": [
    "model_ret_ar_6 = ARIMA(df_train['Ret_WATT'].iloc[1:], order=(6,0,0))\n",
    "res_ret_model_6 = model_ret_ar_6.fit()\n",
    "res_ret_model_6.summary()"
   ]
  },
  {
   "cell_type": "code",
   "execution_count": 79,
   "id": "d12268a8",
   "metadata": {},
   "outputs": [
    {
     "data": {
      "text/html": [
       "<table class=\"simpletable\">\n",
       "<caption>SARIMAX Results</caption>\n",
       "<tr>\n",
       "  <th>Dep. Variable:</th>       <td>Ret_WATT</td>     <th>  No. Observations:  </th>    <td>316</td>  \n",
       "</tr>\n",
       "<tr>\n",
       "  <th>Model:</th>            <td>ARIMA(7, 0, 0)</td>  <th>  Log Likelihood     </th> <td>-901.760</td>\n",
       "</tr>\n",
       "<tr>\n",
       "  <th>Date:</th>            <td>Fri, 20 Jan 2023</td> <th>  AIC                </th> <td>1821.521</td>\n",
       "</tr>\n",
       "<tr>\n",
       "  <th>Time:</th>                <td>04:19:32</td>     <th>  BIC                </th> <td>1855.322</td>\n",
       "</tr>\n",
       "<tr>\n",
       "  <th>Sample:</th>             <td>02-01-1985</td>    <th>  HQIC               </th> <td>1835.024</td>\n",
       "</tr>\n",
       "<tr>\n",
       "  <th></th>                   <td>- 05-01-2011</td>   <th>                     </th>     <td> </td>   \n",
       "</tr>\n",
       "<tr>\n",
       "  <th>Covariance Type:</th>        <td>opg</td>       <th>                     </th>     <td> </td>   \n",
       "</tr>\n",
       "</table>\n",
       "<table class=\"simpletable\">\n",
       "<tr>\n",
       "     <td></td>       <th>coef</th>     <th>std err</th>      <th>z</th>      <th>P>|z|</th>  <th>[0.025</th>    <th>0.975]</th>  \n",
       "</tr>\n",
       "<tr>\n",
       "  <th>const</th>  <td>    0.4784</td> <td>    0.139</td> <td>    3.447</td> <td> 0.001</td> <td>    0.206</td> <td>    0.750</td>\n",
       "</tr>\n",
       "<tr>\n",
       "  <th>ar.L1</th>  <td>    0.0227</td> <td>    0.055</td> <td>    0.415</td> <td> 0.678</td> <td>   -0.085</td> <td>    0.130</td>\n",
       "</tr>\n",
       "<tr>\n",
       "  <th>ar.L2</th>  <td>   -0.4767</td> <td>    0.069</td> <td>   -6.923</td> <td> 0.000</td> <td>   -0.612</td> <td>   -0.342</td>\n",
       "</tr>\n",
       "<tr>\n",
       "  <th>ar.L3</th>  <td>   -0.3392</td> <td>    0.078</td> <td>   -4.336</td> <td> 0.000</td> <td>   -0.492</td> <td>   -0.186</td>\n",
       "</tr>\n",
       "<tr>\n",
       "  <th>ar.L4</th>  <td>   -0.3736</td> <td>    0.077</td> <td>   -4.839</td> <td> 0.000</td> <td>   -0.525</td> <td>   -0.222</td>\n",
       "</tr>\n",
       "<tr>\n",
       "  <th>ar.L5</th>  <td>   -0.0112</td> <td>    0.078</td> <td>   -0.144</td> <td> 0.886</td> <td>   -0.164</td> <td>    0.142</td>\n",
       "</tr>\n",
       "<tr>\n",
       "  <th>ar.L6</th>  <td>    0.1182</td> <td>    0.079</td> <td>    1.503</td> <td> 0.133</td> <td>   -0.036</td> <td>    0.272</td>\n",
       "</tr>\n",
       "<tr>\n",
       "  <th>ar.L7</th>  <td>    0.0630</td> <td>    0.072</td> <td>    0.871</td> <td> 0.384</td> <td>   -0.079</td> <td>    0.205</td>\n",
       "</tr>\n",
       "<tr>\n",
       "  <th>sigma2</th> <td>   17.4311</td> <td>    1.290</td> <td>   13.513</td> <td> 0.000</td> <td>   14.903</td> <td>   19.959</td>\n",
       "</tr>\n",
       "</table>\n",
       "<table class=\"simpletable\">\n",
       "<tr>\n",
       "  <th>Ljung-Box (L1) (Q):</th>     <td>0.11</td> <th>  Jarque-Bera (JB):  </th> <td>25.23</td>\n",
       "</tr>\n",
       "<tr>\n",
       "  <th>Prob(Q):</th>                <td>0.74</td> <th>  Prob(JB):          </th> <td>0.00</td> \n",
       "</tr>\n",
       "<tr>\n",
       "  <th>Heteroskedasticity (H):</th> <td>0.95</td> <th>  Skew:              </th> <td>0.50</td> \n",
       "</tr>\n",
       "<tr>\n",
       "  <th>Prob(H) (two-sided):</th>    <td>0.78</td> <th>  Kurtosis:          </th> <td>3.95</td> \n",
       "</tr>\n",
       "</table><br/><br/>Warnings:<br/>[1] Covariance matrix calculated using the outer product of gradients (complex-step)."
      ],
      "text/plain": [
       "<class 'statsmodels.iolib.summary.Summary'>\n",
       "\"\"\"\n",
       "                               SARIMAX Results                                \n",
       "==============================================================================\n",
       "Dep. Variable:               Ret_WATT   No. Observations:                  316\n",
       "Model:                 ARIMA(7, 0, 0)   Log Likelihood                -901.760\n",
       "Date:                Fri, 20 Jan 2023   AIC                           1821.521\n",
       "Time:                        04:19:32   BIC                           1855.322\n",
       "Sample:                    02-01-1985   HQIC                          1835.024\n",
       "                         - 05-01-2011                                         \n",
       "Covariance Type:                  opg                                         \n",
       "==============================================================================\n",
       "                 coef    std err          z      P>|z|      [0.025      0.975]\n",
       "------------------------------------------------------------------------------\n",
       "const          0.4784      0.139      3.447      0.001       0.206       0.750\n",
       "ar.L1          0.0227      0.055      0.415      0.678      -0.085       0.130\n",
       "ar.L2         -0.4767      0.069     -6.923      0.000      -0.612      -0.342\n",
       "ar.L3         -0.3392      0.078     -4.336      0.000      -0.492      -0.186\n",
       "ar.L4         -0.3736      0.077     -4.839      0.000      -0.525      -0.222\n",
       "ar.L5         -0.0112      0.078     -0.144      0.886      -0.164       0.142\n",
       "ar.L6          0.1182      0.079      1.503      0.133      -0.036       0.272\n",
       "ar.L7          0.0630      0.072      0.871      0.384      -0.079       0.205\n",
       "sigma2        17.4311      1.290     13.513      0.000      14.903      19.959\n",
       "===================================================================================\n",
       "Ljung-Box (L1) (Q):                   0.11   Jarque-Bera (JB):                25.23\n",
       "Prob(Q):                              0.74   Prob(JB):                         0.00\n",
       "Heteroskedasticity (H):               0.95   Skew:                             0.50\n",
       "Prob(H) (two-sided):                  0.78   Kurtosis:                         3.95\n",
       "===================================================================================\n",
       "\n",
       "Warnings:\n",
       "[1] Covariance matrix calculated using the outer product of gradients (complex-step).\n",
       "\"\"\""
      ]
     },
     "execution_count": 79,
     "metadata": {},
     "output_type": "execute_result"
    }
   ],
   "source": [
    "model_ret_ar_7 = ARIMA(df_train['Ret_WATT'].iloc[1:], order=(7,0,0))\n",
    "res_ret_model_7 = model_ret_ar_7.fit()\n",
    "res_ret_model_7.summary()"
   ]
  },
  {
   "cell_type": "code",
   "execution_count": 80,
   "id": "5ba3773e",
   "metadata": {},
   "outputs": [
    {
     "data": {
      "text/html": [
       "<table class=\"simpletable\">\n",
       "<caption>SARIMAX Results</caption>\n",
       "<tr>\n",
       "  <th>Dep. Variable:</th>       <td>Ret_WATT</td>     <th>  No. Observations:  </th>    <td>316</td>  \n",
       "</tr>\n",
       "<tr>\n",
       "  <th>Model:</th>            <td>ARIMA(8, 0, 0)</td>  <th>  Log Likelihood     </th> <td>-891.077</td>\n",
       "</tr>\n",
       "<tr>\n",
       "  <th>Date:</th>            <td>Fri, 20 Jan 2023</td> <th>  AIC                </th> <td>1802.153</td>\n",
       "</tr>\n",
       "<tr>\n",
       "  <th>Time:</th>                <td>04:19:33</td>     <th>  BIC                </th> <td>1839.711</td>\n",
       "</tr>\n",
       "<tr>\n",
       "  <th>Sample:</th>             <td>02-01-1985</td>    <th>  HQIC               </th> <td>1817.157</td>\n",
       "</tr>\n",
       "<tr>\n",
       "  <th></th>                   <td>- 05-01-2011</td>   <th>                     </th>     <td> </td>   \n",
       "</tr>\n",
       "<tr>\n",
       "  <th>Covariance Type:</th>        <td>opg</td>       <th>                     </th>     <td> </td>   \n",
       "</tr>\n",
       "</table>\n",
       "<table class=\"simpletable\">\n",
       "<tr>\n",
       "     <td></td>       <th>coef</th>     <th>std err</th>      <th>z</th>      <th>P>|z|</th>  <th>[0.025</th>    <th>0.975]</th>  \n",
       "</tr>\n",
       "<tr>\n",
       "  <th>const</th>  <td>    0.4880</td> <td>    0.103</td> <td>    4.752</td> <td> 0.000</td> <td>    0.287</td> <td>    0.689</td>\n",
       "</tr>\n",
       "<tr>\n",
       "  <th>ar.L1</th>  <td>    0.0381</td> <td>    0.054</td> <td>    0.712</td> <td> 0.477</td> <td>   -0.067</td> <td>    0.143</td>\n",
       "</tr>\n",
       "<tr>\n",
       "  <th>ar.L2</th>  <td>   -0.4487</td> <td>    0.066</td> <td>   -6.802</td> <td> 0.000</td> <td>   -0.578</td> <td>   -0.319</td>\n",
       "</tr>\n",
       "<tr>\n",
       "  <th>ar.L3</th>  <td>   -0.3425</td> <td>    0.074</td> <td>   -4.657</td> <td> 0.000</td> <td>   -0.487</td> <td>   -0.198</td>\n",
       "</tr>\n",
       "<tr>\n",
       "  <th>ar.L4</th>  <td>   -0.4708</td> <td>    0.077</td> <td>   -6.093</td> <td> 0.000</td> <td>   -0.622</td> <td>   -0.319</td>\n",
       "</tr>\n",
       "<tr>\n",
       "  <th>ar.L5</th>  <td>   -0.1058</td> <td>    0.079</td> <td>   -1.336</td> <td> 0.182</td> <td>   -0.261</td> <td>    0.049</td>\n",
       "</tr>\n",
       "<tr>\n",
       "  <th>ar.L6</th>  <td>   -0.0037</td> <td>    0.082</td> <td>   -0.046</td> <td> 0.963</td> <td>   -0.164</td> <td>    0.156</td>\n",
       "</tr>\n",
       "<tr>\n",
       "  <th>ar.L7</th>  <td>    0.0655</td> <td>    0.065</td> <td>    1.002</td> <td> 0.316</td> <td>   -0.063</td> <td>    0.194</td>\n",
       "</tr>\n",
       "<tr>\n",
       "  <th>ar.L8</th>  <td>   -0.2616</td> <td>    0.070</td> <td>   -3.750</td> <td> 0.000</td> <td>   -0.398</td> <td>   -0.125</td>\n",
       "</tr>\n",
       "<tr>\n",
       "  <th>sigma2</th> <td>   16.2613</td> <td>    1.289</td> <td>   12.614</td> <td> 0.000</td> <td>   13.735</td> <td>   18.788</td>\n",
       "</tr>\n",
       "</table>\n",
       "<table class=\"simpletable\">\n",
       "<tr>\n",
       "  <th>Ljung-Box (L1) (Q):</th>     <td>2.14</td> <th>  Jarque-Bera (JB):  </th> <td>22.32</td>\n",
       "</tr>\n",
       "<tr>\n",
       "  <th>Prob(Q):</th>                <td>0.14</td> <th>  Prob(JB):          </th> <td>0.00</td> \n",
       "</tr>\n",
       "<tr>\n",
       "  <th>Heteroskedasticity (H):</th> <td>1.03</td> <th>  Skew:              </th> <td>0.52</td> \n",
       "</tr>\n",
       "<tr>\n",
       "  <th>Prob(H) (two-sided):</th>    <td>0.86</td> <th>  Kurtosis:          </th> <td>3.78</td> \n",
       "</tr>\n",
       "</table><br/><br/>Warnings:<br/>[1] Covariance matrix calculated using the outer product of gradients (complex-step)."
      ],
      "text/plain": [
       "<class 'statsmodels.iolib.summary.Summary'>\n",
       "\"\"\"\n",
       "                               SARIMAX Results                                \n",
       "==============================================================================\n",
       "Dep. Variable:               Ret_WATT   No. Observations:                  316\n",
       "Model:                 ARIMA(8, 0, 0)   Log Likelihood                -891.077\n",
       "Date:                Fri, 20 Jan 2023   AIC                           1802.153\n",
       "Time:                        04:19:33   BIC                           1839.711\n",
       "Sample:                    02-01-1985   HQIC                          1817.157\n",
       "                         - 05-01-2011                                         \n",
       "Covariance Type:                  opg                                         \n",
       "==============================================================================\n",
       "                 coef    std err          z      P>|z|      [0.025      0.975]\n",
       "------------------------------------------------------------------------------\n",
       "const          0.4880      0.103      4.752      0.000       0.287       0.689\n",
       "ar.L1          0.0381      0.054      0.712      0.477      -0.067       0.143\n",
       "ar.L2         -0.4487      0.066     -6.802      0.000      -0.578      -0.319\n",
       "ar.L3         -0.3425      0.074     -4.657      0.000      -0.487      -0.198\n",
       "ar.L4         -0.4708      0.077     -6.093      0.000      -0.622      -0.319\n",
       "ar.L5         -0.1058      0.079     -1.336      0.182      -0.261       0.049\n",
       "ar.L6         -0.0037      0.082     -0.046      0.963      -0.164       0.156\n",
       "ar.L7          0.0655      0.065      1.002      0.316      -0.063       0.194\n",
       "ar.L8         -0.2616      0.070     -3.750      0.000      -0.398      -0.125\n",
       "sigma2        16.2613      1.289     12.614      0.000      13.735      18.788\n",
       "===================================================================================\n",
       "Ljung-Box (L1) (Q):                   2.14   Jarque-Bera (JB):                22.32\n",
       "Prob(Q):                              0.14   Prob(JB):                         0.00\n",
       "Heteroskedasticity (H):               1.03   Skew:                             0.52\n",
       "Prob(H) (two-sided):                  0.86   Kurtosis:                         3.78\n",
       "===================================================================================\n",
       "\n",
       "Warnings:\n",
       "[1] Covariance matrix calculated using the outer product of gradients (complex-step).\n",
       "\"\"\""
      ]
     },
     "execution_count": 80,
     "metadata": {},
     "output_type": "execute_result"
    }
   ],
   "source": [
    "model_ret_ar_8 = ARIMA(df_train['Ret_WATT'].iloc[1:], order=(8,0,0))\n",
    "res_ret_model_8 = model_ret_ar_8.fit()\n",
    "res_ret_model_8.summary()"
   ]
  },
  {
   "cell_type": "code",
   "execution_count": 81,
   "id": "1f3c3fe7",
   "metadata": {},
   "outputs": [
    {
     "data": {
      "text/html": [
       "<table class=\"simpletable\">\n",
       "<caption>SARIMAX Results</caption>\n",
       "<tr>\n",
       "  <th>Dep. Variable:</th>       <td>Ret_WATT</td>     <th>  No. Observations:  </th>    <td>316</td>  \n",
       "</tr>\n",
       "<tr>\n",
       "  <th>Model:</th>            <td>ARIMA(9, 0, 0)</td>  <th>  Log Likelihood     </th> <td>-872.583</td>\n",
       "</tr>\n",
       "<tr>\n",
       "  <th>Date:</th>            <td>Fri, 20 Jan 2023</td> <th>  AIC                </th> <td>1767.166</td>\n",
       "</tr>\n",
       "<tr>\n",
       "  <th>Time:</th>                <td>04:19:36</td>     <th>  BIC                </th> <td>1808.479</td>\n",
       "</tr>\n",
       "<tr>\n",
       "  <th>Sample:</th>             <td>02-01-1985</td>    <th>  HQIC               </th> <td>1783.670</td>\n",
       "</tr>\n",
       "<tr>\n",
       "  <th></th>                   <td>- 05-01-2011</td>   <th>                     </th>     <td> </td>   \n",
       "</tr>\n",
       "<tr>\n",
       "  <th>Covariance Type:</th>        <td>opg</td>       <th>                     </th>     <td> </td>   \n",
       "</tr>\n",
       "</table>\n",
       "<table class=\"simpletable\">\n",
       "<tr>\n",
       "     <td></td>       <th>coef</th>     <th>std err</th>      <th>z</th>      <th>P>|z|</th>  <th>[0.025</th>    <th>0.975]</th>  \n",
       "</tr>\n",
       "<tr>\n",
       "  <th>const</th>  <td>    0.4957</td> <td>    0.074</td> <td>    6.686</td> <td> 0.000</td> <td>    0.350</td> <td>    0.641</td>\n",
       "</tr>\n",
       "<tr>\n",
       "  <th>ar.L1</th>  <td>   -0.0503</td> <td>    0.054</td> <td>   -0.937</td> <td> 0.349</td> <td>   -0.155</td> <td>    0.055</td>\n",
       "</tr>\n",
       "<tr>\n",
       "  <th>ar.L2</th>  <td>   -0.4284</td> <td>    0.062</td> <td>   -6.874</td> <td> 0.000</td> <td>   -0.551</td> <td>   -0.306</td>\n",
       "</tr>\n",
       "<tr>\n",
       "  <th>ar.L3</th>  <td>   -0.3485</td> <td>    0.069</td> <td>   -5.055</td> <td> 0.000</td> <td>   -0.484</td> <td>   -0.213</td>\n",
       "</tr>\n",
       "<tr>\n",
       "  <th>ar.L4</th>  <td>   -0.5063</td> <td>    0.076</td> <td>   -6.623</td> <td> 0.000</td> <td>   -0.656</td> <td>   -0.356</td>\n",
       "</tr>\n",
       "<tr>\n",
       "  <th>ar.L5</th>  <td>   -0.2660</td> <td>    0.081</td> <td>   -3.274</td> <td> 0.001</td> <td>   -0.425</td> <td>   -0.107</td>\n",
       "</tr>\n",
       "<tr>\n",
       "  <th>ar.L6</th>  <td>   -0.1283</td> <td>    0.078</td> <td>   -1.649</td> <td> 0.099</td> <td>   -0.281</td> <td>    0.024</td>\n",
       "</tr>\n",
       "<tr>\n",
       "  <th>ar.L7</th>  <td>   -0.0831</td> <td>    0.069</td> <td>   -1.198</td> <td> 0.231</td> <td>   -0.219</td> <td>    0.053</td>\n",
       "</tr>\n",
       "<tr>\n",
       "  <th>ar.L8</th>  <td>   -0.2529</td> <td>    0.069</td> <td>   -3.677</td> <td> 0.000</td> <td>   -0.388</td> <td>   -0.118</td>\n",
       "</tr>\n",
       "<tr>\n",
       "  <th>ar.L9</th>  <td>   -0.3396</td> <td>    0.061</td> <td>   -5.533</td> <td> 0.000</td> <td>   -0.460</td> <td>   -0.219</td>\n",
       "</tr>\n",
       "<tr>\n",
       "  <th>sigma2</th> <td>   14.4131</td> <td>    1.108</td> <td>   13.008</td> <td> 0.000</td> <td>   12.241</td> <td>   16.585</td>\n",
       "</tr>\n",
       "</table>\n",
       "<table class=\"simpletable\">\n",
       "<tr>\n",
       "  <th>Ljung-Box (L1) (Q):</th>     <td>9.83</td> <th>  Jarque-Bera (JB):  </th> <td>52.33</td>\n",
       "</tr>\n",
       "<tr>\n",
       "  <th>Prob(Q):</th>                <td>0.00</td> <th>  Prob(JB):          </th> <td>0.00</td> \n",
       "</tr>\n",
       "<tr>\n",
       "  <th>Heteroskedasticity (H):</th> <td>1.20</td> <th>  Skew:              </th> <td>0.67</td> \n",
       "</tr>\n",
       "<tr>\n",
       "  <th>Prob(H) (two-sided):</th>    <td>0.35</td> <th>  Kurtosis:          </th> <td>4.47</td> \n",
       "</tr>\n",
       "</table><br/><br/>Warnings:<br/>[1] Covariance matrix calculated using the outer product of gradients (complex-step)."
      ],
      "text/plain": [
       "<class 'statsmodels.iolib.summary.Summary'>\n",
       "\"\"\"\n",
       "                               SARIMAX Results                                \n",
       "==============================================================================\n",
       "Dep. Variable:               Ret_WATT   No. Observations:                  316\n",
       "Model:                 ARIMA(9, 0, 0)   Log Likelihood                -872.583\n",
       "Date:                Fri, 20 Jan 2023   AIC                           1767.166\n",
       "Time:                        04:19:36   BIC                           1808.479\n",
       "Sample:                    02-01-1985   HQIC                          1783.670\n",
       "                         - 05-01-2011                                         \n",
       "Covariance Type:                  opg                                         \n",
       "==============================================================================\n",
       "                 coef    std err          z      P>|z|      [0.025      0.975]\n",
       "------------------------------------------------------------------------------\n",
       "const          0.4957      0.074      6.686      0.000       0.350       0.641\n",
       "ar.L1         -0.0503      0.054     -0.937      0.349      -0.155       0.055\n",
       "ar.L2         -0.4284      0.062     -6.874      0.000      -0.551      -0.306\n",
       "ar.L3         -0.3485      0.069     -5.055      0.000      -0.484      -0.213\n",
       "ar.L4         -0.5063      0.076     -6.623      0.000      -0.656      -0.356\n",
       "ar.L5         -0.2660      0.081     -3.274      0.001      -0.425      -0.107\n",
       "ar.L6         -0.1283      0.078     -1.649      0.099      -0.281       0.024\n",
       "ar.L7         -0.0831      0.069     -1.198      0.231      -0.219       0.053\n",
       "ar.L8         -0.2529      0.069     -3.677      0.000      -0.388      -0.118\n",
       "ar.L9         -0.3396      0.061     -5.533      0.000      -0.460      -0.219\n",
       "sigma2        14.4131      1.108     13.008      0.000      12.241      16.585\n",
       "===================================================================================\n",
       "Ljung-Box (L1) (Q):                   9.83   Jarque-Bera (JB):                52.33\n",
       "Prob(Q):                              0.00   Prob(JB):                         0.00\n",
       "Heteroskedasticity (H):               1.20   Skew:                             0.67\n",
       "Prob(H) (two-sided):                  0.35   Kurtosis:                         4.47\n",
       "===================================================================================\n",
       "\n",
       "Warnings:\n",
       "[1] Covariance matrix calculated using the outer product of gradients (complex-step).\n",
       "\"\"\""
      ]
     },
     "execution_count": 81,
     "metadata": {},
     "output_type": "execute_result"
    }
   ],
   "source": [
    "model_ret_ar_9 = ARIMA(df_train['Ret_WATT'].iloc[1:], order=(9,0,0))\n",
    "res_ret_model_9 = model_ret_ar_9.fit()\n",
    "res_ret_model_9.summary()"
   ]
  },
  {
   "cell_type": "code",
   "execution_count": 82,
   "id": "3b15e541",
   "metadata": {},
   "outputs": [
    {
     "data": {
      "text/html": [
       "<table class=\"simpletable\">\n",
       "<caption>SARIMAX Results</caption>\n",
       "<tr>\n",
       "  <th>Dep. Variable:</th>       <td>Ret_WATT</td>     <th>  No. Observations:  </th>    <td>316</td>  \n",
       "</tr>\n",
       "<tr>\n",
       "  <th>Model:</th>            <td>ARIMA(10, 0, 0)</td> <th>  Log Likelihood     </th> <td>-817.687</td>\n",
       "</tr>\n",
       "<tr>\n",
       "  <th>Date:</th>            <td>Fri, 20 Jan 2023</td> <th>  AIC                </th> <td>1659.374</td>\n",
       "</tr>\n",
       "<tr>\n",
       "  <th>Time:</th>                <td>04:19:39</td>     <th>  BIC                </th> <td>1704.443</td>\n",
       "</tr>\n",
       "<tr>\n",
       "  <th>Sample:</th>             <td>02-01-1985</td>    <th>  HQIC               </th> <td>1677.379</td>\n",
       "</tr>\n",
       "<tr>\n",
       "  <th></th>                   <td>- 05-01-2011</td>   <th>                     </th>     <td> </td>   \n",
       "</tr>\n",
       "<tr>\n",
       "  <th>Covariance Type:</th>        <td>opg</td>       <th>                     </th>     <td> </td>   \n",
       "</tr>\n",
       "</table>\n",
       "<table class=\"simpletable\">\n",
       "<tr>\n",
       "     <td></td>       <th>coef</th>     <th>std err</th>      <th>z</th>      <th>P>|z|</th>  <th>[0.025</th>    <th>0.975]</th>  \n",
       "</tr>\n",
       "<tr>\n",
       "  <th>const</th>  <td>    0.5002</td> <td>    0.039</td> <td>   12.792</td> <td> 0.000</td> <td>    0.424</td> <td>    0.577</td>\n",
       "</tr>\n",
       "<tr>\n",
       "  <th>ar.L1</th>  <td>   -0.2336</td> <td>    0.044</td> <td>   -5.305</td> <td> 0.000</td> <td>   -0.320</td> <td>   -0.147</td>\n",
       "</tr>\n",
       "<tr>\n",
       "  <th>ar.L2</th>  <td>   -0.5642</td> <td>    0.049</td> <td>  -11.490</td> <td> 0.000</td> <td>   -0.660</td> <td>   -0.468</td>\n",
       "</tr>\n",
       "<tr>\n",
       "  <th>ar.L3</th>  <td>   -0.3989</td> <td>    0.056</td> <td>   -7.133</td> <td> 0.000</td> <td>   -0.509</td> <td>   -0.289</td>\n",
       "</tr>\n",
       "<tr>\n",
       "  <th>ar.L4</th>  <td>   -0.5778</td> <td>    0.066</td> <td>   -8.732</td> <td> 0.000</td> <td>   -0.708</td> <td>   -0.448</td>\n",
       "</tr>\n",
       "<tr>\n",
       "  <th>ar.L5</th>  <td>   -0.4088</td> <td>    0.069</td> <td>   -5.893</td> <td> 0.000</td> <td>   -0.545</td> <td>   -0.273</td>\n",
       "</tr>\n",
       "<tr>\n",
       "  <th>ar.L6</th>  <td>   -0.4109</td> <td>    0.069</td> <td>   -5.985</td> <td> 0.000</td> <td>   -0.546</td> <td>   -0.276</td>\n",
       "</tr>\n",
       "<tr>\n",
       "  <th>ar.L7</th>  <td>   -0.2861</td> <td>    0.057</td> <td>   -4.989</td> <td> 0.000</td> <td>   -0.398</td> <td>   -0.174</td>\n",
       "</tr>\n",
       "<tr>\n",
       "  <th>ar.L8</th>  <td>   -0.4813</td> <td>    0.058</td> <td>   -8.275</td> <td> 0.000</td> <td>   -0.595</td> <td>   -0.367</td>\n",
       "</tr>\n",
       "<tr>\n",
       "  <th>ar.L9</th>  <td>   -0.3732</td> <td>    0.047</td> <td>   -7.941</td> <td> 0.000</td> <td>   -0.465</td> <td>   -0.281</td>\n",
       "</tr>\n",
       "<tr>\n",
       "  <th>ar.L10</th> <td>   -0.5523</td> <td>    0.044</td> <td>  -12.609</td> <td> 0.000</td> <td>   -0.638</td> <td>   -0.466</td>\n",
       "</tr>\n",
       "<tr>\n",
       "  <th>sigma2</th> <td>   10.0603</td> <td>    0.736</td> <td>   13.673</td> <td> 0.000</td> <td>    8.618</td> <td>   11.502</td>\n",
       "</tr>\n",
       "</table>\n",
       "<table class=\"simpletable\">\n",
       "<tr>\n",
       "  <th>Ljung-Box (L1) (Q):</th>     <td>15.75</td> <th>  Jarque-Bera (JB):  </th> <td>13.64</td>\n",
       "</tr>\n",
       "<tr>\n",
       "  <th>Prob(Q):</th>                <td>0.00</td>  <th>  Prob(JB):          </th> <td>0.00</td> \n",
       "</tr>\n",
       "<tr>\n",
       "  <th>Heteroskedasticity (H):</th> <td>1.33</td>  <th>  Skew:              </th> <td>0.27</td> \n",
       "</tr>\n",
       "<tr>\n",
       "  <th>Prob(H) (two-sided):</th>    <td>0.15</td>  <th>  Kurtosis:          </th> <td>3.87</td> \n",
       "</tr>\n",
       "</table><br/><br/>Warnings:<br/>[1] Covariance matrix calculated using the outer product of gradients (complex-step)."
      ],
      "text/plain": [
       "<class 'statsmodels.iolib.summary.Summary'>\n",
       "\"\"\"\n",
       "                               SARIMAX Results                                \n",
       "==============================================================================\n",
       "Dep. Variable:               Ret_WATT   No. Observations:                  316\n",
       "Model:                ARIMA(10, 0, 0)   Log Likelihood                -817.687\n",
       "Date:                Fri, 20 Jan 2023   AIC                           1659.374\n",
       "Time:                        04:19:39   BIC                           1704.443\n",
       "Sample:                    02-01-1985   HQIC                          1677.379\n",
       "                         - 05-01-2011                                         \n",
       "Covariance Type:                  opg                                         \n",
       "==============================================================================\n",
       "                 coef    std err          z      P>|z|      [0.025      0.975]\n",
       "------------------------------------------------------------------------------\n",
       "const          0.5002      0.039     12.792      0.000       0.424       0.577\n",
       "ar.L1         -0.2336      0.044     -5.305      0.000      -0.320      -0.147\n",
       "ar.L2         -0.5642      0.049    -11.490      0.000      -0.660      -0.468\n",
       "ar.L3         -0.3989      0.056     -7.133      0.000      -0.509      -0.289\n",
       "ar.L4         -0.5778      0.066     -8.732      0.000      -0.708      -0.448\n",
       "ar.L5         -0.4088      0.069     -5.893      0.000      -0.545      -0.273\n",
       "ar.L6         -0.4109      0.069     -5.985      0.000      -0.546      -0.276\n",
       "ar.L7         -0.2861      0.057     -4.989      0.000      -0.398      -0.174\n",
       "ar.L8         -0.4813      0.058     -8.275      0.000      -0.595      -0.367\n",
       "ar.L9         -0.3732      0.047     -7.941      0.000      -0.465      -0.281\n",
       "ar.L10        -0.5523      0.044    -12.609      0.000      -0.638      -0.466\n",
       "sigma2        10.0603      0.736     13.673      0.000       8.618      11.502\n",
       "===================================================================================\n",
       "Ljung-Box (L1) (Q):                  15.75   Jarque-Bera (JB):                13.64\n",
       "Prob(Q):                              0.00   Prob(JB):                         0.00\n",
       "Heteroskedasticity (H):               1.33   Skew:                             0.27\n",
       "Prob(H) (two-sided):                  0.15   Kurtosis:                         3.87\n",
       "===================================================================================\n",
       "\n",
       "Warnings:\n",
       "[1] Covariance matrix calculated using the outer product of gradients (complex-step).\n",
       "\"\"\""
      ]
     },
     "execution_count": 82,
     "metadata": {},
     "output_type": "execute_result"
    }
   ],
   "source": [
    "model_ret_ar_10 = ARIMA(df_train['Ret_WATT'].iloc[1:], order=(10,0,0))\n",
    "res_ret_model_10 = model_ret_ar_10.fit()\n",
    "res_ret_model_10.summary()"
   ]
  },
  {
   "cell_type": "code",
   "execution_count": 83,
   "id": "225bb0f1",
   "metadata": {},
   "outputs": [
    {
     "data": {
      "text/html": [
       "<table class=\"simpletable\">\n",
       "<caption>SARIMAX Results</caption>\n",
       "<tr>\n",
       "  <th>Dep. Variable:</th>       <td>Ret_WATT</td>     <th>  No. Observations:  </th>    <td>316</td>  \n",
       "</tr>\n",
       "<tr>\n",
       "  <th>Model:</th>            <td>ARIMA(11, 0, 0)</td> <th>  Log Likelihood     </th> <td>-787.140</td>\n",
       "</tr>\n",
       "<tr>\n",
       "  <th>Date:</th>            <td>Fri, 20 Jan 2023</td> <th>  AIC                </th> <td>1600.279</td>\n",
       "</tr>\n",
       "<tr>\n",
       "  <th>Time:</th>                <td>04:19:43</td>     <th>  BIC                </th> <td>1649.104</td>\n",
       "</tr>\n",
       "<tr>\n",
       "  <th>Sample:</th>             <td>02-01-1985</td>    <th>  HQIC               </th> <td>1619.785</td>\n",
       "</tr>\n",
       "<tr>\n",
       "  <th></th>                   <td>- 05-01-2011</td>   <th>                     </th>     <td> </td>   \n",
       "</tr>\n",
       "<tr>\n",
       "  <th>Covariance Type:</th>        <td>opg</td>       <th>                     </th>     <td> </td>   \n",
       "</tr>\n",
       "</table>\n",
       "<table class=\"simpletable\">\n",
       "<tr>\n",
       "     <td></td>       <th>coef</th>     <th>std err</th>      <th>z</th>      <th>P>|z|</th>  <th>[0.025</th>    <th>0.975]</th>  \n",
       "</tr>\n",
       "<tr>\n",
       "  <th>const</th>  <td>    0.5010</td> <td>    0.024</td> <td>   20.900</td> <td> 0.000</td> <td>    0.454</td> <td>    0.548</td>\n",
       "</tr>\n",
       "<tr>\n",
       "  <th>ar.L1</th>  <td>   -0.4667</td> <td>    0.048</td> <td>   -9.661</td> <td> 0.000</td> <td>   -0.561</td> <td>   -0.372</td>\n",
       "</tr>\n",
       "<tr>\n",
       "  <th>ar.L2</th>  <td>   -0.7132</td> <td>    0.048</td> <td>  -14.846</td> <td> 0.000</td> <td>   -0.807</td> <td>   -0.619</td>\n",
       "</tr>\n",
       "<tr>\n",
       "  <th>ar.L3</th>  <td>   -0.6033</td> <td>    0.057</td> <td>  -10.533</td> <td> 0.000</td> <td>   -0.716</td> <td>   -0.491</td>\n",
       "</tr>\n",
       "<tr>\n",
       "  <th>ar.L4</th>  <td>   -0.6952</td> <td>    0.057</td> <td>  -12.232</td> <td> 0.000</td> <td>   -0.807</td> <td>   -0.584</td>\n",
       "</tr>\n",
       "<tr>\n",
       "  <th>ar.L5</th>  <td>   -0.5798</td> <td>    0.064</td> <td>   -9.093</td> <td> 0.000</td> <td>   -0.705</td> <td>   -0.455</td>\n",
       "</tr>\n",
       "<tr>\n",
       "  <th>ar.L6</th>  <td>   -0.5807</td> <td>    0.065</td> <td>   -8.867</td> <td> 0.000</td> <td>   -0.709</td> <td>   -0.452</td>\n",
       "</tr>\n",
       "<tr>\n",
       "  <th>ar.L7</th>  <td>   -0.5336</td> <td>    0.061</td> <td>   -8.756</td> <td> 0.000</td> <td>   -0.653</td> <td>   -0.414</td>\n",
       "</tr>\n",
       "<tr>\n",
       "  <th>ar.L8</th>  <td>   -0.6576</td> <td>    0.054</td> <td>  -12.267</td> <td> 0.000</td> <td>   -0.763</td> <td>   -0.553</td>\n",
       "</tr>\n",
       "<tr>\n",
       "  <th>ar.L9</th>  <td>   -0.6102</td> <td>    0.051</td> <td>  -11.864</td> <td> 0.000</td> <td>   -0.711</td> <td>   -0.509</td>\n",
       "</tr>\n",
       "<tr>\n",
       "  <th>ar.L10</th> <td>   -0.6553</td> <td>    0.043</td> <td>  -15.122</td> <td> 0.000</td> <td>   -0.740</td> <td>   -0.570</td>\n",
       "</tr>\n",
       "<tr>\n",
       "  <th>ar.L11</th> <td>   -0.4306</td> <td>    0.054</td> <td>   -7.909</td> <td> 0.000</td> <td>   -0.537</td> <td>   -0.324</td>\n",
       "</tr>\n",
       "<tr>\n",
       "  <th>sigma2</th> <td>    8.2804</td> <td>    0.596</td> <td>   13.902</td> <td> 0.000</td> <td>    7.113</td> <td>    9.448</td>\n",
       "</tr>\n",
       "</table>\n",
       "<table class=\"simpletable\">\n",
       "<tr>\n",
       "  <th>Ljung-Box (L1) (Q):</th>     <td>7.41</td> <th>  Jarque-Bera (JB):  </th> <td>9.65</td>\n",
       "</tr>\n",
       "<tr>\n",
       "  <th>Prob(Q):</th>                <td>0.01</td> <th>  Prob(JB):          </th> <td>0.01</td>\n",
       "</tr>\n",
       "<tr>\n",
       "  <th>Heteroskedasticity (H):</th> <td>1.33</td> <th>  Skew:              </th> <td>0.16</td>\n",
       "</tr>\n",
       "<tr>\n",
       "  <th>Prob(H) (two-sided):</th>    <td>0.15</td> <th>  Kurtosis:          </th> <td>3.79</td>\n",
       "</tr>\n",
       "</table><br/><br/>Warnings:<br/>[1] Covariance matrix calculated using the outer product of gradients (complex-step)."
      ],
      "text/plain": [
       "<class 'statsmodels.iolib.summary.Summary'>\n",
       "\"\"\"\n",
       "                               SARIMAX Results                                \n",
       "==============================================================================\n",
       "Dep. Variable:               Ret_WATT   No. Observations:                  316\n",
       "Model:                ARIMA(11, 0, 0)   Log Likelihood                -787.140\n",
       "Date:                Fri, 20 Jan 2023   AIC                           1600.279\n",
       "Time:                        04:19:43   BIC                           1649.104\n",
       "Sample:                    02-01-1985   HQIC                          1619.785\n",
       "                         - 05-01-2011                                         \n",
       "Covariance Type:                  opg                                         \n",
       "==============================================================================\n",
       "                 coef    std err          z      P>|z|      [0.025      0.975]\n",
       "------------------------------------------------------------------------------\n",
       "const          0.5010      0.024     20.900      0.000       0.454       0.548\n",
       "ar.L1         -0.4667      0.048     -9.661      0.000      -0.561      -0.372\n",
       "ar.L2         -0.7132      0.048    -14.846      0.000      -0.807      -0.619\n",
       "ar.L3         -0.6033      0.057    -10.533      0.000      -0.716      -0.491\n",
       "ar.L4         -0.6952      0.057    -12.232      0.000      -0.807      -0.584\n",
       "ar.L5         -0.5798      0.064     -9.093      0.000      -0.705      -0.455\n",
       "ar.L6         -0.5807      0.065     -8.867      0.000      -0.709      -0.452\n",
       "ar.L7         -0.5336      0.061     -8.756      0.000      -0.653      -0.414\n",
       "ar.L8         -0.6576      0.054    -12.267      0.000      -0.763      -0.553\n",
       "ar.L9         -0.6102      0.051    -11.864      0.000      -0.711      -0.509\n",
       "ar.L10        -0.6553      0.043    -15.122      0.000      -0.740      -0.570\n",
       "ar.L11        -0.4306      0.054     -7.909      0.000      -0.537      -0.324\n",
       "sigma2         8.2804      0.596     13.902      0.000       7.113       9.448\n",
       "===================================================================================\n",
       "Ljung-Box (L1) (Q):                   7.41   Jarque-Bera (JB):                 9.65\n",
       "Prob(Q):                              0.01   Prob(JB):                         0.01\n",
       "Heteroskedasticity (H):               1.33   Skew:                             0.16\n",
       "Prob(H) (two-sided):                  0.15   Kurtosis:                         3.79\n",
       "===================================================================================\n",
       "\n",
       "Warnings:\n",
       "[1] Covariance matrix calculated using the outer product of gradients (complex-step).\n",
       "\"\"\""
      ]
     },
     "execution_count": 83,
     "metadata": {},
     "output_type": "execute_result"
    }
   ],
   "source": [
    "model_ret_ar_11 = ARIMA(df_train['Ret_WATT'].iloc[1:], order=(11,0,0))\n",
    "res_ret_model_11 = model_ret_ar_11.fit()\n",
    "res_ret_model_11.summary()"
   ]
  },
  {
   "cell_type": "code",
   "execution_count": 84,
   "id": "bf5f1ae0",
   "metadata": {},
   "outputs": [
    {
     "data": {
      "text/html": [
       "<table class=\"simpletable\">\n",
       "<caption>SARIMAX Results</caption>\n",
       "<tr>\n",
       "  <th>Dep. Variable:</th>       <td>Ret_WATT</td>     <th>  No. Observations:  </th>    <td>316</td>  \n",
       "</tr>\n",
       "<tr>\n",
       "  <th>Model:</th>            <td>ARIMA(12, 0, 0)</td> <th>  Log Likelihood     </th> <td>-765.930</td>\n",
       "</tr>\n",
       "<tr>\n",
       "  <th>Date:</th>            <td>Fri, 20 Jan 2023</td> <th>  AIC                </th> <td>1559.861</td>\n",
       "</tr>\n",
       "<tr>\n",
       "  <th>Time:</th>                <td>04:19:48</td>     <th>  BIC                </th> <td>1612.441</td>\n",
       "</tr>\n",
       "<tr>\n",
       "  <th>Sample:</th>             <td>02-01-1985</td>    <th>  HQIC               </th> <td>1580.866</td>\n",
       "</tr>\n",
       "<tr>\n",
       "  <th></th>                   <td>- 05-01-2011</td>   <th>                     </th>     <td> </td>   \n",
       "</tr>\n",
       "<tr>\n",
       "  <th>Covariance Type:</th>        <td>opg</td>       <th>                     </th>     <td> </td>   \n",
       "</tr>\n",
       "</table>\n",
       "<table class=\"simpletable\">\n",
       "<tr>\n",
       "     <td></td>       <th>coef</th>     <th>std err</th>      <th>z</th>      <th>P>|z|</th>  <th>[0.025</th>    <th>0.975]</th>  \n",
       "</tr>\n",
       "<tr>\n",
       "  <th>const</th>  <td>    0.5023</td> <td>    0.034</td> <td>   14.763</td> <td> 0.000</td> <td>    0.436</td> <td>    0.569</td>\n",
       "</tr>\n",
       "<tr>\n",
       "  <th>ar.L1</th>  <td>   -0.3051</td> <td>    0.050</td> <td>   -6.110</td> <td> 0.000</td> <td>   -0.403</td> <td>   -0.207</td>\n",
       "</tr>\n",
       "<tr>\n",
       "  <th>ar.L2</th>  <td>   -0.4699</td> <td>    0.053</td> <td>   -8.794</td> <td> 0.000</td> <td>   -0.575</td> <td>   -0.365</td>\n",
       "</tr>\n",
       "<tr>\n",
       "  <th>ar.L3</th>  <td>   -0.3858</td> <td>    0.061</td> <td>   -6.299</td> <td> 0.000</td> <td>   -0.506</td> <td>   -0.266</td>\n",
       "</tr>\n",
       "<tr>\n",
       "  <th>ar.L4</th>  <td>   -0.4580</td> <td>    0.062</td> <td>   -7.432</td> <td> 0.000</td> <td>   -0.579</td> <td>   -0.337</td>\n",
       "</tr>\n",
       "<tr>\n",
       "  <th>ar.L5</th>  <td>   -0.3894</td> <td>    0.065</td> <td>   -6.032</td> <td> 0.000</td> <td>   -0.516</td> <td>   -0.263</td>\n",
       "</tr>\n",
       "<tr>\n",
       "  <th>ar.L6</th>  <td>   -0.3667</td> <td>    0.066</td> <td>   -5.540</td> <td> 0.000</td> <td>   -0.496</td> <td>   -0.237</td>\n",
       "</tr>\n",
       "<tr>\n",
       "  <th>ar.L7</th>  <td>   -0.3266</td> <td>    0.062</td> <td>   -5.304</td> <td> 0.000</td> <td>   -0.447</td> <td>   -0.206</td>\n",
       "</tr>\n",
       "<tr>\n",
       "  <th>ar.L8</th>  <td>   -0.4085</td> <td>    0.062</td> <td>   -6.638</td> <td> 0.000</td> <td>   -0.529</td> <td>   -0.288</td>\n",
       "</tr>\n",
       "<tr>\n",
       "  <th>ar.L9</th>  <td>   -0.3840</td> <td>    0.053</td> <td>   -7.179</td> <td> 0.000</td> <td>   -0.489</td> <td>   -0.279</td>\n",
       "</tr>\n",
       "<tr>\n",
       "  <th>ar.L10</th> <td>   -0.3960</td> <td>    0.054</td> <td>   -7.377</td> <td> 0.000</td> <td>   -0.501</td> <td>   -0.291</td>\n",
       "</tr>\n",
       "<tr>\n",
       "  <th>ar.L11</th> <td>   -0.2538</td> <td>    0.052</td> <td>   -4.895</td> <td> 0.000</td> <td>   -0.355</td> <td>   -0.152</td>\n",
       "</tr>\n",
       "<tr>\n",
       "  <th>ar.L12</th> <td>    0.3682</td> <td>    0.047</td> <td>    7.770</td> <td> 0.000</td> <td>    0.275</td> <td>    0.461</td>\n",
       "</tr>\n",
       "<tr>\n",
       "  <th>sigma2</th> <td>    7.0313</td> <td>    0.501</td> <td>   14.027</td> <td> 0.000</td> <td>    6.049</td> <td>    8.014</td>\n",
       "</tr>\n",
       "</table>\n",
       "<table class=\"simpletable\">\n",
       "<tr>\n",
       "  <th>Ljung-Box (L1) (Q):</th>     <td>0.23</td> <th>  Jarque-Bera (JB):  </th> <td>8.35</td>\n",
       "</tr>\n",
       "<tr>\n",
       "  <th>Prob(Q):</th>                <td>0.63</td> <th>  Prob(JB):          </th> <td>0.02</td>\n",
       "</tr>\n",
       "<tr>\n",
       "  <th>Heteroskedasticity (H):</th> <td>1.38</td> <th>  Skew:              </th> <td>0.19</td>\n",
       "</tr>\n",
       "<tr>\n",
       "  <th>Prob(H) (two-sided):</th>    <td>0.10</td> <th>  Kurtosis:          </th> <td>3.70</td>\n",
       "</tr>\n",
       "</table><br/><br/>Warnings:<br/>[1] Covariance matrix calculated using the outer product of gradients (complex-step)."
      ],
      "text/plain": [
       "<class 'statsmodels.iolib.summary.Summary'>\n",
       "\"\"\"\n",
       "                               SARIMAX Results                                \n",
       "==============================================================================\n",
       "Dep. Variable:               Ret_WATT   No. Observations:                  316\n",
       "Model:                ARIMA(12, 0, 0)   Log Likelihood                -765.930\n",
       "Date:                Fri, 20 Jan 2023   AIC                           1559.861\n",
       "Time:                        04:19:48   BIC                           1612.441\n",
       "Sample:                    02-01-1985   HQIC                          1580.866\n",
       "                         - 05-01-2011                                         \n",
       "Covariance Type:                  opg                                         \n",
       "==============================================================================\n",
       "                 coef    std err          z      P>|z|      [0.025      0.975]\n",
       "------------------------------------------------------------------------------\n",
       "const          0.5023      0.034     14.763      0.000       0.436       0.569\n",
       "ar.L1         -0.3051      0.050     -6.110      0.000      -0.403      -0.207\n",
       "ar.L2         -0.4699      0.053     -8.794      0.000      -0.575      -0.365\n",
       "ar.L3         -0.3858      0.061     -6.299      0.000      -0.506      -0.266\n",
       "ar.L4         -0.4580      0.062     -7.432      0.000      -0.579      -0.337\n",
       "ar.L5         -0.3894      0.065     -6.032      0.000      -0.516      -0.263\n",
       "ar.L6         -0.3667      0.066     -5.540      0.000      -0.496      -0.237\n",
       "ar.L7         -0.3266      0.062     -5.304      0.000      -0.447      -0.206\n",
       "ar.L8         -0.4085      0.062     -6.638      0.000      -0.529      -0.288\n",
       "ar.L9         -0.3840      0.053     -7.179      0.000      -0.489      -0.279\n",
       "ar.L10        -0.3960      0.054     -7.377      0.000      -0.501      -0.291\n",
       "ar.L11        -0.2538      0.052     -4.895      0.000      -0.355      -0.152\n",
       "ar.L12         0.3682      0.047      7.770      0.000       0.275       0.461\n",
       "sigma2         7.0313      0.501     14.027      0.000       6.049       8.014\n",
       "===================================================================================\n",
       "Ljung-Box (L1) (Q):                   0.23   Jarque-Bera (JB):                 8.35\n",
       "Prob(Q):                              0.63   Prob(JB):                         0.02\n",
       "Heteroskedasticity (H):               1.38   Skew:                             0.19\n",
       "Prob(H) (two-sided):                  0.10   Kurtosis:                         3.70\n",
       "===================================================================================\n",
       "\n",
       "Warnings:\n",
       "[1] Covariance matrix calculated using the outer product of gradients (complex-step).\n",
       "\"\"\""
      ]
     },
     "execution_count": 84,
     "metadata": {},
     "output_type": "execute_result"
    }
   ],
   "source": [
    "model_ret_ar_12 = ARIMA(df_train['Ret_WATT'].iloc[1:], order=(12,0,0))\n",
    "res_ret_model_12 = model_ret_ar_12.fit()\n",
    "res_ret_model_12.summary()"
   ]
  },
  {
   "cell_type": "code",
   "execution_count": 85,
   "id": "bdab5efe",
   "metadata": {},
   "outputs": [
    {
     "data": {
      "text/html": [
       "<table class=\"simpletable\">\n",
       "<caption>SARIMAX Results</caption>\n",
       "<tr>\n",
       "  <th>Dep. Variable:</th>       <td>Ret_WATT</td>     <th>  No. Observations:  </th>    <td>316</td>  \n",
       "</tr>\n",
       "<tr>\n",
       "  <th>Model:</th>            <td>ARIMA(13, 0, 0)</td> <th>  Log Likelihood     </th> <td>-768.151</td>\n",
       "</tr>\n",
       "<tr>\n",
       "  <th>Date:</th>            <td>Fri, 20 Jan 2023</td> <th>  AIC                </th> <td>1566.301</td>\n",
       "</tr>\n",
       "<tr>\n",
       "  <th>Time:</th>                <td>04:19:53</td>     <th>  BIC                </th> <td>1622.637</td>\n",
       "</tr>\n",
       "<tr>\n",
       "  <th>Sample:</th>             <td>02-01-1985</td>    <th>  HQIC               </th> <td>1588.807</td>\n",
       "</tr>\n",
       "<tr>\n",
       "  <th></th>                   <td>- 05-01-2011</td>   <th>                     </th>     <td> </td>   \n",
       "</tr>\n",
       "<tr>\n",
       "  <th>Covariance Type:</th>        <td>opg</td>       <th>                     </th>     <td> </td>   \n",
       "</tr>\n",
       "</table>\n",
       "<table class=\"simpletable\">\n",
       "<tr>\n",
       "     <td></td>       <th>coef</th>     <th>std err</th>      <th>z</th>      <th>P>|z|</th>  <th>[0.025</th>    <th>0.975]</th>  \n",
       "</tr>\n",
       "<tr>\n",
       "  <th>const</th>  <td>    0.5009</td> <td>    0.036</td> <td>   13.899</td> <td> 0.000</td> <td>    0.430</td> <td>    0.571</td>\n",
       "</tr>\n",
       "<tr>\n",
       "  <th>ar.L1</th>  <td>   -0.3280</td> <td>    0.053</td> <td>   -6.220</td> <td> 0.000</td> <td>   -0.431</td> <td>   -0.225</td>\n",
       "</tr>\n",
       "<tr>\n",
       "  <th>ar.L2</th>  <td>   -0.4643</td> <td>    0.057</td> <td>   -8.148</td> <td> 0.000</td> <td>   -0.576</td> <td>   -0.353</td>\n",
       "</tr>\n",
       "<tr>\n",
       "  <th>ar.L3</th>  <td>   -0.3658</td> <td>    0.070</td> <td>   -5.239</td> <td> 0.000</td> <td>   -0.503</td> <td>   -0.229</td>\n",
       "</tr>\n",
       "<tr>\n",
       "  <th>ar.L4</th>  <td>   -0.4359</td> <td>    0.071</td> <td>   -6.101</td> <td> 0.000</td> <td>   -0.576</td> <td>   -0.296</td>\n",
       "</tr>\n",
       "<tr>\n",
       "  <th>ar.L5</th>  <td>   -0.3647</td> <td>    0.072</td> <td>   -5.076</td> <td> 0.000</td> <td>   -0.506</td> <td>   -0.224</td>\n",
       "</tr>\n",
       "<tr>\n",
       "  <th>ar.L6</th>  <td>   -0.3496</td> <td>    0.074</td> <td>   -4.729</td> <td> 0.000</td> <td>   -0.494</td> <td>   -0.205</td>\n",
       "</tr>\n",
       "<tr>\n",
       "  <th>ar.L7</th>  <td>   -0.3013</td> <td>    0.068</td> <td>   -4.436</td> <td> 0.000</td> <td>   -0.434</td> <td>   -0.168</td>\n",
       "</tr>\n",
       "<tr>\n",
       "  <th>ar.L8</th>  <td>   -0.3782</td> <td>    0.071</td> <td>   -5.321</td> <td> 0.000</td> <td>   -0.518</td> <td>   -0.239</td>\n",
       "</tr>\n",
       "<tr>\n",
       "  <th>ar.L9</th>  <td>   -0.3557</td> <td>    0.064</td> <td>   -5.546</td> <td> 0.000</td> <td>   -0.481</td> <td>   -0.230</td>\n",
       "</tr>\n",
       "<tr>\n",
       "  <th>ar.L10</th> <td>   -0.3760</td> <td>    0.060</td> <td>   -6.291</td> <td> 0.000</td> <td>   -0.493</td> <td>   -0.259</td>\n",
       "</tr>\n",
       "<tr>\n",
       "  <th>ar.L11</th> <td>   -0.2237</td> <td>    0.064</td> <td>   -3.519</td> <td> 0.000</td> <td>   -0.348</td> <td>   -0.099</td>\n",
       "</tr>\n",
       "<tr>\n",
       "  <th>ar.L12</th> <td>    0.3845</td> <td>    0.054</td> <td>    7.132</td> <td> 0.000</td> <td>    0.279</td> <td>    0.490</td>\n",
       "</tr>\n",
       "<tr>\n",
       "  <th>ar.L13</th> <td>    0.0591</td> <td>    0.060</td> <td>    0.986</td> <td> 0.324</td> <td>   -0.058</td> <td>    0.177</td>\n",
       "</tr>\n",
       "<tr>\n",
       "  <th>sigma2</th> <td>    7.0761</td> <td>    0.508</td> <td>   13.941</td> <td> 0.000</td> <td>    6.081</td> <td>    8.071</td>\n",
       "</tr>\n",
       "</table>\n",
       "<table class=\"simpletable\">\n",
       "<tr>\n",
       "  <th>Ljung-Box (L1) (Q):</th>     <td>0.05</td> <th>  Jarque-Bera (JB):  </th> <td>9.21</td>\n",
       "</tr>\n",
       "<tr>\n",
       "  <th>Prob(Q):</th>                <td>0.82</td> <th>  Prob(JB):          </th> <td>0.01</td>\n",
       "</tr>\n",
       "<tr>\n",
       "  <th>Heteroskedasticity (H):</th> <td>1.38</td> <th>  Skew:              </th> <td>0.20</td>\n",
       "</tr>\n",
       "<tr>\n",
       "  <th>Prob(H) (two-sided):</th>    <td>0.10</td> <th>  Kurtosis:          </th> <td>3.74</td>\n",
       "</tr>\n",
       "</table><br/><br/>Warnings:<br/>[1] Covariance matrix calculated using the outer product of gradients (complex-step)."
      ],
      "text/plain": [
       "<class 'statsmodels.iolib.summary.Summary'>\n",
       "\"\"\"\n",
       "                               SARIMAX Results                                \n",
       "==============================================================================\n",
       "Dep. Variable:               Ret_WATT   No. Observations:                  316\n",
       "Model:                ARIMA(13, 0, 0)   Log Likelihood                -768.151\n",
       "Date:                Fri, 20 Jan 2023   AIC                           1566.301\n",
       "Time:                        04:19:53   BIC                           1622.637\n",
       "Sample:                    02-01-1985   HQIC                          1588.807\n",
       "                         - 05-01-2011                                         \n",
       "Covariance Type:                  opg                                         \n",
       "==============================================================================\n",
       "                 coef    std err          z      P>|z|      [0.025      0.975]\n",
       "------------------------------------------------------------------------------\n",
       "const          0.5009      0.036     13.899      0.000       0.430       0.571\n",
       "ar.L1         -0.3280      0.053     -6.220      0.000      -0.431      -0.225\n",
       "ar.L2         -0.4643      0.057     -8.148      0.000      -0.576      -0.353\n",
       "ar.L3         -0.3658      0.070     -5.239      0.000      -0.503      -0.229\n",
       "ar.L4         -0.4359      0.071     -6.101      0.000      -0.576      -0.296\n",
       "ar.L5         -0.3647      0.072     -5.076      0.000      -0.506      -0.224\n",
       "ar.L6         -0.3496      0.074     -4.729      0.000      -0.494      -0.205\n",
       "ar.L7         -0.3013      0.068     -4.436      0.000      -0.434      -0.168\n",
       "ar.L8         -0.3782      0.071     -5.321      0.000      -0.518      -0.239\n",
       "ar.L9         -0.3557      0.064     -5.546      0.000      -0.481      -0.230\n",
       "ar.L10        -0.3760      0.060     -6.291      0.000      -0.493      -0.259\n",
       "ar.L11        -0.2237      0.064     -3.519      0.000      -0.348      -0.099\n",
       "ar.L12         0.3845      0.054      7.132      0.000       0.279       0.490\n",
       "ar.L13         0.0591      0.060      0.986      0.324      -0.058       0.177\n",
       "sigma2         7.0761      0.508     13.941      0.000       6.081       8.071\n",
       "===================================================================================\n",
       "Ljung-Box (L1) (Q):                   0.05   Jarque-Bera (JB):                 9.21\n",
       "Prob(Q):                              0.82   Prob(JB):                         0.01\n",
       "Heteroskedasticity (H):               1.38   Skew:                             0.20\n",
       "Prob(H) (two-sided):                  0.10   Kurtosis:                         3.74\n",
       "===================================================================================\n",
       "\n",
       "Warnings:\n",
       "[1] Covariance matrix calculated using the outer product of gradients (complex-step).\n",
       "\"\"\""
      ]
     },
     "execution_count": 85,
     "metadata": {},
     "output_type": "execute_result"
    }
   ],
   "source": [
    "model_ret_ar_13 = ARIMA(df_train['Ret_WATT'].iloc[1:], order=(13,0,0))\n",
    "res_ret_model_13 = model_ret_ar_13.fit()\n",
    "res_ret_model_13.summary()"
   ]
  },
  {
   "cell_type": "code",
   "execution_count": 86,
   "id": "a17237ae",
   "metadata": {},
   "outputs": [
    {
     "data": {
      "text/plain": [
       "0.0"
      ]
     },
     "execution_count": 86,
     "metadata": {},
     "output_type": "execute_result"
    }
   ],
   "source": [
    "LLR_test(model_ret_ar_1, model_ret_ar_2)"
   ]
  },
  {
   "cell_type": "code",
   "execution_count": 87,
   "id": "f21760e3",
   "metadata": {},
   "outputs": [
    {
     "data": {
      "text/plain": [
       "0.0"
      ]
     },
     "execution_count": 87,
     "metadata": {},
     "output_type": "execute_result"
    }
   ],
   "source": [
    "LLR_test(model_ret_ar_2, model_ret_ar_3)"
   ]
  },
  {
   "cell_type": "code",
   "execution_count": 88,
   "id": "ba54a0bf",
   "metadata": {},
   "outputs": [
    {
     "data": {
      "text/plain": [
       "0.0"
      ]
     },
     "execution_count": 88,
     "metadata": {},
     "output_type": "execute_result"
    }
   ],
   "source": [
    "LLR_test(model_ret_ar_3, model_ret_ar_4)"
   ]
  },
  {
   "cell_type": "code",
   "execution_count": 89,
   "id": "1baba1e2",
   "metadata": {},
   "outputs": [
    {
     "data": {
      "text/plain": [
       "0.488"
      ]
     },
     "execution_count": 89,
     "metadata": {},
     "output_type": "execute_result"
    }
   ],
   "source": [
    "LLR_test(model_ret_ar_4, model_ret_ar_5)"
   ]
  },
  {
   "cell_type": "code",
   "execution_count": 90,
   "id": "debe761d",
   "metadata": {},
   "outputs": [
    {
     "data": {
      "text/plain": [
       "0.038"
      ]
     },
     "execution_count": 90,
     "metadata": {},
     "output_type": "execute_result"
    }
   ],
   "source": [
    "LLR_test(model_ret_ar_5, model_ret_ar_6)"
   ]
  },
  {
   "cell_type": "code",
   "execution_count": 91,
   "id": "d19ef49d",
   "metadata": {},
   "outputs": [
    {
     "data": {
      "text/plain": [
       "0.274"
      ]
     },
     "execution_count": 91,
     "metadata": {},
     "output_type": "execute_result"
    }
   ],
   "source": [
    "LLR_test(model_ret_ar_6, model_ret_ar_7)"
   ]
  },
  {
   "cell_type": "code",
   "execution_count": 92,
   "id": "c2dbeccc",
   "metadata": {},
   "outputs": [
    {
     "data": {
      "text/plain": [
       "0.0"
      ]
     },
     "execution_count": 92,
     "metadata": {},
     "output_type": "execute_result"
    }
   ],
   "source": [
    "LLR_test(model_ret_ar_7, model_ret_ar_8)"
   ]
  },
  {
   "cell_type": "code",
   "execution_count": 93,
   "id": "aee6a820",
   "metadata": {},
   "outputs": [
    {
     "data": {
      "text/plain": [
       "0.0"
      ]
     },
     "execution_count": 93,
     "metadata": {},
     "output_type": "execute_result"
    }
   ],
   "source": [
    "LLR_test(model_ret_ar_8, model_ret_ar_9)"
   ]
  },
  {
   "cell_type": "code",
   "execution_count": 94,
   "id": "018051a2",
   "metadata": {},
   "outputs": [
    {
     "data": {
      "text/plain": [
       "0.0"
      ]
     },
     "execution_count": 94,
     "metadata": {},
     "output_type": "execute_result"
    }
   ],
   "source": [
    "LLR_test(model_ret_ar_9, model_ret_ar_10)"
   ]
  },
  {
   "cell_type": "code",
   "execution_count": 95,
   "id": "08f41572",
   "metadata": {},
   "outputs": [
    {
     "data": {
      "text/plain": [
       "0.0"
      ]
     },
     "execution_count": 95,
     "metadata": {},
     "output_type": "execute_result"
    }
   ],
   "source": [
    "LLR_test(model_ret_ar_10, model_ret_ar_11)"
   ]
  },
  {
   "cell_type": "code",
   "execution_count": 96,
   "id": "0cc97fa8",
   "metadata": {},
   "outputs": [
    {
     "data": {
      "text/plain": [
       "0.0"
      ]
     },
     "execution_count": 96,
     "metadata": {},
     "output_type": "execute_result"
    }
   ],
   "source": [
    "LLR_test(model_ret_ar_11, model_ret_ar_12)"
   ]
  },
  {
   "cell_type": "code",
   "execution_count": 97,
   "id": "99b8c85d",
   "metadata": {},
   "outputs": [
    {
     "data": {
      "text/plain": [
       "1.0"
      ]
     },
     "execution_count": 97,
     "metadata": {},
     "output_type": "execute_result"
    }
   ],
   "source": [
    "LLR_test(model_ret_ar_12, model_ret_ar_13)"
   ]
  },
  {
   "cell_type": "code",
   "execution_count": 98,
   "id": "0f467fcb",
   "metadata": {},
   "outputs": [
    {
     "data": {
      "text/plain": [
       "0.091"
      ]
     },
     "execution_count": 98,
     "metadata": {},
     "output_type": "execute_result"
    }
   ],
   "source": [
    "LLR_test(model_ret_ar_4, model_ret_ar_6, DF=2)"
   ]
  },
  {
   "cell_type": "code",
   "execution_count": 99,
   "id": "843d901b",
   "metadata": {},
   "outputs": [
    {
     "data": {
      "text/plain": [
       "0.0"
      ]
     },
     "execution_count": 99,
     "metadata": {},
     "output_type": "execute_result"
    }
   ],
   "source": [
    "LLR_test(model_ret_ar_4, model_ret_ar_8, DF=4)"
   ]
  },
  {
   "cell_type": "code",
   "execution_count": 100,
   "id": "98475e8f",
   "metadata": {},
   "outputs": [
    {
     "data": {
      "text/plain": [
       "0.0"
      ]
     },
     "execution_count": 100,
     "metadata": {},
     "output_type": "execute_result"
    }
   ],
   "source": [
    "LLR_test(model_ret_ar_4, model_ret_ar_12, DF=8)"
   ]
  },
  {
   "cell_type": "code",
   "execution_count": 101,
   "id": "2021de03",
   "metadata": {},
   "outputs": [
    {
     "data": {
      "text/plain": [
       "0.0"
      ]
     },
     "execution_count": 101,
     "metadata": {},
     "output_type": "execute_result"
    }
   ],
   "source": [
    "LLR_test(model_ret_ar_8, model_ret_ar_12, DF=4)"
   ]
  },
  {
   "cell_type": "code",
   "execution_count": 102,
   "id": "29a13880",
   "metadata": {},
   "outputs": [],
   "source": [
    "df_train['Res_Ret_WATT'] = res_ret_model_4.resid"
   ]
  },
  {
   "cell_type": "code",
   "execution_count": 103,
   "id": "dad9796b",
   "metadata": {},
   "outputs": [
    {
     "data": {
      "text/plain": [
       "-0.05791992236390741"
      ]
     },
     "execution_count": 103,
     "metadata": {},
     "output_type": "execute_result"
    }
   ],
   "source": [
    "df_train['Res_Ret_WATT'].mean()"
   ]
  },
  {
   "cell_type": "code",
   "execution_count": 104,
   "id": "1cbf58fe",
   "metadata": {},
   "outputs": [
    {
     "data": {
      "text/plain": [
       "18.165051872922565"
      ]
     },
     "execution_count": 104,
     "metadata": {},
     "output_type": "execute_result"
    }
   ],
   "source": [
    "df_train['Res_Ret_WATT'].var()"
   ]
  },
  {
   "cell_type": "code",
   "execution_count": 105,
   "id": "f3e8ebd6",
   "metadata": {},
   "outputs": [
    {
     "data": {
      "text/plain": [
       "(-5.9546484964580175,\n",
       " 2.1072669480620623e-07,\n",
       " 15,\n",
       " 300,\n",
       " {'1%': -3.4523371197407404,\n",
       "  '5%': -2.871222860740741,\n",
       "  '10%': -2.571929211111111},\n",
       " 1501.2321764034027)"
      ]
     },
     "execution_count": 105,
     "metadata": {},
     "output_type": "execute_result"
    }
   ],
   "source": [
    "adfuller(df_train['Res_Ret_WATT'].iloc[1:])"
   ]
  },
  {
   "cell_type": "code",
   "execution_count": 106,
   "id": "2937829a",
   "metadata": {},
   "outputs": [
    {
     "data": {
      "image/png": "[encoded data removed]",
      "text/plain": [
       "<Figure size 432x288 with 1 Axes>"
      ]
     },
     "metadata": {
      "needs_background": "light"
     },
     "output_type": "display_data"
    }
   ],
   "source": [
    "plot_acf(df_train['Res_Ret_WATT'].iloc[1:], lags=40, zero=False)\n",
    "plt.show()"
   ]
  },
  {
   "cell_type": "code",
   "execution_count": 172,
   "id": "10a4fcdf",
   "metadata": {},
   "outputs": [
    {
     "data": {
      "image/png": "[encoded data removed]",
      "text/plain": [
       "<Figure size 432x288 with 1 Axes>"
      ]
     },
     "metadata": {
      "needs_background": "light"
     },
     "output_type": "display_data"
    }
   ],
   "source": [
    "df_train['Res_Ret_WATT'].iloc[1:].plot()\n",
    "plt.title('Res_Ret_WATT 4')\n",
    "plt.show()"
   ]
  },
  {
   "cell_type": "code",
   "execution_count": 108,
   "id": "b8e01e32",
   "metadata": {},
   "outputs": [],
   "source": [
    "df_train['Res_Ret_WATT'] = res_ret_model_8.resid"
   ]
  },
  {
   "cell_type": "code",
   "execution_count": 109,
   "id": "81959716",
   "metadata": {},
   "outputs": [
    {
     "data": {
      "text/plain": [
       "-0.06747208821899907"
      ]
     },
     "execution_count": 109,
     "metadata": {},
     "output_type": "execute_result"
    }
   ],
   "source": [
    "df_train['Res_Ret_WATT'].mean()"
   ]
  },
  {
   "cell_type": "code",
   "execution_count": 110,
   "id": "3275dba8",
   "metadata": {},
   "outputs": [
    {
     "data": {
      "text/plain": [
       "16.691637101936752"
      ]
     },
     "execution_count": 110,
     "metadata": {},
     "output_type": "execute_result"
    }
   ],
   "source": [
    "df_train['Res_Ret_WATT'].var()"
   ]
  },
  {
   "cell_type": "code",
   "execution_count": 111,
   "id": "d9a6c2f5",
   "metadata": {},
   "outputs": [
    {
     "data": {
      "image/png": "[encoded data removed]",
      "text/plain": [
       "<Figure size 432x288 with 1 Axes>"
      ]
     },
     "metadata": {
      "needs_background": "light"
     },
     "output_type": "display_data"
    }
   ],
   "source": [
    "plot_acf(df_train['Res_Ret_WATT'].iloc[1:], lags=40, zero=False)\n",
    "plt.show()"
   ]
  },
  {
   "cell_type": "code",
   "execution_count": 112,
   "id": "5d812686",
   "metadata": {},
   "outputs": [
    {
     "data": {
      "image/png": "[encoded data removed]",
      "text/plain": [
       "<Figure size 432x288 with 1 Axes>"
      ]
     },
     "metadata": {
      "needs_background": "light"
     },
     "output_type": "display_data"
    }
   ],
   "source": [
    "df_train['Res_Ret_WATT'].plot()\n",
    "plt.title('Res_Ret_WATT 8')\n",
    "plt.show()"
   ]
  },
  {
   "cell_type": "code",
   "execution_count": 175,
   "id": "c2846fb6",
   "metadata": {},
   "outputs": [
    {
     "data": {
      "text/plain": [
       "DATE\n",
       "1985-02-01    -3.030643\n",
       "1985-03-01   -10.741331\n",
       "1985-04-01    -0.646506\n",
       "1985-05-01    -7.577800\n",
       "1985-06-01    -6.238135\n",
       "                ...    \n",
       "2011-01-01    -1.900621\n",
       "2011-02-01    -2.342644\n",
       "2011-03-01     3.490582\n",
       "2011-04-01     1.778848\n",
       "2011-05-01    -2.627022\n",
       "Length: 316, dtype: float64"
      ]
     },
     "execution_count": 175,
     "metadata": {},
     "output_type": "execute_result"
    }
   ],
   "source": [
    "df_train['Res_Ret_WATT'] = res_ret_model_12.resid\n",
    "res_ret_model_12.resid"
   ]
  },
  {
   "cell_type": "code",
   "execution_count": 114,
   "id": "5d8db9f8",
   "metadata": {},
   "outputs": [
    {
     "data": {
      "text/plain": [
       "-0.10914777884898041"
      ]
     },
     "execution_count": 114,
     "metadata": {},
     "output_type": "execute_result"
    }
   ],
   "source": [
    "df_train['Res_Ret_WATT'].mean()"
   ]
  },
  {
   "cell_type": "code",
   "execution_count": 115,
   "id": "f7019b78",
   "metadata": {},
   "outputs": [
    {
     "data": {
      "text/plain": [
       "7.801792270131413"
      ]
     },
     "execution_count": 115,
     "metadata": {},
     "output_type": "execute_result"
    }
   ],
   "source": [
    "df_train['Res_Ret_WATT'].var()"
   ]
  },
  {
   "cell_type": "code",
   "execution_count": 116,
   "id": "ed88f719",
   "metadata": {},
   "outputs": [
    {
     "data": {
      "image/png": "[encoded data removed]",
      "text/plain": [
       "<Figure size 432x288 with 1 Axes>"
      ]
     },
     "metadata": {
      "needs_background": "light"
     },
     "output_type": "display_data"
    }
   ],
   "source": [
    "plot_acf(df_train['Res_Ret_WATT'].iloc[1:], lags=40, zero=False)\n",
    "plt.show()"
   ]
  },
  {
   "cell_type": "code",
   "execution_count": 121,
   "id": "d772995b",
   "metadata": {},
   "outputs": [
    {
     "data": {
      "image/png": "[encoded data removed]",
      "text/plain": [
       "<Figure size 432x288 with 1 Axes>"
      ]
     },
     "metadata": {
      "needs_background": "light"
     },
     "output_type": "display_data"
    }
   ],
   "source": [
    "df_train['Res_Ret_WATT'].plot()\n",
    "plt.title('Res_Ret_WATT 12')\n",
    "plt.show()"
   ]
  },
  {
   "cell_type": "code",
   "execution_count": 125,
   "id": "aae346f9",
   "metadata": {},
   "outputs": [
    {
     "data": {
      "image/png": "[encoded data removed]",
      "text/plain": [
       "<Figure size 576x360 with 1 Axes>"
      ]
     },
     "metadata": {
      "needs_background": "light"
     },
     "output_type": "display_data"
    }
   ],
   "source": [
    "plt.figure(figsize=(8, 5))\n",
    "plt.plot(df_train['WATT'])\n",
    "plt.plot(df_test['WATT'])\n",
    "plt.legend(['train', 'test'])\n",
    "plt.show()"
   ]
  },
  {
   "cell_type": "code",
   "execution_count": 126,
   "id": "1adc8664",
   "metadata": {},
   "outputs": [],
   "source": [
    "from sklearn.metrics import r2_score"
   ]
  },
  {
   "cell_type": "code",
   "execution_count": 167,
   "id": "7da33ecd",
   "metadata": {},
   "outputs": [
    {
     "data": {
      "image/png": "[encoded data removed]",
      "text/plain": [
       "<Figure size 432x288 with 1 Axes>"
      ]
     },
     "metadata": {
      "needs_background": "light"
     },
     "output_type": "display_data"
    }
   ],
   "source": [
    "res_model_13_pred = pd.DataFrame(res_model_13.predict(start=df_test.index[0], end=df_test.index[len(df_test)-1]), index=df_test.index)\n",
    "res_model_13_pred.plot()\n",
    "df_test['WATT'].plot()\n",
    "plt.show()"
   ]
  },
  {
   "cell_type": "code",
   "execution_count": 169,
   "id": "8f850b79",
   "metadata": {},
   "outputs": [
    {
     "data": {
      "text/plain": [
       "0.8065318198365783"
      ]
     },
     "execution_count": 169,
     "metadata": {},
     "output_type": "execute_result"
    }
   ],
   "source": [
    "df_test['ar_model_13_pred'] = res_model_13_pred\n",
    "r2_score(df_test['WATT'], df_test['ar_model_13_pred'])"
   ]
  },
  {
   "cell_type": "code",
   "execution_count": 170,
   "id": "ce51b56b",
   "metadata": {},
   "outputs": [
    {
     "data": {
      "image/png": "[encoded data removed]",
      "text/plain": [
       "<Figure size 432x288 with 1 Axes>"
      ]
     },
     "metadata": {
      "needs_background": "light"
     },
     "output_type": "display_data"
    }
   ],
   "source": [
    "res_ret_model_12_pred = pd.DataFrame(res_ret_model_12.predict(start=df_test.index[0], end=df_test.index[len(df_test)-1]), index=df_test.index)\n",
    "res_ret_model_12_pred.plot()\n",
    "df_test['WATT'].plot()\n",
    "plt.show()"
   ]
  },
  {
   "cell_type": "code",
   "execution_count": 171,
   "id": "cda97d2a",
   "metadata": {},
   "outputs": [
    {
     "data": {
      "text/plain": [
       "-113.72893574824313"
      ]
     },
     "execution_count": 171,
     "metadata": {},
     "output_type": "execute_result"
    }
   ],
   "source": [
    "df_test['res_ret_model_12_pred'] = res_ret_model_12_pred\n",
    "r2_score(df_test['WATT'], df_test['res_ret_model_12_pred'])"
   ]
  },
  {
   "cell_type": "code",
   "execution_count": null,
   "id": "672dd5fb",
   "metadata": {},
   "outputs": [],
   "source": []
  }
 ],
 "metadata": {
  "kernelspec": {
   "display_name": "Python 3 (ipykernel)",
   "language": "python",
   "name": "python3"
  },
  "language_info": {
   "codemirror_mode": {
    "name": "ipython",
    "version": 3
   },
   "file_extension": ".py",
   "mimetype": "text/x-python",
   "name": "python",
   "nbconvert_exporter": "python",
   "pygments_lexer": "ipython3",
   "version": "3.10.8"
  }
 },
 "nbformat": 4,
 "nbformat_minor": 5
}
