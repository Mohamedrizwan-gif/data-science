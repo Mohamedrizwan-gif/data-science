{
  "nbformat": 4,
  "nbformat_minor": 0,
  "metadata": {
    "colab": {
      "provenance": []
    },
    "kernelspec": {
      "name": "python3",
      "display_name": "Python 3"
    },
    "language_info": {
      "name": "python"
    },
    "accelerator": "GPU",
    "gpuClass": "standard"
  },
  "cells": [
    {
      "cell_type": "code",
      "execution_count": 1,
      "metadata": {
        "id": "SsF8r2DuGTed"
      },
      "outputs": [],
      "source": [
        "import sklearn\n",
        "from sklearn.datasets import make_circles\n",
        "import torch \n",
        "from torch import nn\n",
        "import matplotlib.pyplot as plt"
      ]
    },
    {
      "cell_type": "code",
      "source": [
        "n_samples = 3000\n",
        "\n",
        "X, y = make_circles(\n",
        "    n_samples,\n",
        "    noise=0.03,\n",
        "    random_state=42\n",
        ")"
      ],
      "metadata": {
        "id": "qI2L-HdxHLfx"
      },
      "execution_count": 2,
      "outputs": []
    },
    {
      "cell_type": "code",
      "source": [
        "len(X), len(y)"
      ],
      "metadata": {
        "colab": {
          "base_uri": "https://localhost:8080/"
        },
        "id": "Tb8UXNaGHbMX",
        "outputId": "eead459f-0644-4f48-f13d-e440d0b3569d"
      },
      "execution_count": 3,
      "outputs": [
        {
          "output_type": "execute_result",
          "data": {
            "text/plain": [
              "(3000, 3000)"
            ]
          },
          "metadata": {},
          "execution_count": 3
        }
      ]
    },
    {
      "cell_type": "code",
      "source": [
        "import pandas as pd\n",
        "\n",
        "circles = pd.DataFrame({\n",
        "    'X1': X[:, 0],\n",
        "    'X2': X[:, 1],\n",
        "    'label': y\n",
        "})"
      ],
      "metadata": {
        "id": "pfs2E1msHcuu"
      },
      "execution_count": 4,
      "outputs": []
    },
    {
      "cell_type": "code",
      "source": [
        "circles.head()"
      ],
      "metadata": {
        "colab": {
          "base_uri": "https://localhost:8080/",
          "height": 206
        },
        "id": "DbjF6LxcH5j8",
        "outputId": "4bba7059-9a6f-44a5-d785-b35691651967"
      },
      "execution_count": 5,
      "outputs": [
        {
          "output_type": "execute_result",
          "data": {
            "text/plain": [
              "         X1        X2  label\n",
              "0  0.204614  0.744496      1\n",
              "1  0.240364 -0.972271      0\n",
              "2  0.231681  0.765188      1\n",
              "3  0.485038  0.867620      0\n",
              "4 -0.397572 -0.703067      1"
            ],
            "text/html": [
              "\n",
              "  <div id=\"df-0af51e28-faa8-469d-a8e3-72ca12200d2e\">\n",
              "    <div class=\"colab-df-container\">\n",
              "      <div>\n",
              "<style scoped>\n",
              "    .dataframe tbody tr th:only-of-type {\n",
              "        vertical-align: middle;\n",
              "    }\n",
              "\n",
              "    .dataframe tbody tr th {\n",
              "        vertical-align: top;\n",
              "    }\n",
              "\n",
              "    .dataframe thead th {\n",
              "        text-align: right;\n",
              "    }\n",
              "</style>\n",
              "<table border=\"1\" class=\"dataframe\">\n",
              "  <thead>\n",
              "    <tr style=\"text-align: right;\">\n",
              "      <th></th>\n",
              "      <th>X1</th>\n",
              "      <th>X2</th>\n",
              "      <th>label</th>\n",
              "    </tr>\n",
              "  </thead>\n",
              "  <tbody>\n",
              "    <tr>\n",
              "      <th>0</th>\n",
              "      <td>0.204614</td>\n",
              "      <td>0.744496</td>\n",
              "      <td>1</td>\n",
              "    </tr>\n",
              "    <tr>\n",
              "      <th>1</th>\n",
              "      <td>0.240364</td>\n",
              "      <td>-0.972271</td>\n",
              "      <td>0</td>\n",
              "    </tr>\n",
              "    <tr>\n",
              "      <th>2</th>\n",
              "      <td>0.231681</td>\n",
              "      <td>0.765188</td>\n",
              "      <td>1</td>\n",
              "    </tr>\n",
              "    <tr>\n",
              "      <th>3</th>\n",
              "      <td>0.485038</td>\n",
              "      <td>0.867620</td>\n",
              "      <td>0</td>\n",
              "    </tr>\n",
              "    <tr>\n",
              "      <th>4</th>\n",
              "      <td>-0.397572</td>\n",
              "      <td>-0.703067</td>\n",
              "      <td>1</td>\n",
              "    </tr>\n",
              "  </tbody>\n",
              "</table>\n",
              "</div>\n",
              "      <button class=\"colab-df-convert\" onclick=\"convertToInteractive('df-0af51e28-faa8-469d-a8e3-72ca12200d2e')\"\n",
              "              title=\"Convert this dataframe to an interactive table.\"\n",
              "              style=\"display:none;\">\n",
              "        \n",
              "  <svg xmlns=\"http://www.w3.org/2000/svg\" height=\"24px\"viewBox=\"0 0 24 24\"\n",
              "       width=\"24px\">\n",
              "    <path d=\"M0 0h24v24H0V0z\" fill=\"none\"/>\n",
              "    <path d=\"M18.56 5.44l.94 2.06.94-2.06 2.06-.94-2.06-.94-.94-2.06-.94 2.06-2.06.94zm-11 1L8.5 8.5l.94-2.06 2.06-.94-2.06-.94L8.5 2.5l-.94 2.06-2.06.94zm10 10l.94 2.06.94-2.06 2.06-.94-2.06-.94-.94-2.06-.94 2.06-2.06.94z\"/><path d=\"M17.41 7.96l-1.37-1.37c-.4-.4-.92-.59-1.43-.59-.52 0-1.04.2-1.43.59L10.3 9.45l-7.72 7.72c-.78.78-.78 2.05 0 2.83L4 21.41c.39.39.9.59 1.41.59.51 0 1.02-.2 1.41-.59l7.78-7.78 2.81-2.81c.8-.78.8-2.07 0-2.86zM5.41 20L4 18.59l7.72-7.72 1.47 1.35L5.41 20z\"/>\n",
              "  </svg>\n",
              "      </button>\n",
              "      \n",
              "  <style>\n",
              "    .colab-df-container {\n",
              "      display:flex;\n",
              "      flex-wrap:wrap;\n",
              "      gap: 12px;\n",
              "    }\n",
              "\n",
              "    .colab-df-convert {\n",
              "      background-color: #E8F0FE;\n",
              "      border: none;\n",
              "      border-radius: 50%;\n",
              "      cursor: pointer;\n",
              "      display: none;\n",
              "      fill: #1967D2;\n",
              "      height: 32px;\n",
              "      padding: 0 0 0 0;\n",
              "      width: 32px;\n",
              "    }\n",
              "\n",
              "    .colab-df-convert:hover {\n",
              "      background-color: #E2EBFA;\n",
              "      box-shadow: 0px 1px 2px rgba(60, 64, 67, 0.3), 0px 1px 3px 1px rgba(60, 64, 67, 0.15);\n",
              "      fill: #174EA6;\n",
              "    }\n",
              "\n",
              "    [theme=dark] .colab-df-convert {\n",
              "      background-color: #3B4455;\n",
              "      fill: #D2E3FC;\n",
              "    }\n",
              "\n",
              "    [theme=dark] .colab-df-convert:hover {\n",
              "      background-color: #434B5C;\n",
              "      box-shadow: 0px 1px 3px 1px rgba(0, 0, 0, 0.15);\n",
              "      filter: drop-shadow(0px 1px 2px rgba(0, 0, 0, 0.3));\n",
              "      fill: #FFFFFF;\n",
              "    }\n",
              "  </style>\n",
              "\n",
              "      <script>\n",
              "        const buttonEl =\n",
              "          document.querySelector('#df-0af51e28-faa8-469d-a8e3-72ca12200d2e button.colab-df-convert');\n",
              "        buttonEl.style.display =\n",
              "          google.colab.kernel.accessAllowed ? 'block' : 'none';\n",
              "\n",
              "        async function convertToInteractive(key) {\n",
              "          const element = document.querySelector('#df-0af51e28-faa8-469d-a8e3-72ca12200d2e');\n",
              "          const dataTable =\n",
              "            await google.colab.kernel.invokeFunction('convertToInteractive',\n",
              "                                                     [key], {});\n",
              "          if (!dataTable) return;\n",
              "\n",
              "          const docLinkHtml = 'Like what you see? Visit the ' +\n",
              "            '<a target=\"_blank\" href=https://colab.research.google.com/notebooks/data_table.ipynb>data table notebook</a>'\n",
              "            + ' to learn more about interactive tables.';\n",
              "          element.innerHTML = '';\n",
              "          dataTable['output_type'] = 'display_data';\n",
              "          await google.colab.output.renderOutput(dataTable, element);\n",
              "          const docLink = document.createElement('div');\n",
              "          docLink.innerHTML = docLinkHtml;\n",
              "          element.appendChild(docLink);\n",
              "        }\n",
              "      </script>\n",
              "    </div>\n",
              "  </div>\n",
              "  "
            ]
          },
          "metadata": {},
          "execution_count": 5
        }
      ]
    },
    {
      "cell_type": "code",
      "source": [
        "plt.scatter(\n",
        "    x=X[:, 0],\n",
        "    y=X[:, 1],\n",
        "    c=y,\n",
        "    cmap=plt.cm.RdYlBu\n",
        ")\n",
        "plt.show()"
      ],
      "metadata": {
        "colab": {
          "base_uri": "https://localhost:8080/",
          "height": 430
        },
        "id": "LF_Zbz2CH7V2",
        "outputId": "85780641-cbfc-4ee4-8766-8e32d4a8012e"
      },
      "execution_count": 6,
      "outputs": [
        {
          "output_type": "display_data",
          "data": {
            "text/plain": [
              "<Figure size 640x480 with 1 Axes>"
            ],
            "image/png": "[encoded data removed]"
          },
          "metadata": {}
        }
      ]
    },
    {
      "cell_type": "code",
      "source": [
        "X.shape, y.shape"
      ],
      "metadata": {
        "colab": {
          "base_uri": "https://localhost:8080/"
        },
        "id": "KVXhKGRKISSQ",
        "outputId": "f02c4b17-b189-4c3c-fa94-8ff4f1ac3415"
      },
      "execution_count": 7,
      "outputs": [
        {
          "output_type": "execute_result",
          "data": {
            "text/plain": [
              "((3000, 2), (3000,))"
            ]
          },
          "metadata": {},
          "execution_count": 7
        }
      ]
    },
    {
      "cell_type": "code",
      "source": [
        "X = torch.from_numpy(X)\n",
        "y = torch.from_numpy(y)"
      ],
      "metadata": {
        "id": "y1id2BTXIwol"
      },
      "execution_count": 8,
      "outputs": []
    },
    {
      "cell_type": "code",
      "source": [
        "X.dtype, y.dtype"
      ],
      "metadata": {
        "colab": {
          "base_uri": "https://localhost:8080/"
        },
        "id": "BL0XeYvGJMaR",
        "outputId": "0d2897b9-8d9f-4e32-bd6a-f8ca19775a8e"
      },
      "execution_count": 9,
      "outputs": [
        {
          "output_type": "execute_result",
          "data": {
            "text/plain": [
              "(torch.float64, torch.int64)"
            ]
          },
          "metadata": {},
          "execution_count": 9
        }
      ]
    },
    {
      "cell_type": "code",
      "source": [
        "from sklearn.model_selection import train_test_split\n",
        "\n",
        "X_train, X_test, y_train, y_test = train_test_split(X, y, test_size=0.2, random_state=3)"
      ],
      "metadata": {
        "id": "za9TbttaJOyo"
      },
      "execution_count": 10,
      "outputs": []
    },
    {
      "cell_type": "code",
      "source": [
        "len(X_train), len(X_test), len(y_train), len(y_test)"
      ],
      "metadata": {
        "colab": {
          "base_uri": "https://localhost:8080/"
        },
        "id": "AFTk1GgwJ9-e",
        "outputId": "65cf0b9a-f9e3-4f36-fd48-692f2f1ef9b5"
      },
      "execution_count": 11,
      "outputs": [
        {
          "output_type": "execute_result",
          "data": {
            "text/plain": [
              "(2400, 600, 2400, 600)"
            ]
          },
          "metadata": {},
          "execution_count": 11
        }
      ]
    },
    {
      "cell_type": "code",
      "source": [
        "device = 'cuda' if torch.cuda.is_available() else 'cpu'\n",
        "device"
      ],
      "metadata": {
        "colab": {
          "base_uri": "https://localhost:8080/",
          "height": 35
        },
        "id": "2HluXGuXKCRN",
        "outputId": "d034b2fb-a0be-4b2b-cf74-410d65a2d924"
      },
      "execution_count": 12,
      "outputs": [
        {
          "output_type": "execute_result",
          "data": {
            "text/plain": [
              "'cuda'"
            ],
            "application/vnd.google.colaboratory.intrinsic+json": {
              "type": "string"
            }
          },
          "metadata": {},
          "execution_count": 12
        }
      ]
    },
    {
      "cell_type": "code",
      "source": [
        "X_train, y_train = X_train.to(device), y_train.to(device)\n",
        "X_test, y_test = X_test.to(device), y_test.to(device)"
      ],
      "metadata": {
        "id": "Y9Eu2reCKc-n"
      },
      "execution_count": 13,
      "outputs": []
    },
    {
      "cell_type": "code",
      "source": [
        "class CircleModel(nn.Module):\n",
        "  def __init__(self):\n",
        "    super().__init__()\n",
        "    self.linear_layer1 = nn.Linear(\n",
        "        in_features=2,\n",
        "        out_features=50\n",
        "    )\n",
        "    self.linear_layer2 = nn.Linear(\n",
        "        in_features=50,\n",
        "        out_features=100\n",
        "    )\n",
        "    self.linear_layer3 = nn.Linear(\n",
        "        in_features=100,\n",
        "        out_features=1\n",
        "    )\n",
        "\n",
        "  def forward(self, x: torch.Tensor)->torch.Tensor:\n",
        "    return self.linear_layer3(self.linear_layer2(self.linear_layer1(x)))\n",
        "\n",
        "model = CircleModel().to(device)\n",
        "model"
      ],
      "metadata": {
        "colab": {
          "base_uri": "https://localhost:8080/"
        },
        "id": "UFM_EKrGK3JC",
        "outputId": "523aba7b-4330-43be-afea-1bc9fd445770"
      },
      "execution_count": 14,
      "outputs": [
        {
          "output_type": "execute_result",
          "data": {
            "text/plain": [
              "CircleModel(\n",
              "  (linear_layer1): Linear(in_features=2, out_features=50, bias=True)\n",
              "  (linear_layer2): Linear(in_features=50, out_features=100, bias=True)\n",
              "  (linear_layer3): Linear(in_features=100, out_features=1, bias=True)\n",
              ")"
            ]
          },
          "metadata": {},
          "execution_count": 14
        }
      ]
    },
    {
      "cell_type": "code",
      "source": [
        "next(model.parameters()).device"
      ],
      "metadata": {
        "colab": {
          "base_uri": "https://localhost:8080/"
        },
        "id": "fP3zUuHnMXIK",
        "outputId": "89852132-5d1b-484a-eeb9-a5b6bd6aec8c"
      },
      "execution_count": 15,
      "outputs": [
        {
          "output_type": "execute_result",
          "data": {
            "text/plain": [
              "device(type='cuda', index=0)"
            ]
          },
          "metadata": {},
          "execution_count": 15
        }
      ]
    },
    {
      "cell_type": "code",
      "source": [
        "model.state_dict()"
      ],
      "metadata": {
        "colab": {
          "base_uri": "https://localhost:8080/"
        },
        "id": "09hIMFpwMgGt",
        "outputId": "6927b6a6-68f8-4c3c-a7e7-620b3e28cf86"
      },
      "execution_count": 16,
      "outputs": [
        {
          "output_type": "execute_result",
          "data": {
            "text/plain": [
              "OrderedDict([('linear_layer1.weight',\n",
              "              tensor([[ 0.3607, -0.3713],\n",
              "                      [-0.5507,  0.4372],\n",
              "                      [ 0.4602,  0.3897],\n",
              "                      [-0.4440, -0.0368],\n",
              "                      [-0.2137, -0.5477],\n",
              "                      [-0.5504, -0.1171],\n",
              "                      [-0.0562, -0.3101],\n",
              "                      [ 0.2293, -0.0912],\n",
              "                      [-0.1382, -0.0126],\n",
              "                      [ 0.5247, -0.3593],\n",
              "                      [-0.4602,  0.3158],\n",
              "                      [ 0.4472,  0.1556],\n",
              "                      [ 0.2567, -0.4126],\n",
              "                      [-0.6764, -0.5871],\n",
              "                      [-0.5380, -0.3742],\n",
              "                      [-0.5986, -0.3390],\n",
              "                      [-0.0248,  0.2613],\n",
              "                      [ 0.3387, -0.3967],\n",
              "                      [ 0.2066, -0.6293],\n",
              "                      [ 0.6925,  0.4328],\n",
              "                      [-0.0512,  0.4658],\n",
              "                      [-0.3347, -0.2682],\n",
              "                      [ 0.4651,  0.6016],\n",
              "                      [-0.0257,  0.0828],\n",
              "                      [-0.0322, -0.2818],\n",
              "                      [ 0.4897,  0.6022],\n",
              "                      [ 0.2349, -0.0013],\n",
              "                      [ 0.3643, -0.7010],\n",
              "                      [-0.1721,  0.4346],\n",
              "                      [-0.4487,  0.6262],\n",
              "                      [-0.2931,  0.4814],\n",
              "                      [ 0.2225,  0.6187],\n",
              "                      [ 0.5031, -0.3459],\n",
              "                      [-0.1223, -0.4201],\n",
              "                      [-0.5251,  0.0932],\n",
              "                      [ 0.1300,  0.6448],\n",
              "                      [ 0.1365, -0.1919],\n",
              "                      [ 0.1545, -0.6886],\n",
              "                      [ 0.0619, -0.0012],\n",
              "                      [-0.3779, -0.6149],\n",
              "                      [-0.4631,  0.5430],\n",
              "                      [-0.6154,  0.0099],\n",
              "                      [-0.4333,  0.0765],\n",
              "                      [ 0.5897, -0.3140],\n",
              "                      [ 0.3192,  0.4093],\n",
              "                      [ 0.6361,  0.5659],\n",
              "                      [ 0.5751,  0.6021],\n",
              "                      [ 0.6687,  0.1294],\n",
              "                      [-0.0845,  0.3044],\n",
              "                      [-0.3046,  0.1973]], device='cuda:0')),\n",
              "             ('linear_layer1.bias',\n",
              "              tensor([-0.4621,  0.2772,  0.4268, -0.5277,  0.1836,  0.2566, -0.6322, -0.5993,\n",
              "                      -0.5186, -0.4251, -0.6966,  0.3807, -0.4913, -0.4361,  0.0750, -0.5510,\n",
              "                       0.4436, -0.0362, -0.2779,  0.6507, -0.1878,  0.0626,  0.1472, -0.2282,\n",
              "                       0.6035,  0.4858, -0.3895, -0.0322, -0.2056, -0.6833, -0.2513, -0.5694,\n",
              "                      -0.2800, -0.7039,  0.5888, -0.3444, -0.3609, -0.2493,  0.7064,  0.2506,\n",
              "                      -0.2521, -0.4343,  0.3786,  0.4327, -0.5159, -0.6657,  0.5235,  0.1856,\n",
              "                      -0.0225,  0.1176], device='cuda:0')),\n",
              "             ('linear_layer2.weight',\n",
              "              tensor([[-0.0527, -0.0605,  0.0645,  ..., -0.0219, -0.1160, -0.1057],\n",
              "                      [ 0.0939,  0.0167,  0.0904,  ...,  0.0485, -0.1270,  0.1387],\n",
              "                      [-0.0634,  0.0855,  0.0719,  ..., -0.1339,  0.1285,  0.0026],\n",
              "                      ...,\n",
              "                      [ 0.1044,  0.0610, -0.1238,  ...,  0.1338,  0.0248,  0.0541],\n",
              "                      [ 0.0605,  0.0988, -0.0902,  ...,  0.0375, -0.0901, -0.1254],\n",
              "                      [-0.0923, -0.0094, -0.1108,  ..., -0.0331, -0.1315, -0.1154]],\n",
              "                     device='cuda:0')),\n",
              "             ('linear_layer2.bias',\n",
              "              tensor([ 0.1354,  0.0474, -0.0247, -0.0441,  0.1175, -0.1119,  0.1079,  0.1133,\n",
              "                       0.1244, -0.0473,  0.0323, -0.0542,  0.0467, -0.1178, -0.0090, -0.0705,\n",
              "                      -0.0125,  0.1124, -0.0966,  0.0812,  0.0837,  0.0765, -0.1175, -0.0456,\n",
              "                      -0.0673,  0.0486, -0.0307,  0.0553,  0.0071,  0.0175,  0.0920,  0.0308,\n",
              "                       0.0049,  0.0877,  0.0399, -0.0420,  0.1268, -0.0586,  0.0539, -0.1266,\n",
              "                       0.0998,  0.0207, -0.1113,  0.1194,  0.0553,  0.1141,  0.0800, -0.0757,\n",
              "                      -0.0068, -0.1015,  0.0684, -0.0253,  0.0350,  0.0885, -0.1148,  0.1121,\n",
              "                      -0.0938,  0.1071, -0.0229, -0.0065, -0.0344,  0.0574,  0.1204, -0.0774,\n",
              "                      -0.0533,  0.0959, -0.0492, -0.1322, -0.1403,  0.0423, -0.0854, -0.0506,\n",
              "                      -0.0830, -0.0706,  0.0266,  0.0142,  0.0942,  0.0219,  0.0599, -0.1071,\n",
              "                      -0.0859, -0.0742,  0.0932,  0.0919, -0.1220, -0.0369, -0.0757,  0.0261,\n",
              "                       0.0508,  0.1074,  0.0181,  0.0412, -0.0997, -0.1378,  0.1004,  0.0317,\n",
              "                      -0.0850, -0.0766, -0.0799, -0.0411], device='cuda:0')),\n",
              "             ('linear_layer3.weight',\n",
              "              tensor([[ 8.0182e-02, -7.5453e-02, -2.4778e-02,  2.5748e-02, -5.3439e-02,\n",
              "                       -5.2065e-02,  8.3666e-03,  4.3659e-02,  7.0551e-03,  7.7159e-03,\n",
              "                        2.1680e-02,  2.8146e-02, -4.7896e-02,  8.4052e-02, -5.2608e-02,\n",
              "                        2.2734e-04, -8.7214e-02, -9.7232e-02, -9.1696e-02, -2.4357e-02,\n",
              "                       -6.1131e-02, -1.1884e-02,  9.7897e-02,  5.4111e-02,  6.8806e-02,\n",
              "                       -3.8051e-02,  4.6157e-02, -6.0481e-02,  4.6265e-02, -5.6786e-02,\n",
              "                        4.1574e-02,  7.4389e-02, -1.0158e-02,  2.2555e-02, -4.7307e-02,\n",
              "                        8.4470e-02,  9.3782e-02, -2.1531e-02, -7.9063e-02, -1.5446e-02,\n",
              "                        2.5097e-02,  5.0967e-02, -5.5734e-02, -3.8590e-02, -5.8827e-02,\n",
              "                       -9.4919e-02,  6.1389e-02, -3.6998e-02, -5.6472e-02,  8.1119e-02,\n",
              "                       -9.4545e-02,  6.8790e-02, -2.2404e-02,  1.5319e-02, -1.8703e-03,\n",
              "                       -6.0320e-02,  1.8746e-02,  2.3483e-02,  8.1203e-02,  8.8406e-02,\n",
              "                        5.1506e-03,  9.4500e-02,  2.2560e-02,  7.6917e-02, -3.3273e-02,\n",
              "                        1.8982e-02,  2.4637e-04, -7.5088e-02,  5.6931e-02,  2.0584e-02,\n",
              "                       -5.2318e-02,  5.5558e-02,  7.0869e-02, -4.0283e-02, -6.4014e-02,\n",
              "                        1.3731e-02, -1.0081e-02, -7.2354e-02,  4.9947e-02, -4.8789e-02,\n",
              "                       -8.0441e-02, -4.2638e-02,  8.0547e-02, -1.4722e-05, -9.8047e-02,\n",
              "                        9.8470e-02,  5.2237e-02,  7.7162e-03, -2.2943e-02, -6.9207e-02,\n",
              "                       -5.3448e-02,  6.2561e-02,  6.2645e-03,  9.4378e-02, -4.1509e-02,\n",
              "                       -2.7418e-02,  8.0449e-02, -8.0432e-02, -2.3570e-02,  8.0360e-02]],\n",
              "                     device='cuda:0')),\n",
              "             ('linear_layer3.bias', tensor([-0.0961], device='cuda:0'))])"
            ]
          },
          "metadata": {},
          "execution_count": 16
        }
      ]
    },
    {
      "cell_type": "code",
      "source": [
        "with torch.inference_mode():\n",
        "  y_logits = model(X_test.type(torch.float))\n",
        "\n",
        "torch.round(y_logits[:10])"
      ],
      "metadata": {
        "colab": {
          "base_uri": "https://localhost:8080/"
        },
        "id": "J42O5KAMMqI8",
        "outputId": "6c08d5c4-2e7b-4fce-d5e9-44157f29f00b"
      },
      "execution_count": 17,
      "outputs": [
        {
          "output_type": "execute_result",
          "data": {
            "text/plain": [
              "tensor([[0.],\n",
              "        [0.],\n",
              "        [0.],\n",
              "        [0.],\n",
              "        [0.],\n",
              "        [0.],\n",
              "        [0.],\n",
              "        [0.],\n",
              "        [0.],\n",
              "        [0.]], device='cuda:0')"
            ]
          },
          "metadata": {},
          "execution_count": 17
        }
      ]
    },
    {
      "cell_type": "code",
      "source": [
        "y_pred_prob = torch.sigmoid(y_logits)\n",
        "y_pred_prob[:10]"
      ],
      "metadata": {
        "colab": {
          "base_uri": "https://localhost:8080/"
        },
        "id": "VFTcpX3emKfv",
        "outputId": "d1dc2a8c-eecc-4966-f329-6bea39c48261"
      },
      "execution_count": 18,
      "outputs": [
        {
          "output_type": "execute_result",
          "data": {
            "text/plain": [
              "tensor([[0.5405],\n",
              "        [0.5311],\n",
              "        [0.5456],\n",
              "        [0.5412],\n",
              "        [0.5324],\n",
              "        [0.5338],\n",
              "        [0.5284],\n",
              "        [0.5143],\n",
              "        [0.5287],\n",
              "        [0.5341]], device='cuda:0')"
            ]
          },
          "metadata": {},
          "execution_count": 18
        }
      ]
    },
    {
      "cell_type": "code",
      "source": [
        "loss_fn = nn.BCEWithLogitsLoss()\n",
        "optimizer = torch.optim.SGD(\n",
        "    params=model.parameters(),\n",
        "    lr=0.01,\n",
        "    momentum=0.9\n",
        ")"
      ],
      "metadata": {
        "id": "cO0vmiApRQLQ"
      },
      "execution_count": 19,
      "outputs": []
    },
    {
      "cell_type": "code",
      "source": [
        "!pip install torchmetrics\n",
        "\n",
        "import torchmetrics\n",
        "accuracy = torchmetrics.Accuracy(task='binary', num_classes=2).to(device)"
      ],
      "metadata": {
        "colab": {
          "base_uri": "https://localhost:8080/"
        },
        "id": "1SBhuByrj-XG",
        "outputId": "0089fe5f-7c27-4fcf-c052-7a3f89123a3d"
      },
      "execution_count": 20,
      "outputs": [
        {
          "output_type": "stream",
          "name": "stdout",
          "text": [
            "Looking in indexes: https://pypi.org/simple, https://us-python.pkg.dev/colab-wheels/public/simple/\n",
            "Requirement already satisfied: torchmetrics in /usr/local/lib/python3.9/dist-packages (0.11.4)\n",
            "Requirement already satisfied: numpy>=1.17.2 in /usr/local/lib/python3.9/dist-packages (from torchmetrics) (1.22.4)\n",
            "Requirement already satisfied: torch>=1.8.1 in /usr/local/lib/python3.9/dist-packages (from torchmetrics) (2.0.0+cu118)\n",
            "Requirement already satisfied: packaging in /usr/local/lib/python3.9/dist-packages (from torchmetrics) (23.0)\n",
            "Requirement already satisfied: filelock in /usr/local/lib/python3.9/dist-packages (from torch>=1.8.1->torchmetrics) (3.10.7)\n",
            "Requirement already satisfied: typing-extensions in /usr/local/lib/python3.9/dist-packages (from torch>=1.8.1->torchmetrics) (4.5.0)\n",
            "Requirement already satisfied: sympy in /usr/local/lib/python3.9/dist-packages (from torch>=1.8.1->torchmetrics) (1.11.1)\n",
            "Requirement already satisfied: jinja2 in /usr/local/lib/python3.9/dist-packages (from torch>=1.8.1->torchmetrics) (3.1.2)\n",
            "Requirement already satisfied: networkx in /usr/local/lib/python3.9/dist-packages (from torch>=1.8.1->torchmetrics) (3.0)\n",
            "Requirement already satisfied: triton==2.0.0 in /usr/local/lib/python3.9/dist-packages (from torch>=1.8.1->torchmetrics) (2.0.0)\n",
            "Requirement already satisfied: cmake in /usr/local/lib/python3.9/dist-packages (from triton==2.0.0->torch>=1.8.1->torchmetrics) (3.25.2)\n",
            "Requirement already satisfied: lit in /usr/local/lib/python3.9/dist-packages (from triton==2.0.0->torch>=1.8.1->torchmetrics) (16.0.0)\n",
            "Requirement already satisfied: MarkupSafe>=2.0 in /usr/local/lib/python3.9/dist-packages (from jinja2->torch>=1.8.1->torchmetrics) (2.1.2)\n",
            "Requirement already satisfied: mpmath>=0.19 in /usr/local/lib/python3.9/dist-packages (from sympy->torch>=1.8.1->torchmetrics) (1.3.0)\n"
          ]
        }
      ]
    },
    {
      "cell_type": "code",
      "source": [
        "torch.manual_seed(42)\n",
        "\n",
        "epochs = 100\n",
        "\n",
        "X_train = X_train.type(torch.float).to(device)\n",
        "X_test = X_test.type(torch.float).to(device)\n",
        "y_train = y_train.type(torch.float).to(device)\n",
        "y_test = y_test.type(torch.float).to(device)\n",
        "\n",
        "for epoch in range(epochs):\n",
        "  model.train()\n",
        "  train_logits = model(X_train).squeeze()\n",
        "  train_pred = torch.round(torch.sigmoid(train_logits))\n",
        "  loss = loss_fn(train_logits, y_train)\n",
        "  acc = accuracy(train_pred, y_train)\n",
        "\n",
        "  optimizer.zero_grad()\n",
        "  loss.backward()\n",
        "  optimizer.step()\n",
        "\n",
        "  model.eval()\n",
        "  with torch.inference_mode():\n",
        "    test_logits = model(X_test).squeeze()\n",
        "    test_pred = torch.round(torch.sigmoid(test_logits))\n",
        "    test_loss = loss_fn(test_logits, y_test)\n",
        "    test_acc = accuracy(test_pred, y_test)\n",
        "\n",
        "  if epoch % 10 == 0:\n",
        "    print(f'Epoch: {epoch} | Accuracy: {acc} | Loss: {loss} | Test Loss: {test_loss} | Test Accuracy: {test_acc}')"
      ],
      "metadata": {
        "colab": {
          "base_uri": "https://localhost:8080/"
        },
        "id": "d1uyYbGCkOr4",
        "outputId": "4bcadd8e-4d97-4844-8a24-8bd3ca85e692"
      },
      "execution_count": 21,
      "outputs": [
        {
          "output_type": "stream",
          "name": "stdout",
          "text": [
            "Epoch: 0 | Accuracy: 0.49958333373069763 | Loss: 0.6951206922531128 | Test Loss: 0.6943421959877014 | Test Accuracy: 0.5016666650772095\n",
            "Epoch: 10 | Accuracy: 0.5074999928474426 | Loss: 0.693191647529602 | Test Loss: 0.6934507489204407 | Test Accuracy: 0.4883333444595337\n",
            "Epoch: 20 | Accuracy: 0.5004166960716248 | Loss: 0.6933234333992004 | Test Loss: 0.6941319704055786 | Test Accuracy: 0.4983333349227905\n",
            "Epoch: 30 | Accuracy: 0.5054166913032532 | Loss: 0.6930683851242065 | Test Loss: 0.693810760974884 | Test Accuracy: 0.4866666793823242\n",
            "Epoch: 40 | Accuracy: 0.518750011920929 | Loss: 0.6930974721908569 | Test Loss: 0.6938166618347168 | Test Accuracy: 0.49000000953674316\n",
            "Epoch: 50 | Accuracy: 0.5041666626930237 | Loss: 0.6930690407752991 | Test Loss: 0.6938733458518982 | Test Accuracy: 0.476666659116745\n",
            "Epoch: 60 | Accuracy: 0.4970833361148834 | Loss: 0.6930714845657349 | Test Loss: 0.6938570141792297 | Test Accuracy: 0.4716666638851166\n",
            "Epoch: 70 | Accuracy: 0.5045833587646484 | Loss: 0.6930677890777588 | Test Loss: 0.6937980055809021 | Test Accuracy: 0.47833332419395447\n",
            "Epoch: 80 | Accuracy: 0.5045833587646484 | Loss: 0.6930680274963379 | Test Loss: 0.6937898993492126 | Test Accuracy: 0.47833332419395447\n",
            "Epoch: 90 | Accuracy: 0.503333330154419 | Loss: 0.6930676698684692 | Test Loss: 0.693803608417511 | Test Accuracy: 0.4749999940395355\n"
          ]
        }
      ]
    },
    {
      "cell_type": "code",
      "source": [
        "class CircleModelV1(nn.Module):\n",
        "  def __init__(self):\n",
        "    super().__init__()\n",
        "    self.linear1 = nn.Linear(in_features=2, out_features=50)\n",
        "    self.linear2 = nn.Linear(in_features=50, out_features=100)\n",
        "    self.linear3 = nn.Linear(in_features=100, out_features=1)\n",
        "    self.relu = nn.ReLU()\n",
        "\n",
        "  def forward(self, x: torch.Tensor)->torch.Tensor:\n",
        "    return self.linear3(self.relu(self.linear2(self.relu(self.linear1(x)))))\n",
        "\n",
        "model_1 = CircleModelV1().to(device)\n",
        "model_1"
      ],
      "metadata": {
        "colab": {
          "base_uri": "https://localhost:8080/"
        },
        "id": "TxNIaFOJn8tt",
        "outputId": "54cc43a5-bea7-4093-c955-9d6384c9f8c3"
      },
      "execution_count": 22,
      "outputs": [
        {
          "output_type": "execute_result",
          "data": {
            "text/plain": [
              "CircleModelV1(\n",
              "  (linear1): Linear(in_features=2, out_features=50, bias=True)\n",
              "  (linear2): Linear(in_features=50, out_features=100, bias=True)\n",
              "  (linear3): Linear(in_features=100, out_features=1, bias=True)\n",
              "  (relu): ReLU()\n",
              ")"
            ]
          },
          "metadata": {},
          "execution_count": 22
        }
      ]
    },
    {
      "cell_type": "code",
      "source": [
        "loss_fn = nn.BCEWithLogitsLoss()\n",
        "optimizer = torch.optim.SGD(\n",
        "    params=model_1.parameters(),\n",
        "    lr=0.1\n",
        ")"
      ],
      "metadata": {
        "id": "uEkGb9OM4ZWL"
      },
      "execution_count": 23,
      "outputs": []
    },
    {
      "cell_type": "code",
      "source": [
        "torch.manual_seed(42)\n",
        "\n",
        "X_train, y_train = X_train.to(device), y_train.to(device)\n",
        "X_test, y_test = X_test.to(device), y_test.to(device)"
      ],
      "metadata": {
        "id": "5k9b38ZjNfQc"
      },
      "execution_count": 24,
      "outputs": []
    },
    {
      "cell_type": "code",
      "source": [
        "epochs = 1000\n",
        "\n",
        "for epoch in range(epochs):\n",
        "  model_1.train()\n",
        "  y_logits = model_1(X_train).squeeze()\n",
        "  y_pred = torch.round(torch.sigmoid(y_logits))\n",
        "\n",
        "  loss = loss_fn(y_logits, y_train)\n",
        "  acc = accuracy(y_pred, y_train)\n",
        "\n",
        "  optimizer.zero_grad()\n",
        "  loss.backward()\n",
        "  optimizer.step()\n",
        "\n",
        "  model_1.eval()\n",
        "  with torch.inference_mode():\n",
        "    test_logits = model_1(X_test).squeeze()\n",
        "    test_pred = torch.round(torch.sigmoid(test_logits))\n",
        "\n",
        "    test_loss = loss_fn(test_logits, y_test)\n",
        "    test_acc = accuracy(test_pred, y_test)\n",
        "\n",
        "  if epoch % 100 == 0:\n",
        "    print(f'Epoch: {epoch:.2f} | Accuracy: {acc:.2f} | Loss: {loss:.2f} | Test Loss: {test_loss:.2f} | Test Accuracy: {test_acc:.2f}')"
      ],
      "metadata": {
        "colab": {
          "base_uri": "https://localhost:8080/"
        },
        "id": "OuLRKYB-Nv3F",
        "outputId": "83b3c12b-e9b6-44b6-9be1-49f17151919d"
      },
      "execution_count": 25,
      "outputs": [
        {
          "output_type": "stream",
          "name": "stdout",
          "text": [
            "Epoch: 0.00 | Accuracy: 0.50 | Loss: 0.69 | Test Loss: 0.69 | Test Accuracy: 0.50\n",
            "Epoch: 100.00 | Accuracy: 0.68 | Loss: 0.67 | Test Loss: 0.68 | Test Accuracy: 0.67\n",
            "Epoch: 200.00 | Accuracy: 0.85 | Loss: 0.65 | Test Loss: 0.65 | Test Accuracy: 0.84\n",
            "Epoch: 300.00 | Accuracy: 0.96 | Loss: 0.58 | Test Loss: 0.58 | Test Accuracy: 0.96\n",
            "Epoch: 400.00 | Accuracy: 1.00 | Loss: 0.45 | Test Loss: 0.45 | Test Accuracy: 0.99\n",
            "Epoch: 500.00 | Accuracy: 1.00 | Loss: 0.27 | Test Loss: 0.27 | Test Accuracy: 1.00\n",
            "Epoch: 600.00 | Accuracy: 1.00 | Loss: 0.15 | Test Loss: 0.15 | Test Accuracy: 1.00\n",
            "Epoch: 700.00 | Accuracy: 1.00 | Loss: 0.09 | Test Loss: 0.09 | Test Accuracy: 1.00\n",
            "Epoch: 800.00 | Accuracy: 1.00 | Loss: 0.06 | Test Loss: 0.06 | Test Accuracy: 1.00\n",
            "Epoch: 900.00 | Accuracy: 1.00 | Loss: 0.04 | Test Loss: 0.04 | Test Accuracy: 1.00\n"
          ]
        }
      ]
    }
  ]
}