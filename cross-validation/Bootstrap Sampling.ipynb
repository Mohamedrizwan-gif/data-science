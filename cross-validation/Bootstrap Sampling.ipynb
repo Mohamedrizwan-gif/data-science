{
 "cells": [
  {
   "cell_type": "code",
   "execution_count": 1,
   "id": "76089160",
   "metadata": {},
   "outputs": [],
   "source": [
    "from sklearn.utils import resample\n",
    "import numpy as np\n",
    "import pandas as pd"
   ]
  },
  {
   "cell_type": "code",
   "execution_count": 5,
   "id": "8a43e9a4",
   "metadata": {},
   "outputs": [
    {
     "name": "stdout",
     "output_type": "stream",
     "text": [
      "Train data:  [2, 8, 6, 1, 3, 7, 3, 2, 2, 10]   Test data:  [4 5 9]\n",
      "Train data:  [4, 4, 2, 2, 8, 7, 8, 2, 4, 7]   Test data:  [ 1  3  5  6  9 10]\n",
      "Train data:  [3, 9, 9, 1, 4, 10, 3, 2, 6, 9]   Test data:  [5 7 8]\n",
      "Train data:  [1, 6, 7, 1, 7, 5, 4, 4, 7, 3]   Test data:  [ 2  8  9 10]\n",
      "Train data:  [1, 3, 6, 2, 4, 9, 2, 7, 1, 3]   Test data:  [ 5  8 10]\n",
      "Train data:  [4, 10, 2, 5, 1, 6, 6, 5, 5, 7]   Test data:  [3 8 9]\n",
      "Train data:  [4, 10, 5, 1, 2, 8, 5, 4, 2, 6]   Test data:  [3 7 9]\n",
      "Train data:  [2, 6, 7, 9, 6, 1, 1, 8, 4, 8]   Test data:  [ 3  5 10]\n",
      "Train data:  [5, 6, 1, 2, 5, 8, 8, 9, 6, 10]   Test data:  [3 4 7]\n",
      "Train data:  [4, 6, 2, 9, 3, 5, 6, 7, 2, 2]   Test data:  [ 1  8 10]\n"
     ]
    }
   ],
   "source": [
    "data = [1, 2, 3, 4, 5, 6, 7, 8, 9, 10]\n",
    "n_iterations = 10\n",
    "n_size = int(len(data))\n",
    "\n",
    "for i in range(n_iterations):\n",
    "    train = resample(data, n_samples=n_size)\n",
    "    test = np.array([x for x in data if x not in train])\n",
    "    print('Train data: ', train, ' ', 'Test data: ', test)"
   ]
  },
  {
   "cell_type": "code",
   "execution_count": null,
   "id": "db11582b",
   "metadata": {},
   "outputs": [],
   "source": []
  }
 ],
 "metadata": {
  "kernelspec": {
   "display_name": "Python 3 (ipykernel)",
   "language": "python",
   "name": "python3"
  },
  "language_info": {
   "codemirror_mode": {
    "name": "ipython",
    "version": 3
   },
   "file_extension": ".py",
   "mimetype": "text/x-python",
   "name": "python",
   "nbconvert_exporter": "python",
   "pygments_lexer": "ipython3",
   "version": "3.10.8"
  }
 },
 "nbformat": 4,
 "nbformat_minor": 5
}
