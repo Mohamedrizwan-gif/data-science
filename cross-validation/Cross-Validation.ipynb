{
 "cells": [
  {
   "cell_type": "markdown",
   "id": "09f9b276",
   "metadata": {},
   "source": [
    "### Hold-out cross-validation"
   ]
  },
  {
   "cell_type": "markdown",
   "id": "4300d83a",
   "metadata": {},
   "source": [
    "Hold-out cross-validation is the simplest and most common technique. You might not know that it is a hold-out method but you certainly use it every day.\n",
    "\n",
    "The algorithm of hold-out technique:\n",
    "\n",
    "1. Divide the dataset into two parts: the training set and the test set. Usually, 80% of the dataset goes to the training set and 20% to the test set but you may choose any splitting that suits you better\n",
    "2. Train the model on the training set\n",
    "3. Validate on the test set\n",
    "4. Save the result of the validation"
   ]
  },
  {
   "attachments": {
    "Cross-validation-hold-out.webp": {
     "image/webp": "[encoded data removed]"
    }
   },
   "cell_type": "markdown",
   "id": "7f084097",
   "metadata": {},
   "source": [
    "![Cross-validation-hold-out.webp](attachment:Cross-validation-hold-out.webp)"
   ]
  },
  {
   "cell_type": "markdown",
   "id": "407ce42d",
   "metadata": {},
   "source": [
    "That’s it. \n",
    "\n",
    "We usually use the hold-out method on large datasets as it requires training the model only once."
   ]
  },
  {
   "cell_type": "markdown",
   "id": "69d8b83a",
   "metadata": {},
   "source": [
    "#### It is really easy to implement hold-out. For example, you may do it using sklearn.model_selection.train_test_split."
   ]
  },
  {
   "cell_type": "code",
   "execution_count": 1,
   "id": "8741ed9a",
   "metadata": {},
   "outputs": [],
   "source": [
    "import numpy as np\n",
    "from sklearn.model_selection import train_test_split\n",
    "\n",
    "x = np.arange(10).reshape(5, 2)\n",
    "y = range(5)\n",
    "\n",
    "x_train, x_test, y_train, y_test = train_test_split(x, y, test_size=0.2, random_state=42)"
   ]
  },
  {
   "cell_type": "markdown",
   "id": "3d760665",
   "metadata": {},
   "source": [
    "Still, hold-out has a major disadvantage. \n",
    "\n",
    "For example, a dataset that is not completely even distribution-wise. If so we may end up in a rough spot after the split. For example, the training set will not represent the test set. Both training and test sets may differ a lot, one of them might be easier or harder. \n",
    "\n",
    "Moreover, the fact that we test our model only once might be a bottleneck for this method. Due to the reasons mentioned before, the result obtained by the hold-out technique may be considered inaccurate."
   ]
  },
  {
   "cell_type": "markdown",
   "id": "539f124f",
   "metadata": {},
   "source": [
    "### k-Fold cross-validation"
   ]
  },
  {
   "cell_type": "markdown",
   "id": "65bbe026",
   "metadata": {},
   "source": [
    "k-Fold cross-validation is a technique that minimizes the disadvantages of the hold-out method. k-Fold introduces a new way of splitting the dataset which helps to overcome the “test only once bottleneck”.\n",
    "\n",
    "The algorithm of the k-Fold technique:\n",
    "\n",
    "1. Pick a number of folds – k. Usually, k is 5 or 10 but you can choose any number which is less than the dataset’s length.\n",
    "2. Split the dataset into k equal (if possible) parts (they are called folds)\n",
    "3. Choose k – 1 folds as the training set. The remaining fold will be the test set\n",
    "4. Train the model on the training set. On each iteration of cross-validation, you must train a new model independently of the model trained on the previous iteration\n",
    "5. Validate on the test set\n",
    "6. Save the result of the validation\n",
    "7. Repeat steps 3 – 6 k times. Each time use the remaining  fold as the test set. In the end, you should have validated the model on every fold that you have.\n",
    "8. To get the final score average the results that you got on step 6."
   ]
  },
  {
   "attachments": {
    "Cross-validation-k-fold.webp": {
     "image/webp": "[encoded data removed]"
    }
   },
   "cell_type": "markdown",
   "id": "a7651c29",
   "metadata": {},
   "source": [
    "![Cross-validation-k-fold.webp](attachment:Cross-validation-k-fold.webp)"
   ]
  },
  {
   "cell_type": "markdown",
   "id": "2a9e907c",
   "metadata": {},
   "source": [
    "#### To perform k-Fold cross-validation you can use sklearn.model_selection.KFold."
   ]
  },
  {
   "cell_type": "code",
   "execution_count": 2,
   "id": "150f316f",
   "metadata": {},
   "outputs": [
    {
     "name": "stdout",
     "output_type": "stream",
     "text": [
      "TRAIN: [2 3] TEST: [0 1]\n",
      "TRAIN: [0 1] TEST: [2 3]\n"
     ]
    }
   ],
   "source": [
    "from sklearn.model_selection import KFold\n",
    "\n",
    "x = np.array([[1, 2], [3, 4], [1, 2], [3, 4]])\n",
    "y = np.array([1, 2, 3, 4])\n",
    "kf = KFold(n_splits=2)\n",
    "\n",
    "for train_index, test_index in kf.split(x):\n",
    "    print(\"TRAIN:\", train_index, \"TEST:\", test_index)\n",
    "    x_train, x_test = x[train_index], x[test_index]\n",
    "    y_train, y_test = y[train_index], y[test_index]"
   ]
  },
  {
   "cell_type": "markdown",
   "id": "5672ad04",
   "metadata": {},
   "source": [
    "In general, it is always better to use k-Fold technique instead of hold-out. In a head to head, comparison k-Fold gives a more stable and trustworthy result since training and testing is performed on several different parts of the dataset. We can make the overall score even more robust if we increase the number of folds to test the model on many different sub-datasets.\n",
    "\n",
    "Still, k-Fold method has a disadvantage. Increasing k results in training more models and the training process might be really expensive and time-consuming."
   ]
  },
  {
   "cell_type": "markdown",
   "id": "8b7514a7",
   "metadata": {},
   "source": [
    "### Leave-one-out cross-validation"
   ]
  },
  {
   "cell_type": "markdown",
   "id": "5bdfd578",
   "metadata": {},
   "source": [
    "Leave-one-out сross-validation (LOOCV) is an extreme case of k-Fold CV. Imagine if k is equal to n where n is the number of samples in the dataset. Such k-Fold case is equivalent to Leave-one-out technique.\n",
    "\n",
    "The algorithm of LOOCV technique:\n",
    "\n",
    "1. Choose one sample from the dataset which will be the test set\n",
    "2. The remaining n – 1 samples will be the training set\n",
    "3. Train the model on the training set. On each iteration, a new model must be trained\n",
    "4. Validate on the test set\n",
    "5. Save the result of the validation\n",
    "6. Repeat steps 1 – 5 n times as for n samples we have n different training and test sets\n",
    "7. To get the final score average the results that you got on step 5."
   ]
  },
  {
   "attachments": {
    "Cross-validation-leave-one-out.webp": {
     "image/webp": "[encoded data removed]"
    }
   },
   "cell_type": "markdown",
   "id": "f5c29f63",
   "metadata": {},
   "source": [
    "![Cross-validation-leave-one-out.webp](attachment:Cross-validation-leave-one-out.webp)"
   ]
  },
  {
   "cell_type": "markdown",
   "id": "dde115a7",
   "metadata": {},
   "source": [
    "#### For LOOCV sklearn also has a built-in method. It can be found in the model_selection library – sklearn.model_selection.LeaveOneOut."
   ]
  },
  {
   "cell_type": "code",
   "execution_count": 4,
   "id": "02f24201",
   "metadata": {},
   "outputs": [
    {
     "name": "stdout",
     "output_type": "stream",
     "text": [
      "TRAIN: [1] TEST: [0]\n",
      "TRAIN: [0] TEST: [1]\n"
     ]
    }
   ],
   "source": [
    "from sklearn.model_selection import LeaveOneOut\n",
    "\n",
    "x = np.array([[1, 2], [3, 4]])\n",
    "y = np.array([1, 2])\n",
    "loo = LeaveOneOut()\n",
    "\n",
    "for train_index, test_index in loo.split(x):\n",
    "    print(\"TRAIN:\", train_index, \"TEST:\", test_index)\n",
    "    X_train, X_test = X[train_index], X[test_index]\n",
    "    y_train, y_test = y[train_index], y[test_index]"
   ]
  },
  {
   "cell_type": "markdown",
   "id": "7c9dd71b",
   "metadata": {},
   "source": [
    "The greatest advantage of Leave-one-out cross-validation is that it doesn’t waste much data. We use only one sample from the whole dataset as a test set, whereas the rest is the training set. But when compared with k-Fold CV, LOOCV requires building n models instead of k models, when we know that n which stands for the number of samples in the dataset is much higher than k. It means LOOCV is more computationally expensive than k-Fold, it may take plenty of time to cross-validate the model using LOOCV.\n",
    "\n",
    "Thus, the Data Science community has a general rule based on empirical evidence and different researches, which suggests that 5- or 10-fold cross-validation should be preferred over LOOCV."
   ]
  },
  {
   "cell_type": "markdown",
   "id": "697c49b7",
   "metadata": {},
   "source": [
    "### Leave-p-out cross-validation"
   ]
  },
  {
   "cell_type": "markdown",
   "id": "b6947131",
   "metadata": {},
   "source": [
    "Leave-p-out cross-validation (LpOC) is similar to Leave-one-out CV as it creates all the possible training and test sets by using p samples as the test set. All mentioned about LOOCV is true and for LpOC.\n",
    "\n",
    "Still, it is worth mentioning that unlike LOOCV and k-Fold test sets will overlap for LpOC if p is higher than 1."
   ]
  },
  {
   "cell_type": "markdown",
   "id": "a76ff949",
   "metadata": {},
   "source": [
    "The algorithm of LpOC technique:\n",
    "\n",
    "1. Choose p samples from the dataset which will be the test set\n",
    "2. The remaining n – p samples will be the training set\n",
    "3. Train the model on the training set. On each iteration, a new model must be trained\n",
    "4. Validate on the test set\n",
    "5. Save the result of the validation\n",
    "6. Repeat steps 2 – 5 Cpn times \n",
    "7. To get the final score average the results that you got on step 5"
   ]
  },
  {
   "cell_type": "markdown",
   "id": "a2d16600",
   "metadata": {},
   "source": [
    "#### You can perform Leave-p-out CV using sklearn – sklearn.model_selection.LeavePOut."
   ]
  },
  {
   "cell_type": "code",
   "execution_count": 5,
   "id": "242a0c7d",
   "metadata": {},
   "outputs": [
    {
     "name": "stdout",
     "output_type": "stream",
     "text": [
      "TRAIN: [2 3] TEST: [0 1]\n",
      "TRAIN: [1 3] TEST: [0 2]\n",
      "TRAIN: [1 2] TEST: [0 3]\n",
      "TRAIN: [0 3] TEST: [1 2]\n",
      "TRAIN: [0 2] TEST: [1 3]\n",
      "TRAIN: [0 1] TEST: [2 3]\n"
     ]
    }
   ],
   "source": [
    "from sklearn.model_selection import LeavePOut\n",
    "\n",
    "X = np.array([[1, 2], [3, 4], [5, 6], [7, 8]])\n",
    "y = np.array([1, 2, 3, 4])\n",
    "lpo = LeavePOut(2)\n",
    "\n",
    "for train_index, test_index in lpo.split(X):\n",
    "    print(\"TRAIN:\", train_index, \"TEST:\", test_index)\n",
    "    X_train, X_test = X[train_index], X[test_index]\n",
    "    y_train, y_test = y[train_index], y[test_index]"
   ]
  },
  {
   "cell_type": "markdown",
   "id": "8a936daa",
   "metadata": {},
   "source": [
    "LpOC has all the disadvantages of the LOOCV, but, nevertheless, it’s as robust as LOOCV."
   ]
  },
  {
   "cell_type": "markdown",
   "id": "17317489",
   "metadata": {},
   "source": [
    "### Stratified k-Fold cross-validation"
   ]
  },
  {
   "cell_type": "markdown",
   "id": "066a7eb2",
   "metadata": {},
   "source": [
    "Sometimes we may face a large imbalance of the target value in the dataset. For example, in a dataset concerning wristwatch prices, there might be a larger number of wristwatch having a high price. In the case of classification, in cats and dogs dataset there might be a large shift towards the dog class.\n",
    "\n",
    "Stratified k-Fold is a variation of the standard k-Fold CV technique which is designed to be effective in such cases of target imbalance. \n",
    "\n",
    "It works as follows. Stratified k-Fold splits the dataset on k folds such that each fold contains approximately the same percentage of samples of each target class as the complete set. In the case of regression, Stratified k-Fold makes sure that the mean target value is approximately equal in all the folds."
   ]
  },
  {
   "cell_type": "markdown",
   "id": "5267908d",
   "metadata": {},
   "source": [
    "The algorithm of Stratified k-Fold technique:\n",
    "\n",
    "1. Pick a number of folds – k\n",
    "2. Split the dataset into k folds. Each fold must contain approximately the same percentage of samples of each target class as the complete set \n",
    "3. Choose k – 1 folds which will be the training set. The remaining fold will be the test set\n",
    "4. Train the model on the training set. On each iteration a new model must be trained\n",
    "5. Validate on the test set\n",
    "6. Save the result of the validation\n",
    "7. Repeat steps 3 – 6 k times. Each time use the remaining  fold as the test set. In the end, you should have validated the model on every fold that you have.\n",
    "8. To get the final score average the results that you got on step 6."
   ]
  },
  {
   "attachments": {
    "Cross-validation-k-fold.webp": {
     "image/webp": "[encoded data removed]"
    }
   },
   "cell_type": "markdown",
   "id": "ed20db11",
   "metadata": {},
   "source": [
    "![Cross-validation-k-fold.webp](attachment:Cross-validation-k-fold.webp)"
   ]
  },
  {
   "cell_type": "markdown",
   "id": "168052c6",
   "metadata": {},
   "source": [
    "As you may have noticed, the algorithm for Stratified k-Fold technique is similar to the standard k-Folds. You don’t need to code something additionally as the method will do everything necessary for you."
   ]
  },
  {
   "cell_type": "markdown",
   "id": "798227cc",
   "metadata": {},
   "source": [
    "#### Stratified k-Fold also has a built-in method in sklearn – sklearn.model_selection.StratifiedKFold."
   ]
  },
  {
   "cell_type": "code",
   "execution_count": 9,
   "id": "89ca993a",
   "metadata": {},
   "outputs": [
    {
     "name": "stdout",
     "output_type": "stream",
     "text": [
      "TRAIN: [2 3] TEST: [0 1]\n",
      "TRAIN: [0 1] TEST: [2 3]\n"
     ]
    }
   ],
   "source": [
    "from sklearn.model_selection import StratifiedKFold\n",
    "\n",
    "X = np.array([[1, 2], [3, 4], [1, 2], [3, 4]])\n",
    "y = np.array([1, 0, 0, 1])\n",
    "skf = StratifiedKFold(n_splits=2)\n",
    "\n",
    "for train_index, test_index in skf.split(X, y):\n",
    "    print(\"TRAIN:\", train_index, \"TEST:\", test_index)\n",
    "    X_train, X_test = X[train_index], X[test_index]\n",
    "    y_train, y_test = y[train_index], y[test_index]"
   ]
  },
  {
   "cell_type": "markdown",
   "id": "84e103de",
   "metadata": {},
   "source": [
    "All mentioned above about k-Fold CV is true for Stratified k-Fold technique. When choosing between different CV methods, make sure you are using the proper one. For example, you might think that your model performs badly simply because you are using k-Fold CV to validate the model which was trained on the dataset with a class imbalance. To avoid that you should always do a proper exploratory data analysis on your data."
   ]
  },
  {
   "cell_type": "markdown",
   "id": "da01ed5d",
   "metadata": {},
   "source": [
    "### Repeated k-Fold cross-validation"
   ]
  },
  {
   "cell_type": "markdown",
   "id": "5e953884",
   "metadata": {},
   "source": [
    "Repeated k-Fold cross-validation or Repeated random sub-sampling CV is probably the most robust of all CV techniques in this paper. It is a variation of k-Fold but in the case of Repeated k-Folds k is not the number of folds. It is the number of times we will train the model.\n",
    "\n",
    "The general idea is that on every iteration we will randomly select samples all over the dataset as our test set. For example, if we decide that 20% of the dataset will be our test set, 20% of samples will be randomly selected and the rest 80% will become the training set. \n",
    "\n",
    "The algorithm of Repeated k-Fold technique:\n",
    "    \n",
    "1. Pick k – number of times the model will be trained\n",
    "2. Pick a number of samples which will be the test set\n",
    "3. Split the dataset\n",
    "4. Train on the training set. On each iteration of cross-validation, a new model must be trained\n",
    "5. Validate on the test set\n",
    "6. Save the result of the validation\n",
    "7. Repeat steps 3-6 k times\n",
    "8. To get the final score average the results that you got on step 6."
   ]
  },
  {
   "attachments": {
    "cross-validation-repeated.webp": {
     "image/webp": "[encoded data removed]"
    }
   },
   "cell_type": "markdown",
   "id": "5301f699",
   "metadata": {},
   "source": [
    "![cross-validation-repeated.webp](attachment:cross-validation-repeated.webp)"
   ]
  },
  {
   "cell_type": "markdown",
   "id": "7c3161de",
   "metadata": {},
   "source": [
    "Repeated k-Fold has clear advantages over standard k-Fold CV. Firstly, the proportion of train/test split is not dependent on the number of iterations. Secondly, we can even set unique proportions for every iteration. Thirdly, random selection of samples from the dataset makes Repeated k-Fold even more robust to selection bias.\n",
    "\n",
    "Still, there are some disadvantages. k-Fold CV guarantees that the model will be tested on all samples, whereas Repeated k-Fold is based on randomization which means that some samples may never be selected to be in the test set at all. At the same time, some samples might be selected multiple times. Thus making it a bad choice for imbalanced datasets.\n",
    "\n",
    "Sklearn will help you to implement a Repeated k-Fold CV. Just use sklearn.model_selection.RepeatedKFold. In sklearn implementation of this technique you must set the number of folds that you want to have (n_splits) and the number of times the split will be performed (n_repeats). It guarantees that you will have different folds on each iteration."
   ]
  },
  {
   "cell_type": "code",
   "execution_count": 10,
   "id": "a28ce6d0",
   "metadata": {},
   "outputs": [
    {
     "name": "stdout",
     "output_type": "stream",
     "text": [
      "TRAIN: [0 2] TEST: [1 3]\n",
      "TRAIN: [1 3] TEST: [0 2]\n",
      "TRAIN: [0 2] TEST: [1 3]\n",
      "TRAIN: [1 3] TEST: [0 2]\n"
     ]
    }
   ],
   "source": [
    "from sklearn.model_selection import RepeatedKFold\n",
    "\n",
    "X = np.array([[1, 2], [3, 4], [1, 2], [3, 4]])\n",
    "y = np.array([0, 0, 1, 1])\n",
    "rkf = RepeatedKFold(n_splits=2, n_repeats=2, random_state=42)\n",
    "\n",
    "for train_index, test_index in rkf.split(X):\n",
    "    print(\"TRAIN:\", train_index, \"TEST:\", test_index)\n",
    "    X_train, X_test = X[train_index], X[test_index]\n",
    "    y_train, y_test = y[train_index], y[test_index]"
   ]
  },
  {
   "cell_type": "markdown",
   "id": "5d3ec966",
   "metadata": {},
   "source": [
    "### Nested k-Fold"
   ]
  },
  {
   "cell_type": "markdown",
   "id": "ee41e4cc",
   "metadata": {},
   "source": [
    "Unlike the other CV techniques, which are designed to evaluate the quality of an algorithm, Nested k-fold CV is used to train a model in which hyperparameters also need to be optimized. It estimates the generalization error of the underlying model and its (hyper)parameter search."
   ]
  },
  {
   "attachments": {
    "Nested-k-fold-CV-1.webp": {
     "image/webp": "[encoded data removed]"
    }
   },
   "cell_type": "markdown",
   "id": "478f061f",
   "metadata": {},
   "source": [
    "![Nested-k-fold-CV-1.webp](attachment:Nested-k-fold-CV-1.webp)"
   ]
  },
  {
   "cell_type": "markdown",
   "id": "0f276804",
   "metadata": {},
   "source": [
    "The algorithm of Nested k-Fold technique:\n",
    "\n",
    "1. Define set of hyper-parameter combinations, C, for current model. If model has no hyper-parameters, C is the empty set.\n",
    "2. Divide data into K folds with approximately equal distribution of cases and controls.\n",
    "3. (outer loop) For fold k, in the K folds:\n",
    "- Set fold k, as the test set.\n",
    "- Perform automated feature selection on the remaining K-1 folds.\n",
    "- For parameter combination c in C:\n",
    "    -  (inner loop) For fold k, in the remaining K-1 folds:\n",
    "        - Set fold k, as the validation set.\n",
    "        - Train model on remaining K-2 folds.\n",
    "        - Evaluate model performance on fold k.\n",
    "    - Calculate average performance over K-2 folds for parameter combination c.\n",
    "- Train model on K-1 folds using hyper-parameter combination that yielded best average performance over all steps of the inner loop.\n",
    "- Evaluate model performance on fold k.\n",
    "4. Calculate average performance over K folds.\n",
    "The inner loop performs cross-validation to identify the best features and model hyper-parameters using the k-1 data folds available at each iteration of the outer loop. The model is trained once for each outer loop step and evaluated on the held-out data fold. This process yields k evaluations of the model performance, one for each data fold, and allows the model to be tested on every sample.\n",
    "\n",
    "It is to be noted that this technique is computationally expensive because plenty of models is trained and evaluated. Unfortunately, there is no built-in method in sklearn that would perform Nested k-Fold CV for you."
   ]
  },
  {
   "cell_type": "markdown",
   "id": "ff8bae96",
   "metadata": {},
   "source": [
    "### Time-series cross-validation"
   ]
  },
  {
   "cell_type": "markdown",
   "id": "1ccf244a",
   "metadata": {},
   "source": [
    "Traditional cross-validation techniques don’t work on sequential data such as time-series because we cannot choose random data points and assign them to either the test set or the train set as it makes no sense to use the values from the future to forecast values in the past. There are mainly two ways to go about this:"
   ]
  },
  {
   "cell_type": "markdown",
   "id": "6239b3ef",
   "metadata": {},
   "source": [
    "1. Rolling cross-validation\n",
    "\n",
    "    Cross-validation is done on a rolling basis i.e. starting with a small subset of data for training purposes, predicting the future values, and then checking the accuracy on the forecasted data points. The following image can help you get the intuition behind this approach."
   ]
  },
  {
   "attachments": {
    "Time-Series-Cross-Validation-1.webp": {
     "image/webp": "[encoded data removed]"
    }
   },
   "cell_type": "markdown",
   "id": "55cd3a72",
   "metadata": {},
   "source": [
    "![Time-Series-Cross-Validation-1.webp](attachment:Time-Series-Cross-Validation-1.webp)"
   ]
  },
  {
   "cell_type": "markdown",
   "id": "79e6c289",
   "metadata": {},
   "source": [
    "2. Blocked cross-validation\n",
    "\n",
    "    The first technique may introduce leakage from future data to the model. The model will observe future patterns to forecast and try to memorize them. That’s why blocked cross-validation was introduced. "
   ]
  },
  {
   "attachments": {
    "Time-Series-Cross-Validation-2.webp": {
     "image/webp": "[encoded data removed]"
    }
   },
   "cell_type": "markdown",
   "id": "13f4c003",
   "metadata": {},
   "source": [
    "![Time-Series-Cross-Validation-2.webp](attachment:Time-Series-Cross-Validation-2.webp)"
   ]
  },
  {
   "cell_type": "markdown",
   "id": "d238e7ac",
   "metadata": {},
   "source": [
    "It works by adding margins at two positions. The first is between the training and validation folds in order to prevent the model from observing lag values which are used twice, once as a regressor and another as a response. The second is between the folds used at each iteration in order to prevent the model from memorizing patterns from one iteration to the next."
   ]
  },
  {
   "cell_type": "markdown",
   "id": "b7d07768",
   "metadata": {},
   "source": [
    "### Cross-validation in Machine Learning"
   ]
  },
  {
   "cell_type": "markdown",
   "id": "fd3c7e37",
   "metadata": {},
   "source": [
    "When is cross-validation the right choice?\n",
    "\n",
    "Although doing cross-validation of your trained model can never be termed as a bad choice, there are certain scenarios in which cross-validation becomes an absolute necessity: "
   ]
  },
  {
   "cell_type": "markdown",
   "id": "ad9037d4",
   "metadata": {},
   "source": [
    "1. Limited dataset\n",
    "\n",
    "    Let’s say we have 100 data points and we are dealing with a multi-class classification problem with 10 classes, this averages out to ~10 examples per class. In an 80-20 train-test split, this number would go down even further to 8 samples per class for training. The smart thing to do here would be to use cross-validation and utilize our entire dataset for training as well as testing."
   ]
  },
  {
   "cell_type": "markdown",
   "id": "8370203e",
   "metadata": {},
   "source": [
    "2. Dependent data points\n",
    "\n",
    "    When we perform a random train-test split of our data, we assume that our examples are independent. It means that knowing some instances will not help us understand other instances. However, that’s not always the case, and in such situations, it’s important that our model gets familiar with the entire dataset which is possible with cross-validation.\n"
   ]
  },
  {
   "cell_type": "markdown",
   "id": "269c36fe",
   "metadata": {},
   "source": [
    "3. Cons of single metric\n",
    "\n",
    "    In the absence of cross-validation, we only get a single value of accuracy or precision or recall which could be an outcome of chance. When we train multiple models, we eliminate such possibilities and get a metric per model which results in robust insights. \n",
    " "
   ]
  },
  {
   "cell_type": "markdown",
   "id": "5cddab1f",
   "metadata": {},
   "source": [
    "4. Hyperparameter tuning\n",
    "\n",
    "    Although there are many methods to tune the hyperparameters of your model such as grid search, Bayesian optimization, etc., this exercise can’t be done on training or test set, and a need for a validation set arises. Thus, we fall back to the same splitting problem that we have discussed above and cross-validation can help us out of this."
   ]
  }
 ],
 "metadata": {
  "kernelspec": {
   "display_name": "Python 3 (ipykernel)",
   "language": "python",
   "name": "python3"
  },
  "language_info": {
   "codemirror_mode": {
    "name": "ipython",
    "version": 3
   },
   "file_extension": ".py",
   "mimetype": "text/x-python",
   "name": "python",
   "nbconvert_exporter": "python",
   "pygments_lexer": "ipython3",
   "version": "3.10.8"
  }
 },
 "nbformat": 4,
 "nbformat_minor": 5
}
