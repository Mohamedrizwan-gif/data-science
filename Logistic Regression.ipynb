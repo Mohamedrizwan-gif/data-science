{
 "cells": [
  {
   "cell_type": "code",
   "execution_count": 1,
   "id": "ca6a6192",
   "metadata": {},
   "outputs": [],
   "source": [
    "import pandas as pd"
   ]
  },
  {
   "cell_type": "code",
   "execution_count": 2,
   "id": "13bbcce2",
   "metadata": {},
   "outputs": [],
   "source": [
    "df = pd.read_csv('dataset/User_Data.csv')"
   ]
  },
  {
   "cell_type": "code",
   "execution_count": 3,
   "id": "0c85d73f",
   "metadata": {},
   "outputs": [
    {
     "data": {
      "text/html": [
       "<div>\n",
       "<style scoped>\n",
       "    .dataframe tbody tr th:only-of-type {\n",
       "        vertical-align: middle;\n",
       "    }\n",
       "\n",
       "    .dataframe tbody tr th {\n",
       "        vertical-align: top;\n",
       "    }\n",
       "\n",
       "    .dataframe thead th {\n",
       "        text-align: right;\n",
       "    }\n",
       "</style>\n",
       "<table border=\"1\" class=\"dataframe\">\n",
       "  <thead>\n",
       "    <tr style=\"text-align: right;\">\n",
       "      <th></th>\n",
       "      <th>User ID</th>\n",
       "      <th>Gender</th>\n",
       "      <th>Age</th>\n",
       "      <th>EstimatedSalary</th>\n",
       "      <th>Purchased</th>\n",
       "    </tr>\n",
       "  </thead>\n",
       "  <tbody>\n",
       "    <tr>\n",
       "      <th>0</th>\n",
       "      <td>15624510</td>\n",
       "      <td>Male</td>\n",
       "      <td>19</td>\n",
       "      <td>19000</td>\n",
       "      <td>0</td>\n",
       "    </tr>\n",
       "    <tr>\n",
       "      <th>1</th>\n",
       "      <td>15810944</td>\n",
       "      <td>Male</td>\n",
       "      <td>35</td>\n",
       "      <td>20000</td>\n",
       "      <td>0</td>\n",
       "    </tr>\n",
       "    <tr>\n",
       "      <th>2</th>\n",
       "      <td>15668575</td>\n",
       "      <td>Female</td>\n",
       "      <td>26</td>\n",
       "      <td>43000</td>\n",
       "      <td>0</td>\n",
       "    </tr>\n",
       "    <tr>\n",
       "      <th>3</th>\n",
       "      <td>15603246</td>\n",
       "      <td>Female</td>\n",
       "      <td>27</td>\n",
       "      <td>57000</td>\n",
       "      <td>0</td>\n",
       "    </tr>\n",
       "    <tr>\n",
       "      <th>4</th>\n",
       "      <td>15804002</td>\n",
       "      <td>Male</td>\n",
       "      <td>19</td>\n",
       "      <td>76000</td>\n",
       "      <td>0</td>\n",
       "    </tr>\n",
       "  </tbody>\n",
       "</table>\n",
       "</div>"
      ],
      "text/plain": [
       "    User ID  Gender  Age  EstimatedSalary  Purchased\n",
       "0  15624510    Male   19            19000          0\n",
       "1  15810944    Male   35            20000          0\n",
       "2  15668575  Female   26            43000          0\n",
       "3  15603246  Female   27            57000          0\n",
       "4  15804002    Male   19            76000          0"
      ]
     },
     "execution_count": 3,
     "metadata": {},
     "output_type": "execute_result"
    }
   ],
   "source": [
    "df.head()"
   ]
  },
  {
   "cell_type": "code",
   "execution_count": 4,
   "id": "79d58d1a",
   "metadata": {},
   "outputs": [],
   "source": [
    "df['Gender'] = df['Gender'].map({'Male': 0, 'Female': 1}).astype(float)"
   ]
  },
  {
   "cell_type": "code",
   "execution_count": 5,
   "id": "9e313155",
   "metadata": {},
   "outputs": [
    {
     "data": {
      "text/html": [
       "<div>\n",
       "<style scoped>\n",
       "    .dataframe tbody tr th:only-of-type {\n",
       "        vertical-align: middle;\n",
       "    }\n",
       "\n",
       "    .dataframe tbody tr th {\n",
       "        vertical-align: top;\n",
       "    }\n",
       "\n",
       "    .dataframe thead th {\n",
       "        text-align: right;\n",
       "    }\n",
       "</style>\n",
       "<table border=\"1\" class=\"dataframe\">\n",
       "  <thead>\n",
       "    <tr style=\"text-align: right;\">\n",
       "      <th></th>\n",
       "      <th>User ID</th>\n",
       "      <th>Gender</th>\n",
       "      <th>Age</th>\n",
       "      <th>EstimatedSalary</th>\n",
       "      <th>Purchased</th>\n",
       "    </tr>\n",
       "  </thead>\n",
       "  <tbody>\n",
       "    <tr>\n",
       "      <th>0</th>\n",
       "      <td>15624510</td>\n",
       "      <td>0.0</td>\n",
       "      <td>19</td>\n",
       "      <td>19000</td>\n",
       "      <td>0</td>\n",
       "    </tr>\n",
       "    <tr>\n",
       "      <th>1</th>\n",
       "      <td>15810944</td>\n",
       "      <td>0.0</td>\n",
       "      <td>35</td>\n",
       "      <td>20000</td>\n",
       "      <td>0</td>\n",
       "    </tr>\n",
       "    <tr>\n",
       "      <th>2</th>\n",
       "      <td>15668575</td>\n",
       "      <td>1.0</td>\n",
       "      <td>26</td>\n",
       "      <td>43000</td>\n",
       "      <td>0</td>\n",
       "    </tr>\n",
       "    <tr>\n",
       "      <th>3</th>\n",
       "      <td>15603246</td>\n",
       "      <td>1.0</td>\n",
       "      <td>27</td>\n",
       "      <td>57000</td>\n",
       "      <td>0</td>\n",
       "    </tr>\n",
       "    <tr>\n",
       "      <th>4</th>\n",
       "      <td>15804002</td>\n",
       "      <td>0.0</td>\n",
       "      <td>19</td>\n",
       "      <td>76000</td>\n",
       "      <td>0</td>\n",
       "    </tr>\n",
       "  </tbody>\n",
       "</table>\n",
       "</div>"
      ],
      "text/plain": [
       "    User ID  Gender  Age  EstimatedSalary  Purchased\n",
       "0  15624510     0.0   19            19000          0\n",
       "1  15810944     0.0   35            20000          0\n",
       "2  15668575     1.0   26            43000          0\n",
       "3  15603246     1.0   27            57000          0\n",
       "4  15804002     0.0   19            76000          0"
      ]
     },
     "execution_count": 5,
     "metadata": {},
     "output_type": "execute_result"
    }
   ],
   "source": [
    "df.head(5)"
   ]
  },
  {
   "cell_type": "code",
   "execution_count": 6,
   "id": "551b4af2",
   "metadata": {},
   "outputs": [],
   "source": [
    "x = df.iloc[:, [2, 3]].values\n",
    "y = df.iloc[:, [4]].values"
   ]
  },
  {
   "cell_type": "code",
   "execution_count": 7,
   "id": "5158985b",
   "metadata": {},
   "outputs": [
    {
     "data": {
      "text/plain": [
       "array([[    19,  19000],\n",
       "       [    35,  20000],\n",
       "       [    26,  43000],\n",
       "       [    27,  57000],\n",
       "       [    19,  76000],\n",
       "       [    27,  58000],\n",
       "       [    27,  84000],\n",
       "       [    32, 150000],\n",
       "       [    25,  33000],\n",
       "       [    35,  65000]], dtype=int64)"
      ]
     },
     "execution_count": 7,
     "metadata": {},
     "output_type": "execute_result"
    }
   ],
   "source": [
    "x[:10]"
   ]
  },
  {
   "cell_type": "code",
   "execution_count": 8,
   "id": "7e925b07",
   "metadata": {},
   "outputs": [
    {
     "data": {
      "text/plain": [
       "array([[0],\n",
       "       [0],\n",
       "       [0],\n",
       "       [0],\n",
       "       [0],\n",
       "       [0],\n",
       "       [0],\n",
       "       [1],\n",
       "       [0],\n",
       "       [0]], dtype=int64)"
      ]
     },
     "execution_count": 8,
     "metadata": {},
     "output_type": "execute_result"
    }
   ],
   "source": [
    "y[:10]"
   ]
  },
  {
   "cell_type": "code",
   "execution_count": 9,
   "id": "cae4053b",
   "metadata": {},
   "outputs": [],
   "source": [
    "from sklearn.model_selection import train_test_split"
   ]
  },
  {
   "cell_type": "code",
   "execution_count": 10,
   "id": "e7f0e928",
   "metadata": {},
   "outputs": [],
   "source": [
    "xtrain, xtest, ytrain, ytest = train_test_split(x, y, test_size=0.25)"
   ]
  },
  {
   "cell_type": "code",
   "execution_count": 11,
   "id": "02836c0e",
   "metadata": {},
   "outputs": [
    {
     "data": {
      "text/plain": [
       "300"
      ]
     },
     "execution_count": 11,
     "metadata": {},
     "output_type": "execute_result"
    }
   ],
   "source": [
    "len(xtrain)"
   ]
  },
  {
   "cell_type": "code",
   "execution_count": 12,
   "id": "4d25e765",
   "metadata": {},
   "outputs": [
    {
     "data": {
      "text/plain": [
       "100"
      ]
     },
     "execution_count": 12,
     "metadata": {},
     "output_type": "execute_result"
    }
   ],
   "source": [
    "len(xtest)"
   ]
  },
  {
   "cell_type": "code",
   "execution_count": 13,
   "id": "44c4dd8e",
   "metadata": {},
   "outputs": [],
   "source": [
    "from sklearn.preprocessing import StandardScaler"
   ]
  },
  {
   "cell_type": "code",
   "execution_count": 14,
   "id": "a95dce12",
   "metadata": {},
   "outputs": [],
   "source": [
    "sc_x = StandardScaler()\n",
    "xtrain = sc_x.fit_transform(xtrain)"
   ]
  },
  {
   "cell_type": "code",
   "execution_count": 15,
   "id": "0fd1e6f6",
   "metadata": {},
   "outputs": [],
   "source": [
    "xtest = sc_x.transform(xtest)"
   ]
  },
  {
   "cell_type": "code",
   "execution_count": 16,
   "id": "46d3ab8f",
   "metadata": {},
   "outputs": [],
   "source": [
    "from sklearn.linear_model import LogisticRegression"
   ]
  },
  {
   "cell_type": "code",
   "execution_count": 17,
   "id": "793108ce",
   "metadata": {},
   "outputs": [
    {
     "data": {
      "text/plain": [
       "LogisticRegression()"
      ]
     },
     "execution_count": 17,
     "metadata": {},
     "output_type": "execute_result"
    }
   ],
   "source": [
    "classifier = LogisticRegression()\n",
    "classifier.fit(xtrain, ytrain.reshape(-1,))"
   ]
  },
  {
   "cell_type": "code",
   "execution_count": 18,
   "id": "a643a97e",
   "metadata": {},
   "outputs": [
    {
     "data": {
      "text/plain": [
       "array([[0.31169163, 0.68830837],\n",
       "       [0.00535572, 0.99464428],\n",
       "       [0.95459918, 0.04540082],\n",
       "       [0.91801488, 0.08198512],\n",
       "       [0.99157747, 0.00842253],\n",
       "       [0.71202046, 0.28797954],\n",
       "       [0.9868852 , 0.0131148 ],\n",
       "       [0.68958096, 0.31041904],\n",
       "       [0.82184344, 0.17815656],\n",
       "       [0.75684728, 0.24315272],\n",
       "       [0.47400171, 0.52599829],\n",
       "       [0.28156411, 0.71843589],\n",
       "       [0.83530365, 0.16469635],\n",
       "       [0.03364119, 0.96635881],\n",
       "       [0.29721842, 0.70278158],\n",
       "       [0.07056442, 0.92943558],\n",
       "       [0.94173064, 0.05826936],\n",
       "       [0.99094083, 0.00905917],\n",
       "       [0.94037141, 0.05962859],\n",
       "       [0.68053971, 0.31946029],\n",
       "       [0.95868975, 0.04131025],\n",
       "       [0.45299288, 0.54700712],\n",
       "       [0.04512799, 0.95487201],\n",
       "       [0.14095716, 0.85904284],\n",
       "       [0.07603758, 0.92396242],\n",
       "       [0.59905706, 0.40094294],\n",
       "       [0.67561568, 0.32438432],\n",
       "       [0.96097587, 0.03902413],\n",
       "       [0.83960518, 0.16039482],\n",
       "       [0.99601677, 0.00398323],\n",
       "       [0.92995089, 0.07004911],\n",
       "       [0.98856381, 0.01143619],\n",
       "       [0.94794278, 0.05205722],\n",
       "       [0.72864729, 0.27135271],\n",
       "       [0.93383777, 0.06616223],\n",
       "       [0.99580943, 0.00419057],\n",
       "       [0.63231028, 0.36768972],\n",
       "       [0.67829492, 0.32170508],\n",
       "       [0.52216798, 0.47783202],\n",
       "       [0.92620677, 0.07379323],\n",
       "       [0.97060876, 0.02939124],\n",
       "       [0.87906019, 0.12093981],\n",
       "       [0.93744947, 0.06255053],\n",
       "       [0.82259669, 0.17740331],\n",
       "       [0.85890231, 0.14109769],\n",
       "       [0.82080173, 0.17919827],\n",
       "       [0.77578421, 0.22421579],\n",
       "       [0.52924753, 0.47075247],\n",
       "       [0.64805417, 0.35194583],\n",
       "       [0.27355128, 0.72644872],\n",
       "       [0.79321768, 0.20678232],\n",
       "       [0.29937568, 0.70062432],\n",
       "       [0.59611085, 0.40388915],\n",
       "       [0.40330602, 0.59669398],\n",
       "       [0.9165467 , 0.0834533 ],\n",
       "       [0.95352532, 0.04647468],\n",
       "       [0.97400806, 0.02599194],\n",
       "       [0.80339252, 0.19660748],\n",
       "       [0.7972079 , 0.2027921 ],\n",
       "       [0.57561251, 0.42438749],\n",
       "       [0.49026658, 0.50973342],\n",
       "       [0.96755807, 0.03244193],\n",
       "       [0.93691706, 0.06308294],\n",
       "       [0.93395786, 0.06604214],\n",
       "       [0.6789945 , 0.3210055 ],\n",
       "       [0.97060876, 0.02939124],\n",
       "       [0.04579886, 0.95420114],\n",
       "       [0.25340627, 0.74659373],\n",
       "       [0.20343842, 0.79656158],\n",
       "       [0.1357302 , 0.8642698 ],\n",
       "       [0.0925129 , 0.9074871 ],\n",
       "       [0.91158335, 0.08841665],\n",
       "       [0.84516884, 0.15483116],\n",
       "       [0.06585086, 0.93414914],\n",
       "       [0.94609889, 0.05390111],\n",
       "       [0.53711296, 0.46288704],\n",
       "       [0.98995942, 0.01004058],\n",
       "       [0.63679741, 0.36320259],\n",
       "       [0.43358286, 0.56641714],\n",
       "       [0.84449331, 0.15550669],\n",
       "       [0.105498  , 0.894502  ],\n",
       "       [0.01220612, 0.98779388],\n",
       "       [0.99700565, 0.00299435],\n",
       "       [0.73144517, 0.26855483],\n",
       "       [0.97798763, 0.02201237],\n",
       "       [0.59440065, 0.40559935],\n",
       "       [0.5645557 , 0.4354443 ],\n",
       "       [0.89186811, 0.10813189],\n",
       "       [0.59144356, 0.40855644],\n",
       "       [0.78211257, 0.21788743],\n",
       "       [0.64598872, 0.35401128],\n",
       "       [0.85016569, 0.14983431],\n",
       "       [0.53486374, 0.46513626],\n",
       "       [0.99128173, 0.00871827],\n",
       "       [0.7356076 , 0.2643924 ],\n",
       "       [0.55835443, 0.44164557],\n",
       "       [0.44517459, 0.55482541],\n",
       "       [0.82670235, 0.17329765],\n",
       "       [0.03649911, 0.96350089],\n",
       "       [0.56613222, 0.43386778]])"
      ]
     },
     "execution_count": 18,
     "metadata": {},
     "output_type": "execute_result"
    }
   ],
   "source": [
    "ypred = classifier.predict_proba(xtest)\n",
    "ypred"
   ]
  },
  {
   "cell_type": "code",
   "execution_count": 19,
   "id": "c46c39f7",
   "metadata": {},
   "outputs": [
    {
     "data": {
      "text/plain": [
       "array([1, 1, 0, 0, 0, 0, 0, 0, 0, 0, 1, 1, 0, 1, 1, 1, 0, 0, 0, 0, 0, 1,\n",
       "       1, 1, 1, 0, 0, 0, 0, 0, 0, 0, 0, 0, 0, 0, 0, 0, 0, 0, 0, 0, 0, 0,\n",
       "       0, 0, 0, 0, 0, 1, 0, 1, 0, 1, 0, 0, 0, 0, 0, 0, 1, 0, 0, 0, 0, 0,\n",
       "       1, 1, 1, 1, 1, 0, 0, 1, 0, 0, 0, 0, 1, 0, 1, 1, 0, 0, 0, 0, 0, 0,\n",
       "       0, 0, 0, 0, 0, 0, 0, 0, 1, 0, 1, 0], dtype=int64)"
      ]
     },
     "execution_count": 19,
     "metadata": {},
     "output_type": "execute_result"
    }
   ],
   "source": [
    "ypred = classifier.predict(xtest)\n",
    "ypred"
   ]
  },
  {
   "cell_type": "code",
   "execution_count": 20,
   "id": "1276e85b",
   "metadata": {},
   "outputs": [],
   "source": [
    "from sklearn.metrics import confusion_matrix"
   ]
  },
  {
   "cell_type": "code",
   "execution_count": 21,
   "id": "3448d97e",
   "metadata": {},
   "outputs": [
    {
     "data": {
      "text/plain": [
       "array([[58,  4],\n",
       "       [16, 22]], dtype=int64)"
      ]
     },
     "execution_count": 21,
     "metadata": {},
     "output_type": "execute_result"
    }
   ],
   "source": [
    "cm = confusion_matrix(ytest, ypred)\n",
    "cm"
   ]
  },
  {
   "cell_type": "code",
   "execution_count": 22,
   "id": "c8070247",
   "metadata": {},
   "outputs": [],
   "source": [
    "from sklearn.metrics import accuracy_score"
   ]
  },
  {
   "cell_type": "code",
   "execution_count": 23,
   "id": "c4432d44",
   "metadata": {},
   "outputs": [
    {
     "data": {
      "text/plain": [
       "0.8"
      ]
     },
     "execution_count": 23,
     "metadata": {},
     "output_type": "execute_result"
    }
   ],
   "source": [
    "accuracy= accuracy_score(ytest, ypred)\n",
    "accuracy"
   ]
  },
  {
   "cell_type": "code",
   "execution_count": 24,
   "id": "7e13ab26",
   "metadata": {},
   "outputs": [],
   "source": [
    "import pickle"
   ]
  },
  {
   "cell_type": "code",
   "execution_count": 25,
   "id": "9695bdc4",
   "metadata": {},
   "outputs": [],
   "source": [
    "with open('dataset/userdata_model', 'wb') as f:\n",
    "    pickle.dump(classifier, f)"
   ]
  },
  {
   "cell_type": "code",
   "execution_count": 26,
   "id": "f65ec9fd",
   "metadata": {},
   "outputs": [],
   "source": [
    "with open('dataset/userdata_model', 'rb') as f:\n",
    "    mp = pickle.load(f)"
   ]
  },
  {
   "cell_type": "code",
   "execution_count": 27,
   "id": "f4c4b4d4",
   "metadata": {},
   "outputs": [
    {
     "data": {
      "text/plain": [
       "array([1], dtype=int64)"
      ]
     },
     "execution_count": 27,
     "metadata": {},
     "output_type": "execute_result"
    }
   ],
   "source": [
    "mp.predict([[29, 30000]])"
   ]
  }
 ],
 "metadata": {
  "kernelspec": {
   "display_name": "Python(base)",
   "language": "python",
   "name": "base"
  },
  "language_info": {
   "codemirror_mode": {
    "name": "ipython",
    "version": 3
   },
   "file_extension": ".py",
   "mimetype": "text/x-python",
   "name": "python",
   "nbconvert_exporter": "python",
   "pygments_lexer": "ipython3",
   "version": "3.9.12"
  }
 },
 "nbformat": 4,
 "nbformat_minor": 5
}
