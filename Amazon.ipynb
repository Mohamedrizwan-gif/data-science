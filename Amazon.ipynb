{
 "cells": [
  {
   "cell_type": "code",
   "execution_count": 16,
   "id": "2f7dcb8d",
   "metadata": {},
   "outputs": [],
   "source": [
    "from selenium import webdriver\n",
    "# from msedge.selenium_tools import Edge, EdgeOptions\n",
    "import chromedriver_binary\n",
    "import csv"
   ]
  },
  {
   "cell_type": "code",
   "execution_count": 17,
   "id": "b3d6aaf1",
   "metadata": {},
   "outputs": [],
   "source": [
    "#chrome\n",
    "driver = webdriver.Chrome()\n",
    "#Firefox\n",
    "# driver = webdriver.Firefox()\n",
    "#MSEdge\n",
    "# options = EdgeOptions()\n",
    "# options.use_chromium = True\n",
    "# driver = Edge(options=options)"
   ]
  },
  {
   "cell_type": "code",
   "execution_count": 18,
   "id": "d81f100e",
   "metadata": {},
   "outputs": [],
   "source": [
    "url = 'https://www.amazon.com/'\n",
    "driver.get(url)"
   ]
  },
  {
   "cell_type": "code",
   "execution_count": 19,
   "id": "dbdbbccd",
   "metadata": {},
   "outputs": [],
   "source": [
    "def my_url(keyword):\n",
    "    temp = 'https://www.amazon.com/s?k={}'\n",
    "    keyword = keyword.replace(' ', '+')\n",
    "    return temp.format(keyword)"
   ]
  },
  {
   "cell_type": "code",
   "execution_count": 20,
   "id": "b53fca41",
   "metadata": {},
   "outputs": [],
   "source": [
    "url = my_url('laptop charger')"
   ]
  },
  {
   "cell_type": "code",
   "execution_count": 21,
   "id": "bb8befe6",
   "metadata": {},
   "outputs": [
    {
     "data": {
      "text/plain": [
       "'https://www.amazon.com/s?k=laptop+charger'"
      ]
     },
     "execution_count": 21,
     "metadata": {},
     "output_type": "execute_result"
    }
   ],
   "source": [
    "url"
   ]
  },
  {
   "cell_type": "code",
   "execution_count": 22,
   "id": "bde02182",
   "metadata": {},
   "outputs": [],
   "source": [
    "driver.get(url)"
   ]
  },
  {
   "cell_type": "code",
   "execution_count": 23,
   "id": "925d51fa",
   "metadata": {},
   "outputs": [],
   "source": [
    "from bs4 import BeautifulSoup\n",
    "\n",
    "bs = BeautifulSoup(driver.page_source, 'html.parser')"
   ]
  },
  {
   "cell_type": "code",
   "execution_count": 24,
   "id": "0ff57089",
   "metadata": {},
   "outputs": [],
   "source": [
    "def change_page(page):\n",
    "    temp = url \n",
    "    temp += '&page={}'.format(page)\n",
    "    return url"
   ]
  },
  {
   "cell_type": "code",
   "execution_count": 25,
   "id": "ade144cb",
   "metadata": {},
   "outputs": [],
   "source": [
    "bs_result = bs.findAll('div', {'data-component-type': 's-search-result'})"
   ]
  },
  {
   "cell_type": "code",
   "execution_count": 32,
   "id": "25ee8eda",
   "metadata": {},
   "outputs": [
    {
     "data": {
      "text/plain": [
       "<a class=\"a-link-normal s-underline-text s-underline-link-text s-link-style a-text-normal\" href=\"/gp/slredirect/picassoRedirect.html/ref=pa_sp_atf_aps_sr_pg1_1?ie=UTF8&amp;adId=A00815132YZXS43M3V1MC&amp;qualifier=1672840205&amp;id=8695903683728305&amp;widgetName=sp_atf&amp;url=%2FCertification-Universal-Compatible-Ultrabook-Chromebook%2Fdp%2FB09NM28SB4%2Fref%3Dsr_1_1_sspa%3Fkeywords%3Dlaptop%2Bcharger%26qid%3D1672840205%26sr%3D8-1-spons%26psc%3D1\"><span class=\"a-size-medium a-color-base a-text-normal\">90W ETL Certification Universal AC Adapter Laptop Charger Compatible with Dell HP Acer Asus Lenovo IBM Toshiba Samsung Sony Fujitsu Gateway Notebook Ultrabook Chromebook Power Supply Cord with 16 Tips</span> </a>"
      ]
     },
     "execution_count": 32,
     "metadata": {},
     "output_type": "execute_result"
    }
   ],
   "source": [
    "bs_result[0].h2.a"
   ]
  },
  {
   "cell_type": "code",
   "execution_count": null,
   "id": "5f14790c",
   "metadata": {},
   "outputs": [],
   "source": [
    "def extract_records(obj):\n",
    "    atag = obj.h2.a\n",
    "    des = obj.h2.a.text.strip()\n",
    "    url = 'https://www.amazon.com/' + atag.get('href')\n",
    "    try:\n",
    "        parent = obj.find('span', 'a-price')\n",
    "        price = parent.find('span', 'a-offscreen').text\n",
    "    except AttributeError:\n",
    "        return \n",
    "    try:\n",
    "        rate = obj.find('span', 'a-icon-alt')"
   ]
  }
 ],
 "metadata": {
  "kernelspec": {
   "display_name": "Python 3 (ipykernel)",
   "language": "python",
   "name": "python3"
  },
  "language_info": {
   "codemirror_mode": {
    "name": "ipython",
    "version": 3
   },
   "file_extension": ".py",
   "mimetype": "text/x-python",
   "name": "python",
   "nbconvert_exporter": "python",
   "pygments_lexer": "ipython3",
   "version": "3.10.8"
  }
 },
 "nbformat": 4,
 "nbformat_minor": 5
}
