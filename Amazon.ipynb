{
 "cells": [
  {
   "cell_type": "code",
   "execution_count": 1,
   "id": "2f7dcb8d",
   "metadata": {},
   "outputs": [],
   "source": [
    "from selenium import webdriver\n",
    "# from msedge.selenium_tools import Edge, EdgeOptions\n",
    "import chromedriver_binary\n",
    "import csv"
   ]
  },
  {
   "cell_type": "code",
   "execution_count": 2,
   "id": "b3d6aaf1",
   "metadata": {},
   "outputs": [],
   "source": [
    "#chrome\n",
    "driver = webdriver.Chrome()\n",
    "#Firefox\n",
    "# driver = webdriver.Firefox()\n",
    "#MSEdge\n",
    "# options = EdgeOptions()\n",
    "# options.use_chromium = True\n",
    "# driver = Edge(options=options)"
   ]
  },
  {
   "cell_type": "code",
   "execution_count": 3,
   "id": "d81f100e",
   "metadata": {},
   "outputs": [],
   "source": [
    "url = 'https://www.amazon.com/'\n",
    "driver.get(url)"
   ]
  },
  {
   "cell_type": "code",
   "execution_count": 4,
   "id": "dbdbbccd",
   "metadata": {},
   "outputs": [],
   "source": [
    "def my_url(keyword):\n",
    "    temp = 'https://www.amazon.com/s?k={}'\n",
    "    keyword = keyword.replace(' ', '+')\n",
    "    return temp.format(keyword)"
   ]
  },
  {
   "cell_type": "code",
   "execution_count": 5,
   "id": "b53fca41",
   "metadata": {},
   "outputs": [],
   "source": [
    "url = my_url('laptop charger')"
   ]
  },
  {
   "cell_type": "code",
   "execution_count": 6,
   "id": "bb8befe6",
   "metadata": {},
   "outputs": [
    {
     "data": {
      "text/plain": [
       "'https://www.amazon.com/s?k=laptop+charger'"
      ]
     },
     "execution_count": 6,
     "metadata": {},
     "output_type": "execute_result"
    }
   ],
   "source": [
    "url"
   ]
  },
  {
   "cell_type": "code",
   "execution_count": 7,
   "id": "bde02182",
   "metadata": {},
   "outputs": [],
   "source": [
    "driver.get(url)"
   ]
  },
  {
   "cell_type": "code",
   "execution_count": 8,
   "id": "925d51fa",
   "metadata": {},
   "outputs": [],
   "source": [
    "from bs4 import BeautifulSoup\n",
    "\n",
    "bs = BeautifulSoup(driver.page_source, 'html.parser')"
   ]
  },
  {
   "cell_type": "code",
   "execution_count": 9,
   "id": "0ff57089",
   "metadata": {},
   "outputs": [],
   "source": [
    "def change_page(page):\n",
    "    temp = url \n",
    "    temp += '&page={}'.format(page)\n",
    "    return temp"
   ]
  },
  {
   "cell_type": "code",
   "execution_count": 10,
   "id": "ade144cb",
   "metadata": {},
   "outputs": [],
   "source": [
    "bs_result = bs.findAll('div', {'data-component-type': 's-search-result'})"
   ]
  },
  {
   "cell_type": "code",
   "execution_count": 11,
   "id": "25ee8eda",
   "metadata": {},
   "outputs": [
    {
     "data": {
      "text/plain": [
       "<a class=\"a-link-normal s-underline-text s-underline-link-text s-link-style a-text-normal\" href=\"/gp/slredirect/picassoRedirect.html/ref=pa_sp_atf_aps_sr_pg1_1?ie=UTF8&amp;adId=A09632352LYK70T6I3LXY&amp;qualifier=1672898402&amp;id=3934022438155897&amp;widgetName=sp_atf&amp;url=%2FCompatible-15-1039wm-15-1033wm-15-w117cl-15-w237cl%2Fdp%2FB08JHYX5XS%2Fref%3Dsr_1_1_sspa%3Fkeywords%3Dlaptop%2Bcharger%26qid%3D1672898402%26sr%3D8-1-spons%26psc%3D1%26smid%3DAIJ5GN3RZJLRO\"><span class=\"a-size-medium a-color-base a-text-normal\">65W Laptop Charger for HP Pavilion x360 11 13 15, Envy x360 13 15 17, 15-f111dx 15-f211wm 15-f233wm 15-f278nr 15-r052nr 15-r132wm Power Cord 19.5V 3.33A Charging Cord</span> </a>"
      ]
     },
     "execution_count": 11,
     "metadata": {},
     "output_type": "execute_result"
    }
   ],
   "source": [
    "bs_result[0].h2.a"
   ]
  },
  {
   "cell_type": "code",
   "execution_count": 12,
   "id": "5f14790c",
   "metadata": {},
   "outputs": [
    {
     "data": {
      "text/plain": [
       "('65W\\xa0Laptop Charger for HP\\xa0Pavilion x360 11 13 15, Envy x360\\xa013 15 17, 15-f111dx 15-f211wm 15-f233wm 15-f278nr 15-r052nr 15-r132wm Power Cord 19.5V 3.33A\\xa0Charging Cord',\n",
       " '$12.57',\n",
       " '4.4 out of 5 stars',\n",
       " None,\n",
       " 'https://www.amazon.com//gp/slredirect/picassoRedirect.html/ref=pa_sp_atf_aps_sr_pg1_1?ie=UTF8&adId=A09632352LYK70T6I3LXY&qualifier=1672898402&id=3934022438155897&widgetName=sp_atf&url=%2FCompatible-15-1039wm-15-1033wm-15-w117cl-15-w237cl%2Fdp%2FB08JHYX5XS%2Fref%3Dsr_1_1_sspa%3Fkeywords%3Dlaptop%2Bcharger%26qid%3D1672898402%26sr%3D8-1-spons%26psc%3D1%26smid%3DAIJ5GN3RZJLRO',\n",
       " 'https://m.media-amazon.com/images/W/WEBP_402378-T2/images/I/71PSZzZNd8L._AC_UY218_.jpg')"
      ]
     },
     "execution_count": 12,
     "metadata": {},
     "output_type": "execute_result"
    }
   ],
   "source": [
    "def extract_records(obj):\n",
    "    atag = obj.h2.a\n",
    "    des = obj.h2.a.text.strip()\n",
    "    url = 'https://www.amazon.com/' + atag.get('href')\n",
    "    try:\n",
    "        parent = obj.find('span', 'a-price')\n",
    "        price = parent.find('span', 'a-offscreen').text\n",
    "    except AttributeError:\n",
    "        return \n",
    "    try:\n",
    "        rate = obj.find('span', 'a-icon-alt').text\n",
    "        count_review = obj.find('span', {'class': 'a-size-base', 'dir': 'auto'})\n",
    "    except AttributeError:\n",
    "        rate = ''\n",
    "        count_review = ''\n",
    "    image = obj.find('img', {'class': 's-image'}).get('src')\n",
    "    \n",
    "    return (des, price, rate, count_review, url, image)\n",
    "\n",
    "extract_records(bs)"
   ]
  },
  {
   "cell_type": "code",
   "execution_count": 13,
   "id": "90ab15e4",
   "metadata": {},
   "outputs": [],
   "source": [
    "def main(keyword):\n",
    "    driver = webdriver.Chrome()\n",
    "    records = []\n",
    "    url = my_url(keyword)\n",
    "    \n",
    "    for page in range(1, 3):\n",
    "        driver.get(change_page(page))\n",
    "        from bs4 import BeautifulSoup\n",
    "        bs = BeautifulSoup(driver.page_source, 'html.parser')\n",
    "        bs_result = bs.find_all('div', {'data-component-type': 's-search-result'})\n",
    "        \n",
    "        for item in bs_result:\n",
    "            record = extract_records(item)\n",
    "            if record:\n",
    "                records.append(record)\n",
    "                \n",
    "        with open('result.csv', 'w', newline='', encoding='utf-8') as f:\n",
    "            writer = csv.writer(f)\n",
    "            writer.writerow(['Description', 'Price', 'Rate', 'Review Counts', 'URL', 'Image'])\n",
    "            writer.writerows(records)\n",
    "        \n",
    "main('laptop')"
   ]
  },
  {
   "cell_type": "code",
   "execution_count": null,
   "id": "9c0d83e5",
   "metadata": {},
   "outputs": [],
   "source": []
  }
 ],
 "metadata": {
  "kernelspec": {
   "display_name": "Python 3 (ipykernel)",
   "language": "python",
   "name": "python3"
  },
  "language_info": {
   "codemirror_mode": {
    "name": "ipython",
    "version": 3
   },
   "file_extension": ".py",
   "mimetype": "text/x-python",
   "name": "python",
   "nbconvert_exporter": "python",
   "pygments_lexer": "ipython3",
   "version": "3.10.8"
  }
 },
 "nbformat": 4,
 "nbformat_minor": 5
}
