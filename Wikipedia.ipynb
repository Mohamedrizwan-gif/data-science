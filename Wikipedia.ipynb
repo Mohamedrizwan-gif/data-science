{
 "cells": [
  {
   "cell_type": "code",
   "execution_count": 2,
   "id": "31049620",
   "metadata": {},
   "outputs": [],
   "source": [
    "import requests\n",
    "import pandas as pd\n",
    "from bs4 import BeautifulSoup\n",
    "import wikipedia as wp"
   ]
  },
  {
   "cell_type": "code",
   "execution_count": 3,
   "id": "05e9a869",
   "metadata": {},
   "outputs": [
    {
     "data": {
      "text/plain": [
       "<Response [200]>"
      ]
     },
     "execution_count": 3,
     "metadata": {},
     "output_type": "execute_result"
    }
   ],
   "source": [
    "data = requests.get('https://en.wikipedia.org/wiki/Artificial_intelligence')\n",
    "data"
   ]
  },
  {
   "cell_type": "code",
   "execution_count": 4,
   "id": "72589a20",
   "metadata": {},
   "outputs": [],
   "source": [
    "bs = BeautifulSoup(data.text, 'html')"
   ]
  },
  {
   "cell_type": "code",
   "execution_count": 5,
   "id": "8dc523c9",
   "metadata": {},
   "outputs": [
    {
     "data": {
      "text/plain": [
       "<title>Artificial intelligence - Wikipedia</title>"
      ]
     },
     "execution_count": 5,
     "metadata": {},
     "output_type": "execute_result"
    }
   ],
   "source": [
    "bs.title"
   ]
  },
  {
   "cell_type": "code",
   "execution_count": 6,
   "id": "5032da69",
   "metadata": {},
   "outputs": [
    {
     "data": {
      "text/plain": [
       "[<title>Artificial intelligence - Wikipedia</title>]"
      ]
     },
     "execution_count": 6,
     "metadata": {},
     "output_type": "execute_result"
    }
   ],
   "source": [
    "bs.select('title')"
   ]
  },
  {
   "cell_type": "code",
   "execution_count": 7,
   "id": "eb4f38d1",
   "metadata": {},
   "outputs": [
    {
     "data": {
      "text/plain": [
       "'Artificial intelligence - Wikipedia'"
      ]
     },
     "execution_count": 7,
     "metadata": {},
     "output_type": "execute_result"
    }
   ],
   "source": [
    "bs.select('title')[0].text"
   ]
  },
  {
   "cell_type": "code",
   "execution_count": 8,
   "id": "d45ddc94",
   "metadata": {},
   "outputs": [
    {
     "data": {
      "text/plain": [
       "'Artificial intelligence - Wikipedia'"
      ]
     },
     "execution_count": 8,
     "metadata": {},
     "output_type": "execute_result"
    }
   ],
   "source": [
    "bs.select('title')[0].getText()"
   ]
  },
  {
   "cell_type": "code",
   "execution_count": 9,
   "id": "20c21769",
   "metadata": {},
   "outputs": [
    {
     "data": {
      "text/plain": [
       "[<h2 id=\"mw-toc-heading\">Contents</h2>,\n",
       " <h2><span class=\"mw-headline\" id=\"History\">History</span></h2>,\n",
       " <h2><span class=\"mw-headline\" id=\"Goals\">Goals</span></h2>,\n",
       " <h2><span class=\"mw-headline\" id=\"Tools\">Tools</span></h2>,\n",
       " <h2><span class=\"mw-headline\" id=\"Applications\">Applications</span></h2>,\n",
       " <h2><span class=\"mw-headline\" id=\"Intellectual_Property\">Intellectual Property</span></h2>,\n",
       " <h2><span class=\"mw-headline\" id=\"Philosophy\">Philosophy</span></h2>,\n",
       " <h2><span class=\"mw-headline\" id=\"Future\">Future</span></h2>,\n",
       " <h2><span class=\"mw-headline\" id=\"In_fiction\">In fiction</span></h2>,\n",
       " <h2><span class=\"mw-headline\" id=\"Scientific_diplomacy\">Scientific diplomacy</span></h2>,\n",
       " <h2><span class=\"mw-headline\" id=\"See_also\">See also</span></h2>,\n",
       " <h2><span class=\"mw-headline\" id=\"Explanatory_notes\">Explanatory notes</span></h2>,\n",
       " <h2><span class=\"mw-headline\" id=\"References\">References</span></h2>,\n",
       " <h2><span class=\"mw-headline\" id=\"Further_reading\">Further reading</span></h2>,\n",
       " <h2><span class=\"mw-headline\" id=\"External_links\">External links</span></h2>,\n",
       " <h2>Navigation menu</h2>]"
      ]
     },
     "execution_count": 9,
     "metadata": {},
     "output_type": "execute_result"
    }
   ],
   "source": [
    "bs.select('h2')"
   ]
  },
  {
   "cell_type": "code",
   "execution_count": 10,
   "id": "7468a93e",
   "metadata": {},
   "outputs": [
    {
     "data": {
      "text/plain": [
       "[<span id=\"Reasoning.2C_problem-solving\"></span>,\n",
       " <span class=\"mw-headline\" id=\"Reasoning,_problem-solving\">Reasoning, problem-solving</span>,\n",
       " <span class=\"mw-headline\" id=\"Knowledge_representation\">Knowledge representation</span>,\n",
       " <span class=\"mw-headline\" id=\"Learning\">Learning</span>,\n",
       " <span class=\"mw-headline\" id=\"Natural_language_processing\">Natural language processing</span>,\n",
       " <span class=\"mw-headline\" id=\"Perception\">Perception</span>,\n",
       " <span class=\"mw-headline\" id=\"Social_intelligence\">Social intelligence</span>,\n",
       " <span class=\"mw-headline\" id=\"General_intelligence\">General intelligence</span>,\n",
       " <span class=\"mw-headline\" id=\"Search_and_optimization\">Search and optimization</span>,\n",
       " <span class=\"mw-headline\" id=\"Logic\">Logic</span>,\n",
       " <span class=\"mw-headline\" id=\"Probabilistic_methods_for_uncertain_reasoning\">Probabilistic methods for uncertain reasoning</span>,\n",
       " <span class=\"mw-headline\" id=\"Classifiers_and_statistical_learning_methods\">Classifiers and statistical learning methods</span>,\n",
       " <span class=\"mw-headline\" id=\"Artificial_neural_networks\">Artificial neural networks</span>,\n",
       " <span class=\"mw-headline\" id=\"Specialized_languages_and_hardware\">Specialized languages and hardware</span>,\n",
       " <span class=\"mw-headline\" id=\"Smart_traffic_lights\">Smart traffic lights</span>,\n",
       " <span class=\"mw-headline\" id=\"Defining_artificial_intelligence\">Defining artificial intelligence</span>,\n",
       " <span class=\"mw-headline\" id=\"Evaluating_approaches_to_AI\">Evaluating approaches to AI</span>,\n",
       " <span id=\"Machine_consciousness.2C_sentience_and_mind\"></span>,\n",
       " <span class=\"mw-headline\" id=\"Machine_consciousness,_sentience_and_mind\">Machine consciousness, sentience and mind</span>,\n",
       " <span class=\"mw-headline\" id=\"Superintelligence\">Superintelligence</span>,\n",
       " <span class=\"mw-headline\" id=\"Risks\">Risks</span>,\n",
       " <span class=\"mw-headline\" id=\"Ethical_machines\">Ethical machines</span>,\n",
       " <span class=\"mw-headline\" id=\"Regulation\">Regulation</span>,\n",
       " <span class=\"mw-headline\" id=\"Warfare\">Warfare</span>,\n",
       " <span class=\"mw-headline\" id=\"Cybersecurity\">Cybersecurity</span>,\n",
       " <span class=\"mw-headline\" id=\"Election_security\">Election security</span>,\n",
       " <span class=\"mw-headline\" id=\"Future_of_work\">Future of work</span>,\n",
       " <span class=\"mw-headline\" id=\"AI_and_foreign_policy\">AI and foreign policy</span>,\n",
       " <span class=\"mw-headline\" id=\"AI_textbooks\">AI textbooks</span>,\n",
       " <span class=\"mw-headline\" id=\"History_of_AI\">History of AI</span>,\n",
       " <span class=\"mw-headline\" id=\"Other_sources\">Other sources</span>,\n",
       " <span class=\"vector-menu-heading-label\">Personal tools</span>,\n",
       " <span class=\"vector-menu-heading-label\">Namespaces</span>,\n",
       " <span class=\"vector-menu-heading-label\">Views</span>,\n",
       " <span class=\"vector-menu-heading-label\">Navigation</span>,\n",
       " <span class=\"vector-menu-heading-label\">Contribute</span>,\n",
       " <span class=\"vector-menu-heading-label\">Tools</span>,\n",
       " <span class=\"vector-menu-heading-label\">Print/export</span>,\n",
       " <span class=\"vector-menu-heading-label\">In other projects</span>,\n",
       " <span class=\"vector-menu-heading-label\">Languages</span>]"
      ]
     },
     "execution_count": 10,
     "metadata": {},
     "output_type": "execute_result"
    }
   ],
   "source": [
    "bs.select('h3 > span')"
   ]
  },
  {
   "cell_type": "code",
   "execution_count": 11,
   "id": "82cbc938",
   "metadata": {},
   "outputs": [
    {
     "data": {
      "text/plain": [
       "[<img alt=\"Page semi-protected\" data-file-height=\"512\" data-file-width=\"512\" decoding=\"async\" height=\"20\" src=\"//upload.wikimedia.org/wikipedia/en/thumb/1/1b/Semi-protection-shackle.svg/20px-Semi-protection-shackle.svg.png\" srcset=\"//upload.wikimedia.org/wikipedia/en/thumb/1/1b/Semi-protection-shackle.svg/30px-Semi-protection-shackle.svg.png 1.5x, //upload.wikimedia.org/wikipedia/en/thumb/1/1b/Semi-protection-shackle.svg/40px-Semi-protection-shackle.svg.png 2x\" width=\"20\"/>,\n",
       " <img alt=\"Anatomy-1751201 1280.png\" data-file-height=\"1088\" data-file-width=\"1280\" decoding=\"async\" height=\"85\" src=\"//upload.wikimedia.org/wikipedia/commons/thumb/7/7a/Anatomy-1751201_1280.png/100px-Anatomy-1751201_1280.png\" srcset=\"//upload.wikimedia.org/wikipedia/commons/thumb/7/7a/Anatomy-1751201_1280.png/150px-Anatomy-1751201_1280.png 1.5x, //upload.wikimedia.org/wikipedia/commons/thumb/7/7a/Anatomy-1751201_1280.png/200px-Anatomy-1751201_1280.png 2x\" width=\"100\"/>,\n",
       " <img alt=\"\" class=\"thumbimage\" data-file-height=\"1020\" data-file-width=\"1020\" decoding=\"async\" height=\"220\" src=\"//upload.wikimedia.org/wikipedia/commons/thumb/c/c8/Didrachm_Phaistos_obverse_CdM.jpg/220px-Didrachm_Phaistos_obverse_CdM.jpg\" srcset=\"//upload.wikimedia.org/wikipedia/commons/thumb/c/c8/Didrachm_Phaistos_obverse_CdM.jpg/330px-Didrachm_Phaistos_obverse_CdM.jpg 1.5x, //upload.wikimedia.org/wikipedia/commons/thumb/c/c8/Didrachm_Phaistos_obverse_CdM.jpg/440px-Didrachm_Phaistos_obverse_CdM.jpg 2x\" width=\"220\"/>,\n",
       " <img alt=\"\" class=\"thumbimage\" data-file-height=\"443\" data-file-width=\"469\" decoding=\"async\" height=\"208\" src=\"//upload.wikimedia.org/wikipedia/commons/thumb/9/9e/GFO_taxonomy_tree.png/220px-GFO_taxonomy_tree.png\" srcset=\"//upload.wikimedia.org/wikipedia/commons/thumb/9/9e/GFO_taxonomy_tree.png/330px-GFO_taxonomy_tree.png 1.5x, //upload.wikimedia.org/wikipedia/commons/thumb/9/9e/GFO_taxonomy_tree.png/440px-GFO_taxonomy_tree.png 2x\" width=\"220\"/>,\n",
       " <img alt=\"\" class=\"thumbimage\" data-file-height=\"120\" data-file-width=\"120\" decoding=\"async\" height=\"220\" src=\"//upload.wikimedia.org/wikipedia/commons/thumb/6/6e/ParseTree.svg/220px-ParseTree.svg.png\" srcset=\"//upload.wikimedia.org/wikipedia/commons/thumb/6/6e/ParseTree.svg/330px-ParseTree.svg.png 1.5x, //upload.wikimedia.org/wikipedia/commons/thumb/6/6e/ParseTree.svg/440px-ParseTree.svg.png 2x\" width=\"220\"/>,\n",
       " <img alt=\"\" class=\"thumbimage\" data-file-height=\"471\" data-file-width=\"1415\" decoding=\"async\" height=\"110\" src=\"//upload.wikimedia.org/wikipedia/commons/thumb/2/20/%C3%84%C3%A4retuvastuse_n%C3%A4ide.png/330px-%C3%84%C3%A4retuvastuse_n%C3%A4ide.png\" srcset=\"//upload.wikimedia.org/wikipedia/commons/thumb/2/20/%C3%84%C3%A4retuvastuse_n%C3%A4ide.png/495px-%C3%84%C3%A4retuvastuse_n%C3%A4ide.png 1.5x, //upload.wikimedia.org/wikipedia/commons/thumb/2/20/%C3%84%C3%A4retuvastuse_n%C3%A4ide.png/660px-%C3%84%C3%A4retuvastuse_n%C3%A4ide.png 2x\" width=\"330\"/>,\n",
       " <img alt=\"\" class=\"thumbimage\" data-file-height=\"1704\" data-file-width=\"2272\" decoding=\"async\" height=\"165\" src=\"//upload.wikimedia.org/wikipedia/commons/thumb/b/b8/Kismet_robot_at_MIT_Museum.jpg/220px-Kismet_robot_at_MIT_Museum.jpg\" srcset=\"//upload.wikimedia.org/wikipedia/commons/thumb/b/b8/Kismet_robot_at_MIT_Museum.jpg/330px-Kismet_robot_at_MIT_Museum.jpg 1.5x, //upload.wikimedia.org/wikipedia/commons/thumb/b/b8/Kismet_robot_at_MIT_Museum.jpg/440px-Kismet_robot_at_MIT_Museum.jpg 2x\" width=\"220\"/>,\n",
       " <img alt=\"\" class=\"thumbimage\" data-file-height=\"420\" data-file-width=\"560\" decoding=\"async\" height=\"165\" src=\"//upload.wikimedia.org/wikipedia/commons/thumb/e/ec/ParticleSwarmArrowsAnimation.gif/220px-ParticleSwarmArrowsAnimation.gif\" srcset=\"//upload.wikimedia.org/wikipedia/commons/thumb/e/ec/ParticleSwarmArrowsAnimation.gif/330px-ParticleSwarmArrowsAnimation.gif 1.5x, //upload.wikimedia.org/wikipedia/commons/thumb/e/ec/ParticleSwarmArrowsAnimation.gif/440px-ParticleSwarmArrowsAnimation.gif 2x\" width=\"220\"/>,\n",
       " <img alt=\"\" class=\"thumbimage\" data-file-height=\"309\" data-file-width=\"360\" decoding=\"async\" height=\"309\" src=\"//upload.wikimedia.org/wikipedia/commons/6/69/EM_Clustering_of_Old_Faithful_data.gif\" width=\"360\"/>,\n",
       " <img alt=\"\" class=\"thumbimage\" data-file-height=\"500\" data-file-width=\"560\" decoding=\"async\" height=\"196\" src=\"//upload.wikimedia.org/wikipedia/commons/thumb/e/e4/Artificial_neural_network.svg/220px-Artificial_neural_network.svg.png\" srcset=\"//upload.wikimedia.org/wikipedia/commons/thumb/e/e4/Artificial_neural_network.svg/330px-Artificial_neural_network.svg.png 1.5x, //upload.wikimedia.org/wikipedia/commons/thumb/e/e4/Artificial_neural_network.svg/440px-Artificial_neural_network.svg.png 2x\" width=\"220\"/>,\n",
       " <img alt=\"Representing Images on Multiple Layers of Abstraction in Deep Learning\" class=\"thumbimage\" data-file-height=\"1012\" data-file-width=\"1239\" decoding=\"async\" height=\"180\" src=\"//upload.wikimedia.org/wikipedia/commons/thumb/2/26/Deep_Learning.jpg/220px-Deep_Learning.jpg\" srcset=\"//upload.wikimedia.org/wikipedia/commons/thumb/2/26/Deep_Learning.jpg/330px-Deep_Learning.jpg 1.5x, //upload.wikimedia.org/wikipedia/commons/thumb/2/26/Deep_Learning.jpg/440px-Deep_Learning.jpg 2x\" width=\"220\"/>,\n",
       " <img alt=\"\" class=\"thumbimage\" data-file-height=\"2000\" data-file-width=\"1726\" decoding=\"async\" height=\"255\" src=\"//upload.wikimedia.org/wikipedia/commons/thumb/1/13/Joseph_Ayerle_portrait_of_Ornella_Muti_%28detail%29%2C_calculated_by_Artificial_Intelligence_%28AI%29_technology.jpg/220px-Joseph_Ayerle_portrait_of_Ornella_Muti_%28detail%29%2C_calculated_by_Artificial_Intelligence_%28AI%29_technology.jpg\" srcset=\"//upload.wikimedia.org/wikipedia/commons/thumb/1/13/Joseph_Ayerle_portrait_of_Ornella_Muti_%28detail%29%2C_calculated_by_Artificial_Intelligence_%28AI%29_technology.jpg/330px-Joseph_Ayerle_portrait_of_Ornella_Muti_%28detail%29%2C_calculated_by_Artificial_Intelligence_%28AI%29_technology.jpg 1.5x, //upload.wikimedia.org/wikipedia/commons/thumb/1/13/Joseph_Ayerle_portrait_of_Ornella_Muti_%28detail%29%2C_calculated_by_Artificial_Intelligence_%28AI%29_technology.jpg/440px-Joseph_Ayerle_portrait_of_Ornella_Muti_%28detail%29%2C_calculated_by_Artificial_Intelligence_%28AI%29_technology.jpg 2x\" width=\"220\"/>,\n",
       " <img alt=\"\" data-file-height=\"845\" data-file-width=\"1664\" decoding=\"async\" height=\"102\" src=\"//upload.wikimedia.org/wikipedia/commons/thumb/b/b0/Smart_traffic_light.webp/200px-Smart_traffic_light.webp.png\" srcset=\"//upload.wikimedia.org/wikipedia/commons/thumb/b/b0/Smart_traffic_light.webp/300px-Smart_traffic_light.webp.png 1.5x, //upload.wikimedia.org/wikipedia/commons/thumb/b/b0/Smart_traffic_light.webp/400px-Smart_traffic_light.webp.png 2x\" width=\"200\"/>,\n",
       " <img alt=\"\" data-file-height=\"837\" data-file-width=\"1660\" decoding=\"async\" height=\"101\" src=\"//upload.wikimedia.org/wikipedia/commons/thumb/f/fc/Smart_traffic_light_intersection.webp/200px-Smart_traffic_light_intersection.webp.png\" srcset=\"//upload.wikimedia.org/wikipedia/commons/thumb/f/fc/Smart_traffic_light_intersection.webp/300px-Smart_traffic_light_intersection.webp.png 1.5x, //upload.wikimedia.org/wikipedia/commons/thumb/f/fc/Smart_traffic_light_intersection.webp/400px-Smart_traffic_light_intersection.webp.png 2x\" width=\"200\"/>,\n",
       " <img alt=\"\" class=\"thumbimage\" data-file-height=\"506\" data-file-width=\"763\" decoding=\"async\" height=\"146\" src=\"//upload.wikimedia.org/wikipedia/commons/thumb/f/f3/AI_Patent_families_for_functional_application_categories_and_sub_categories.png/220px-AI_Patent_families_for_functional_application_categories_and_sub_categories.png\" srcset=\"//upload.wikimedia.org/wikipedia/commons/thumb/f/f3/AI_Patent_families_for_functional_application_categories_and_sub_categories.png/330px-AI_Patent_families_for_functional_application_categories_and_sub_categories.png 1.5x, //upload.wikimedia.org/wikipedia/commons/thumb/f/f3/AI_Patent_families_for_functional_application_categories_and_sub_categories.png/440px-AI_Patent_families_for_functional_application_categories_and_sub_categories.png 2x\" width=\"220\"/>,\n",
       " <img alt=\"\" class=\"thumbimage\" data-file-height=\"316\" data-file-width=\"566\" decoding=\"async\" height=\"123\" src=\"//upload.wikimedia.org/wikipedia/commons/thumb/8/87/Capek_play.jpg/220px-Capek_play.jpg\" srcset=\"//upload.wikimedia.org/wikipedia/commons/thumb/8/87/Capek_play.jpg/330px-Capek_play.jpg 1.5x, //upload.wikimedia.org/wikipedia/commons/thumb/8/87/Capek_play.jpg/440px-Capek_play.jpg 2x\" width=\"220\"/>,\n",
       " <img alt=\"\" data-file-height=\"391\" data-file-width=\"391\" decoding=\"async\" height=\"27\" src=\"//upload.wikimedia.org/wikipedia/en/thumb/0/06/Wiktionary-logo-v2.svg/27px-Wiktionary-logo-v2.svg.png\" srcset=\"//upload.wikimedia.org/wikipedia/en/thumb/0/06/Wiktionary-logo-v2.svg/41px-Wiktionary-logo-v2.svg.png 1.5x, //upload.wikimedia.org/wikipedia/en/thumb/0/06/Wiktionary-logo-v2.svg/54px-Wiktionary-logo-v2.svg.png 2x\" style=\"vertical-align: middle\" width=\"27\"/>,\n",
       " <img alt=\"\" data-file-height=\"1376\" data-file-width=\"1024\" decoding=\"async\" height=\"27\" src=\"//upload.wikimedia.org/wikipedia/en/thumb/4/4a/Commons-logo.svg/20px-Commons-logo.svg.png\" srcset=\"//upload.wikimedia.org/wikipedia/en/thumb/4/4a/Commons-logo.svg/30px-Commons-logo.svg.png 1.5x, //upload.wikimedia.org/wikipedia/en/thumb/4/4a/Commons-logo.svg/40px-Commons-logo.svg.png 2x\" style=\"vertical-align: middle\" width=\"20\"/>,\n",
       " <img alt=\"\" data-file-height=\"355\" data-file-width=\"300\" decoding=\"async\" height=\"27\" src=\"//upload.wikimedia.org/wikipedia/commons/thumb/f/fa/Wikiquote-logo.svg/23px-Wikiquote-logo.svg.png\" srcset=\"//upload.wikimedia.org/wikipedia/commons/thumb/f/fa/Wikiquote-logo.svg/35px-Wikiquote-logo.svg.png 1.5x, //upload.wikimedia.org/wikipedia/commons/thumb/f/fa/Wikiquote-logo.svg/46px-Wikiquote-logo.svg.png 2x\" style=\"vertical-align: middle\" width=\"23\"/>,\n",
       " <img alt=\"\" data-file-height=\"300\" data-file-width=\"300\" decoding=\"async\" height=\"27\" src=\"//upload.wikimedia.org/wikipedia/commons/thumb/f/fa/Wikibooks-logo.svg/27px-Wikibooks-logo.svg.png\" srcset=\"//upload.wikimedia.org/wikipedia/commons/thumb/f/fa/Wikibooks-logo.svg/41px-Wikibooks-logo.svg.png 1.5x, //upload.wikimedia.org/wikipedia/commons/thumb/f/fa/Wikibooks-logo.svg/54px-Wikibooks-logo.svg.png 2x\" style=\"vertical-align: middle\" width=\"27\"/>,\n",
       " <img alt=\"\" data-file-height=\"512\" data-file-width=\"626\" decoding=\"async\" height=\"22\" src=\"//upload.wikimedia.org/wikipedia/commons/thumb/0/0b/Wikiversity_logo_2017.svg/27px-Wikiversity_logo_2017.svg.png\" srcset=\"//upload.wikimedia.org/wikipedia/commons/thumb/0/0b/Wikiversity_logo_2017.svg/41px-Wikiversity_logo_2017.svg.png 1.5x, //upload.wikimedia.org/wikipedia/commons/thumb/0/0b/Wikiversity_logo_2017.svg/54px-Wikiversity_logo_2017.svg.png 2x\" style=\"vertical-align: middle\" width=\"27\"/>,\n",
       " <img alt=\"\" data-file-height=\"590\" data-file-width=\"1050\" decoding=\"async\" height=\"15\" src=\"//upload.wikimedia.org/wikipedia/commons/thumb/f/ff/Wikidata-logo.svg/27px-Wikidata-logo.svg.png\" srcset=\"//upload.wikimedia.org/wikipedia/commons/thumb/f/ff/Wikidata-logo.svg/41px-Wikidata-logo.svg.png 1.5x, //upload.wikimedia.org/wikipedia/commons/thumb/f/ff/Wikidata-logo.svg/54px-Wikidata-logo.svg.png 2x\" style=\"vertical-align: middle\" width=\"27\"/>,\n",
       " <img alt=\"\" class=\"noviewer\" data-file-height=\"500\" data-file-width=\"326\" decoding=\"async\" height=\"28\" src=\"//upload.wikimedia.org/wikipedia/commons/thumb/c/cd/Socrates.png/18px-Socrates.png\" srcset=\"//upload.wikimedia.org/wikipedia/commons/thumb/c/cd/Socrates.png/27px-Socrates.png 1.5x, //upload.wikimedia.org/wikipedia/commons/thumb/c/cd/Socrates.png/36px-Socrates.png 2x\" width=\"18\"/>,\n",
       " <img alt=\"icon\" class=\"noviewer\" data-file-height=\"128\" data-file-width=\"128\" decoding=\"async\" height=\"28\" src=\"//upload.wikimedia.org/wikipedia/commons/thumb/8/8b/Nuvola_apps_kalzium.svg/28px-Nuvola_apps_kalzium.svg.png\" srcset=\"//upload.wikimedia.org/wikipedia/commons/thumb/8/8b/Nuvola_apps_kalzium.svg/42px-Nuvola_apps_kalzium.svg.png 1.5x, //upload.wikimedia.org/wikipedia/commons/thumb/8/8b/Nuvola_apps_kalzium.svg/56px-Nuvola_apps_kalzium.svg.png 2x\" width=\"28\"/>,\n",
       " <img alt=\"\" class=\"noviewer\" data-file-height=\"185\" data-file-width=\"180\" decoding=\"async\" height=\"16\" src=\"//upload.wikimedia.org/wikipedia/en/thumb/e/e2/Symbol_portal_class.svg/16px-Symbol_portal_class.svg.png\" srcset=\"//upload.wikimedia.org/wikipedia/en/thumb/e/e2/Symbol_portal_class.svg/23px-Symbol_portal_class.svg.png 1.5x, //upload.wikimedia.org/wikipedia/en/thumb/e/e2/Symbol_portal_class.svg/31px-Symbol_portal_class.svg.png 2x\" width=\"16\"/>,\n",
       " <img alt=\"\" class=\"noviewer\" data-file-height=\"185\" data-file-width=\"180\" decoding=\"async\" height=\"16\" src=\"//upload.wikimedia.org/wikipedia/en/thumb/9/96/Symbol_category_class.svg/16px-Symbol_category_class.svg.png\" srcset=\"//upload.wikimedia.org/wikipedia/en/thumb/9/96/Symbol_category_class.svg/23px-Symbol_category_class.svg.png 1.5x, //upload.wikimedia.org/wikipedia/en/thumb/9/96/Symbol_category_class.svg/31px-Symbol_category_class.svg.png 2x\" title=\"Category\" width=\"16\"/>,\n",
       " <img alt=\"Computer Retro.svg\" data-file-height=\"512\" data-file-width=\"512\" decoding=\"async\" height=\"50\" src=\"//upload.wikimedia.org/wikipedia/commons/thumb/5/51/Computer_Retro.svg/50px-Computer_Retro.svg.png\" srcset=\"//upload.wikimedia.org/wikipedia/commons/thumb/5/51/Computer_Retro.svg/75px-Computer_Retro.svg.png 1.5x, //upload.wikimedia.org/wikipedia/commons/thumb/5/51/Computer_Retro.svg/100px-Computer_Retro.svg.png 2x\" width=\"50\"/>,\n",
       " <img alt=\"\" class=\"noviewer\" data-file-height=\"185\" data-file-width=\"180\" decoding=\"async\" height=\"16\" src=\"//upload.wikimedia.org/wikipedia/en/thumb/9/96/Symbol_category_class.svg/16px-Symbol_category_class.svg.png\" srcset=\"//upload.wikimedia.org/wikipedia/en/thumb/9/96/Symbol_category_class.svg/23px-Symbol_category_class.svg.png 1.5x, //upload.wikimedia.org/wikipedia/en/thumb/9/96/Symbol_category_class.svg/31px-Symbol_category_class.svg.png 2x\" title=\"Category\" width=\"16\"/>,\n",
       " <img alt=\"\" class=\"noviewer\" data-file-height=\"200\" data-file-width=\"130\" decoding=\"async\" height=\"16\" src=\"//upload.wikimedia.org/wikipedia/commons/thumb/4/41/Global_thinking.svg/10px-Global_thinking.svg.png\" srcset=\"//upload.wikimedia.org/wikipedia/commons/thumb/4/41/Global_thinking.svg/15px-Global_thinking.svg.png 1.5x, //upload.wikimedia.org/wikipedia/commons/thumb/4/41/Global_thinking.svg/21px-Global_thinking.svg.png 2x\" title=\"Outline\" width=\"10\"/>,\n",
       " <img alt=\"\" class=\"noviewer\" data-file-height=\"100\" data-file-width=\"100\" decoding=\"async\" height=\"16\" src=\"//upload.wikimedia.org/wikipedia/commons/thumb/3/37/People_icon.svg/16px-People_icon.svg.png\" srcset=\"//upload.wikimedia.org/wikipedia/commons/thumb/3/37/People_icon.svg/24px-People_icon.svg.png 1.5x, //upload.wikimedia.org/wikipedia/commons/thumb/3/37/People_icon.svg/32px-People_icon.svg.png 2x\" title=\"WikiProject\" width=\"16\"/>,\n",
       " <img alt=\"\" class=\"noviewer\" data-file-height=\"1376\" data-file-width=\"1024\" decoding=\"async\" height=\"16\" src=\"//upload.wikimedia.org/wikipedia/en/thumb/4/4a/Commons-logo.svg/12px-Commons-logo.svg.png\" srcset=\"//upload.wikimedia.org/wikipedia/en/thumb/4/4a/Commons-logo.svg/18px-Commons-logo.svg.png 1.5x, //upload.wikimedia.org/wikipedia/en/thumb/4/4a/Commons-logo.svg/24px-Commons-logo.svg.png 2x\" title=\"Commons page\" width=\"12\"/>,\n",
       " <img alt=\"\" class=\"noviewer\" data-file-height=\"185\" data-file-width=\"180\" decoding=\"async\" height=\"16\" src=\"//upload.wikimedia.org/wikipedia/en/thumb/9/96/Symbol_category_class.svg/16px-Symbol_category_class.svg.png\" srcset=\"//upload.wikimedia.org/wikipedia/en/thumb/9/96/Symbol_category_class.svg/23px-Symbol_category_class.svg.png 1.5x, //upload.wikimedia.org/wikipedia/en/thumb/9/96/Symbol_category_class.svg/31px-Symbol_category_class.svg.png 2x\" title=\"Category\" width=\"16\"/>,\n",
       " <img alt=\"\" class=\"noviewer\" data-file-height=\"185\" data-file-width=\"180\" decoding=\"async\" height=\"16\" src=\"//upload.wikimedia.org/wikipedia/en/thumb/d/db/Symbol_list_class.svg/16px-Symbol_list_class.svg.png\" srcset=\"//upload.wikimedia.org/wikipedia/en/thumb/d/db/Symbol_list_class.svg/23px-Symbol_list_class.svg.png 1.5x, //upload.wikimedia.org/wikipedia/en/thumb/d/db/Symbol_list_class.svg/31px-Symbol_list_class.svg.png 2x\" title=\"List-Class article\" width=\"16\"/>,\n",
       " <img alt=\"Shadow Hand Bulb large.jpg\" data-file-height=\"3840\" data-file-width=\"2560\" decoding=\"async\" height=\"150\" src=\"//upload.wikimedia.org/wikipedia/commons/thumb/c/c5/Shadow_Hand_Bulb_large.jpg/100px-Shadow_Hand_Bulb_large.jpg\" srcset=\"//upload.wikimedia.org/wikipedia/commons/thumb/c/c5/Shadow_Hand_Bulb_large.jpg/150px-Shadow_Hand_Bulb_large.jpg 1.5x, //upload.wikimedia.org/wikipedia/commons/thumb/c/c5/Shadow_Hand_Bulb_large.jpg/200px-Shadow_Hand_Bulb_large.jpg 2x\" width=\"100\"/>,\n",
       " <img alt=\"\" class=\"noviewer\" data-file-height=\"185\" data-file-width=\"180\" decoding=\"async\" height=\"16\" src=\"//upload.wikimedia.org/wikipedia/en/thumb/9/96/Symbol_category_class.svg/16px-Symbol_category_class.svg.png\" srcset=\"//upload.wikimedia.org/wikipedia/en/thumb/9/96/Symbol_category_class.svg/23px-Symbol_category_class.svg.png 1.5x, //upload.wikimedia.org/wikipedia/en/thumb/9/96/Symbol_category_class.svg/31px-Symbol_category_class.svg.png 2x\" title=\"Category\" width=\"16\"/>,\n",
       " <img alt=\"\" class=\"noviewer\" data-file-height=\"200\" data-file-width=\"130\" decoding=\"async\" height=\"16\" src=\"//upload.wikimedia.org/wikipedia/commons/thumb/4/41/Global_thinking.svg/10px-Global_thinking.svg.png\" srcset=\"//upload.wikimedia.org/wikipedia/commons/thumb/4/41/Global_thinking.svg/15px-Global_thinking.svg.png 1.5x, //upload.wikimedia.org/wikipedia/commons/thumb/4/41/Global_thinking.svg/21px-Global_thinking.svg.png 2x\" title=\"Outline\" width=\"10\"/>,\n",
       " <img alt=\"\" class=\"noviewer\" data-file-height=\"185\" data-file-width=\"180\" decoding=\"async\" height=\"16\" src=\"//upload.wikimedia.org/wikipedia/en/thumb/9/96/Symbol_category_class.svg/16px-Symbol_category_class.svg.png\" srcset=\"//upload.wikimedia.org/wikipedia/en/thumb/9/96/Symbol_category_class.svg/23px-Symbol_category_class.svg.png 1.5x, //upload.wikimedia.org/wikipedia/en/thumb/9/96/Symbol_category_class.svg/31px-Symbol_category_class.svg.png 2x\" title=\"Category\" width=\"16\"/>,\n",
       " <img alt=\"Edit this at Wikidata\" class=\"noprint\" data-file-height=\"20\" data-file-width=\"20\" decoding=\"async\" height=\"10\" src=\"//upload.wikimedia.org/wikipedia/en/thumb/8/8a/OOjs_UI_icon_edit-ltr-progressive.svg/10px-OOjs_UI_icon_edit-ltr-progressive.svg.png\" srcset=\"//upload.wikimedia.org/wikipedia/en/thumb/8/8a/OOjs_UI_icon_edit-ltr-progressive.svg/15px-OOjs_UI_icon_edit-ltr-progressive.svg.png 1.5x, //upload.wikimedia.org/wikipedia/en/thumb/8/8a/OOjs_UI_icon_edit-ltr-progressive.svg/20px-OOjs_UI_icon_edit-ltr-progressive.svg.png 2x\" style=\"vertical-align: text-top\" width=\"10\"/>,\n",
       " <img alt=\"\" height=\"1\" src=\"//en.wikipedia.org/wiki/Special:CentralAutoLogin/start?type=1x1\" style=\"border: none; position: absolute;\" title=\"\" width=\"1\"/>,\n",
       " <img alt=\"Wikimedia Foundation\" height=\"31\" loading=\"lazy\" src=\"/static/images/footer/wikimedia-button.png\" srcset=\"/static/images/footer/wikimedia-button-1.5x.png 1.5x, /static/images/footer/wikimedia-button-2x.png 2x\" width=\"88\"/>,\n",
       " <img alt=\"Powered by MediaWiki\" height=\"31\" loading=\"lazy\" src=\"/static/images/footer/poweredby_mediawiki_88x31.png\" srcset=\"/static/images/footer/poweredby_mediawiki_132x47.png 1.5x, /static/images/footer/poweredby_mediawiki_176x62.png 2x\" width=\"88\"/>]"
      ]
     },
     "execution_count": 11,
     "metadata": {},
     "output_type": "execute_result"
    }
   ],
   "source": [
    "bs.select('img')"
   ]
  },
  {
   "cell_type": "code",
   "execution_count": 12,
   "id": "8362ad64",
   "metadata": {},
   "outputs": [
    {
     "name": "stdout",
     "output_type": "stream",
     "text": [
      "Reasoning.2C_problem-solving\n",
      "Knowledge_representation\n",
      "Learning\n",
      "Natural_language_processing\n",
      "Perception\n",
      "Social_intelligence\n",
      "General_intelligence\n",
      "Search_and_optimization\n",
      "Logic\n",
      "Probabilistic_methods_for_uncertain_reasoning\n",
      "Classifiers_and_statistical_learning_methods\n",
      "Artificial_neural_networks\n",
      "Specialized_languages_and_hardware\n",
      "Smart_traffic_lights\n",
      "Defining_artificial_intelligence\n",
      "Evaluating_approaches_to_AI\n",
      "Machine_consciousness.2C_sentience_and_mind\n",
      "Superintelligence\n",
      "Risks\n",
      "Ethical_machines\n",
      "Regulation\n",
      "Warfare\n",
      "Cybersecurity\n",
      "Election_security\n",
      "Future_of_work\n",
      "AI_and_foreign_policy\n",
      "AI_textbooks\n",
      "History_of_AI\n",
      "Other_sources\n"
     ]
    }
   ],
   "source": [
    "for x in bs.select('h3'):\n",
    "    if x.span.get('id'):\n",
    "        print(x.span['id'])"
   ]
  },
  {
   "cell_type": "code",
   "execution_count": 13,
   "id": "1076f101",
   "metadata": {},
   "outputs": [
    {
     "data": {
      "text/plain": [
       "['Python',\n",
       " 'Python (programming language)',\n",
       " 'Monty Python',\n",
       " 'Setuptools',\n",
       " 'Python (codename)',\n",
       " 'Ball python',\n",
       " 'Reticulated python',\n",
       " 'Colt Python',\n",
       " 'Python (genus)',\n",
       " 'Burmese python']"
      ]
     },
     "execution_count": 13,
     "metadata": {},
     "output_type": "execute_result"
    }
   ],
   "source": [
    "wp.search('python')"
   ]
  },
  {
   "cell_type": "code",
   "execution_count": 14,
   "id": "b863cb10",
   "metadata": {},
   "outputs": [
    {
     "data": {
      "text/plain": [
       "['The arts',\n",
       " 'ARts',\n",
       " 'ARTS',\n",
       " 'Bachelor of Arts',\n",
       " 'Electronic Arts',\n",
       " 'Visual arts',\n",
       " 'Master of Arts',\n",
       " 'Character (arts)',\n",
       " 'Martial arts',\n",
       " 'Language arts']"
      ]
     },
     "execution_count": 14,
     "metadata": {},
     "output_type": "execute_result"
    }
   ],
   "source": [
    "wp.search('arts')"
   ]
  },
  {
   "cell_type": "code",
   "execution_count": 15,
   "id": "f79942c7",
   "metadata": {},
   "outputs": [
    {
     "data": {
      "text/plain": [
       "['Artificial intelligence',\n",
       " 'Ai',\n",
       " 'OpenAI',\n",
       " '.ai',\n",
       " 'Ai Ai Gasa',\n",
       " 'AI takeover',\n",
       " 'AI alignment',\n",
       " '15.ai',\n",
       " 'Google AI',\n",
       " 'Artificial general intelligence']"
      ]
     },
     "execution_count": 15,
     "metadata": {},
     "output_type": "execute_result"
    }
   ],
   "source": [
    "wp.search('AI')"
   ]
  },
  {
   "cell_type": "code",
   "execution_count": 16,
   "id": "087bc972",
   "metadata": {},
   "outputs": [
    {
     "data": {
      "text/plain": [
       "<WikipediaPage 'Artificial intelligence'>"
      ]
     },
     "execution_count": 16,
     "metadata": {},
     "output_type": "execute_result"
    }
   ],
   "source": [
    "ai = wp.page(wp.search('AI')[0])\n",
    "ai"
   ]
  },
  {
   "cell_type": "code",
   "execution_count": 17,
   "id": "5caf5fa2",
   "metadata": {},
   "outputs": [
    {
     "data": {
      "text/plain": [
       "['_WikipediaPage__continued_query',\n",
       " '_WikipediaPage__load',\n",
       " '_WikipediaPage__title_query_param',\n",
       " '__class__',\n",
       " '__delattr__',\n",
       " '__dict__',\n",
       " '__dir__',\n",
       " '__doc__',\n",
       " '__eq__',\n",
       " '__format__',\n",
       " '__ge__',\n",
       " '__getattribute__',\n",
       " '__gt__',\n",
       " '__hash__',\n",
       " '__init__',\n",
       " '__init_subclass__',\n",
       " '__le__',\n",
       " '__lt__',\n",
       " '__module__',\n",
       " '__ne__',\n",
       " '__new__',\n",
       " '__reduce__',\n",
       " '__reduce_ex__',\n",
       " '__repr__',\n",
       " '__setattr__',\n",
       " '__sizeof__',\n",
       " '__str__',\n",
       " '__subclasshook__',\n",
       " '__weakref__',\n",
       " 'categories',\n",
       " 'content',\n",
       " 'coordinates',\n",
       " 'html',\n",
       " 'images',\n",
       " 'links',\n",
       " 'original_title',\n",
       " 'pageid',\n",
       " 'parent_id',\n",
       " 'references',\n",
       " 'revision_id',\n",
       " 'section',\n",
       " 'sections',\n",
       " 'summary',\n",
       " 'title',\n",
       " 'url']"
      ]
     },
     "execution_count": 17,
     "metadata": {},
     "output_type": "execute_result"
    }
   ],
   "source": [
    "dir(ai)"
   ]
  },
  {
   "cell_type": "code",
   "execution_count": 18,
   "id": "8e895932",
   "metadata": {},
   "outputs": [
    {
     "data": {
      "text/plain": [
       "'https://en.wikipedia.org/wiki/Artificial_intelligence'"
      ]
     },
     "execution_count": 18,
     "metadata": {},
     "output_type": "execute_result"
    }
   ],
   "source": [
    "ai.url"
   ]
  },
  {
   "cell_type": "code",
   "execution_count": 19,
   "id": "560f40c6",
   "metadata": {},
   "outputs": [
    {
     "data": {
      "text/plain": [
       "<bound method WikipediaPage.html of <WikipediaPage 'Artificial intelligence'>>"
      ]
     },
     "execution_count": 19,
     "metadata": {},
     "output_type": "execute_result"
    }
   ],
   "source": [
    "ai.html"
   ]
  },
  {
   "cell_type": "code",
   "execution_count": 20,
   "id": "53892563",
   "metadata": {},
   "outputs": [
    {
     "data": {
      "text/plain": [
       "'Artificial intelligence (AI) is intelligence—perceiving, synthesizing, and inferring information—demonstrated by machines, as opposed to intelligence displayed by animals and humans. Example tasks in which this is done include speech recognition, computer vision, translation between (natural) languages, as well as other mappings of inputs. The Oxford English Dictionary of Oxford University Press defines artificial intelligence as:\\n\\nthe theory and development of computer systems able to perform tasks that normally require human intelligence, such as visual perception, speech recognition, decision-making, and translation between languages.\\n\\nAI applications include advanced web search engines (e.g., Google), recommendation systems (used by YouTube, Amazon and Netflix), understanding human speech (such as Siri and Alexa), self-driving cars (e.g., Waymo), automated decision-making and competing at the highest level in strategic game systems (such as chess and Go).\\nAs machines become increasingly capable, tasks considered to require \"intelligence\" are often removed from the definition of AI, a phenomenon known as the AI effect. For instance, optical character recognition is frequently excluded from things considered to be AI, having become a routine technology.Artificial intelligence was founded as an academic discipline in 1956, and in the years since has experienced several waves of optimism, followed by disappointment and the loss of funding (known as an \"AI winter\"), followed by new approaches, success and renewed funding. AI research has tried and discarded many different approaches since its founding, including simulating the brain, modeling human problem solving, formal logic, large databases of knowledge and imitating animal behavior. In the first decades of the 21st century, highly mathematical-statistical machine learning has dominated the field, and this technique has proved highly successful, helping to solve many challenging problems throughout industry and academia.The various sub-fields of AI research are centered around particular goals and the use of particular tools. The traditional goals of AI research include reasoning, knowledge representation, planning, learning, natural language processing, perception, and the ability to move and manipulate objects. General intelligence (the ability to solve an arbitrary problem) is among the field\\'s long-term goals. To solve these problems, AI researchers have adapted and integrated a wide range of problem-solving techniques – including search and mathematical optimization, formal logic, artificial neural networks, and methods based on statistics, probability and economics. AI also draws upon computer science, psychology, linguistics, philosophy, and many other fields.\\nThe field was founded on the assumption that human intelligence \"can be so precisely described that a machine can be made to simulate it\".\\nThis raised philosophical arguments about the mind and the ethical consequences of creating artificial beings endowed with human-like intelligence; these issues have previously been explored by myth, fiction and philosophy since antiquity. Computer scientists and philosophers have since suggested that AI may become an existential risk to humanity if its rational capacities are not steered towards beneficial goals.'"
      ]
     },
     "execution_count": 20,
     "metadata": {},
     "output_type": "execute_result"
    }
   ],
   "source": [
    "ai.summary"
   ]
  },
  {
   "cell_type": "code",
   "execution_count": null,
   "id": "9537f57b",
   "metadata": {},
   "outputs": [],
   "source": []
  }
 ],
 "metadata": {
  "kernelspec": {
   "display_name": "Python 3 (ipykernel)",
   "language": "python",
   "name": "python3"
  },
  "language_info": {
   "codemirror_mode": {
    "name": "ipython",
    "version": 3
   },
   "file_extension": ".py",
   "mimetype": "text/x-python",
   "name": "python",
   "nbconvert_exporter": "python",
   "pygments_lexer": "ipython3",
   "version": "3.9.13"
  }
 },
 "nbformat": 4,
 "nbformat_minor": 5
}
