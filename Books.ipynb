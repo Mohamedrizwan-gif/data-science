{
 "cells": [
  {
   "cell_type": "code",
   "execution_count": 1,
   "id": "3571e558",
   "metadata": {},
   "outputs": [],
   "source": [
    "import pandas as pd\n",
    "import requests \n",
    "from bs4 import BeautifulSoup"
   ]
  },
  {
   "cell_type": "code",
   "execution_count": 2,
   "id": "044c0915",
   "metadata": {},
   "outputs": [],
   "source": [
    "pages = []\n",
    "prices = []\n",
    "ratings = []\n",
    "title = []\n",
    "urls = []\n",
    "\n",
    "no_of_pages = 1"
   ]
  },
  {
   "cell_type": "code",
   "execution_count": 3,
   "id": "98eb91e0",
   "metadata": {},
   "outputs": [],
   "source": [
    "for i in range(1, no_of_pages + 1):\n",
    "    url = 'https://books.toscrape.com/catalogue/page-{}.html'.format(i)\n",
    "    pages.append(url)"
   ]
  },
  {
   "cell_type": "code",
   "execution_count": 4,
   "id": "244d177b",
   "metadata": {},
   "outputs": [],
   "source": [
    "for url in pages:\n",
    "    r = requests.get(url)\n",
    "    bs = BeautifulSoup(r.text, 'html.parser')"
   ]
  },
  {
   "cell_type": "code",
   "execution_count": 5,
   "id": "5a5d1e47",
   "metadata": {},
   "outputs": [],
   "source": [
    "for t in bs.findAll('h3'):\n",
    "    title.append(t.getText().strip())\n",
    "    \n",
    "for p in bs.findAll('p', class_='price_color'):\n",
    "    prices.append(p.text.strip())\n",
    "    \n",
    "for s in bs.findAll('p', class_='star-rating'):\n",
    "    ratings.append(s.attrs['class'][1])\n",
    "    \n",
    "for ct in bs.findAll('div', class_='image_container'):\n",
    "    img = ct.find('img', class_='thumbnail')\n",
    "    links = 'http://books.toscrape.com' + str(img['src'])\n",
    "    links = links.replace('..', '')\n",
    "    urls.append(links)"
   ]
  },
  {
   "cell_type": "code",
   "execution_count": 10,
   "id": "6e2e3511",
   "metadata": {},
   "outputs": [
    {
     "name": "stdout",
     "output_type": "stream",
     "text": [
      "20\n",
      "20\n",
      "20\n",
      "20\n"
     ]
    }
   ],
   "source": [
    "web_data = {\n",
    "    'Title': title,\n",
    "    'Price': prices,\n",
    "    'Ratings': ratings,\n",
    "    'URL': urls\n",
    "}\n",
    "\n",
    "print(len(title))\n",
    "print(len(prices))\n",
    "print(len(ratings))\n",
    "print(len(urls))"
   ]
  },
  {
   "cell_type": "code",
   "execution_count": 11,
   "id": "a2bccd4e",
   "metadata": {},
   "outputs": [],
   "source": [
    "df = pd.DataFrame(web_data)"
   ]
  },
  {
   "cell_type": "code",
   "execution_count": 12,
   "id": "3b43d0eb",
   "metadata": {},
   "outputs": [
    {
     "data": {
      "text/html": [
       "<div>\n",
       "<style scoped>\n",
       "    .dataframe tbody tr th:only-of-type {\n",
       "        vertical-align: middle;\n",
       "    }\n",
       "\n",
       "    .dataframe tbody tr th {\n",
       "        vertical-align: top;\n",
       "    }\n",
       "\n",
       "    .dataframe thead th {\n",
       "        text-align: right;\n",
       "    }\n",
       "</style>\n",
       "<table border=\"1\" class=\"dataframe\">\n",
       "  <thead>\n",
       "    <tr style=\"text-align: right;\">\n",
       "      <th></th>\n",
       "      <th>Title</th>\n",
       "      <th>Price</th>\n",
       "      <th>Ratings</th>\n",
       "      <th>URL</th>\n",
       "    </tr>\n",
       "  </thead>\n",
       "  <tbody>\n",
       "    <tr>\n",
       "      <th>0</th>\n",
       "      <td>A Light in the ...</td>\n",
       "      <td>Â£51.77</td>\n",
       "      <td>Three</td>\n",
       "      <td>http://books.toscrape.com/media/cache/2c/da/2c...</td>\n",
       "    </tr>\n",
       "    <tr>\n",
       "      <th>1</th>\n",
       "      <td>Tipping the Velvet</td>\n",
       "      <td>Â£53.74</td>\n",
       "      <td>One</td>\n",
       "      <td>http://books.toscrape.com/media/cache/26/0c/26...</td>\n",
       "    </tr>\n",
       "    <tr>\n",
       "      <th>2</th>\n",
       "      <td>Soumission</td>\n",
       "      <td>Â£50.10</td>\n",
       "      <td>One</td>\n",
       "      <td>http://books.toscrape.com/media/cache/3e/ef/3e...</td>\n",
       "    </tr>\n",
       "    <tr>\n",
       "      <th>3</th>\n",
       "      <td>Sharp Objects</td>\n",
       "      <td>Â£47.82</td>\n",
       "      <td>Four</td>\n",
       "      <td>http://books.toscrape.com/media/cache/32/51/32...</td>\n",
       "    </tr>\n",
       "    <tr>\n",
       "      <th>4</th>\n",
       "      <td>Sapiens: A Brief History ...</td>\n",
       "      <td>Â£54.23</td>\n",
       "      <td>Five</td>\n",
       "      <td>http://books.toscrape.com/media/cache/be/a5/be...</td>\n",
       "    </tr>\n",
       "    <tr>\n",
       "      <th>5</th>\n",
       "      <td>The Requiem Red</td>\n",
       "      <td>Â£22.65</td>\n",
       "      <td>One</td>\n",
       "      <td>http://books.toscrape.com/media/cache/68/33/68...</td>\n",
       "    </tr>\n",
       "    <tr>\n",
       "      <th>6</th>\n",
       "      <td>The Dirty Little Secrets ...</td>\n",
       "      <td>Â£33.34</td>\n",
       "      <td>Four</td>\n",
       "      <td>http://books.toscrape.com/media/cache/92/27/92...</td>\n",
       "    </tr>\n",
       "    <tr>\n",
       "      <th>7</th>\n",
       "      <td>The Coming Woman: A ...</td>\n",
       "      <td>Â£17.93</td>\n",
       "      <td>Three</td>\n",
       "      <td>http://books.toscrape.com/media/cache/3d/54/3d...</td>\n",
       "    </tr>\n",
       "    <tr>\n",
       "      <th>8</th>\n",
       "      <td>The Boys in the ...</td>\n",
       "      <td>Â£22.60</td>\n",
       "      <td>Four</td>\n",
       "      <td>http://books.toscrape.com/media/cache/66/88/66...</td>\n",
       "    </tr>\n",
       "    <tr>\n",
       "      <th>9</th>\n",
       "      <td>The Black Maria</td>\n",
       "      <td>Â£52.15</td>\n",
       "      <td>One</td>\n",
       "      <td>http://books.toscrape.com/media/cache/58/46/58...</td>\n",
       "    </tr>\n",
       "    <tr>\n",
       "      <th>10</th>\n",
       "      <td>Starving Hearts (Triangular Trade ...</td>\n",
       "      <td>Â£13.99</td>\n",
       "      <td>Two</td>\n",
       "      <td>http://books.toscrape.com/media/cache/be/f4/be...</td>\n",
       "    </tr>\n",
       "    <tr>\n",
       "      <th>11</th>\n",
       "      <td>Shakespeare's Sonnets</td>\n",
       "      <td>Â£20.66</td>\n",
       "      <td>Four</td>\n",
       "      <td>http://books.toscrape.com/media/cache/10/48/10...</td>\n",
       "    </tr>\n",
       "    <tr>\n",
       "      <th>12</th>\n",
       "      <td>Set Me Free</td>\n",
       "      <td>Â£17.46</td>\n",
       "      <td>Five</td>\n",
       "      <td>http://books.toscrape.com/media/cache/5b/88/5b...</td>\n",
       "    </tr>\n",
       "    <tr>\n",
       "      <th>13</th>\n",
       "      <td>Scott Pilgrim's Precious Little ...</td>\n",
       "      <td>Â£52.29</td>\n",
       "      <td>Five</td>\n",
       "      <td>http://books.toscrape.com/media/cache/94/b1/94...</td>\n",
       "    </tr>\n",
       "    <tr>\n",
       "      <th>14</th>\n",
       "      <td>Rip it Up and ...</td>\n",
       "      <td>Â£35.02</td>\n",
       "      <td>Five</td>\n",
       "      <td>http://books.toscrape.com/media/cache/81/c4/81...</td>\n",
       "    </tr>\n",
       "    <tr>\n",
       "      <th>15</th>\n",
       "      <td>Our Band Could Be ...</td>\n",
       "      <td>Â£57.25</td>\n",
       "      <td>Three</td>\n",
       "      <td>http://books.toscrape.com/media/cache/54/60/54...</td>\n",
       "    </tr>\n",
       "    <tr>\n",
       "      <th>16</th>\n",
       "      <td>Olio</td>\n",
       "      <td>Â£23.88</td>\n",
       "      <td>One</td>\n",
       "      <td>http://books.toscrape.com/media/cache/55/33/55...</td>\n",
       "    </tr>\n",
       "    <tr>\n",
       "      <th>17</th>\n",
       "      <td>Mesaerion: The Best Science ...</td>\n",
       "      <td>Â£37.59</td>\n",
       "      <td>One</td>\n",
       "      <td>http://books.toscrape.com/media/cache/09/a3/09...</td>\n",
       "    </tr>\n",
       "    <tr>\n",
       "      <th>18</th>\n",
       "      <td>Libertarianism for Beginners</td>\n",
       "      <td>Â£51.33</td>\n",
       "      <td>Two</td>\n",
       "      <td>http://books.toscrape.com/media/cache/0b/bc/0b...</td>\n",
       "    </tr>\n",
       "    <tr>\n",
       "      <th>19</th>\n",
       "      <td>It's Only the Himalayas</td>\n",
       "      <td>Â£45.17</td>\n",
       "      <td>Two</td>\n",
       "      <td>http://books.toscrape.com/media/cache/27/a5/27...</td>\n",
       "    </tr>\n",
       "  </tbody>\n",
       "</table>\n",
       "</div>"
      ],
      "text/plain": [
       "                                    Title    Price Ratings  \\\n",
       "0                      A Light in the ...  Â£51.77   Three   \n",
       "1                      Tipping the Velvet  Â£53.74     One   \n",
       "2                              Soumission  Â£50.10     One   \n",
       "3                           Sharp Objects  Â£47.82    Four   \n",
       "4            Sapiens: A Brief History ...  Â£54.23    Five   \n",
       "5                         The Requiem Red  Â£22.65     One   \n",
       "6            The Dirty Little Secrets ...  Â£33.34    Four   \n",
       "7                 The Coming Woman: A ...  Â£17.93   Three   \n",
       "8                     The Boys in the ...  Â£22.60    Four   \n",
       "9                         The Black Maria  Â£52.15     One   \n",
       "10  Starving Hearts (Triangular Trade ...  Â£13.99     Two   \n",
       "11                  Shakespeare's Sonnets  Â£20.66    Four   \n",
       "12                            Set Me Free  Â£17.46    Five   \n",
       "13    Scott Pilgrim's Precious Little ...  Â£52.29    Five   \n",
       "14                      Rip it Up and ...  Â£35.02    Five   \n",
       "15                  Our Band Could Be ...  Â£57.25   Three   \n",
       "16                                   Olio  Â£23.88     One   \n",
       "17        Mesaerion: The Best Science ...  Â£37.59     One   \n",
       "18           Libertarianism for Beginners  Â£51.33     Two   \n",
       "19                It's Only the Himalayas  Â£45.17     Two   \n",
       "\n",
       "                                                  URL  \n",
       "0   http://books.toscrape.com/media/cache/2c/da/2c...  \n",
       "1   http://books.toscrape.com/media/cache/26/0c/26...  \n",
       "2   http://books.toscrape.com/media/cache/3e/ef/3e...  \n",
       "3   http://books.toscrape.com/media/cache/32/51/32...  \n",
       "4   http://books.toscrape.com/media/cache/be/a5/be...  \n",
       "5   http://books.toscrape.com/media/cache/68/33/68...  \n",
       "6   http://books.toscrape.com/media/cache/92/27/92...  \n",
       "7   http://books.toscrape.com/media/cache/3d/54/3d...  \n",
       "8   http://books.toscrape.com/media/cache/66/88/66...  \n",
       "9   http://books.toscrape.com/media/cache/58/46/58...  \n",
       "10  http://books.toscrape.com/media/cache/be/f4/be...  \n",
       "11  http://books.toscrape.com/media/cache/10/48/10...  \n",
       "12  http://books.toscrape.com/media/cache/5b/88/5b...  \n",
       "13  http://books.toscrape.com/media/cache/94/b1/94...  \n",
       "14  http://books.toscrape.com/media/cache/81/c4/81...  \n",
       "15  http://books.toscrape.com/media/cache/54/60/54...  \n",
       "16  http://books.toscrape.com/media/cache/55/33/55...  \n",
       "17  http://books.toscrape.com/media/cache/09/a3/09...  \n",
       "18  http://books.toscrape.com/media/cache/0b/bc/0b...  \n",
       "19  http://books.toscrape.com/media/cache/27/a5/27...  "
      ]
     },
     "execution_count": 12,
     "metadata": {},
     "output_type": "execute_result"
    }
   ],
   "source": [
    "df"
   ]
  },
  {
   "cell_type": "code",
   "execution_count": 20,
   "id": "7f10c549",
   "metadata": {},
   "outputs": [],
   "source": [
    "df['Price'] = df['Price'].str.replace('Â£', '')"
   ]
  },
  {
   "cell_type": "code",
   "execution_count": 21,
   "id": "ae18efdd",
   "metadata": {},
   "outputs": [
    {
     "data": {
      "text/html": [
       "<div>\n",
       "<style scoped>\n",
       "    .dataframe tbody tr th:only-of-type {\n",
       "        vertical-align: middle;\n",
       "    }\n",
       "\n",
       "    .dataframe tbody tr th {\n",
       "        vertical-align: top;\n",
       "    }\n",
       "\n",
       "    .dataframe thead th {\n",
       "        text-align: right;\n",
       "    }\n",
       "</style>\n",
       "<table border=\"1\" class=\"dataframe\">\n",
       "  <thead>\n",
       "    <tr style=\"text-align: right;\">\n",
       "      <th></th>\n",
       "      <th>Title</th>\n",
       "      <th>Price</th>\n",
       "      <th>Ratings</th>\n",
       "      <th>URL</th>\n",
       "    </tr>\n",
       "  </thead>\n",
       "  <tbody>\n",
       "    <tr>\n",
       "      <th>0</th>\n",
       "      <td>A Light in the ...</td>\n",
       "      <td>51.77</td>\n",
       "      <td>Three</td>\n",
       "      <td>http://books.toscrape.com/media/cache/2c/da/2c...</td>\n",
       "    </tr>\n",
       "    <tr>\n",
       "      <th>1</th>\n",
       "      <td>Tipping the Velvet</td>\n",
       "      <td>53.74</td>\n",
       "      <td>One</td>\n",
       "      <td>http://books.toscrape.com/media/cache/26/0c/26...</td>\n",
       "    </tr>\n",
       "    <tr>\n",
       "      <th>2</th>\n",
       "      <td>Soumission</td>\n",
       "      <td>50.10</td>\n",
       "      <td>One</td>\n",
       "      <td>http://books.toscrape.com/media/cache/3e/ef/3e...</td>\n",
       "    </tr>\n",
       "    <tr>\n",
       "      <th>3</th>\n",
       "      <td>Sharp Objects</td>\n",
       "      <td>47.82</td>\n",
       "      <td>Four</td>\n",
       "      <td>http://books.toscrape.com/media/cache/32/51/32...</td>\n",
       "    </tr>\n",
       "    <tr>\n",
       "      <th>4</th>\n",
       "      <td>Sapiens: A Brief History ...</td>\n",
       "      <td>54.23</td>\n",
       "      <td>Five</td>\n",
       "      <td>http://books.toscrape.com/media/cache/be/a5/be...</td>\n",
       "    </tr>\n",
       "  </tbody>\n",
       "</table>\n",
       "</div>"
      ],
      "text/plain": [
       "                          Title  Price Ratings  \\\n",
       "0            A Light in the ...  51.77   Three   \n",
       "1            Tipping the Velvet  53.74     One   \n",
       "2                    Soumission  50.10     One   \n",
       "3                 Sharp Objects  47.82    Four   \n",
       "4  Sapiens: A Brief History ...  54.23    Five   \n",
       "\n",
       "                                                 URL  \n",
       "0  http://books.toscrape.com/media/cache/2c/da/2c...  \n",
       "1  http://books.toscrape.com/media/cache/26/0c/26...  \n",
       "2  http://books.toscrape.com/media/cache/3e/ef/3e...  \n",
       "3  http://books.toscrape.com/media/cache/32/51/32...  \n",
       "4  http://books.toscrape.com/media/cache/be/a5/be...  "
      ]
     },
     "execution_count": 21,
     "metadata": {},
     "output_type": "execute_result"
    }
   ],
   "source": [
    "df.head()"
   ]
  },
  {
   "cell_type": "code",
   "execution_count": 22,
   "id": "47ab7e7d",
   "metadata": {},
   "outputs": [],
   "source": [
    "df.sort_values(by='Price', ascending=False, inplace=True)"
   ]
  },
  {
   "cell_type": "code",
   "execution_count": 24,
   "id": "2b69c45b",
   "metadata": {},
   "outputs": [],
   "source": [
    "df.reset_index(drop=True, inplace=True)"
   ]
  },
  {
   "cell_type": "code",
   "execution_count": 25,
   "id": "ba8221cd",
   "metadata": {},
   "outputs": [
    {
     "data": {
      "text/html": [
       "<div>\n",
       "<style scoped>\n",
       "    .dataframe tbody tr th:only-of-type {\n",
       "        vertical-align: middle;\n",
       "    }\n",
       "\n",
       "    .dataframe tbody tr th {\n",
       "        vertical-align: top;\n",
       "    }\n",
       "\n",
       "    .dataframe thead th {\n",
       "        text-align: right;\n",
       "    }\n",
       "</style>\n",
       "<table border=\"1\" class=\"dataframe\">\n",
       "  <thead>\n",
       "    <tr style=\"text-align: right;\">\n",
       "      <th></th>\n",
       "      <th>Title</th>\n",
       "      <th>Price</th>\n",
       "      <th>Ratings</th>\n",
       "      <th>URL</th>\n",
       "    </tr>\n",
       "  </thead>\n",
       "  <tbody>\n",
       "    <tr>\n",
       "      <th>0</th>\n",
       "      <td>Our Band Could Be ...</td>\n",
       "      <td>57.25</td>\n",
       "      <td>Three</td>\n",
       "      <td>http://books.toscrape.com/media/cache/54/60/54...</td>\n",
       "    </tr>\n",
       "    <tr>\n",
       "      <th>1</th>\n",
       "      <td>Sapiens: A Brief History ...</td>\n",
       "      <td>54.23</td>\n",
       "      <td>Five</td>\n",
       "      <td>http://books.toscrape.com/media/cache/be/a5/be...</td>\n",
       "    </tr>\n",
       "    <tr>\n",
       "      <th>2</th>\n",
       "      <td>Tipping the Velvet</td>\n",
       "      <td>53.74</td>\n",
       "      <td>One</td>\n",
       "      <td>http://books.toscrape.com/media/cache/26/0c/26...</td>\n",
       "    </tr>\n",
       "    <tr>\n",
       "      <th>3</th>\n",
       "      <td>Scott Pilgrim's Precious Little ...</td>\n",
       "      <td>52.29</td>\n",
       "      <td>Five</td>\n",
       "      <td>http://books.toscrape.com/media/cache/94/b1/94...</td>\n",
       "    </tr>\n",
       "    <tr>\n",
       "      <th>4</th>\n",
       "      <td>The Black Maria</td>\n",
       "      <td>52.15</td>\n",
       "      <td>One</td>\n",
       "      <td>http://books.toscrape.com/media/cache/58/46/58...</td>\n",
       "    </tr>\n",
       "  </tbody>\n",
       "</table>\n",
       "</div>"
      ],
      "text/plain": [
       "                                 Title  Price Ratings  \\\n",
       "0                Our Band Could Be ...  57.25   Three   \n",
       "1         Sapiens: A Brief History ...  54.23    Five   \n",
       "2                   Tipping the Velvet  53.74     One   \n",
       "3  Scott Pilgrim's Precious Little ...  52.29    Five   \n",
       "4                      The Black Maria  52.15     One   \n",
       "\n",
       "                                                 URL  \n",
       "0  http://books.toscrape.com/media/cache/54/60/54...  \n",
       "1  http://books.toscrape.com/media/cache/be/a5/be...  \n",
       "2  http://books.toscrape.com/media/cache/26/0c/26...  \n",
       "3  http://books.toscrape.com/media/cache/94/b1/94...  \n",
       "4  http://books.toscrape.com/media/cache/58/46/58...  "
      ]
     },
     "execution_count": 25,
     "metadata": {},
     "output_type": "execute_result"
    }
   ],
   "source": [
    "df.head()"
   ]
  },
  {
   "cell_type": "code",
   "execution_count": 26,
   "id": "50e44184",
   "metadata": {},
   "outputs": [],
   "source": [
    "df['Ratings'] = df['Ratings'].replace({'One': 1, 'Two': 2, 'Three': 3, 'Four': 4, 'Five': 5})"
   ]
  },
  {
   "cell_type": "code",
   "execution_count": 27,
   "id": "8050d708",
   "metadata": {},
   "outputs": [
    {
     "data": {
      "text/plain": [
       "Title      object\n",
       "Price      object\n",
       "Ratings     int64\n",
       "URL        object\n",
       "dtype: object"
      ]
     },
     "execution_count": 27,
     "metadata": {},
     "output_type": "execute_result"
    }
   ],
   "source": [
    "df.dtypes"
   ]
  },
  {
   "cell_type": "code",
   "execution_count": 28,
   "id": "a87ec351",
   "metadata": {},
   "outputs": [],
   "source": [
    "df['Price'] = df['Price'].astype('float')"
   ]
  },
  {
   "cell_type": "code",
   "execution_count": 29,
   "id": "f1f45808",
   "metadata": {},
   "outputs": [
    {
     "data": {
      "text/plain": [
       "Title       object\n",
       "Price      float64\n",
       "Ratings      int64\n",
       "URL         object\n",
       "dtype: object"
      ]
     },
     "execution_count": 29,
     "metadata": {},
     "output_type": "execute_result"
    }
   ],
   "source": [
    "df.dtypes"
   ]
  },
  {
   "cell_type": "code",
   "execution_count": 31,
   "id": "6f92bd98",
   "metadata": {},
   "outputs": [
    {
     "data": {
      "text/html": [
       "<div>\n",
       "<style scoped>\n",
       "    .dataframe tbody tr th:only-of-type {\n",
       "        vertical-align: middle;\n",
       "    }\n",
       "\n",
       "    .dataframe tbody tr th {\n",
       "        vertical-align: top;\n",
       "    }\n",
       "\n",
       "    .dataframe thead th {\n",
       "        text-align: right;\n",
       "    }\n",
       "</style>\n",
       "<table border=\"1\" class=\"dataframe\">\n",
       "  <thead>\n",
       "    <tr style=\"text-align: right;\">\n",
       "      <th></th>\n",
       "      <th>Price</th>\n",
       "      <th>Ratings</th>\n",
       "    </tr>\n",
       "  </thead>\n",
       "  <tbody>\n",
       "    <tr>\n",
       "      <th>Price</th>\n",
       "      <td>1.000000</td>\n",
       "      <td>-0.075857</td>\n",
       "    </tr>\n",
       "    <tr>\n",
       "      <th>Ratings</th>\n",
       "      <td>-0.075857</td>\n",
       "      <td>1.000000</td>\n",
       "    </tr>\n",
       "  </tbody>\n",
       "</table>\n",
       "</div>"
      ],
      "text/plain": [
       "            Price   Ratings\n",
       "Price    1.000000 -0.075857\n",
       "Ratings -0.075857  1.000000"
      ]
     },
     "execution_count": 31,
     "metadata": {},
     "output_type": "execute_result"
    }
   ],
   "source": [
    "df.corr(numeric_only=True)"
   ]
  }
 ],
 "metadata": {
  "kernelspec": {
   "display_name": "Python 3 (ipykernel)",
   "language": "python",
   "name": "python3"
  },
  "language_info": {
   "codemirror_mode": {
    "name": "ipython",
    "version": 3
   },
   "file_extension": ".py",
   "mimetype": "text/x-python",
   "name": "python",
   "nbconvert_exporter": "python",
   "pygments_lexer": "ipython3",
   "version": "3.10.8"
  }
 },
 "nbformat": 4,
 "nbformat_minor": 5
}
